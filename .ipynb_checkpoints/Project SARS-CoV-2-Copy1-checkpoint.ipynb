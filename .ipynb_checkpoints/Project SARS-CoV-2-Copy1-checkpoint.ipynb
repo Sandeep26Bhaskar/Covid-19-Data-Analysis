{
 "cells": [
  {
   "cell_type": "code",
   "execution_count": 1,
   "metadata": {},
   "outputs": [],
   "source": [
    "import pandas as pd\n",
    "import numpy as np\n",
    "import matplotlib.pyplot as plt\n",
    "%matplotlib notebook"
   ]
  },
  {
   "cell_type": "code",
   "execution_count": 2,
   "metadata": {},
   "outputs": [],
   "source": [
    "covid = pd.read_csv(\"covid_19_india.csv\")"
   ]
  },
  {
   "cell_type": "code",
   "execution_count": 3,
   "metadata": {},
   "outputs": [
    {
     "data": {
      "text/plain": [
       "Sno                          int64\n",
       "Date                        object\n",
       "Time                        object\n",
       "State/UnionTerritory        object\n",
       "ConfirmedIndianNational     object\n",
       "ConfirmedForeignNational    object\n",
       "Cured                        int64\n",
       "Deaths                       int64\n",
       "Confirmed                    int64\n",
       "dtype: object"
      ]
     },
     "execution_count": 3,
     "metadata": {},
     "output_type": "execute_result"
    }
   ],
   "source": [
    "covid.dtypes"
   ]
  },
  {
   "cell_type": "code",
   "execution_count": 4,
   "metadata": {},
   "outputs": [],
   "source": [
    "covid[\"Date\"] = covid[\"Date\"].astype(\"datetime64[ns]\")"
   ]
  },
  {
   "cell_type": "code",
   "execution_count": 5,
   "metadata": {},
   "outputs": [
    {
     "data": {
      "text/html": [
       "<div>\n",
       "<style scoped>\n",
       "    .dataframe tbody tr th:only-of-type {\n",
       "        vertical-align: middle;\n",
       "    }\n",
       "\n",
       "    .dataframe tbody tr th {\n",
       "        vertical-align: top;\n",
       "    }\n",
       "\n",
       "    .dataframe thead th {\n",
       "        text-align: right;\n",
       "    }\n",
       "</style>\n",
       "<table border=\"1\" class=\"dataframe\">\n",
       "  <thead>\n",
       "    <tr style=\"text-align: right;\">\n",
       "      <th></th>\n",
       "      <th>Sno</th>\n",
       "      <th>Date</th>\n",
       "      <th>Time</th>\n",
       "      <th>State/UnionTerritory</th>\n",
       "      <th>ConfirmedIndianNational</th>\n",
       "      <th>ConfirmedForeignNational</th>\n",
       "      <th>Cured</th>\n",
       "      <th>Deaths</th>\n",
       "      <th>Confirmed</th>\n",
       "    </tr>\n",
       "  </thead>\n",
       "  <tbody>\n",
       "    <tr>\n",
       "      <th>0</th>\n",
       "      <td>1</td>\n",
       "      <td>2020-01-30</td>\n",
       "      <td>6:00 PM</td>\n",
       "      <td>Kerala</td>\n",
       "      <td>1</td>\n",
       "      <td>0</td>\n",
       "      <td>0</td>\n",
       "      <td>0</td>\n",
       "      <td>1</td>\n",
       "    </tr>\n",
       "    <tr>\n",
       "      <th>1</th>\n",
       "      <td>2</td>\n",
       "      <td>2020-01-31</td>\n",
       "      <td>6:00 PM</td>\n",
       "      <td>Kerala</td>\n",
       "      <td>1</td>\n",
       "      <td>0</td>\n",
       "      <td>0</td>\n",
       "      <td>0</td>\n",
       "      <td>1</td>\n",
       "    </tr>\n",
       "    <tr>\n",
       "      <th>2</th>\n",
       "      <td>3</td>\n",
       "      <td>2020-01-02</td>\n",
       "      <td>6:00 PM</td>\n",
       "      <td>Kerala</td>\n",
       "      <td>2</td>\n",
       "      <td>0</td>\n",
       "      <td>0</td>\n",
       "      <td>0</td>\n",
       "      <td>2</td>\n",
       "    </tr>\n",
       "    <tr>\n",
       "      <th>3</th>\n",
       "      <td>4</td>\n",
       "      <td>2020-02-02</td>\n",
       "      <td>6:00 PM</td>\n",
       "      <td>Kerala</td>\n",
       "      <td>3</td>\n",
       "      <td>0</td>\n",
       "      <td>0</td>\n",
       "      <td>0</td>\n",
       "      <td>3</td>\n",
       "    </tr>\n",
       "    <tr>\n",
       "      <th>4</th>\n",
       "      <td>5</td>\n",
       "      <td>2020-03-02</td>\n",
       "      <td>6:00 PM</td>\n",
       "      <td>Kerala</td>\n",
       "      <td>3</td>\n",
       "      <td>0</td>\n",
       "      <td>0</td>\n",
       "      <td>0</td>\n",
       "      <td>3</td>\n",
       "    </tr>\n",
       "    <tr>\n",
       "      <th>...</th>\n",
       "      <td>...</td>\n",
       "      <td>...</td>\n",
       "      <td>...</td>\n",
       "      <td>...</td>\n",
       "      <td>...</td>\n",
       "      <td>...</td>\n",
       "      <td>...</td>\n",
       "      <td>...</td>\n",
       "      <td>...</td>\n",
       "    </tr>\n",
       "    <tr>\n",
       "      <th>5331</th>\n",
       "      <td>5332</td>\n",
       "      <td>2020-08-18</td>\n",
       "      <td>8:00 AM</td>\n",
       "      <td>Telengana</td>\n",
       "      <td>-</td>\n",
       "      <td>-</td>\n",
       "      <td>72202</td>\n",
       "      <td>711</td>\n",
       "      <td>93937</td>\n",
       "    </tr>\n",
       "    <tr>\n",
       "      <th>5332</th>\n",
       "      <td>5333</td>\n",
       "      <td>2020-08-18</td>\n",
       "      <td>8:00 AM</td>\n",
       "      <td>Tripura</td>\n",
       "      <td>-</td>\n",
       "      <td>-</td>\n",
       "      <td>5404</td>\n",
       "      <td>62</td>\n",
       "      <td>7409</td>\n",
       "    </tr>\n",
       "    <tr>\n",
       "      <th>5333</th>\n",
       "      <td>5334</td>\n",
       "      <td>2020-08-18</td>\n",
       "      <td>8:00 AM</td>\n",
       "      <td>Uttarakhand</td>\n",
       "      <td>-</td>\n",
       "      <td>-</td>\n",
       "      <td>8485</td>\n",
       "      <td>158</td>\n",
       "      <td>12493</td>\n",
       "    </tr>\n",
       "    <tr>\n",
       "      <th>5334</th>\n",
       "      <td>5335</td>\n",
       "      <td>2020-08-18</td>\n",
       "      <td>8:00 AM</td>\n",
       "      <td>Uttar Pradesh</td>\n",
       "      <td>-</td>\n",
       "      <td>-</td>\n",
       "      <td>104808</td>\n",
       "      <td>2515</td>\n",
       "      <td>158216</td>\n",
       "    </tr>\n",
       "    <tr>\n",
       "      <th>5335</th>\n",
       "      <td>5336</td>\n",
       "      <td>2020-08-18</td>\n",
       "      <td>8:00 AM</td>\n",
       "      <td>West Bengal</td>\n",
       "      <td>-</td>\n",
       "      <td>-</td>\n",
       "      <td>89703</td>\n",
       "      <td>2473</td>\n",
       "      <td>119578</td>\n",
       "    </tr>\n",
       "  </tbody>\n",
       "</table>\n",
       "<p>5336 rows × 9 columns</p>\n",
       "</div>"
      ],
      "text/plain": [
       "       Sno       Date     Time State/UnionTerritory ConfirmedIndianNational  \\\n",
       "0        1 2020-01-30  6:00 PM               Kerala                       1   \n",
       "1        2 2020-01-31  6:00 PM               Kerala                       1   \n",
       "2        3 2020-01-02  6:00 PM               Kerala                       2   \n",
       "3        4 2020-02-02  6:00 PM               Kerala                       3   \n",
       "4        5 2020-03-02  6:00 PM               Kerala                       3   \n",
       "...    ...        ...      ...                  ...                     ...   \n",
       "5331  5332 2020-08-18  8:00 AM            Telengana                       -   \n",
       "5332  5333 2020-08-18  8:00 AM              Tripura                       -   \n",
       "5333  5334 2020-08-18  8:00 AM          Uttarakhand                       -   \n",
       "5334  5335 2020-08-18  8:00 AM        Uttar Pradesh                       -   \n",
       "5335  5336 2020-08-18  8:00 AM          West Bengal                       -   \n",
       "\n",
       "     ConfirmedForeignNational   Cured  Deaths  Confirmed  \n",
       "0                           0       0       0          1  \n",
       "1                           0       0       0          1  \n",
       "2                           0       0       0          2  \n",
       "3                           0       0       0          3  \n",
       "4                           0       0       0          3  \n",
       "...                       ...     ...     ...        ...  \n",
       "5331                        -   72202     711      93937  \n",
       "5332                        -    5404      62       7409  \n",
       "5333                        -    8485     158      12493  \n",
       "5334                        -  104808    2515     158216  \n",
       "5335                        -   89703    2473     119578  \n",
       "\n",
       "[5336 rows x 9 columns]"
      ]
     },
     "execution_count": 5,
     "metadata": {},
     "output_type": "execute_result"
    }
   ],
   "source": [
    "covid"
   ]
  },
  {
   "cell_type": "code",
   "execution_count": 6,
   "metadata": {},
   "outputs": [],
   "source": [
    "covid[\"Month\"] = covid[\"Date\"].dt.month"
   ]
  },
  {
   "cell_type": "code",
   "execution_count": 7,
   "metadata": {},
   "outputs": [],
   "source": [
    "col_drop = [\"ConfirmedForeignNational\",\"ConfirmedIndianNational\",\"Sno\",\"Time\"]\n",
    "covid.drop(covid[col_drop],axis = 1,inplace = True)"
   ]
  },
  {
   "cell_type": "code",
   "execution_count": 8,
   "metadata": {},
   "outputs": [
    {
     "data": {
      "text/plain": [
       "Index(['Date', 'State/UnionTerritory', 'Cured', 'Deaths', 'Confirmed',\n",
       "       'Month'],\n",
       "      dtype='object')"
      ]
     },
     "execution_count": 8,
     "metadata": {},
     "output_type": "execute_result"
    }
   ],
   "source": [
    "covid.columns"
   ]
  },
  {
   "cell_type": "code",
   "execution_count": null,
   "metadata": {},
   "outputs": [],
   "source": []
  },
  {
   "cell_type": "code",
   "execution_count": 9,
   "metadata": {
    "scrolled": true
   },
   "outputs": [],
   "source": [
    "covid = covid.rename(columns = {\"State/UnionTerritory\":\"State\"})"
   ]
  },
  {
   "cell_type": "code",
   "execution_count": 10,
   "metadata": {
    "scrolled": true
   },
   "outputs": [
    {
     "data": {
      "text/html": [
       "<div>\n",
       "<style scoped>\n",
       "    .dataframe tbody tr th:only-of-type {\n",
       "        vertical-align: middle;\n",
       "    }\n",
       "\n",
       "    .dataframe tbody tr th {\n",
       "        vertical-align: top;\n",
       "    }\n",
       "\n",
       "    .dataframe thead th {\n",
       "        text-align: right;\n",
       "    }\n",
       "</style>\n",
       "<table border=\"1\" class=\"dataframe\">\n",
       "  <thead>\n",
       "    <tr style=\"text-align: right;\">\n",
       "      <th></th>\n",
       "      <th>Date</th>\n",
       "      <th>State</th>\n",
       "      <th>Cured</th>\n",
       "      <th>Deaths</th>\n",
       "      <th>Confirmed</th>\n",
       "      <th>Month</th>\n",
       "    </tr>\n",
       "  </thead>\n",
       "  <tbody>\n",
       "    <tr>\n",
       "      <th>4526</th>\n",
       "      <td>2020-07-26</td>\n",
       "      <td>Telangana***</td>\n",
       "      <td>40334</td>\n",
       "      <td>455</td>\n",
       "      <td>52466</td>\n",
       "      <td>7</td>\n",
       "    </tr>\n",
       "  </tbody>\n",
       "</table>\n",
       "</div>"
      ],
      "text/plain": [
       "           Date         State  Cured  Deaths  Confirmed  Month\n",
       "4526 2020-07-26  Telangana***  40334     455      52466      7"
      ]
     },
     "execution_count": 10,
     "metadata": {},
     "output_type": "execute_result"
    }
   ],
   "source": [
    "covid[covid[\"State\"] == \"Telangana***\"]"
   ]
  },
  {
   "cell_type": "code",
   "execution_count": 11,
   "metadata": {},
   "outputs": [],
   "source": [
    "covid[\"State\"] = covid[\"State\"].str.strip(\"***\")"
   ]
  },
  {
   "cell_type": "code",
   "execution_count": 12,
   "metadata": {
    "scrolled": true
   },
   "outputs": [
    {
     "data": {
      "text/html": [
       "<div>\n",
       "<style scoped>\n",
       "    .dataframe tbody tr th:only-of-type {\n",
       "        vertical-align: middle;\n",
       "    }\n",
       "\n",
       "    .dataframe tbody tr th {\n",
       "        vertical-align: top;\n",
       "    }\n",
       "\n",
       "    .dataframe thead th {\n",
       "        text-align: right;\n",
       "    }\n",
       "</style>\n",
       "<table border=\"1\" class=\"dataframe\">\n",
       "  <thead>\n",
       "    <tr style=\"text-align: right;\">\n",
       "      <th></th>\n",
       "      <th>Date</th>\n",
       "      <th>State</th>\n",
       "      <th>Cured</th>\n",
       "      <th>Deaths</th>\n",
       "      <th>Confirmed</th>\n",
       "      <th>Month</th>\n",
       "    </tr>\n",
       "  </thead>\n",
       "  <tbody>\n",
       "    <tr>\n",
       "      <th>500</th>\n",
       "      <td>2020-03-30</td>\n",
       "      <td>Unassigned</td>\n",
       "      <td>0</td>\n",
       "      <td>0</td>\n",
       "      <td>46</td>\n",
       "      <td>3</td>\n",
       "    </tr>\n",
       "    <tr>\n",
       "      <th>528</th>\n",
       "      <td>2020-03-31</td>\n",
       "      <td>Unassigned</td>\n",
       "      <td>0</td>\n",
       "      <td>0</td>\n",
       "      <td>38</td>\n",
       "      <td>3</td>\n",
       "    </tr>\n",
       "    <tr>\n",
       "      <th>617</th>\n",
       "      <td>2020-03-04</td>\n",
       "      <td>Unassigned</td>\n",
       "      <td>0</td>\n",
       "      <td>0</td>\n",
       "      <td>77</td>\n",
       "      <td>3</td>\n",
       "    </tr>\n",
       "  </tbody>\n",
       "</table>\n",
       "</div>"
      ],
      "text/plain": [
       "          Date       State  Cured  Deaths  Confirmed  Month\n",
       "500 2020-03-30  Unassigned      0       0         46      3\n",
       "528 2020-03-31  Unassigned      0       0         38      3\n",
       "617 2020-03-04  Unassigned      0       0         77      3"
      ]
     },
     "execution_count": 12,
     "metadata": {},
     "output_type": "execute_result"
    }
   ],
   "source": [
    "covid[covid[\"State\"] == \"Unassigned\"]"
   ]
  },
  {
   "cell_type": "code",
   "execution_count": 13,
   "metadata": {},
   "outputs": [],
   "source": [
    "covid = covid.drop([500,528,617])"
   ]
  },
  {
   "cell_type": "code",
   "execution_count": 14,
   "metadata": {},
   "outputs": [],
   "source": [
    "covid[\"State\"] = covid[\"State\"].str.replace(\"Telengana\",\"Telangana\")\n",
    "covid[\"State\"] = covid[\"State\"].replace({\"Cases being reassigned to states\":\"Reassigned\"\n",
    "                            ,\"Dadra and Nagar Haveli and Daman and Diu\":\"Daman and Diu\"\n",
    "                            ,\"Daman & Diu\" : \"Daman and Diu\"\n",
    "                            ,\"Dadar Nagar Haveli\":\"Dadra and Nagar Haveli\"})"
   ]
  },
  {
   "cell_type": "code",
   "execution_count": 15,
   "metadata": {},
   "outputs": [
    {
     "data": {
      "text/html": [
       "<div>\n",
       "<style scoped>\n",
       "    .dataframe tbody tr th:only-of-type {\n",
       "        vertical-align: middle;\n",
       "    }\n",
       "\n",
       "    .dataframe tbody tr th {\n",
       "        vertical-align: top;\n",
       "    }\n",
       "\n",
       "    .dataframe thead th {\n",
       "        text-align: right;\n",
       "    }\n",
       "</style>\n",
       "<table border=\"1\" class=\"dataframe\">\n",
       "  <thead>\n",
       "    <tr style=\"text-align: right;\">\n",
       "      <th></th>\n",
       "      <th>Date</th>\n",
       "      <th>State</th>\n",
       "      <th>Cured</th>\n",
       "      <th>Deaths</th>\n",
       "      <th>Confirmed</th>\n",
       "      <th>Month</th>\n",
       "    </tr>\n",
       "  </thead>\n",
       "  <tbody>\n",
       "    <tr>\n",
       "      <th>0</th>\n",
       "      <td>2020-01-30</td>\n",
       "      <td>Kerala</td>\n",
       "      <td>0</td>\n",
       "      <td>0</td>\n",
       "      <td>1</td>\n",
       "      <td>1</td>\n",
       "    </tr>\n",
       "    <tr>\n",
       "      <th>1</th>\n",
       "      <td>2020-01-31</td>\n",
       "      <td>Kerala</td>\n",
       "      <td>0</td>\n",
       "      <td>0</td>\n",
       "      <td>1</td>\n",
       "      <td>1</td>\n",
       "    </tr>\n",
       "    <tr>\n",
       "      <th>2</th>\n",
       "      <td>2020-01-02</td>\n",
       "      <td>Kerala</td>\n",
       "      <td>0</td>\n",
       "      <td>0</td>\n",
       "      <td>2</td>\n",
       "      <td>1</td>\n",
       "    </tr>\n",
       "    <tr>\n",
       "      <th>3</th>\n",
       "      <td>2020-02-02</td>\n",
       "      <td>Kerala</td>\n",
       "      <td>0</td>\n",
       "      <td>0</td>\n",
       "      <td>3</td>\n",
       "      <td>2</td>\n",
       "    </tr>\n",
       "    <tr>\n",
       "      <th>4</th>\n",
       "      <td>2020-03-02</td>\n",
       "      <td>Kerala</td>\n",
       "      <td>0</td>\n",
       "      <td>0</td>\n",
       "      <td>3</td>\n",
       "      <td>3</td>\n",
       "    </tr>\n",
       "    <tr>\n",
       "      <th>...</th>\n",
       "      <td>...</td>\n",
       "      <td>...</td>\n",
       "      <td>...</td>\n",
       "      <td>...</td>\n",
       "      <td>...</td>\n",
       "      <td>...</td>\n",
       "    </tr>\n",
       "    <tr>\n",
       "      <th>5331</th>\n",
       "      <td>2020-08-18</td>\n",
       "      <td>Telangana</td>\n",
       "      <td>72202</td>\n",
       "      <td>711</td>\n",
       "      <td>93937</td>\n",
       "      <td>8</td>\n",
       "    </tr>\n",
       "    <tr>\n",
       "      <th>5332</th>\n",
       "      <td>2020-08-18</td>\n",
       "      <td>Tripura</td>\n",
       "      <td>5404</td>\n",
       "      <td>62</td>\n",
       "      <td>7409</td>\n",
       "      <td>8</td>\n",
       "    </tr>\n",
       "    <tr>\n",
       "      <th>5333</th>\n",
       "      <td>2020-08-18</td>\n",
       "      <td>Uttarakhand</td>\n",
       "      <td>8485</td>\n",
       "      <td>158</td>\n",
       "      <td>12493</td>\n",
       "      <td>8</td>\n",
       "    </tr>\n",
       "    <tr>\n",
       "      <th>5334</th>\n",
       "      <td>2020-08-18</td>\n",
       "      <td>Uttar Pradesh</td>\n",
       "      <td>104808</td>\n",
       "      <td>2515</td>\n",
       "      <td>158216</td>\n",
       "      <td>8</td>\n",
       "    </tr>\n",
       "    <tr>\n",
       "      <th>5335</th>\n",
       "      <td>2020-08-18</td>\n",
       "      <td>West Bengal</td>\n",
       "      <td>89703</td>\n",
       "      <td>2473</td>\n",
       "      <td>119578</td>\n",
       "      <td>8</td>\n",
       "    </tr>\n",
       "  </tbody>\n",
       "</table>\n",
       "<p>5333 rows × 6 columns</p>\n",
       "</div>"
      ],
      "text/plain": [
       "           Date          State   Cured  Deaths  Confirmed  Month\n",
       "0    2020-01-30         Kerala       0       0          1      1\n",
       "1    2020-01-31         Kerala       0       0          1      1\n",
       "2    2020-01-02         Kerala       0       0          2      1\n",
       "3    2020-02-02         Kerala       0       0          3      2\n",
       "4    2020-03-02         Kerala       0       0          3      3\n",
       "...         ...            ...     ...     ...        ...    ...\n",
       "5331 2020-08-18      Telangana   72202     711      93937      8\n",
       "5332 2020-08-18        Tripura    5404      62       7409      8\n",
       "5333 2020-08-18    Uttarakhand    8485     158      12493      8\n",
       "5334 2020-08-18  Uttar Pradesh  104808    2515     158216      8\n",
       "5335 2020-08-18    West Bengal   89703    2473     119578      8\n",
       "\n",
       "[5333 rows x 6 columns]"
      ]
     },
     "execution_count": 15,
     "metadata": {},
     "output_type": "execute_result"
    }
   ],
   "source": [
    "covid"
   ]
  },
  {
   "cell_type": "code",
   "execution_count": null,
   "metadata": {},
   "outputs": [],
   "source": []
  },
  {
   "cell_type": "code",
   "execution_count": 16,
   "metadata": {},
   "outputs": [],
   "source": [
    "new_covid = covid.groupby([\"State\"])[\"Confirmed\"].sum().to_frame()"
   ]
  },
  {
   "cell_type": "code",
   "execution_count": 17,
   "metadata": {},
   "outputs": [],
   "source": [
    "data_plot = new_covid.sort_values(\"Confirmed\",ascending = False)"
   ]
  },
  {
   "cell_type": "code",
   "execution_count": 18,
   "metadata": {},
   "outputs": [],
   "source": [
    "new_covid = new_covid.reset_index()"
   ]
  },
  {
   "cell_type": "code",
   "execution_count": 19,
   "metadata": {},
   "outputs": [],
   "source": [
    "import seaborn as sns"
   ]
  },
  {
   "cell_type": "code",
   "execution_count": 20,
   "metadata": {},
   "outputs": [],
   "source": [
    "data_plot.reset_index(inplace = True)"
   ]
  },
  {
   "cell_type": "code",
   "execution_count": 21,
   "metadata": {},
   "outputs": [],
   "source": [
    "# data_plot[\"State\"] = data_plot[\"State\"].replace({\"Jammu and Kashmir\": \"J & K\"\n",
    "#                             ,\"Cases being reassigned to states\":\"Reassigned\"\n",
    "#                             ,\"Dadra and Nagar Haveli and Daman and Diu\":\"Daman & Diu\"\n",
    "#                             ,\"Andaman and Nicobar Islands\":\"A&N Islands\"\n",
    "#                             ,\"Dadar Nagar Haveli\":\"Daman & Diu\"})"
   ]
  },
  {
   "cell_type": "code",
   "execution_count": 22,
   "metadata": {},
   "outputs": [],
   "source": [
    "data_plot = data_plot.drop([21],axis = 0).reset_index()"
   ]
  },
  {
   "cell_type": "code",
   "execution_count": 23,
   "metadata": {},
   "outputs": [
    {
     "data": {
      "text/html": [
       "<div>\n",
       "<style scoped>\n",
       "    .dataframe tbody tr th:only-of-type {\n",
       "        vertical-align: middle;\n",
       "    }\n",
       "\n",
       "    .dataframe tbody tr th {\n",
       "        vertical-align: top;\n",
       "    }\n",
       "\n",
       "    .dataframe thead th {\n",
       "        text-align: right;\n",
       "    }\n",
       "</style>\n",
       "<table border=\"1\" class=\"dataframe\">\n",
       "  <thead>\n",
       "    <tr style=\"text-align: right;\">\n",
       "      <th></th>\n",
       "      <th>index</th>\n",
       "      <th>State</th>\n",
       "      <th>Confirmed</th>\n",
       "    </tr>\n",
       "  </thead>\n",
       "  <tbody>\n",
       "    <tr>\n",
       "      <th>0</th>\n",
       "      <td>0</td>\n",
       "      <td>Maharashtra</td>\n",
       "      <td>22437979</td>\n",
       "    </tr>\n",
       "    <tr>\n",
       "      <th>1</th>\n",
       "      <td>1</td>\n",
       "      <td>Tamil Nadu</td>\n",
       "      <td>11965369</td>\n",
       "    </tr>\n",
       "    <tr>\n",
       "      <th>2</th>\n",
       "      <td>2</td>\n",
       "      <td>Delhi</td>\n",
       "      <td>7896076</td>\n",
       "    </tr>\n",
       "    <tr>\n",
       "      <th>3</th>\n",
       "      <td>3</td>\n",
       "      <td>Andhra Pradesh</td>\n",
       "      <td>5795248</td>\n",
       "    </tr>\n",
       "    <tr>\n",
       "      <th>4</th>\n",
       "      <td>4</td>\n",
       "      <td>Karnataka</td>\n",
       "      <td>5142676</td>\n",
       "    </tr>\n",
       "    <tr>\n",
       "      <th>5</th>\n",
       "      <td>5</td>\n",
       "      <td>Uttar Pradesh</td>\n",
       "      <td>4170121</td>\n",
       "    </tr>\n",
       "    <tr>\n",
       "      <th>6</th>\n",
       "      <td>6</td>\n",
       "      <td>Gujarat</td>\n",
       "      <td>3750039</td>\n",
       "    </tr>\n",
       "    <tr>\n",
       "      <th>7</th>\n",
       "      <td>7</td>\n",
       "      <td>West Bengal</td>\n",
       "      <td>3305083</td>\n",
       "    </tr>\n",
       "    <tr>\n",
       "      <th>8</th>\n",
       "      <td>8</td>\n",
       "      <td>Telangana</td>\n",
       "      <td>2897368</td>\n",
       "    </tr>\n",
       "    <tr>\n",
       "      <th>9</th>\n",
       "      <td>9</td>\n",
       "      <td>Bihar</td>\n",
       "      <td>2377066</td>\n",
       "    </tr>\n",
       "    <tr>\n",
       "      <th>10</th>\n",
       "      <td>10</td>\n",
       "      <td>Rajasthan</td>\n",
       "      <td>2364534</td>\n",
       "    </tr>\n",
       "    <tr>\n",
       "      <th>11</th>\n",
       "      <td>11</td>\n",
       "      <td>Madhya Pradesh</td>\n",
       "      <td>1845239</td>\n",
       "    </tr>\n",
       "    <tr>\n",
       "      <th>12</th>\n",
       "      <td>12</td>\n",
       "      <td>Assam</td>\n",
       "      <td>1838682</td>\n",
       "    </tr>\n",
       "    <tr>\n",
       "      <th>13</th>\n",
       "      <td>13</td>\n",
       "      <td>Haryana</td>\n",
       "      <td>1745869</td>\n",
       "    </tr>\n",
       "    <tr>\n",
       "      <th>14</th>\n",
       "      <td>14</td>\n",
       "      <td>Odisha</td>\n",
       "      <td>1469580</td>\n",
       "    </tr>\n",
       "    <tr>\n",
       "      <th>15</th>\n",
       "      <td>15</td>\n",
       "      <td>Kerala</td>\n",
       "      <td>1070694</td>\n",
       "    </tr>\n",
       "    <tr>\n",
       "      <th>16</th>\n",
       "      <td>16</td>\n",
       "      <td>Jammu and Kashmir</td>\n",
       "      <td>1030722</td>\n",
       "    </tr>\n",
       "    <tr>\n",
       "      <th>17</th>\n",
       "      <td>17</td>\n",
       "      <td>Punjab</td>\n",
       "      <td>881186</td>\n",
       "    </tr>\n",
       "    <tr>\n",
       "      <th>18</th>\n",
       "      <td>18</td>\n",
       "      <td>Jharkhand</td>\n",
       "      <td>530109</td>\n",
       "    </tr>\n",
       "    <tr>\n",
       "      <th>19</th>\n",
       "      <td>19</td>\n",
       "      <td>Chhattisgarh</td>\n",
       "      <td>428382</td>\n",
       "    </tr>\n",
       "    <tr>\n",
       "      <th>20</th>\n",
       "      <td>20</td>\n",
       "      <td>Uttarakhand</td>\n",
       "      <td>370943</td>\n",
       "    </tr>\n",
       "    <tr>\n",
       "      <th>21</th>\n",
       "      <td>22</td>\n",
       "      <td>Goa</td>\n",
       "      <td>273824</td>\n",
       "    </tr>\n",
       "    <tr>\n",
       "      <th>22</th>\n",
       "      <td>23</td>\n",
       "      <td>Tripura</td>\n",
       "      <td>226443</td>\n",
       "    </tr>\n",
       "    <tr>\n",
       "      <th>23</th>\n",
       "      <td>24</td>\n",
       "      <td>Puducherry</td>\n",
       "      <td>160623</td>\n",
       "    </tr>\n",
       "    <tr>\n",
       "      <th>24</th>\n",
       "      <td>25</td>\n",
       "      <td>Manipur</td>\n",
       "      <td>136840</td>\n",
       "    </tr>\n",
       "    <tr>\n",
       "      <th>25</th>\n",
       "      <td>26</td>\n",
       "      <td>Himachal Pradesh</td>\n",
       "      <td>127926</td>\n",
       "    </tr>\n",
       "    <tr>\n",
       "      <th>26</th>\n",
       "      <td>27</td>\n",
       "      <td>Nagaland</td>\n",
       "      <td>83510</td>\n",
       "    </tr>\n",
       "    <tr>\n",
       "      <th>27</th>\n",
       "      <td>28</td>\n",
       "      <td>Ladakh</td>\n",
       "      <td>82601</td>\n",
       "    </tr>\n",
       "    <tr>\n",
       "      <th>28</th>\n",
       "      <td>29</td>\n",
       "      <td>Chandigarh</td>\n",
       "      <td>65390</td>\n",
       "    </tr>\n",
       "    <tr>\n",
       "      <th>29</th>\n",
       "      <td>30</td>\n",
       "      <td>Arunachal Pradesh</td>\n",
       "      <td>61511</td>\n",
       "    </tr>\n",
       "    <tr>\n",
       "      <th>30</th>\n",
       "      <td>31</td>\n",
       "      <td>Daman and Diu</td>\n",
       "      <td>46920</td>\n",
       "    </tr>\n",
       "    <tr>\n",
       "      <th>31</th>\n",
       "      <td>32</td>\n",
       "      <td>Andaman and Nicobar Islands</td>\n",
       "      <td>35819</td>\n",
       "    </tr>\n",
       "    <tr>\n",
       "      <th>32</th>\n",
       "      <td>33</td>\n",
       "      <td>Meghalaya</td>\n",
       "      <td>32256</td>\n",
       "    </tr>\n",
       "    <tr>\n",
       "      <th>33</th>\n",
       "      <td>34</td>\n",
       "      <td>Sikkim</td>\n",
       "      <td>25994</td>\n",
       "    </tr>\n",
       "    <tr>\n",
       "      <th>34</th>\n",
       "      <td>35</td>\n",
       "      <td>Mizoram</td>\n",
       "      <td>21921</td>\n",
       "    </tr>\n",
       "    <tr>\n",
       "      <th>35</th>\n",
       "      <td>36</td>\n",
       "      <td>Dadra and Nagar Haveli</td>\n",
       "      <td>186</td>\n",
       "    </tr>\n",
       "  </tbody>\n",
       "</table>\n",
       "</div>"
      ],
      "text/plain": [
       "    index                        State  Confirmed\n",
       "0       0                  Maharashtra   22437979\n",
       "1       1                   Tamil Nadu   11965369\n",
       "2       2                        Delhi    7896076\n",
       "3       3               Andhra Pradesh    5795248\n",
       "4       4                    Karnataka    5142676\n",
       "5       5                Uttar Pradesh    4170121\n",
       "6       6                      Gujarat    3750039\n",
       "7       7                  West Bengal    3305083\n",
       "8       8                    Telangana    2897368\n",
       "9       9                        Bihar    2377066\n",
       "10     10                    Rajasthan    2364534\n",
       "11     11               Madhya Pradesh    1845239\n",
       "12     12                        Assam    1838682\n",
       "13     13                      Haryana    1745869\n",
       "14     14                       Odisha    1469580\n",
       "15     15                       Kerala    1070694\n",
       "16     16            Jammu and Kashmir    1030722\n",
       "17     17                       Punjab     881186\n",
       "18     18                    Jharkhand     530109\n",
       "19     19                 Chhattisgarh     428382\n",
       "20     20                  Uttarakhand     370943\n",
       "21     22                          Goa     273824\n",
       "22     23                      Tripura     226443\n",
       "23     24                   Puducherry     160623\n",
       "24     25                      Manipur     136840\n",
       "25     26             Himachal Pradesh     127926\n",
       "26     27                     Nagaland      83510\n",
       "27     28                       Ladakh      82601\n",
       "28     29                   Chandigarh      65390\n",
       "29     30            Arunachal Pradesh      61511\n",
       "30     31                Daman and Diu      46920\n",
       "31     32  Andaman and Nicobar Islands      35819\n",
       "32     33                    Meghalaya      32256\n",
       "33     34                       Sikkim      25994\n",
       "34     35                      Mizoram      21921\n",
       "35     36       Dadra and Nagar Haveli        186"
      ]
     },
     "execution_count": 23,
     "metadata": {},
     "output_type": "execute_result"
    }
   ],
   "source": [
    "data_plot"
   ]
  },
  {
   "cell_type": "code",
   "execution_count": 117,
   "metadata": {},
   "outputs": [
    {
     "data": {
      "application/javascript": [
       "/* Put everything inside the global mpl namespace */\n",
       "window.mpl = {};\n",
       "\n",
       "\n",
       "mpl.get_websocket_type = function() {\n",
       "    if (typeof(WebSocket) !== 'undefined') {\n",
       "        return WebSocket;\n",
       "    } else if (typeof(MozWebSocket) !== 'undefined') {\n",
       "        return MozWebSocket;\n",
       "    } else {\n",
       "        alert('Your browser does not have WebSocket support. ' +\n",
       "              'Please try Chrome, Safari or Firefox ≥ 6. ' +\n",
       "              'Firefox 4 and 5 are also supported but you ' +\n",
       "              'have to enable WebSockets in about:config.');\n",
       "    };\n",
       "}\n",
       "\n",
       "mpl.figure = function(figure_id, websocket, ondownload, parent_element) {\n",
       "    this.id = figure_id;\n",
       "\n",
       "    this.ws = websocket;\n",
       "\n",
       "    this.supports_binary = (this.ws.binaryType != undefined);\n",
       "\n",
       "    if (!this.supports_binary) {\n",
       "        var warnings = document.getElementById(\"mpl-warnings\");\n",
       "        if (warnings) {\n",
       "            warnings.style.display = 'block';\n",
       "            warnings.textContent = (\n",
       "                \"This browser does not support binary websocket messages. \" +\n",
       "                    \"Performance may be slow.\");\n",
       "        }\n",
       "    }\n",
       "\n",
       "    this.imageObj = new Image();\n",
       "\n",
       "    this.context = undefined;\n",
       "    this.message = undefined;\n",
       "    this.canvas = undefined;\n",
       "    this.rubberband_canvas = undefined;\n",
       "    this.rubberband_context = undefined;\n",
       "    this.format_dropdown = undefined;\n",
       "\n",
       "    this.image_mode = 'full';\n",
       "\n",
       "    this.root = $('<div/>');\n",
       "    this._root_extra_style(this.root)\n",
       "    this.root.attr('style', 'display: inline-block');\n",
       "\n",
       "    $(parent_element).append(this.root);\n",
       "\n",
       "    this._init_header(this);\n",
       "    this._init_canvas(this);\n",
       "    this._init_toolbar(this);\n",
       "\n",
       "    var fig = this;\n",
       "\n",
       "    this.waiting = false;\n",
       "\n",
       "    this.ws.onopen =  function () {\n",
       "            fig.send_message(\"supports_binary\", {value: fig.supports_binary});\n",
       "            fig.send_message(\"send_image_mode\", {});\n",
       "            if (mpl.ratio != 1) {\n",
       "                fig.send_message(\"set_dpi_ratio\", {'dpi_ratio': mpl.ratio});\n",
       "            }\n",
       "            fig.send_message(\"refresh\", {});\n",
       "        }\n",
       "\n",
       "    this.imageObj.onload = function() {\n",
       "            if (fig.image_mode == 'full') {\n",
       "                // Full images could contain transparency (where diff images\n",
       "                // almost always do), so we need to clear the canvas so that\n",
       "                // there is no ghosting.\n",
       "                fig.context.clearRect(0, 0, fig.canvas.width, fig.canvas.height);\n",
       "            }\n",
       "            fig.context.drawImage(fig.imageObj, 0, 0);\n",
       "        };\n",
       "\n",
       "    this.imageObj.onunload = function() {\n",
       "        fig.ws.close();\n",
       "    }\n",
       "\n",
       "    this.ws.onmessage = this._make_on_message_function(this);\n",
       "\n",
       "    this.ondownload = ondownload;\n",
       "}\n",
       "\n",
       "mpl.figure.prototype._init_header = function() {\n",
       "    var titlebar = $(\n",
       "        '<div class=\"ui-dialog-titlebar ui-widget-header ui-corner-all ' +\n",
       "        'ui-helper-clearfix\"/>');\n",
       "    var titletext = $(\n",
       "        '<div class=\"ui-dialog-title\" style=\"width: 100%; ' +\n",
       "        'text-align: center; padding: 3px;\"/>');\n",
       "    titlebar.append(titletext)\n",
       "    this.root.append(titlebar);\n",
       "    this.header = titletext[0];\n",
       "}\n",
       "\n",
       "\n",
       "\n",
       "mpl.figure.prototype._canvas_extra_style = function(canvas_div) {\n",
       "\n",
       "}\n",
       "\n",
       "\n",
       "mpl.figure.prototype._root_extra_style = function(canvas_div) {\n",
       "\n",
       "}\n",
       "\n",
       "mpl.figure.prototype._init_canvas = function() {\n",
       "    var fig = this;\n",
       "\n",
       "    var canvas_div = $('<div/>');\n",
       "\n",
       "    canvas_div.attr('style', 'position: relative; clear: both; outline: 0');\n",
       "\n",
       "    function canvas_keyboard_event(event) {\n",
       "        return fig.key_event(event, event['data']);\n",
       "    }\n",
       "\n",
       "    canvas_div.keydown('key_press', canvas_keyboard_event);\n",
       "    canvas_div.keyup('key_release', canvas_keyboard_event);\n",
       "    this.canvas_div = canvas_div\n",
       "    this._canvas_extra_style(canvas_div)\n",
       "    this.root.append(canvas_div);\n",
       "\n",
       "    var canvas = $('<canvas/>');\n",
       "    canvas.addClass('mpl-canvas');\n",
       "    canvas.attr('style', \"left: 0; top: 0; z-index: 0; outline: 0\")\n",
       "\n",
       "    this.canvas = canvas[0];\n",
       "    this.context = canvas[0].getContext(\"2d\");\n",
       "\n",
       "    var backingStore = this.context.backingStorePixelRatio ||\n",
       "\tthis.context.webkitBackingStorePixelRatio ||\n",
       "\tthis.context.mozBackingStorePixelRatio ||\n",
       "\tthis.context.msBackingStorePixelRatio ||\n",
       "\tthis.context.oBackingStorePixelRatio ||\n",
       "\tthis.context.backingStorePixelRatio || 1;\n",
       "\n",
       "    mpl.ratio = (window.devicePixelRatio || 1) / backingStore;\n",
       "\n",
       "    var rubberband = $('<canvas/>');\n",
       "    rubberband.attr('style', \"position: absolute; left: 0; top: 0; z-index: 1;\")\n",
       "\n",
       "    var pass_mouse_events = true;\n",
       "\n",
       "    canvas_div.resizable({\n",
       "        start: function(event, ui) {\n",
       "            pass_mouse_events = false;\n",
       "        },\n",
       "        resize: function(event, ui) {\n",
       "            fig.request_resize(ui.size.width, ui.size.height);\n",
       "        },\n",
       "        stop: function(event, ui) {\n",
       "            pass_mouse_events = true;\n",
       "            fig.request_resize(ui.size.width, ui.size.height);\n",
       "        },\n",
       "    });\n",
       "\n",
       "    function mouse_event_fn(event) {\n",
       "        if (pass_mouse_events)\n",
       "            return fig.mouse_event(event, event['data']);\n",
       "    }\n",
       "\n",
       "    rubberband.mousedown('button_press', mouse_event_fn);\n",
       "    rubberband.mouseup('button_release', mouse_event_fn);\n",
       "    // Throttle sequential mouse events to 1 every 20ms.\n",
       "    rubberband.mousemove('motion_notify', mouse_event_fn);\n",
       "\n",
       "    rubberband.mouseenter('figure_enter', mouse_event_fn);\n",
       "    rubberband.mouseleave('figure_leave', mouse_event_fn);\n",
       "\n",
       "    canvas_div.on(\"wheel\", function (event) {\n",
       "        event = event.originalEvent;\n",
       "        event['data'] = 'scroll'\n",
       "        if (event.deltaY < 0) {\n",
       "            event.step = 1;\n",
       "        } else {\n",
       "            event.step = -1;\n",
       "        }\n",
       "        mouse_event_fn(event);\n",
       "    });\n",
       "\n",
       "    canvas_div.append(canvas);\n",
       "    canvas_div.append(rubberband);\n",
       "\n",
       "    this.rubberband = rubberband;\n",
       "    this.rubberband_canvas = rubberband[0];\n",
       "    this.rubberband_context = rubberband[0].getContext(\"2d\");\n",
       "    this.rubberband_context.strokeStyle = \"#000000\";\n",
       "\n",
       "    this._resize_canvas = function(width, height) {\n",
       "        // Keep the size of the canvas, canvas container, and rubber band\n",
       "        // canvas in synch.\n",
       "        canvas_div.css('width', width)\n",
       "        canvas_div.css('height', height)\n",
       "\n",
       "        canvas.attr('width', width * mpl.ratio);\n",
       "        canvas.attr('height', height * mpl.ratio);\n",
       "        canvas.attr('style', 'width: ' + width + 'px; height: ' + height + 'px;');\n",
       "\n",
       "        rubberband.attr('width', width);\n",
       "        rubberband.attr('height', height);\n",
       "    }\n",
       "\n",
       "    // Set the figure to an initial 600x600px, this will subsequently be updated\n",
       "    // upon first draw.\n",
       "    this._resize_canvas(600, 600);\n",
       "\n",
       "    // Disable right mouse context menu.\n",
       "    $(this.rubberband_canvas).bind(\"contextmenu\",function(e){\n",
       "        return false;\n",
       "    });\n",
       "\n",
       "    function set_focus () {\n",
       "        canvas.focus();\n",
       "        canvas_div.focus();\n",
       "    }\n",
       "\n",
       "    window.setTimeout(set_focus, 100);\n",
       "}\n",
       "\n",
       "mpl.figure.prototype._init_toolbar = function() {\n",
       "    var fig = this;\n",
       "\n",
       "    var nav_element = $('<div/>');\n",
       "    nav_element.attr('style', 'width: 100%');\n",
       "    this.root.append(nav_element);\n",
       "\n",
       "    // Define a callback function for later on.\n",
       "    function toolbar_event(event) {\n",
       "        return fig.toolbar_button_onclick(event['data']);\n",
       "    }\n",
       "    function toolbar_mouse_event(event) {\n",
       "        return fig.toolbar_button_onmouseover(event['data']);\n",
       "    }\n",
       "\n",
       "    for(var toolbar_ind in mpl.toolbar_items) {\n",
       "        var name = mpl.toolbar_items[toolbar_ind][0];\n",
       "        var tooltip = mpl.toolbar_items[toolbar_ind][1];\n",
       "        var image = mpl.toolbar_items[toolbar_ind][2];\n",
       "        var method_name = mpl.toolbar_items[toolbar_ind][3];\n",
       "\n",
       "        if (!name) {\n",
       "            // put a spacer in here.\n",
       "            continue;\n",
       "        }\n",
       "        var button = $('<button/>');\n",
       "        button.addClass('ui-button ui-widget ui-state-default ui-corner-all ' +\n",
       "                        'ui-button-icon-only');\n",
       "        button.attr('role', 'button');\n",
       "        button.attr('aria-disabled', 'false');\n",
       "        button.click(method_name, toolbar_event);\n",
       "        button.mouseover(tooltip, toolbar_mouse_event);\n",
       "\n",
       "        var icon_img = $('<span/>');\n",
       "        icon_img.addClass('ui-button-icon-primary ui-icon');\n",
       "        icon_img.addClass(image);\n",
       "        icon_img.addClass('ui-corner-all');\n",
       "\n",
       "        var tooltip_span = $('<span/>');\n",
       "        tooltip_span.addClass('ui-button-text');\n",
       "        tooltip_span.html(tooltip);\n",
       "\n",
       "        button.append(icon_img);\n",
       "        button.append(tooltip_span);\n",
       "\n",
       "        nav_element.append(button);\n",
       "    }\n",
       "\n",
       "    var fmt_picker_span = $('<span/>');\n",
       "\n",
       "    var fmt_picker = $('<select/>');\n",
       "    fmt_picker.addClass('mpl-toolbar-option ui-widget ui-widget-content');\n",
       "    fmt_picker_span.append(fmt_picker);\n",
       "    nav_element.append(fmt_picker_span);\n",
       "    this.format_dropdown = fmt_picker[0];\n",
       "\n",
       "    for (var ind in mpl.extensions) {\n",
       "        var fmt = mpl.extensions[ind];\n",
       "        var option = $(\n",
       "            '<option/>', {selected: fmt === mpl.default_extension}).html(fmt);\n",
       "        fmt_picker.append(option);\n",
       "    }\n",
       "\n",
       "    // Add hover states to the ui-buttons\n",
       "    $( \".ui-button\" ).hover(\n",
       "        function() { $(this).addClass(\"ui-state-hover\");},\n",
       "        function() { $(this).removeClass(\"ui-state-hover\");}\n",
       "    );\n",
       "\n",
       "    var status_bar = $('<span class=\"mpl-message\"/>');\n",
       "    nav_element.append(status_bar);\n",
       "    this.message = status_bar[0];\n",
       "}\n",
       "\n",
       "mpl.figure.prototype.request_resize = function(x_pixels, y_pixels) {\n",
       "    // Request matplotlib to resize the figure. Matplotlib will then trigger a resize in the client,\n",
       "    // which will in turn request a refresh of the image.\n",
       "    this.send_message('resize', {'width': x_pixels, 'height': y_pixels});\n",
       "}\n",
       "\n",
       "mpl.figure.prototype.send_message = function(type, properties) {\n",
       "    properties['type'] = type;\n",
       "    properties['figure_id'] = this.id;\n",
       "    this.ws.send(JSON.stringify(properties));\n",
       "}\n",
       "\n",
       "mpl.figure.prototype.send_draw_message = function() {\n",
       "    if (!this.waiting) {\n",
       "        this.waiting = true;\n",
       "        this.ws.send(JSON.stringify({type: \"draw\", figure_id: this.id}));\n",
       "    }\n",
       "}\n",
       "\n",
       "\n",
       "mpl.figure.prototype.handle_save = function(fig, msg) {\n",
       "    var format_dropdown = fig.format_dropdown;\n",
       "    var format = format_dropdown.options[format_dropdown.selectedIndex].value;\n",
       "    fig.ondownload(fig, format);\n",
       "}\n",
       "\n",
       "\n",
       "mpl.figure.prototype.handle_resize = function(fig, msg) {\n",
       "    var size = msg['size'];\n",
       "    if (size[0] != fig.canvas.width || size[1] != fig.canvas.height) {\n",
       "        fig._resize_canvas(size[0], size[1]);\n",
       "        fig.send_message(\"refresh\", {});\n",
       "    };\n",
       "}\n",
       "\n",
       "mpl.figure.prototype.handle_rubberband = function(fig, msg) {\n",
       "    var x0 = msg['x0'] / mpl.ratio;\n",
       "    var y0 = (fig.canvas.height - msg['y0']) / mpl.ratio;\n",
       "    var x1 = msg['x1'] / mpl.ratio;\n",
       "    var y1 = (fig.canvas.height - msg['y1']) / mpl.ratio;\n",
       "    x0 = Math.floor(x0) + 0.5;\n",
       "    y0 = Math.floor(y0) + 0.5;\n",
       "    x1 = Math.floor(x1) + 0.5;\n",
       "    y1 = Math.floor(y1) + 0.5;\n",
       "    var min_x = Math.min(x0, x1);\n",
       "    var min_y = Math.min(y0, y1);\n",
       "    var width = Math.abs(x1 - x0);\n",
       "    var height = Math.abs(y1 - y0);\n",
       "\n",
       "    fig.rubberband_context.clearRect(\n",
       "        0, 0, fig.canvas.width / mpl.ratio, fig.canvas.height / mpl.ratio);\n",
       "\n",
       "    fig.rubberband_context.strokeRect(min_x, min_y, width, height);\n",
       "}\n",
       "\n",
       "mpl.figure.prototype.handle_figure_label = function(fig, msg) {\n",
       "    // Updates the figure title.\n",
       "    fig.header.textContent = msg['label'];\n",
       "}\n",
       "\n",
       "mpl.figure.prototype.handle_cursor = function(fig, msg) {\n",
       "    var cursor = msg['cursor'];\n",
       "    switch(cursor)\n",
       "    {\n",
       "    case 0:\n",
       "        cursor = 'pointer';\n",
       "        break;\n",
       "    case 1:\n",
       "        cursor = 'default';\n",
       "        break;\n",
       "    case 2:\n",
       "        cursor = 'crosshair';\n",
       "        break;\n",
       "    case 3:\n",
       "        cursor = 'move';\n",
       "        break;\n",
       "    }\n",
       "    fig.rubberband_canvas.style.cursor = cursor;\n",
       "}\n",
       "\n",
       "mpl.figure.prototype.handle_message = function(fig, msg) {\n",
       "    fig.message.textContent = msg['message'];\n",
       "}\n",
       "\n",
       "mpl.figure.prototype.handle_draw = function(fig, msg) {\n",
       "    // Request the server to send over a new figure.\n",
       "    fig.send_draw_message();\n",
       "}\n",
       "\n",
       "mpl.figure.prototype.handle_image_mode = function(fig, msg) {\n",
       "    fig.image_mode = msg['mode'];\n",
       "}\n",
       "\n",
       "mpl.figure.prototype.updated_canvas_event = function() {\n",
       "    // Called whenever the canvas gets updated.\n",
       "    this.send_message(\"ack\", {});\n",
       "}\n",
       "\n",
       "// A function to construct a web socket function for onmessage handling.\n",
       "// Called in the figure constructor.\n",
       "mpl.figure.prototype._make_on_message_function = function(fig) {\n",
       "    return function socket_on_message(evt) {\n",
       "        if (evt.data instanceof Blob) {\n",
       "            /* FIXME: We get \"Resource interpreted as Image but\n",
       "             * transferred with MIME type text/plain:\" errors on\n",
       "             * Chrome.  But how to set the MIME type?  It doesn't seem\n",
       "             * to be part of the websocket stream */\n",
       "            evt.data.type = \"image/png\";\n",
       "\n",
       "            /* Free the memory for the previous frames */\n",
       "            if (fig.imageObj.src) {\n",
       "                (window.URL || window.webkitURL).revokeObjectURL(\n",
       "                    fig.imageObj.src);\n",
       "            }\n",
       "\n",
       "            fig.imageObj.src = (window.URL || window.webkitURL).createObjectURL(\n",
       "                evt.data);\n",
       "            fig.updated_canvas_event();\n",
       "            fig.waiting = false;\n",
       "            return;\n",
       "        }\n",
       "        else if (typeof evt.data === 'string' && evt.data.slice(0, 21) == \"data:image/png;base64\") {\n",
       "            fig.imageObj.src = evt.data;\n",
       "            fig.updated_canvas_event();\n",
       "            fig.waiting = false;\n",
       "            return;\n",
       "        }\n",
       "\n",
       "        var msg = JSON.parse(evt.data);\n",
       "        var msg_type = msg['type'];\n",
       "\n",
       "        // Call the  \"handle_{type}\" callback, which takes\n",
       "        // the figure and JSON message as its only arguments.\n",
       "        try {\n",
       "            var callback = fig[\"handle_\" + msg_type];\n",
       "        } catch (e) {\n",
       "            console.log(\"No handler for the '\" + msg_type + \"' message type: \", msg);\n",
       "            return;\n",
       "        }\n",
       "\n",
       "        if (callback) {\n",
       "            try {\n",
       "                // console.log(\"Handling '\" + msg_type + \"' message: \", msg);\n",
       "                callback(fig, msg);\n",
       "            } catch (e) {\n",
       "                console.log(\"Exception inside the 'handler_\" + msg_type + \"' callback:\", e, e.stack, msg);\n",
       "            }\n",
       "        }\n",
       "    };\n",
       "}\n",
       "\n",
       "// from http://stackoverflow.com/questions/1114465/getting-mouse-location-in-canvas\n",
       "mpl.findpos = function(e) {\n",
       "    //this section is from http://www.quirksmode.org/js/events_properties.html\n",
       "    var targ;\n",
       "    if (!e)\n",
       "        e = window.event;\n",
       "    if (e.target)\n",
       "        targ = e.target;\n",
       "    else if (e.srcElement)\n",
       "        targ = e.srcElement;\n",
       "    if (targ.nodeType == 3) // defeat Safari bug\n",
       "        targ = targ.parentNode;\n",
       "\n",
       "    // jQuery normalizes the pageX and pageY\n",
       "    // pageX,Y are the mouse positions relative to the document\n",
       "    // offset() returns the position of the element relative to the document\n",
       "    var x = e.pageX - $(targ).offset().left;\n",
       "    var y = e.pageY - $(targ).offset().top;\n",
       "\n",
       "    return {\"x\": x, \"y\": y};\n",
       "};\n",
       "\n",
       "/*\n",
       " * return a copy of an object with only non-object keys\n",
       " * we need this to avoid circular references\n",
       " * http://stackoverflow.com/a/24161582/3208463\n",
       " */\n",
       "function simpleKeys (original) {\n",
       "  return Object.keys(original).reduce(function (obj, key) {\n",
       "    if (typeof original[key] !== 'object')\n",
       "        obj[key] = original[key]\n",
       "    return obj;\n",
       "  }, {});\n",
       "}\n",
       "\n",
       "mpl.figure.prototype.mouse_event = function(event, name) {\n",
       "    var canvas_pos = mpl.findpos(event)\n",
       "\n",
       "    if (name === 'button_press')\n",
       "    {\n",
       "        this.canvas.focus();\n",
       "        this.canvas_div.focus();\n",
       "    }\n",
       "\n",
       "    var x = canvas_pos.x * mpl.ratio;\n",
       "    var y = canvas_pos.y * mpl.ratio;\n",
       "\n",
       "    this.send_message(name, {x: x, y: y, button: event.button,\n",
       "                             step: event.step,\n",
       "                             guiEvent: simpleKeys(event)});\n",
       "\n",
       "    /* This prevents the web browser from automatically changing to\n",
       "     * the text insertion cursor when the button is pressed.  We want\n",
       "     * to control all of the cursor setting manually through the\n",
       "     * 'cursor' event from matplotlib */\n",
       "    event.preventDefault();\n",
       "    return false;\n",
       "}\n",
       "\n",
       "mpl.figure.prototype._key_event_extra = function(event, name) {\n",
       "    // Handle any extra behaviour associated with a key event\n",
       "}\n",
       "\n",
       "mpl.figure.prototype.key_event = function(event, name) {\n",
       "\n",
       "    // Prevent repeat events\n",
       "    if (name == 'key_press')\n",
       "    {\n",
       "        if (event.which === this._key)\n",
       "            return;\n",
       "        else\n",
       "            this._key = event.which;\n",
       "    }\n",
       "    if (name == 'key_release')\n",
       "        this._key = null;\n",
       "\n",
       "    var value = '';\n",
       "    if (event.ctrlKey && event.which != 17)\n",
       "        value += \"ctrl+\";\n",
       "    if (event.altKey && event.which != 18)\n",
       "        value += \"alt+\";\n",
       "    if (event.shiftKey && event.which != 16)\n",
       "        value += \"shift+\";\n",
       "\n",
       "    value += 'k';\n",
       "    value += event.which.toString();\n",
       "\n",
       "    this._key_event_extra(event, name);\n",
       "\n",
       "    this.send_message(name, {key: value,\n",
       "                             guiEvent: simpleKeys(event)});\n",
       "    return false;\n",
       "}\n",
       "\n",
       "mpl.figure.prototype.toolbar_button_onclick = function(name) {\n",
       "    if (name == 'download') {\n",
       "        this.handle_save(this, null);\n",
       "    } else {\n",
       "        this.send_message(\"toolbar_button\", {name: name});\n",
       "    }\n",
       "};\n",
       "\n",
       "mpl.figure.prototype.toolbar_button_onmouseover = function(tooltip) {\n",
       "    this.message.textContent = tooltip;\n",
       "};\n",
       "mpl.toolbar_items = [[\"Home\", \"Reset original view\", \"fa fa-home icon-home\", \"home\"], [\"Back\", \"Back to previous view\", \"fa fa-arrow-left icon-arrow-left\", \"back\"], [\"Forward\", \"Forward to next view\", \"fa fa-arrow-right icon-arrow-right\", \"forward\"], [\"\", \"\", \"\", \"\"], [\"Pan\", \"Pan axes with left mouse, zoom with right\", \"fa fa-arrows icon-move\", \"pan\"], [\"Zoom\", \"Zoom to rectangle\", \"fa fa-square-o icon-check-empty\", \"zoom\"], [\"\", \"\", \"\", \"\"], [\"Download\", \"Download plot\", \"fa fa-floppy-o icon-save\", \"download\"]];\n",
       "\n",
       "mpl.extensions = [\"eps\", \"jpeg\", \"pdf\", \"png\", \"ps\", \"raw\", \"svg\", \"tif\"];\n",
       "\n",
       "mpl.default_extension = \"png\";var comm_websocket_adapter = function(comm) {\n",
       "    // Create a \"websocket\"-like object which calls the given IPython comm\n",
       "    // object with the appropriate methods. Currently this is a non binary\n",
       "    // socket, so there is still some room for performance tuning.\n",
       "    var ws = {};\n",
       "\n",
       "    ws.close = function() {\n",
       "        comm.close()\n",
       "    };\n",
       "    ws.send = function(m) {\n",
       "        //console.log('sending', m);\n",
       "        comm.send(m);\n",
       "    };\n",
       "    // Register the callback with on_msg.\n",
       "    comm.on_msg(function(msg) {\n",
       "        //console.log('receiving', msg['content']['data'], msg);\n",
       "        // Pass the mpl event to the overridden (by mpl) onmessage function.\n",
       "        ws.onmessage(msg['content']['data'])\n",
       "    });\n",
       "    return ws;\n",
       "}\n",
       "\n",
       "mpl.mpl_figure_comm = function(comm, msg) {\n",
       "    // This is the function which gets called when the mpl process\n",
       "    // starts-up an IPython Comm through the \"matplotlib\" channel.\n",
       "\n",
       "    var id = msg.content.data.id;\n",
       "    // Get hold of the div created by the display call when the Comm\n",
       "    // socket was opened in Python.\n",
       "    var element = $(\"#\" + id);\n",
       "    var ws_proxy = comm_websocket_adapter(comm)\n",
       "\n",
       "    function ondownload(figure, format) {\n",
       "        window.open(figure.imageObj.src);\n",
       "    }\n",
       "\n",
       "    var fig = new mpl.figure(id, ws_proxy,\n",
       "                           ondownload,\n",
       "                           element.get(0));\n",
       "\n",
       "    // Call onopen now - mpl needs it, as it is assuming we've passed it a real\n",
       "    // web socket which is closed, not our websocket->open comm proxy.\n",
       "    ws_proxy.onopen();\n",
       "\n",
       "    fig.parent_element = element.get(0);\n",
       "    fig.cell_info = mpl.find_output_cell(\"<div id='\" + id + \"'></div>\");\n",
       "    if (!fig.cell_info) {\n",
       "        console.error(\"Failed to find cell for figure\", id, fig);\n",
       "        return;\n",
       "    }\n",
       "\n",
       "    var output_index = fig.cell_info[2]\n",
       "    var cell = fig.cell_info[0];\n",
       "\n",
       "};\n",
       "\n",
       "mpl.figure.prototype.handle_close = function(fig, msg) {\n",
       "    var width = fig.canvas.width/mpl.ratio\n",
       "    fig.root.unbind('remove')\n",
       "\n",
       "    // Update the output cell to use the data from the current canvas.\n",
       "    fig.push_to_output();\n",
       "    var dataURL = fig.canvas.toDataURL();\n",
       "    // Re-enable the keyboard manager in IPython - without this line, in FF,\n",
       "    // the notebook keyboard shortcuts fail.\n",
       "    IPython.keyboard_manager.enable()\n",
       "    $(fig.parent_element).html('<img src=\"' + dataURL + '\" width=\"' + width + '\">');\n",
       "    fig.close_ws(fig, msg);\n",
       "}\n",
       "\n",
       "mpl.figure.prototype.close_ws = function(fig, msg){\n",
       "    fig.send_message('closing', msg);\n",
       "    // fig.ws.close()\n",
       "}\n",
       "\n",
       "mpl.figure.prototype.push_to_output = function(remove_interactive) {\n",
       "    // Turn the data on the canvas into data in the output cell.\n",
       "    var width = this.canvas.width/mpl.ratio\n",
       "    var dataURL = this.canvas.toDataURL();\n",
       "    this.cell_info[1]['text/html'] = '<img src=\"' + dataURL + '\" width=\"' + width + '\">';\n",
       "}\n",
       "\n",
       "mpl.figure.prototype.updated_canvas_event = function() {\n",
       "    // Tell IPython that the notebook contents must change.\n",
       "    IPython.notebook.set_dirty(true);\n",
       "    this.send_message(\"ack\", {});\n",
       "    var fig = this;\n",
       "    // Wait a second, then push the new image to the DOM so\n",
       "    // that it is saved nicely (might be nice to debounce this).\n",
       "    setTimeout(function () { fig.push_to_output() }, 1000);\n",
       "}\n",
       "\n",
       "mpl.figure.prototype._init_toolbar = function() {\n",
       "    var fig = this;\n",
       "\n",
       "    var nav_element = $('<div/>');\n",
       "    nav_element.attr('style', 'width: 100%');\n",
       "    this.root.append(nav_element);\n",
       "\n",
       "    // Define a callback function for later on.\n",
       "    function toolbar_event(event) {\n",
       "        return fig.toolbar_button_onclick(event['data']);\n",
       "    }\n",
       "    function toolbar_mouse_event(event) {\n",
       "        return fig.toolbar_button_onmouseover(event['data']);\n",
       "    }\n",
       "\n",
       "    for(var toolbar_ind in mpl.toolbar_items){\n",
       "        var name = mpl.toolbar_items[toolbar_ind][0];\n",
       "        var tooltip = mpl.toolbar_items[toolbar_ind][1];\n",
       "        var image = mpl.toolbar_items[toolbar_ind][2];\n",
       "        var method_name = mpl.toolbar_items[toolbar_ind][3];\n",
       "\n",
       "        if (!name) { continue; };\n",
       "\n",
       "        var button = $('<button class=\"btn btn-default\" href=\"#\" title=\"' + name + '\"><i class=\"fa ' + image + ' fa-lg\"></i></button>');\n",
       "        button.click(method_name, toolbar_event);\n",
       "        button.mouseover(tooltip, toolbar_mouse_event);\n",
       "        nav_element.append(button);\n",
       "    }\n",
       "\n",
       "    // Add the status bar.\n",
       "    var status_bar = $('<span class=\"mpl-message\" style=\"text-align:right; float: right;\"/>');\n",
       "    nav_element.append(status_bar);\n",
       "    this.message = status_bar[0];\n",
       "\n",
       "    // Add the close button to the window.\n",
       "    var buttongrp = $('<div class=\"btn-group inline pull-right\"></div>');\n",
       "    var button = $('<button class=\"btn btn-mini btn-primary\" href=\"#\" title=\"Stop Interaction\"><i class=\"fa fa-power-off icon-remove icon-large\"></i></button>');\n",
       "    button.click(function (evt) { fig.handle_close(fig, {}); } );\n",
       "    button.mouseover('Stop Interaction', toolbar_mouse_event);\n",
       "    buttongrp.append(button);\n",
       "    var titlebar = this.root.find($('.ui-dialog-titlebar'));\n",
       "    titlebar.prepend(buttongrp);\n",
       "}\n",
       "\n",
       "mpl.figure.prototype._root_extra_style = function(el){\n",
       "    var fig = this\n",
       "    el.on(\"remove\", function(){\n",
       "\tfig.close_ws(fig, {});\n",
       "    });\n",
       "}\n",
       "\n",
       "mpl.figure.prototype._canvas_extra_style = function(el){\n",
       "    // this is important to make the div 'focusable\n",
       "    el.attr('tabindex', 0)\n",
       "    // reach out to IPython and tell the keyboard manager to turn it's self\n",
       "    // off when our div gets focus\n",
       "\n",
       "    // location in version 3\n",
       "    if (IPython.notebook.keyboard_manager) {\n",
       "        IPython.notebook.keyboard_manager.register_events(el);\n",
       "    }\n",
       "    else {\n",
       "        // location in version 2\n",
       "        IPython.keyboard_manager.register_events(el);\n",
       "    }\n",
       "\n",
       "}\n",
       "\n",
       "mpl.figure.prototype._key_event_extra = function(event, name) {\n",
       "    var manager = IPython.notebook.keyboard_manager;\n",
       "    if (!manager)\n",
       "        manager = IPython.keyboard_manager;\n",
       "\n",
       "    // Check for shift+enter\n",
       "    if (event.shiftKey && event.which == 13) {\n",
       "        this.canvas_div.blur();\n",
       "        // select the cell after this one\n",
       "        var index = IPython.notebook.find_cell_index(this.cell_info[0]);\n",
       "        IPython.notebook.select(index + 1);\n",
       "    }\n",
       "}\n",
       "\n",
       "mpl.figure.prototype.handle_save = function(fig, msg) {\n",
       "    fig.ondownload(fig, null);\n",
       "}\n",
       "\n",
       "\n",
       "mpl.find_output_cell = function(html_output) {\n",
       "    // Return the cell and output element which can be found *uniquely* in the notebook.\n",
       "    // Note - this is a bit hacky, but it is done because the \"notebook_saving.Notebook\"\n",
       "    // IPython event is triggered only after the cells have been serialised, which for\n",
       "    // our purposes (turning an active figure into a static one), is too late.\n",
       "    var cells = IPython.notebook.get_cells();\n",
       "    var ncells = cells.length;\n",
       "    for (var i=0; i<ncells; i++) {\n",
       "        var cell = cells[i];\n",
       "        if (cell.cell_type === 'code'){\n",
       "            for (var j=0; j<cell.output_area.outputs.length; j++) {\n",
       "                var data = cell.output_area.outputs[j];\n",
       "                if (data.data) {\n",
       "                    // IPython >= 3 moved mimebundle to data attribute of output\n",
       "                    data = data.data;\n",
       "                }\n",
       "                if (data['text/html'] == html_output) {\n",
       "                    return [cell, data, j];\n",
       "                }\n",
       "            }\n",
       "        }\n",
       "    }\n",
       "}\n",
       "\n",
       "// Register the function which deals with the matplotlib target/channel.\n",
       "// The kernel may be null if the page has been refreshed.\n",
       "if (IPython.notebook.kernel != null) {\n",
       "    IPython.notebook.kernel.comm_manager.register_target('matplotlib', mpl.mpl_figure_comm);\n",
       "}\n"
      ],
      "text/plain": [
       "<IPython.core.display.Javascript object>"
      ]
     },
     "metadata": {},
     "output_type": "display_data"
    },
    {
     "data": {
      "text/html": [
       "<img src=\"data:image/png;base64,iVBORw0KGgoAAAANSUhEUgAABGUAAAJxCAYAAADrfQ/pAAAgAElEQVR4XuydCbiNZdu/L1PIEEIRGhBl1iAVKSoN+kgpqUSSoklFyFQyy9AgESrNiXqREqk3MjWISEiJzCmRyPA/ftf3f9a3LHtYa9vD2nuf93F0vKz9PPdz3+f97Pc41ukachw+fPiwMSAAAQhAAAIQgAAEIAABCEAAAhCAAATSlUAOpEy68uZhEIAABCAAAQhAAAIQgAAEIAABCEDACSBleBEgAAEIQAACEIAABCAAAQhAAAIQgEAGEEDKZAB0HgkBCEAAAhCAAAQgAAEIQAACEIAABJAyvAMQgAAEIAABCEAAAhCAAAQgAAEIQCADCCBlMgA6j4QABCAAAQhAAAIQgAAEIAABCEAAAkgZ3gEIQAACEIAABCAAAQhAAAIQgAAEIJABBJAyGQCdR0IAAhCAAAQgAAEIQAACEIAABCAAAaQM7wAEIAABCEAAAhCAAAQgAAEIQAACEMgAAkiZDIDOIyEAAQhAAAIQgAAEIAABCEAAAhCAAFKGdwACEIAABCAAAQhAAAIQgAAEIAABCGQAAaRMBkDnkRCAAAQgAAEIQAACEIAABCAAAQhAACnDOwABCEAAAhCAAAQgAAEIQAACEIAABDKAAFImA6DzSAhAAAIQgAAEIAABCEAAAhCAAAQggJThHYAABCAAAQhAAAIQgAAEIAABCEAAAhlAACmTAdB5JAQgAAEIQAACEIAABCAAAQhAAAIQQMrwDkAAAhCAAAQgAAEIQAACEIAABCAAgQwggJTJAOg8EgIQgAAEIAABCEAAAhCAAAQgAAEIIGV4ByAAAQhAAAIQgAAEIAABCEAAAhCAQAYQQMpkAHQeCQEIQAACEIAABCAAAQhAAAIQgAAEkDK8AxCAAAQgAAEIZAiBPXv22JgxY+w///mPrVixwnbu3GkFChSwypUr2+WXX27t2rWzcuXKZcjavvrqK+vWrZstWrTI/vzzT1/DunXr7Oeff7ZLL73UWrdubRMnTsyQtaXVQ/v06WN9+/a1CRMm2B133BHTY3bs2GHPPfecffjhh7ZmzRr7448/7IQTTrAqVarYNddcY23atLESJUrENGdWvDgxxuL98ssv26effmoNGjQIbV1//uyzz/zdO+2002JGMnjwYOvatavfp3nq168f8xzcAAEIQAACaUsAKZO2fJkdAhCAAAQgAIEECMyfP9+aN29umzdvtuOPP94uuOACO+mkk1yALF682LZt22Z58+a1adOmWaNGjdKV4V9//eViaNOmTf4FuWzZspYjRw4bOnSoLV++HCkTcRpTp051SbVr1y4rUqSI1alTx4oVK2YSNQsWLPDPCxcubDpzSZqsPJKTKOktZapVq+bvrMZdd91lL774YlbG73tL7gyyPAA2CAEIZDoCSJlMd2QsGAIQgAAEIJC5CXz77bdWt25d++eff/xf8Xv27OkRMsE4dOiQ6Yt+ly5d7PHHH485auNY6cyZM8caNmxot912m73yyitHTPf333/b+vXrPQqkVKlSx/qouLo/JZEyioy59tprLWfOnDZo0CC77777LE+ePKF97d+/3yZNmmTdu3e3N99884gokLjafCotJjkhsH37dtN/enf0DgUjLSJl9HtWq1Ytl52SnBJjkqCSnVl5JHcGWXnv7A0CEMicBJAymfPcWDUEIAABCEAgUxI4fPiwVa9e3f/1XhKgd+/eie5DUTO//vqrVa1aNV33KhGjyA+tTWvMLiNWKaP0s9NPP92/8CuVS8wSGxs3brR///03RSk4mYl/SoVAWkiZhx9+2J5++mnr0aOHffnllybZ+M4779gNN9yQmZDGvNaUnkHMD+IGCEAAAqlEACmTSiCZBgIQgAAEIACB5AkosuLqq6+2MmXKeJ2M3LlzJ39T2BWKVBk2bJi99dZbtnbtWjvuuOOsRo0adu+999rNN9981Fyqw/HLL7+YZNC4ceNs1KhRtnr1ao9S+J//+R+P7lDKjYbqxUgyJDSCGjJz585NMH0pXGicffbZ9sQTT/gX4d9//92++eYbr7ES1KJRnQ/Vq5k+fbopVUrRDPrswgsv9Ee/8MIL9vzzz/s6ixcvbnfeeaf16tXLo1Eih+YfMmSIvf/++85TPM455xzr3LmzR7AkND744AMbMGCALV261PLnz+/RK/r766+/HlNNmdGjRzt3pSspTSmWoboziqD56KOPfN3aR8mSJe2yyy7z6KgzzzzzqOl0jgMHDrTZs2fbhg0bLF++fB5xcvHFF/t+K1WqdMQ9Eno6X71zkkJKkxNjRe0ErMNvUHqVzkHnpYiSokWLek2jYE0FCxZMdItJvTu6Se+fRnqlLx08eNDT7pSCt3LlSn8X27Zta9ddd52/K5Ejsfc6uC4xaaSfq1aNahEp7VC/z4qC0/sv8apaQpFyM/x3Mtp1KOJKv7+qd/TTTz/Z3r17/X2RsL311lv9dz/aM4jlPeVaCEAAAulBACmTHpR5BgQgAAEIQAACTqBTp05eEPahhx7yf8WPZUhgSGyoCK+Kxl5yySWmaA1FAOzbt8/uv/9+Gzly5BFTBl8AH330Uf+ZBIRSpebNm2dbt261evXq+ZdK1YxRWskjjzzihWr1c8memjVr+nz64q/Cw8lJGX0JlWyQVFA9j99++82eeeYZlw5au74U68uqvjSrjo6+SC5cuNCFgYoKq+bH2LFj/VpJGK1N+5ZIeOqpp47Y248//uj1diQftE+tV9dKkEheSdZoP+FDwueee+7x/Wrvkhq6XtKoSZMmvvZoC/1K+kgsiavYxzIee+wxFyD6Un3qqad6So2KPUsgKM3mv//9r0dUBUN71FmIY8WKFf1nYihRozSd8ePHH5HmJgmhAsMqHi1Zo1o2iujR5xIkr732mt10002h+VVsumnTpv6z888/3+WcmEiMSf4lV2g3eHdmzpxpW7Zs8XpJ4RInKAqdXlLm448/tiuvvNIF3ZIlS7yuz8knn2wHDhxwUXPiiScecVwplTLvvfeetWjRIvQ+6z1ctmyZ/w7pd0HvW2pImRtvvNHeffddK1SokL+3ekck2r777jt/L7T+aM8glveUayEAAQikBwGkTHpQ5hkQgAAEIAABCITkhoTHq6++6v/CHctQvZJnn33WhYX+tV9f0DR++OEHFzSSLPpyHR4hEkgZfSHVF7cgmkJf4PQv+vryqMgLRUMEQ1+gE/oXfv08OSmjaxSdoXo44SO4T59p35IIQe2V4Iu6ImwkAj7//HMrX7683y5RoUgaRSDoy37wRV9CQp/rC7DkhlJVgkga7emKK67w2jcSFkH6lwSGChjrXnHSl3YNpRVpvxIVGtFKGUU76YuxBIqkVSxDIki1TiIjk/RsRXTojCXbgqEv9oq+kNST5Aof2qf2EDCTgNA+9T6oo1GrVq1Cl0tQiI2uV8RF0BFK74+464u/hEr4UASI5gvet6T2mVzqTHpJGdVDkmAbPny4Pfjgg75kSai3337bpaginBJ6PxPrKpZQpIw46/wkyvTu3HLLLaEpFdn15JNP+t+PVcpIiJ1xxhku7yRkw4WS6lIpskm/y8FI7gxieU+5FgIQgEB6EEDKpAdlngEBCEAAAhCAgBM466yzXKIooiCQAtGgUUSMvkArIub777/3L8nhQ1/UFa2hyJFZs2aFfhRIGUWfKNIlfCgNSpEkkV8aj0XKKDpGaUGKREnoS6/+hV/RMUqNCYZq5+jvQYqV0pXCx/XXX29Tpkw5ol2yCiE3a9bMBYJEQuTQ9bovPHooEBu33367y4rwoU5JStVRhE20UkapT/pSrPOMTB2K5kwTu0aCR6lEinIJiuFKIihdSvtW2llSY8SIER6JJVGljlmRQ6JC6U6K1NJ1GhJiitIJWnmndP3JCYH0kDL6XZHw0tlImunPGhJxitRShJYihhJ6P2ORMkonUkcnFcX+5JNPjphPETkVKlTwSKZjlTKKIFOKnCKZ9F4nN5I7g+Tu5+cQgAAE0psAUia9ifM8CEAAAhCAQDYmkFIpoygGRTOce+65XrsicujLtMSGRMHu3btDUSOBlNGXQ0mH8BF8SW3fvr2NGTMm9KNjkTKqFdO/f/+j1hdEyigiR5E5kUO1YyRGFPWhWiDhQ+JIAkk1X1q2bOk/CiRFZIRCcJ8igSSxwr+A69mffvqpzZgxw6666qqj1iDJI+mRXlJG56QzUDSPoi0UvaKhyBtFsSgqonbt2v7ZSy+95FJN8kSRSJJvqimT0FDNItWRUURWQrVjFC1z3nnneR2SN954w6cIIkuUwqVuYEr7SaiGT3K/uskJgfSQMoqQ0X4aN27sHIIhvqVLl/Y0H6VlSZoEIyXpS4qu0u+KUpTuvvvuo9AEhYaPVcooIkfrVl0ZpfAp8kl/T2wkdwbJnSE/hwAEIJDeBJAy6U2c50EAAhCAAASyMQFFQaQkfUntlCUk1DlGHWQSGirYq6gTfekMUhwCKaOUncgv2Yl9ET0WKaNojg4dOhy1vOBZCbXZ1sVJrTOhL/KBeEjuVdIXb30B11B00apVqzzSSHIjcihqRFEm0UqZY0lfUmqSpIjqvCQ2xEwiTkPnp/QYpd9oSMhIrEg8KN1J6WnBCKJekmMTHlWlmjUSMopy0pDg07uqyBKlmyUmgCKfkZwQSA8powg01ZSRnAlP3dJag5pOkaIkJVJG7FWoWXWF9D5GDtUaUurUsUoZzSt5Jnkqkaehmk1KcdPv00UXXXTEo5M7g+TeC34OAQhAIL0JIGXSmzjPgwAEIAABCGRjAikt9BuNlNEXaUXMJCRlgu434ejTQsokJjSS+9KbVEeahL7IB1+I9b9BekpCr5UicIIUntSWMikt9Ksv1tqvomMUlSI5o3ohinJS2pfki76EK6pHX7DDh+qHqJ6QpI4KJCt6QrVelA4XRMUE+5TAU1HnxIauU8HhYCjlRvNOmzbNCyyriKyGCgsr3SeyOG5C8yYnBNJayqiIryKtJLEU7RMpkyTBVCBa9XdUeygYyb2fSnlTHajwM0kLKSP+SodKKI1Ka9fZSzjpfFQzSEOpaIokC0ZyZ5CN/++XrUMAAnFKACkTpwfDsiAAAQhAAAJZkUBKW2IH6UuKjlCNicihCBlFyiSWvpTVpIxSeZTSk1Bh2sTeG0UW6Mt3YulLQe2aaCNlgpbYCdUoSerdDd6BxKKeNJ+ES0JSJnxepbVIcqhGTPh7oQgYpYgpTUliIqVDKW+KwpEoUPcuFVRObiQnBNJaygR1kpJbp34ent6lGj6KOEmsRlHw7oSfSXLpS0HaXWSkjKJcFL2lTmGRbcZV60hFhROrbRPsS7/PitJR8WK9B+popg5bGsmdQTRsuAYCEIBAehJAyqQnbZ4FAQhAAAIQyOYE9GVKxXCVQqMvqPrCltjQly2llejLVnihXxWWVfRC+FBHGUXhJFboN6tJmbfeessjTJSeojSVaEbQEUdfeiVewoeiVlRzR5yjlTK6Vt13FMGglC99kU5sqDW4oloUIaPaOFq3UlskVMKHojeUfqT6J8lJGd2nws8ScYoIUZFiDdWcUQRMjx49rF+/ftGgSfSaoLW0avBIZiU31NlJhaYja7YE96W1lFFHLtXoUbSPWoInNPr27eu/e0qzk1jTCDoc6XcziBAK7tW7oXPW72P4mQSFfi+//HKPXgkfitTR76jmjZQyQaer8JpBwb1KFVOdpOSkTHB9EFWl3we15tZI7gySO0N+DgEIQCC9CSBl0ps4z4MABCAAAQhkcwL60qgWtuoOoy/Pjz/++BFpJhIoKgCrf2nv3r27/8u5RpD6pC+B6sISpKYoHUNf9DZv3mwffPCB1wYJRlJpQZk5fUmpNjVq1PCW2WoVrRbcefPmDe1bDBX9oBHU3NAXZBVaPnTokAsGCSwNCRBF3rzyyiv+92iljK7VPOKtej2KJNEZBa2+9XOtUxKma9eunpKkKIag0K4kkP4ctKVW6pk6KykqSiNcACh1RsIhaO8dbDToQqXoC9XL0dA86gal7k1qoa69hdcT0poUSXPKKaeE5pMcUs2i8No0mkviSLVRIotBJ/YrHLSOTkyKpKWUUbSIpEqxYsX8dyH8HMLXq98X8dF1Snc67rjj/MdKIVOh6fAOVxJvEiSTJ08+6kwUnaZW1ZI2OltJwmAE4kd/j5QygRxUpJTSEnPlyuW3aQ5JGb2f4VJGKWt6d5UuF6xV1+u5ipBSUWi960Fb7OTOIJv/3y/bhwAE4pAAUiYOD4UlQQACEIAABLI6AaVOKFViy5Ytdvzxx/sXKtVG0Rc9fVHX54p+0Jdb1ZjQULqD0ij0L+wlS5Z0EaMvjUovkeAJb/8c8MuqUkb7UzSGirrqC6t4VK9e3f9XNXUkvlRzQ7JBYiEYQUSRJEX9+vVdQixYsMAFhr70KkohFimjeSXI9CVa56MUMqUf6Qu/ukkpDUmSRJ/rzIMCw0E0gz4P6sZIkqkGjiKjVDskXMqoHbI+Uy0UiQdFx2jfml91aPTl/sYbbwztU3uSLBIL1ViRzFHNIcmKr7/+2tekdWteDa1D65foUoSHpJaK/kpgaC+aLzI6K6Hf0ffee8/fa7U+1x6Dlt6KKtFISykj8SUxFo1AUlqXOIQzGD9+vKkduySJ3g2lFilVUHvRuUWeifaj/SpCRZEx+h3W79uyZcucm+TIiy++6B2TJFeDod9tnaEirCTT9N7qXZZU0u+w3tlwKROIN7FU9zW9szo/yTudmc5ZMjYYyZ1BVv//VvYHAQhkPgJImcx3ZqwYAhCAAAQgkCUIqOCrWlErKkYRHxID+iKof8VXEVFFOKjDT/iQhFHdDKUrrF271v/lXF+k1SI6aBcdfn1WljLapySWokH0RVRfhBUFoi+tYqjOQfrCLNERPvQld+DAgZ6mIvGlL+D6u8SGIhxilTKaW/JDwkf1YvQFW6ku+hItwaIvzarNIrkRjL179/qXdXVTUnSGZJLSbZRupFbKqi0SLmX0BVzXSuwopU3vgdoin3/++X69vqxHDgkYfcFXdyAJHI1SpUq5oFH7b8mToKaJInFULFjCT6lWGpI5eg9VSFZRNdEOdbAaO3asv59Kr9II0ufSSsooukSRLhs2bIgq7UvFn1UnR3WEgigYrVNpaPr90rskiaWz07uR0JkEPCTT9N6oVb2EjqTck08+6WlcioJLqGW2UhD1fBXs1dolicRGgk3iNVzK6BxVP0nyVeuSbNTa1FlMEknRNZFRQUmdQbTnyHUQgAAE0osAUia9SPMcCEAAAhCAAAQgAAEIZBMCQXcmRRnVqVMnm+yabUIAAhCInQBSJnZm3AEBCEAAAhCAAAQgAIFsT2Djxo2WO3fuI9qyK/JFdXgUYaT0JEXFKAKGAQEIQAACCRNAyvBmQAACEIAABCAAAQhAAAIxE1DKm9KHVIRZ6VNK11JtmJ9//tlrRSklrF69ejHPyw0QgAAEshMBpEx2Om32CgEIQAACEIAABCAAgVQioPpBAwYMsP/+979enFsFt1XTSMWb1VktKOycSo9jGghAAAJZkgBSJkseK5uCAAQgAAEIQAACEIAABCAAAQhAIN4JIGXi/YRYHwQgAAEIQAACEIAABCAAAQhAAAJZkgBSJkseK5uCAAQgAAEIQAACEIAABCAAAQhAIN4JIGXi/YRYHwQgAAEIQAACEIAABCAAAQhAAAJZkgBSJkseK5uCAAQgAAEIQAACEIAABCAAAQhAIN4JIGXi/YRYHwQgAAEIQAACEIAABCAAAQhAAAJZkgBSJkseK5uCAAQgAAEIQAACEIAABCAAAQhAIN4JIGXi/YRYHwQgAAEIQAACEIAABCAAAQhAAAJZkgBSJkseK5sKCPz88892+umn2zfffGM1a9aMKzBz5861Sy+91Hbu3GlFihSJq7UFi7ml19y4XBeLggAEIAABCEAAAhCAAASyLoHXn2iQdTcXsTOkTLY56syz0TvuuMNefvllu/vuu+2FF144YuEdO3a0559/3lq3bm0TJ05MdlOZXcr06dPHpk6dat9++22ye02LC5AyaUGVOSEAAQhAAAIQgAAEIACBpAggZXg/IJCBBCRl5syZY7t27bJNmzZZ/vz5fTX//POPlSpVygoXLuwRJhkpZfbv32/HHXfcMVGKJlImWinz77//Wp48eY5pPQndjJRJdaRMCAEIQAACEIAABCAAAQgkQwApwysCgQwkICnzxx9/2Nq1a+2xxx6zVq1a+Wpef/11GzRokKcjKd1HUmbmzJnWr18/W758ueXKlcvq1q1rI0eOtPLly/s9QaTM5MmT7ZlnnrGFCxdaxYoVPQJH12rs2LHDOnXqZJ9//rmnEune7t27W8uWLUMUGjRoYFWrVrXcuXPbpEmTrFq1avbpp5/a008/bRMmTLCffvrJihUrZk2aNLHBgwdbwYIF/d5ffvnF5/7iiy9MIue0006zIUOG2NVXX22BlPnkk0+sa9eutmLFCk+x0nyVKlXy/bVp0+aIk9DPxCdHjhweMfThhx/a7Nmz7dFHH7WePXta+/btXWht3rzZypUrZ/fee6898MADKT5NpEyK0XEjBCAAAQhAAAIQgAAEIJBCAkiZFILjNgikBoFAylxyySU2ffp0k7TQaNSokV177bUuMwIpI9kiQVG9enXbvXu39erVy0WM0n1y5swZkjKVK1e2oUOHupDp0aOHLV682NasWeOSZePGjfbGG2/4/IrC0TMfeughmz9/vp1//vn+bEmZr776yu655x678847/TOJkxEjRliNGjVcFEnMSIJcdtllLkw0tF7JmGHDhlmBAgVcvOgZ9evXD0mZOnXquGwqUaKEdejQwQ4ePGjz5s2zvXv3umiReAoYnHDCCR45pD2XLFnSBg4caOKkfSiKSIJKYujEE0/09UvSSOS0aNEiRUeDlEkRNm6CAAQgAAEIQAACEIAABI6BAFLmGOBxKwSOlUAgZcaOHWtly5a1VatW+ZQSK7/++qu1a9cuJGUin7V9+3aXG8uWLfPIliBSZty4cSGZIjFSpUoVW7lypc+Z0JBMCUROIGWUTvX1118nub13333XxYrWoSFZ1Lx5c+vdu/dR94VHyjRs2NB/PmPGDLvmmmtcyOTLl88SS1+SlHnwwQdt+PDhSa5HUTqKmtG6UjKQMimhxj0QgAAEIAABCEAAAhCAwLEQQMocCz3uhcAxEgikjArcSmhIbBw+fNhTlCQXmjZtGpIyq1ev9ugYpSVJhBw6dMj27Nnj0S5KEQqkzKJFi+y8887zlSlFSalGn332mUesKDKlf//+9vbbb3vUjCJb9u3bZ82aNfPPAimjKBuJovChCJYBAwbYDz/84DVwDhw44LVvtIbjjz/eJIMUXaOIG0XiBPvRHIGU2bp1q4skDXWJql27tqc9Kf0oKSmjNKogtStY03PPPWfjx4+39evXu9jRXpQSpf2nZCBlUkKNeyAAAQhAAAIQgAAEIACBYyGAlDkWetwLgWMkEC5lJFcU7aEh4SDREi5lFM1y6qmnWpcuXax06dIuZRQhM2XKFL8uoe5LqldTtGhRrwmjtCSlACm1SalIqhWjNCNFoSglSGIokDKSG7omGJpbz5d0uemmm1z0qHaM0pvC21wrukf7+Pjjj23atGmeynTfffeFpEz4tUq7qlWrlq1bt87rzyQlZYI9But58803vQaN5le9nEKFCnn9GgmrlHZvQsoc48vM7RCAAAQgAAEIQAACEIBAzASQMjEj4wYIpB6BcCmjKBZFjChdR9EjKuYbSBnJh+LFi3uB3nr16vkCJEX051ikjGqwqD7LSy+95HNI7Ei2nH322UlKGdWzUTFgRcaofo2GarqoDky4aAkn061bNxc03333XVRSRhE8qnejdKzwIR6RUkaiR6lZKvwbDEXnKIIIKZN67yczQQACEIAABCAAAQhAAAJpSwApk7Z8mR0CSRIIlzK6UGlBGiqQqxFIGaXpSKZcddVVXrNFKTvq1qQivrFImc6dO3talCJNFEGjjkpKW1Lb7aQiZZYuXeqpQYqekdhRcV5JF6VABVJGETda35lnnumfqRCwInveeuutqKSMOk6pWK9kU5kyZTz6JW/evC6pIqXMqFGjXAhp7So8/Oqrr5o+05+RMvzSQQACEIAABCAAAQhAAAKZhQBSJrOcFOvMkgQipUzkJsPTl1TT5f777/fOR+qGJAmhlKRYpMzvv/9ubdu29QgT1YGRBJHg+fPPP5OUMlqXCu0qRUgpUapPoxovt99+e0jKKHpFbas3bNjgUqlx48Z+j7ojBTVlkkpfUm0bzam16RnhLbEjpYyuVZFhfS5poygedWvS85EyWfJXhU1BAAIQgAAEIAABCEAgSxJAymTJY2VTEIAABCAAAQhAAAIQgAAEIAABCEAgfgjkOKy2NgwIQAACEIAABCAAAQhAAAIQgAAEIACBdCWAlElX3DwMAhCAAAQgAAEIQAACEIAABCAAAQj8LwGkDG8CBGIgMHHiRG+XrfouGom1rI5hymO6NKG6NMc0YcTNPw69IzWnYy4IQAACEIBAmhA485GJaTIvk0IAAhCAAATSmgBSJq0JM3+aEVAx26SGOjJJmqTm2Lt3r/3111/e9SkaKfPzzz9796MSJUrY2rVrvXtSMNS5SUWLj2WNSJnUPF3mggAEIACBzEoAKZNZT451QwACEIAAUoZ3INMS2Lx5c2jtajHdq1cvW7VqVeizggULmv5Ly5FcpEwgZfLly2ddunSxvn37ImXS8kCYGwIQgAAEsiUBpEy2PHY2DQEIQCBLEEDKZIljZBORaUWKSuncubMtWLDA9uzZY2eddZYNGDDAGjVqFIJ12mmnWbt27ezHH3+09957z9tUP/PMM1a3bl3/XG2ozzjjDBs/fryde+65fl+s6UuBlHn00Udt9OjRHi0TRNlERsq8+uqrNnLkSBdLBQoUsMsuu8xGjBgRul7PnzFjhqdP/b4olWMAACAASURBVPrrr3bBBRdY69atrU2bNqEW3AlJIs2h/7SWWAfpS7ES43oIQAACEMgIAkiZjKDOMyEAAQhAIDUIIGVSgyJzZDiBSFmydOlSFzIXXXSR5c2b11555RUbOnSoC49y5cr5eiVllIrUv39/FyDDhw+31157zS688EJr27at1ahRw7p27er3fP/996Z0qZRKma+//trn1HqeffZZf36klJH8KVWqlFWqVMm2bt3qUqlIkSIuYjQkYipWrGgdO3a09u3b25IlS+zhhx+2LVu2IGUy/A1kARCAAAQgkJEEkDIZSZ9nQwACEIDAsRBAyhwLPe6NGwKRsiShhVWtWtU6dOhgnTp1CkmZevXqmSJUNJQOJSnSs2dPe+KJJ/wziR1FzmzatMlOPvnkFEuZb775xuVJkyZNbOXKlVa+fPmjpEzkmiVdzjvvPBdHSsPq3r27vf/++y6IgvHYY4/ZoEGDkDJx8yayEAhAAAIQyAgCSJmMoM4zIQABCEAgNQggZVKDInNkOIFIKbN7924voDt9+nQXKgcOHDAV6VVkyeDBg0NSRlEnSi3SOHz4sOXMmdPefvttu/HGG/2zdevWeQqTIm+qV69+TFJGkTGKyJHcef3114+SMl999ZWvWc/auXOnHTp0yP7++2+XMGeffbY1a9bMihYt6ulUwZCkUbFgXa+oGtKXMvxVZAEQgAAEIJABBJAyGQCdR0IAAhCAQKoQQMqkCkYmyWgCkVJGETGzZs3ylKUKFSpY/vz57YYbbrAGDRp4fRUNpS+pPov+C4ZSlKZMmeKiQyOoCaNIF0mVlKYvBfcvWrTII28UBaNaMEH3JdW9OfXUU+3KK6/0aB51a1q/fr3/Pbg3GimjCJ/Jkye72AnGkCFD7LnnnqOmTEa/pDwfAhCAAATSjABSJs3QMjEEIAABCKQxAaRMGgNm+vQhEClLqlWrZi1atPBUJA1FzpQpU8buuOOODJUyWouicHbt2uXpTIGUUZSMiglLxJQtW9bXPGnSJLvttttCUkbpSx988IEtX748BLVbt242cODAUKSMigkrWkapWEHL8FatWtm8efOQMunzKvIUCEAAAhDIAAJImQyAziMhAAEIQCBVCCBlUgUjk2Q0gUgpc/3113vq0YQJE1xOSM7MnTvXi+1mZKSMOKnbU5UqVSx37txeSFgSZdu2bS6NHnjgAY+UkXhRWpWuDSJlJGxU6Pf+++/37lASOUrHkoAJ0pdUr0Zzq9OUIoNmzpzpey9cuDBSJqNfUp4PAQhAAAJpRgApk2ZomRgCEIAABNKYAFImjQEzffoQiJQySjuSgFGh3uLFi7v8eOeddzwFKaOljIjcfffd9uKLL1rv3r1dymi88cYbXsxXNXBq165tioK57rrrQlJG10ybNs0eeugh78R0/vnnewqU9hlIGV3zwgsveEep33//3Zo3b+7dnPQsWmKnz7vIUyAAAQhAIP0JIGXSnzlPhAAEIACB1CGAlEkdjswCAQhAAAIQgAAEIAABCEAAAhCAAARiIoCUiQkXF0MAAhCAAAQgAAEIQAACEIAABCAAgdQhgJRJHY7MAgEIQAACEIAABCAAAQhAAAIQgAAEYiKAlIkJFxdDIGMJqP7M1KlT7dtvv/WFqJvUH3/84Z8lNhJq/R3tLrrM7RztpVwHAQhAIEUEBjd4OkX3cRMEIAABCEAAAhDICgSQMlnhFNlD3BOQPHn55Zd9neq6VKxYMatevbq1bNnSxUrOnDmj2kNKpIw6OxUoUMCOP/74qJ4RfhFSJmZk3AABCMRIACkTIzAuhwAEIAABCEAgSxFAymSp42Qz8UpA4mXLli3eovvgwYP+Z7WrVuvqevXq2QcffOCyJrmREimT3JxJ/Rwpcyz0uBcCEIiGAFImGkpcAwEIQAACEIBAViWAlMmqJ8u+4opAYmlGc+bMsYYNG9rYsWOtXbt2nor0yCOP2Pvvv2/79u2zc88914YPH241atTw/SQmZS6++GIbNmyY7d+/326++WZv+50nTx6/h/SluHoVWAwEIBBBACnDKwEBCEAAAhCAQHYmgJTJzqfP3tONQFK1X2rWrGmlS5e2GTNm2OWXX2758+e3Xr162QknnGBjxoyxiRMn2o8//ugpTwlJmSlTptgtt9xiDzzwgK1Zs8ZuuukmlzJ33XUXUibdTpgHQQACKSWAlEkpOe6DAAQgAAEIQCArEEDKZIVTZA9xTyApKaPIlu+++85efPFFu+aaa2zr1q2WN2/e0J4qVKhgXbp0sfbt2ycoZebOnWtr1661XLly+T0tWrTwGjVvvvkmUibu3wwWCAEIIGV4ByAAAQhAAAIQyM4EkDLZ+fTZe7oRSErKKLJl+fLldu+999r999/vkTLhY+/evZ7SNGjQoASljAr5Tp8+PXSLImaWLVtmSo3SIH0p3Y6ZB0EAAikggJRJATRugQAEIAABCEAgyxBAymSZo2Qj8UwgKSmjLkzlypXzgr/PPPOMKfIlchQpUsSKFy+eaE2Z8JbYDz74oLfMDuZBysTzm8HaIAABpAzvAAQgAAEIQAAC2ZkAUiY7nz57TzcCyRX6HT9+vJUpU8auuuoqrwsjkZLQiKb7ElIm3Y6VB0EAAqlAACmTChCZAgIQgAAEIACBTEsAKZNpj46FZyYCSbXEbtCggSnSRXVg6tevb3/99ZcNHjzYzjzzTPvtt988NalZs2beiQkpk5lOnbVCAALREEDKREOJayAAAQhAAAIQyKoEkDJZ9WTZV1wRkJR5+eWXfU25c+e2okWLeptrdU1q3bq1CxkNCZkePXrY5MmTTbViTj75ZBc1AwYMsLJlyyJl4upUWQwEIJAaBJAyqUGROSAAAQhAAAIQyKwEkDKZ9eRYNwQgAAEIQAACEIAABCAAAQhAAAKZmgBSJlMfH4uHAAQgAAEIQAACEIAABCAAAQhAILMSQMpk1pNj3RCAAAQgAAEIQAACEIAABCAAAQhkagJImUx9fFl38dEUtM0qu0+qXXase/z555/t9NNPt2+++cZq1qwZ6+1HXb/ggQeOeQ4mgEB2JHDByJHZcdvsGQIQgAAEIAABCEAgRgJImRiBcfnRBL788ku7+OKLrXHjxt4pKDVGRkuZHDlyhLZRuHBhq1q1qj355JN22WWXpcb2jpgDKZPqSJkQAhlOACmT4UfAAiAAAQhAAAIQgECmIICUyRTHFN+LbNeunRUsWNBeeuklW7VqlZUuXfqYF5waUmb//v123HHHpWgtkjITJkxw0bR9+3bviDRr1ixbvny5nXHGGUfN+e+//1qePHlS9CykTIqwcRME4poAUiauj4fFQQACEIAABCAAgbghgJSJm6PInAvZvXu3lSpVypYsWWK9e/e26tWrW/fu3UObmTt3rl166aX2ySefWNeuXW3FihWeViPhUalSpdB1AwcOtOHDh9vff/9tLVq0sBIlStjMmTPt22+/9WsCcaGInGHDhpmEy80332wjRowIyZDTTjvN7rzzTlu9erVNnTrVrr/+eps4caI/d8qUKbZhwwZvMd2qVSvr1atXkhJFUkb3NG3a1J//22+/2SmnnGIvvPCC3X333aafP//88/bhhx/a7Nmz7dFHH7WePXta+/btbc6cObZ582YrV66c3XvvvfZAWArQwYMH/drx48dbrly5fL1btmyxP//809escejQIRs0aJC9+OKLPs+ZZ57pc99www3+8507d1qnTp3s448/NvEvU6aMM2/Tpo0F6Utqqf3MM8/YwoULrWLFir7uunXrxvySkb4UMzJugIATQMrwIkAAAhCAAAQgAAEIREMAKRMNJa5JlIDkwujRo23x4sU2bdo0e/DBB12KBOk/gZSpU6eOiwbJlg4dOpjkxLx583zet99+226//XZ77rnnPA3q1VdftVGjRnlESriUkSS55ZZbXHKsWbPGbrrpJpcyd911l88jKSNhIeESyJTy5ctbv379PO1IETzLli3z6zt37mxdunRJdF+RUkbzFitWzNd13333+f5KlixpkkmXXHKJ5c6d2+WUntWkSRM78cQTbf78+S5pJKAkmjQGDx7s94wbN87OOussF0zav9YXSJmnnnrKJk2a5HuTUPn888+d2UcffeTPkpARu7Fjx1rx4sWdxd69e/25gZSpXLmyDR061O9XlI/OR9dpnbEMpEwstLgWAv9HACnD2wABCEAAAhCAAAQgEA0BpEw0lLgmUQIXXXSRCweJkgMHDriYeOedd6xBgwZ+T3ikTMOGDf2zGTNm2DXXXOMiIV++fHbhhRdarVq1XMoE44ILLrB//vnnCCmjudauXesRJhp6bs6cOe3NN98MSRnNI3mT1JCs0D2K7klshEsZRe8oumXMmDH29ddfezSQfi4BpeiepIYEiqJd3n33Xb9MYuihhx7y+TTETIV5zznnHJcy+/btc/mjyKLwyBaliGkdr7/+ul133XUuYyTEIkcgZSR9FIWjoeikKlWq2MqVK02yJpaBlImFFtdC4P8IIGV4GyAAAQhAAAIQgAAEoiGAlImGEtckSED1Y1QAd+PGjR41oiEJoVQcRbtoBFJm69atHiWjoc5AtWvXtl9++cVTfIoWLWojR470aJlgSFx8+umnR0iZbdu2HVFIWCJIkS9KF9JQpIyiYBQZEj7eeustj3CR0FG6j0SIivdqTYkNSRcJIwkgySOtXZE+rVu39lv0c0WzKBUqfEgsSZasX7/e71OaldK1Fi1a5FyKFClin332mdWvXz90W7Nmzezw4cMuZb7//ntnWqBAgSPm1TwSTkpHUspU8+bNPa3piiuu8KggiS2NQMroeeedd55/FkT5RD43mtcaKRMNJa6BwNEEkDK8FRCAAAQgAAEIQAAC0RBAykRDiWsSJKD0nyFDhoQiV3SR5ELevHlt06ZNdsIJJ4SkjMSAhISGUpIkGNatW+ciJVop88cff4RSfDSPIlU0l8SPhubSZ/ovGOoMVa9ePevbt69deeWVviZFyShtSPMlNiRdlJbVqFEjvycQSsH1kelN+lzzqq6L5laUS6FChZyPRIrWGY2U0bWKEtKeVMMmfIhr2bJl/SMJKkUcqfiw6sd07NjR05USaomtfYqxJFcQwRTtK42UiZYU10HgSAJIGd4ICEAAAhCAAAQgAIFoCCBloqHENUcRULSJCsxKzChaI3wocuORRx7xOihBpExSUiah9CVJDUWaRBb6Dequ6HnRSBkJEhXkVZRMMJQKpHSi5KRMeKHfSAAJSRnVmlGqkAr/BkNSR92bgn0klL6k2jmKHNLe/vrrLxdAqhdz2223RfXmKa1K6VC7du1CykRFjIsgkPYEkDJpz5gnQAACEIAABCAAgaxAACmTFU4xA/YggaBCu0oBUiRJ+FC3I6UUqbhsNFJG6UXqriR5oho1r732mtdqiSz0m5JImQ8++MBTfZROpXSe6dOne9SMCg2ntpRRipS6JKlwr+rEBAWL9edAyigFSsV+1T5c9V2efvppj7AJL/T7+OOPe7ckCSUVPlaEjQr7KuVK6VMqZKwaNKoToxo0jz32mJ+DomyIlMmAXwYeCYEECCBleC0gAAEIQAACEIAABKIhgJSJhhLXHEVAnX7UulmSI3Konom6LS1dutR+//13b4mdVKSM7u/fv7+LGBX3lUQ56aSTvNvQsUbKaG5F86jOiwSGCgwrPahPnz6pLmU0v6KDFGGjSJqWLVu6sFINmGAfijBSFJE6MqlIcdu2bT2SJrwltlLAJHiUPvXTTz952pciadT2WrVo1OFJBX8lYPLnz+/pWWIn+YOU4ZcVAvFBACkTH+fAKiAAAQhAAAIQgEC8E0DKxPsJsT4IQAACEIAABCAAAQhAAAIQgAAEsiQBpEyWPFY2BQEIQAACEIAABCAAAQhAAAIQgEC8E0DKxPsJsT4IhBGYOHGiFzhOqh5OagJ7rsu7qTkdc0Egrgh0HHxDXK2HxUAAAhCAAAQgAAEIZD8CSJnsd+bZZscqHhxZHFhdl2699VZ76qmn7OGHH84wFqppo2LJQa2ZaBeClImWFNdBIHkCSJnkGXEFBCAAAQhAAAIQgEDaEkDKpC1fZs9AApFSZty4cdaxY0fvbNSmTZuYV6aOTSrgqwK9xzqQMsdKkPshcOwEkDLHzpAZIAABCEAAAhCAAASOjQBS5tj4cXccEwiXMmpD3bt3b+9a1KxZM1+12lGrC5I6HBUrVszUUUrXFSxY0H8eRKW88sor3nb6xx9/tDVr1liDBg2sffv2/ud33nnHihYtampjrc+Cobbg6sK0YcMGO/nkk61Vq1beyjpPnjw+b6QU0jq03mjXFKQvbdu2za666iorW7ast9bW8zp37mwLFiywPXv22FlnnWUDBgywRo0apeikSF9KETZuyiQEkDKZ5KBYJgQgAAEIQAACEMjCBJAyWfhws/vWAilTqVIle/755z1dqGHDhiEsI0aMsBo1angraYmZe++91y677DK/NpAyEi3nnXeeDRkyxE488USXH2effbb99ddf9uSTT9oVV1xhSonq0aOHrVixwvQsDbWt1lylS5e2ZcuW2V133eWyRO259+7daz179rSZM2faJ5984terdbbaW0ezpqCmzK+//mqXX365t/h+6aWXLFeuXN6GXELmoosusrx585qE0tChQ23VqlVWrly5mF8JpEzMyLghExFAymSiw2KpEIAABCAAAQhAIIsSQMpk0YNlW+aRJ2+88Ybt37/fZs+e7ZIkqSG50qFDB9u+fXtIyiiiRXVfJG+Ccdppp1m9evXs1Vdf9Y8OHz7s0TB9+/b1+xMaEiOKZFmyZIn/ONr0pYTWJCmzcOFCFzKK+pHIUVpVYqNq1aq+rk6dOsX8WiBlYkbGDZmIAFImEx0WS4UABCAAAQhAAAJZlABSJoseLNv6Xynz/fffu2QpU6aMffjhh6HUJPFRlIpSe3744QfbtWuXHThwwP755x9P+zn++OM9zejuu+/2z8Klh6SMatM8+uijIcySNs2bN/cUJY233nrLRo0aZWvXrrXdu3f73IULF7atW7cmKWWiXZMia2655RYXMuFDz5LwmT59um3atMmfq8gcFTVWalasAykTKzGuz0wEkDKZ6bRYKwQgAAEIQAACEMiaBJAyWfNc2ZX9r5RR7ZWRI0fapZde6qlEEjOFChWyn3/+2SpXrmz33HOP3XTTTV5T5osvvrA777zTdu7caUWKFAnVlIlsPy0po2gV/ReMmjVrWtOmTV2IfPnllx5Jo8iZK6+80lOTFCUzbNiwUCvrhCJlol3T/fffb9dee60tWrTIPvvsMzvllFNC61BEzKxZszxlqUKFCp4SdcMNN3gdnEiBE81LgpSJhhLXZFYCSJnMenKsGwIQgAAEIAABCGQdAkiZrHOW7CSCQHihX9VfkZg56aSTvJbLxx9/bC1btvQomKCbkurAqNbLsUoZyRfVpVGUTDDatWvntWcCwdO/f39PrVK9mWBMnjw56jXt2LHDI2W++eYbmzt3rgsnjWrVqlmLFi18HxqKnFGUkFggZfgVgcCRBJAyvBEQgAAEIAABCEAAAhlNACmT0SfA89OMQGRLbHUmkpgpUaKEjR492hTdIlGhrkvz5s2zbt262caNG49ZynzwwQeeyqSaMyoSrFQiRc2opXYgZdQFSkWEFZ0jaaLoHaVRxbImpSZJLEnsSMyors31119v69at865SSrmSnNHP2rZti5RJszeNiTMrAaRMZj051g0BCEAAAhCAAASyDgGkTNY5S3YSQSBSyujHki4SM+qk1LhxYxszZoyLkvr163vb6ttvv/2YpYyeoy5L48ePt3379tk111zjHZKUshRIGX2u56kAsT4LWmIPHz7cOz1FuyaJGaVfrVy50uXL33//7QJGHZiKFy9uas2ttt2B7In1JSF9KVZiXJ+ZCCBlMtNpsVYIQAACEIAABCCQNQkgZbLmubIrCKQKAaRMqmBkkjglgJSJ04NhWRCAAAQgAAEIQCAbEUDKZKPDZqsQgAAEIAABCEAAAhCAAAQgAAEIxA8BpEz8nAUrgQAEIAABCEAAAhCAAAQgAAEIQCAbEUDKZKPDZqvxR2DixIneWjuy7XZKV5pQu+6UzqX7nrzzymO5nXshcBSBni99BBUIQAACEIAABCAAAQhA4P8TQMrwKqQ7gQYNGiRYeDZSUCRUqPfnn3+2008/3VtBq3htWgyt77PPPvOp8+bNa2eccYZ16tTJ7r333lR/HFIm1ZEyYZwTQMrE+QGxPAhAAAIQgAAEIACBdCWAlElX3DxMBOJFyvz777+WJ0+eow5F6zvzzDPtiSee8G5Gr7zyire0VhtrtaCOHPv377fjjjsuRYeLlEkRNm7KxASQMpn48Fg6BCAAAQhAAAIQgECqE0DKpDpSJkyOQDRSRu2jJULCx6effurtrMPHJZdc4q2gFy9ebN27d/cIGskWRdGovXTt2rVDl+fIkcOef/55+/DDD70V9aOPPuptqiNHQuuTpDnnnHPsjTfecKlUtWpVy507t02aNMmqVatmWtvTTz/tra1/+uknK1asmDVp0sQGDx5sBQsWDD1CEqZXr162fft2u/LKK+3iiy+2J5988oj0pffff9/3vmLFCitdurS1bt3aevTo4c87fPiw/0zttrds2eKtvW+44QYbNWqUP0PpS+3bt7c1a9Z4K+yiRYva448/7p+lZJC+lBJq3JMUAaQM7wcEIAABCEAAAhCAAAT+jwBShrch3QlEI2V2795td955p+3atctFh4ZEx9KlS+3888+3Tz75xKpUqeIRKvp8zpw59ttvv9m5557r4mLYsGE2bdo0W716tRUqVMjvl5QpWbKkDRw40CRzJDnKlSsXlZSpUaOGVahQwSZPnuxS5quvvrJ77rnH16hRqVIlGzFihOk6pVdJzCjd6bLLLnMRpLFw4UK78MILbcCAAda0aVObOXOm9e7d29cb1JT573//a9dee61Llnr16tnatWtdqCiVS9e+++67/sw333zT979582Znctddd4WkzF9//eWi54orrvDrJXQkeLTGWAdSJlZiXJ8cAaRMcoT4OQQgAAEIQAACEIBAdiKAlMlOpx0ne41Gymipx1JT5tChQ1akSBFPOZLkCKSMiuoqgiapEb6+gwcPenTMbbfdZs8++6x17NjRpYxk0ddff53kPBIiHTp08KgYjVtuucX+/PNPmz59eui+m2++2eVMIGUaNWpkDRs2tG7duoWuUTROly5dXDopGmfMmDG2fPnyBFOvFCkjmfPqq6/6/RI+J598skfXaC2xDqRMrMS4PjkCSJnkCPFzCEAAAhCAAAQgAIHsRAApk51OO072mhZSRqk8StNRKtPWrVtNMkX1YCRSggK9ipSR4GjVqlWyUmb+/PkehaN6Mbly5fKomKFDh1rOnDldylSsWNHGjh17xDyK3lEUzA8//ODS5sCBA/bPP//Ynj177Pjjj7datWpZs2bNPH0pGCNHjvQImEDKlChRwhQlpGcGQ3sJ5tmxY4dddNFFLlsaN25sV199tadJKepHQ1JG4kipWcFQ9E7z5s2PeG60rwJSJlpSXBctAaRMtKS4DgIQgAAEIAABCEAgOxBAymSHU46zPV533XVeCyVISwqWp/QfRbH88ssv/lEskTISFBIWigg59dRTvWtS3bp1PXVH0TEakjJTpkzx1KGkhqSLUpB0b/78+a1UqVIuY4KRkFRSV6jKlSu7vLnppps8peqLL77wVKOdO3d61E40UkbP0x6uv/76o5aoLlBax969ez19a9asWV43RmtVtygVLU6oJbbq62jPCdXPSe7VQMokR4ifx0oAKRMrMa6HAAQgAAEIQAACEMjKBJAyWfl043RviuL4+OOPvRZK+Lj99ttt06ZNLhs0VEtFf//Pf/4TukwpPKeccootWbLEC+8GQ3VjVLtFaUYav/76q9eLkeRJiZSRyJAkSmgkJGVUa0admRTREgicfv36Wc+ePUNSJqH0Jd2jwsNBpIyiYCR3XnrppahOb9WqVX69atyoqDFSJipsXJSBBJAyGQifR0MAAhCAAAQgAAEIxB0BpEzcHUnWX5CK4KpIrYrTtmvXzqNaVGela9euLmAU9aLRv39/r58igaPImhNOOMGjXQoXLuxRLLo3X758/rmERPHixU3pQEodkviRuNEc6SFlJJgCkaN0onnz5nldmI0bN4akzIIFCzz1aNCgQfY///M/9tFHH7m0CS/0q89UA0epWOqqJMGjuVVDRpJH3ZuUzlSnTh1PiVK0kYoaS0KJEVIm6//+ZPYdImUy+wmyfghAAAIQgAAEIACB1CSAlElNmswVNQG1sJZY+fbbb71ui6I9HnvssSNSi7Zt2+b1X7788kuvs6K204pSGTdunD3xxBMuPFTUVnVk1ApbkTWSF2XLlnUZ88gjj7iQSQ8po40rKmfIkCEe9VK/fn1fu6J/gvQlXaNW1qoho1QrFfVVF6jIltgSM9qf9qSUJLGRgJLEmjp1qnePWrlypcsZteOWrFFxYA2kTNSvIBdmEAGkTAaB57EQgAAEIAABCEAAAnFJACkTl8fCoiAAAQhAAAIQgAAEIAABCEAAAhDI6gSQMln9hNkfBCAAAQhAAAIQgAAEIAABCEAAAnFJACkTl8fCoiAAAQhAAAIQgAAEIAABCEAAAhDI6gSQMln9hNlfXBFQ62y1sFa9GBUGjvexdMgn8b5E1pcBBGo82igDnsojIQABCEAAAhCAAAQgkPUIIGWy3pmyozQisHnzZhswYIB3itqwYYN3fapQoYLdeuut1rp1a++GlNxQcV4VMFanqNy5cyd3+TH9XAWQL7300iMKDcc6IVImVmLZ43qkTPY4Z3YJAQhAAAIQgAAEIJD2BJAyac+YJ2QBAmrjrXbWRYoUsb59+3rXI7XyXrZsmb344ot2991323XXXZcut4A0nwAAIABJREFUO1W3quOOOy7ZZyFlkkXEBSkkgJRJIThugwAEIAABCEAAAhCAQAQBpAyvBASiINC4cWP7/vvv7YcffrACBQocdcfhw4ftl19+OSo1Se2xixYtGmrnHZm+pMgZtfKeM2eOKRKnXLlydu+999oDDzwQesYdd9zhbbbPO+88e+6551wGrVu3zl599VUbOXKkrVq1ytd02WWX2YgRI6xkyZIWPCd8oYrmmThxYhS7/b9LiJSJCVe2uRgpk22Omo1CAAIQgAAEIAABCKQxAaRMGgNm+sxPYMeOHVaiRAnr37+/PfbYY4luKKF6MclJmX///df69etnTZo0sRNPPNHmz5/vkmbChAnWokULf5akzOTJk61Zs2bWtWtX/6xKlSo2fvx4K1WqlFWqVMm2bt1qnTt39kieGTNmmGTP+++/b82bN3dpU7hwYcufP7+nXMUykDKx0Mo+1yJlss9Zs1MIQAACEIAABCAAgbQlgJRJW77MngUILFy40C644AJ77733XIwEQ3Vh/vnnH/9rx44d7Z577ok5UiYhPJ06dfKomXfffTckZWbOnGnr169PMm1pyZIlHk3z119/WcGCBY30pSzw8sXpFpAycXowLAsCEIAABCAAAQhAINMRQMpkuiNjwelNIDEpozozhw4dslatWlndunXtwQcfTJGUUUqSol4kXfbu3WuqGaPOTIsWLQpJmY0bN9qsWbOO2PpXX31lffr0saVLl3oxX63l77//9jSrs88+GymT3i9KNnoeUiYbHTZbhQAEIAABCEAAAhBIUwJImTTFy+RZgUBy6UsNGjRwiaL0oVNPPdW+/vprq1Wrlm9dnZZU4+XTTz81XReZ4vTmm29amzZtbNiwYS52ChUqZEOGDDGJoG+//TYkZZQGNXXq1BDOPXv2+LOuvPJK69Chg6dXSero70G7bSJlssLbF597QMrE57mwKghAAAIQgAAEIACBzEcAKZP5zowVZwAByQ5FoARFdcOXEEgZtctWW2y1zL766qv9EkW3XHHFFYlKmfvuu89WrFhhs2fPDk3ZqFEj2759e5JSRlEy5557rouYsmXL+r2TJk2y2267LSRlVJ9GHaM0l+rVpGRQUyYl1LL+PUiZrH/G7BACEIAABCAAAQhAIH0IIGXShzNPyeQE1q5d64JDnZSUMlS9enXLmTOnLV682B555BFPYQqiXfLkyWNjxozx4rtdunTxNKTEImVGjRplPXv2tLfffttTn9RRSZ/pz0lFyigCp0yZMt6lSZEyy5cvt0cffdR+/PHHkJRRypOEjYoGSxKp0K9qzcQykDKx0Mo+1yJlss9Zs1MIQAACEIAABCAAgbQlgJRJW77MnoUIbNq0yTswKRJmw4YN3ppatVtuvPFGb2OtKJmVK1fanXfe6UJFXZEGDx6cZKTMvn37XKpMmTLFcuTIYS1btvQOSR9++GGSUkZY33jjDevevbtpXbVr17Zu3brZddddF5IyuubJJ5+0559/3rZs2WK33347LbGz0PuYkVtBymQkfZ4NAQhAAAIQgAAEIJCVCCBlstJpspe4J6D0p8qVK9vq1autQoUKcb9eFggBCEAAAhCAAAQgAAEIQAACaUcAKZN2bJkZAkcQ+P3332306NEePaPUJkXaMCAAAQhAAAIQgAAEIAABCEAg+xJAymTfs2fn6UygWbNmpgK9AwcOtFtuuSWdn87jIAABCEAAAhCAAAQgAAEIQCDeCCBl4u1EWA8EUpnAaaedZg8++KD/F+tQzRpG1iOg2kgMCEAAAhCAAAQgAAEIQCDjCSBlMv4MWEEEgRdeeME7Ce3cudNy587tP929e7d3PlIHpLlz54bu0J8vvfRSW7NmjZUvXz7FLH/++WfvePTNN99YzZo1E50nuC64QJ2WypUrZ3fccYf16NHDi/XG20DKxNuJZPx6kDIZfwasAAIQgAAEIAABCEAAAiKAlOE9iDsCQTHcL7/80i644AJfn7oRtW/f3rZv3+6yJl++fP557969vaPQL7/8ckz7iFXKfPLJJ1alShVT96QvvvjC2rVrZ88++6x3Xoq3gZSJtxPJ+PUgZTL+DFgBBCAAAQhAAAIQgAAEkDK8A3FLoHTp0nb//ffbY4895mvs2rWr7dmzx+bMmeMtnhs0aOCfX3LJJR7hIjFz6NAhGzRokL344ou2efNmO/PMM61nz552ww03+LWSOZ06dbKPP/7YI2/KlCnjLaXbtGlzVISL5g2PyAlAJSZvGjVq5C2wn3vuuRDTcePG2bBhw2zdunUmMaL9qHW2RjDP5MmT7ZlnnrGFCxdaxYoVTVFCdevWDc0xduxYe+KJJ2zHjh125ZVXWr169fzvf/zxh1+zdu1a69y5sy1YsMD5nHXWWTZgwADTeoKBlInb1zzDFoaUyTD0PBgCEIAABCAAAQhAAAJHECBShhciLgm0atXKo2I++ugjX9/5559vXbp0sdmzZ1vJkiWtb9++tnfvXk9pGjNmjLVu3dqeeuopmzRpko0YMcIFx+eff24dOnTwOSRZJGTmzZtnEh3Fixf3lCfN0aRJE1u8eLE/I4iAOe6446xYsWJHsUlIyixZssQuv/xyGzlypN1+++1+z2uvveYpWIqeqVWrlqdF3XXXXfb000/7WoN51B576NChvl6lP2kdWpfStrTW+vXru2i67rrrfG2STAcPHgxJmaVLl7qQUVqXujm98sorPp+ijZRWpYGUictXPEMXhZTJUPw8HAIQgAAEIAABCEAAAiECSBlehrgkoCgTFaZVRIjEiQTJb7/95mJC0SSfffaZR800bNjQU5dOOukkv0Y/D480UVrR33//ba+//rqLDcmY8ePHRyVbEgITyJT8+fNbzpw5bf/+/fbvv/96apXkUDAqVKhgTz75pLVs2TL0Wb9+/WzGjBk2f/78kJTRPoOUpxUrVnhK1MqVK02y5uabb/aInmnTpoXmuPXWW/3vQaRMQmusWrWqyyhJKKRMXL7eGb4opEyGHwELgAAEIAABCEAAAhCAgBNAyvAixCUBRYsoekQCQ2lHijr5/vvvXcycccYZLiX0xVIRKUrh0c8kIwoUKHDEfiRNFKmi9CDVpWnevLmnNV1xxRXWtGlTu/DCC/36WGvKfPDBB54qJCGzfPlyu++++7zYr9pdK42oYMGCFoibYEEHDhywE044wbZs2RJ63qJFi+y8887zS7RPiSUJJ0XIaN1qo92rV6/QnkaNGuV/D6SMpE2fPn1s+vTptmnTJtMzJLEefvhhGzx4MFImLt/ujF8UUibjz4AVQAACEIAABCAAAQhAACnDOxDXBMqWLWv33HOPywqJDtWS0ZCsUVSKivwqokTpSJIuKgqsOjCnnHLKEftSWo/m0ti2bZtHq8yaNctUz6Vjx46e7hOrlIns0iQZo9Siv/76y/788087+eSTPZWqTp06R6wlV65cXgMnoedJtCgd69NPP/WaOdFIGUXEaC/ag6JzJIJUQ0f3K41Lg/SluH7NM2RxSJkMwc5DIQABCEAAAhCAAAQgcBQBImV4KeKWgOqzqGBvECnTokULX6vSfRRRoqiRCRMm2C233OIypESJEi5obrvttqj2JLGjCJxdu3Z5BI5kjurDnHPOOYnen5i8GTJkiNe8kZApXLiwzyVhIlGT0IhGyih9STLqP//5T2gK7U1/DyJlqlWrZuISPCcoYKyoHaRMVK9BtrwIKZMtj51NQwACEIAABCAAAQjEIQGkTBweCkv6XwISLopkUYrQhg0bvG6MhorZql6KRIxkSqlSpfzzxx9/3OvNqOPRxRdf7IJExXIlSVRcV2k/Ei5BK2t1dtq6datH2SjtR9ep2K7q0KjltlKNIkcgU4KCwLpv2bJlXsRXaVGqc6OhWjHqtqQImsaNG3vrbAkfCSZ1S4pGygSFfiV8VIxYc2t9KvSreTSuv/567+4kVjly5HA5o2ihtm3bImX4RUqUAFKGlwMCEIAABCAAAQhAAALxQQApEx/nwCoSIBDeoUjFb4Ohwr5KyVEL6h9++CH0+eHDhz16ZvTo0fbTTz9ZkSJFrHbt2t72WjVaVGhXBX81r9J81F56+PDhnk4UiBS1m964caP/LKmW2MFDlY4kKXTVVVd59ydF6wRDz5JQUQFf1bpRVIuKF6tOTDRSRvMo8kedpn7//XdviX3uued6RyfVj9HQPBIw6sCkIsZqHf7OO+9YzZo1kTL8ViFleAcgAAEIQAACEIAABCAQ5wSQMnF+QCwPAuEEFJEjEfXf//4XMBCAAAQgAAEIQAACEIAABCCQyQkgZTL5AbL8rE1ABXwvv/xyj7RR9yh1VVLBY6VYMSAAAQhAAAIQgAAEIAABCEAgcxNAymTu82P1WZyAivgqjUr1c9QKXK23VUCYAQEIQAACEIAABCAAAQhAAAKZnwBSJvOfITtIRQLRtsZOxUfG9VQLpneJ6/Vl98VdcM3g7I6A/UMAAhCAAAQgAAEIQCBTE0DKZOrjY/EJEVAXoqRG7969rU+fPglegpQ5EgtSJr5/x5Ay8X0+rA4CEIAABCAAAQhAAALJEUDKJEeIn2c6Aps3bw6t+a233vJW2KtWrQp9VrBgQdN/CQ2kDFImM73wSJnMdFqsFQIQgAAEIAABCEAAAkcTQMrwVmRpAhMnTvQ21H/88Udon+PGjbNhw4bZunXrvLX2/fffb/fee6//PFLKHDx40Nq3b29z5swxyZ5y5cr5tQ888EBovjvuuMPnv/jii33e/fv328033+wtqfPkyePXqYW1ivNqnpNPPtnbZ6tVt9am/zSefvppmzBhgrfzLlasmDVp0sQGDx4cEkjBXiSadM+vv/7qz9Q9asutsXjxYp/3m2++sX///ddbY6vtt1qDp2QQKZMSaul3D1Im/VjzJAhAAAIQgAAEIAABCKQFAaRMWlBlzrghECllXnvtNXv00Uft2WeftVq1arm8UJtpCZHWrVsfJWUkNvr16+eC5MQTT7T58+e7pJEIURFeDUmZKVOm2C233OKyZs2aNXbTTTe5lNHcGuqgtH37dnvhhRdc1HTu3NkWLVpk/fv3D0kZXV+jRg07/fTTXcxI/lx22WXebUlDe9GzL7nkEhswYIDlzJnTbr31Vt+H9qUh6fPbb7/Zueeea4cPH3ZJNG3aNFu9erUVKlQo5nNBysSMLF1vQMqkK24eBgEIQAACEIAABCAAgVQngJRJdaRMGE8EIqVMhQoV7Mknn7SWLVuGlinpMmPGDBcu0aQvderUyaNm3n333ZCUUYektWvXWq5cufwzCRtJkzfffNN++OEHO+usszyKRbJEQ+KmYsWKHsUSRMpEctP86rQkmRNImTZt2vi95cuX988kbJ544glfT0Lj0KFDVqRIEXv99dft2muvjflokDIxI0vXG5Ay6Yqbh0EAAhCAAAQgAAEIQCDVCSBlUh0pE8YTgXAps2fPHk8Fyp8/vwuTYBw4cMBOOOEE27JlS4JS5rnnnrPx48fb+vXrbe/evZ6epLQgRbpoKFJm27ZtNn369NCciphZtmyZR668//77dsMNN9i+ffuOeK5SlFTvJpAyn3zyiUfASOLs2rXLtK5//vnHtO7jjz/eI2U6duzofw+GInSaN29uki8a2sPjjz/ubbS3bt1qSr/6+++/PTIoSNGK5XyQMrHQSv9rkTLpz5wnQgACEIAABCAAAQhAIDUJIGVSkyZzxR2BcCkjYaF6LpMmTbI6deocsVZFuChtKDJSRpEuik5RGlDdunU9BWjIkCG2cOFC+/bbb0NSRjVlpk6dGppTokU/lxyJRsrouZUrV7Z77rnHU58kbL744gu78847befOnR7tklB9HD2zWbNmnqqk0bhxY9uxY4f17dvXTj31VMubN6+vu0ePHolG5CR1aEiZuHulj1gQUia+z4fVQQACEIAABCAAAQhAIDkCSJnkCPHzTE0gUmSccsopnhLUs2fPBPcVKWXuu+8+W7Fihc2ePTt0faNGjTylKFopE6QvLVmyxM455xyfJzJ9afLkyZ5SpciYIIpHaVVaZyxSRtJIKU233XabP0fFgFWcOKk0KaRM5n3FkTKZ9+xYOQQgAAEIQAACEIAABEQAKcN7kKUJREoZdV5St6WBAwd6VIlSiiRLJD5UfDdSyowaNcrFyNtvv+2RNK+++qrpM/05WikjwCr0+/vvv9vo0aO90O/DDz9sCxYs8HQlpTotXbrUU6JU7FdFhefNm2fdunWzjRs3xiRl1GWpePHiNnLkSE+BUlFj7S+8oHAsB06kTCy00v9apEz6M+eJEIAABCAAAQhAAAIQSE0CSJnUpMlccUcgoZQfFb1VCpIiYAoUKGDVqlXz1B6lAUVKGUkbRdaodkuOHDk8mkX1Zz788MOYpIxaYisVKWiJLRmjZ6pI79133+3cFM2idSkVqn79+taqVSu7/fbbY5Iy6ialDk3Lly+3smXLuox55JFHjmi9HcshIWVioZX+1yJl0p85T4QABCAAAQhAAAIQgEBqEkDKpCZN5oJAlAQ2bNjg0kTFfRs2bBjlXVwGAQhAAAIQgAAEIAABCEAAAlmJAFImK50me4lbAoqQ2b17t0flKGqmS5cunpr0448/ejoTAwIQgAAEIAABCEAAAhCAAASyHwGkTPY7c3acAQQ++ugjryPz008/eQenCy+80OvHqEMSAwIQgAAEIAABCEAAAhCAAASyJwGkTPY8d3YdRwQi69iojfall14aqiWTkUsd/vnKjHx8lnz2Q/XPypL7YlMQgAAEIAABCEAAAhCAQOwEkDKxM+MOCMRE4I477rCXX345dE+xYsXsvPPOs8GDB1v16tXt4MGDtm3bNu+alDt3bkPKxIQ3012MlMl0R8aCIQABCEAAAhCAAAQgkGYEkDJphpaJIfC/BCRltmzZYhMmTPC/b9682R5//HH77rvvbP369UdhSisps3//fjvuuONiOhYiZWLCFdXFSJmoMHERBCAAAQhAAAIQgAAEsgUBpEy2OGY2mZEEJGXU5nrq1KmhZXzxxRdWr14927p1q+3Zs8dOP/10UzvrmjVrhiJl1Jmpa9eu3rpbn0vqVKpUyedYu3atde7c2RYsWOD3n3XWWaY2240aNQo947TTTvM23KtXr/ZnX3/99aYW4bEMpEwstKK7FikTHSeuggAEIAABCEAAAhCAQHYggJTJDqfMHjOUQKSUURemRx55xGbPnm2rVq3yaJmEpEydOnVs0KBBVqJECevQoYOnOc2bN8/3snTpUhcyF110keXNm9deeeUVGzp0qM9Xrlw5v0ZSZufOndarVy9r2rSpf1a+fPmYWCBlYsIV1cVImagwcREEIAABCEAAAhCAAASyBQGkTLY4ZjaZkQQkZSZNmmT58uXzZSiypVSpUjZt2jSrXbu2JVboV5EyDRs29HtmzJhh11xzje3duzc0T+Seqlat6vKmU6dOISlTq1YtmzJlSoq3j5RJMbpEb0TKpD5TZoQABCAAAQhAAAIQgEBmJYCUyawnx7ozDQFJmY0bN9ro0aN9zYpeef755120LFq0yA4fPpxgpIxSmxQlo6HUJgmcX375xSNhFG3Tp08fmz59um3atMkOHDjgwkZtt1VAWEORMnfddZf16NEjxayQMilGh5RJfXTMCAEIQAACEIAABCAAgSxHACmT5Y6UDcUbgYRqyigV6YQTTrAHH3zQ2rVrl6CUkbwpUqSIb+fbb781Rb2sW7fOZYsiYmbNmuUpSxUqVLD8+fPbDTfcYA0aNLARI0aEpIzm138pHUiZlJJL/D4iZVKfKTNCAAIQgAAEIAABCEAgsxJAymTWk2PdmYZAQlLm0KFDLlwUyXLffffFLGWqVatmLVq0sJ49ezoHRc6UKVPGOz0hZeL71UDKxPf5sDoIQAACEIAABCAAAQikJwGkTHrS5lnZkkBkS2xFwDz77LOezjRnzhyPfEmo0G9SkTLqpKSoGXVkypEjh8sZtdJu27YtUibO3zKkTJwfEMuDAAQgAAEIQAACEIBAOhJAyqQjbB6VPQlIyrz88suhzRcqVMgqV67s7a6bN2+eaKHfpKSMigNLwKgDU/HixX2ud955x1tnEykT3+8ZUia+z4fVQQACEIAABCAAAQhAID0JIGXSkzbPggAEIAABCEAAAhCAAAQgAAEIQAAC/58AUoZXAQIQgAAEIAABCEAAAhCAAAQgAAEIZAABpEwGQOeREIAABCAAAQhAAAIQgAAEIAABCEAAKcM7AIFkCCTUPSm1ofXp08emTp3qra/jadzSa248LSdLrOX1JxpkiX2wCQhAAAIQgAAEIAABCEDg2AkgZY6dITPEMYHwIru5c+f2ttE33nijPfHEE5YvX76oVv7nn3/a4cOHvYV1agx1S5oyZYo1bdo0NB1SJjXIZo45kDKZ45xYJQQgAAEIQAACEIAABNKDAFImPSjzjAwjEN6O+t9//7WvvvrKWrdubR06dLBBgwZlyLqQMhmCPW4eipSJm6NgIRCAAAQgAAEIQAACEMhwAkiZDD8CFpCWBBJKPVIb6nXr1tnXX39tO3bssE6dOtnnn39uakFdvnx56969u7Vs2TK0rMg5Zs6caf369bPly5dbrly5rG7dujZy5Ei/V2P//v3WuXNnmzx5ss950kknuQTq1q2bnXbaafbLL7+E5j711FO9JXYQKfPwww9bz549/b6rrrrKxo4da2qhrZHcczXP6aef7s995plnbOHChVaxYkV74YUXfI0pGaQvpYRa0vcgZVKfKTNCAAIQgAAEIAABCEAgsxJAymTWk2PdURGIFCoSKZdffrlJhixYsMA2btxob7zxhjVq1MgKFy5s06dPt4ceesjmz59v559/vj8jcg5JD0W7VK9e3Xbv3m29evVysaJ6MDlz5rShQ4faqFGj7LXXXrNy5crZr7/+6v9J9Gzbts1KlixpEyZMsMaNG7vUKVGihEuZYcOG2RVXXGF9+/Z1KdOiRQtr27atPfXUU76O5J4bSJnKlSv7GiRkevToYYsXL7Y1a9aY0rdiHUiZWIklfz1SJnlGXAEBCEAAAhCAAAQgAIHsQgApk11OOpvuU0Jl0qRJXj/mwIEDtm/fPhcnb7/9tiliJqFx7bXXWiA2EpIykfds377dxcqyZcusatWqdv/999v3339vn3zyicubyJFY+tKQIUNs8+bNociYLl26eASP5FFCI/K5gZQZN26c3XnnnX7LihUrrEqVKrZy5UrfU6wDKRMrseSvR8okz4grIAABCEAAAhCAAAQgkF0IIGWyy0ln031KyigaZvTo0bZnzx4bPny4R4xIXGgcPHjQ+vfv75JG1yn1SOKmWbNm/llCUmb16tUeHaP0IImRQ4cO+dyKsrn66qs9LUrROCeeeKJHw0jyKAImGIlJmXfeecdlTjC0VqUh/fTTT/5Rcs8NpMyiRYvsvPPO83sUcVOsWDH77LPPrH79+jG/BUiZmJElewNSJllEXAABCEAAAhCAAAQgAIFsQwApk22OOntuNDL1SAKlRo0a9uCDD3o0ycCBAz3VZ8SIEVatWjUrUKCA/0ziRi2qE5IyijhR+pMiWUqXLu1SRhEy4R2Vdu3aZR9++KFHy0i2KD3q3Xff9fmiLfSrNek/yRaN5J4bSJlvvvnGatas6ff88ccfVrRoUfv000+tQYPYWzEjZVL/9wYpk/pMmRECEIAABCAAAQhAAAKZlQBSJrOeHOuOikBChX5VQ0aFeBWBorotqvHy0ksv+XwSLJIfZ599doJSRoWBixcv7mlF9erV83u++OIL/3Nkm+tggR999JFHzOheRa0cd9xxXscmPH0qoZbY4VImmuciZaJ6JTL8IqRMhh8BC4AABCAAAQhAAAIQgEDcEEDKxM1RsJC0IJCQlFFtGXVBUkTMb7/95hEsb775pkeUPP300562dOmllyYoZSRtJHHUGal37962fv16e+yxx7yYbiBlNEepUqWsVq1aXr9m8ODBntqk9Cj9/cwzz/TIGaVA5c2b15+bnJSJ5rlImbR4g1J/TqRM6jNlRghAAAIQgAAEIAABCGRWAkiZzHpyrDsqAglJGd2otCXJE6X6dOzY0WbPnm3HH3+8tW/f3kXLn3/+mWj6klKSVMxXkTaVKlXyTktKDQqkjNpYP//8814DRt2VVN9FRXwlaTT+85//eKSOJMopp5xyREtsdXAKRmT6UnLPRcpE9Upk+EVImQw/AhYAAQhAAAIQgAAEIACBuCGAlImbo2Ah8UpArawlV9TFiQEBCEAAAhCAAAQgAAEIQAACEEgtAkiZ1CLJPFmOgNKcfvzxR++odPfdd1u3bt2y3B7ZEAQgAAEIQAACEIAABCAAAQhkHAGkTMax58kRBCLTb+bOneu1XdTWuUiRIunOS6lEF154oa9BUTKq/ZIWQ6lP6pakdKVjHanN7MehdxzrkrLE/Wc+MjFL7INNQAACEIAABCAAAQhAAALxRQApE1/nEberUW2Wl19+2SNGXnjhhSPWqZosqqHSunVrmzgx5V9e40XKBOsINqmOSeecc44NGjQoVBcmNQ8KKZOaNNNmLqRM2nBlVghAAAIQgAAEIAABCGR3AkiZ7P4GRLl/SZk5c+bYrl27bNOmTZY/f36/859//vFOQ4ULF/aIkqwkZVRYt0qVKrZhw4ZQYd8ffvghwaidf//91/LkyRMlzSMvQ8qkCFu63oSUSVfcPAwCEIAABCAAAQhAAALZhgBSJtsc9bFtNOhitHbtWm8B3apVK5/w9ddf9wiS008/3WVFIGVmzpxp/fr1s+XLl3uR3Lp169rIkSOtfPnyoYUsWrTII29WrlxpVatWtR49etj111/vHZGUzhOk4kiOdO3a1VasWOGfT5gwwbseKaLljDPOMM1z7rnnhuZVGtDw4cNt3bp1dvjwYe+oJKG0efNmK1eunN177732wAMPJAokoS5G8+eTx6WNAAAgAElEQVTPt4suusi0Lz1b+1UbbUUILVy40KOHmjRpYp06dbLPP//cU6601+7du5sKBQdjz549ds8999h7771nhQoVskceecS7MYWnL+3bt89ZvPHGG/bHH384GzGWvNH45Zdf/DlffPGF7d+/39t7q7uTat8kxyzWt4D0pf8lhpSJ9c3heghAAAIQgAAEIAABCEAgGgJImWgocY0FUuaSSy6x6dOnm0SJRqNGjezaa691GRAuZSZPnmw5cuSw6tWr2+7du61Xr14uUVSnJWfOnP6ZhMrll1/u4kICRaJEbaYjpUydOnVcSpQoUcI6dOhgBw8etHnz5vnzr7jiCqtYsaI999xzoVOqUaOGNW3a1Pr27WuKYJEckjA58cQTTXJFkkZip0WLFgmebEJSRmuqXbu2ffDBB1atWjWXMpIhw4YN85SmfPny2aFDh1ykiIkih8TpoYce8meef/75/iwJIX0+fvx4K1mypO/9s88+s7Zt24Zqytx1110uoNS2u3Tp0t5q+/HHH7dly5b5XsVbMkbPLlCggF+r59WvXz8kZZJiFsvrjJRBysTyvnAtBCAAAQhAAAIQgAAEIBAbAaRMbLyy7dWBlBk7dqyVLVvWVq1a5SwqV65sv/76q7Vr1+4IKRMJavv27S5VJBYU+fHiiy+6kFBqkISGhqJNFEWSUKRMw4YN/ZoZM2bYNddcY3v37vX73n77bRc1SqnKmzevff311x41I7kjaZLQUJSJombefffdqKSMolUkTWbNmmVr1qzxZ0vKKCInqYgbTS6BIkZDhw51ESUxpKLBN954oz/7999/tzJlyrgo0nzr1693WaX/lZAJhkSPxE7//v1ddDVv3tx69+591PrDI2USYxbLS4yU+V9aRMrE8tZwLQQgAAEIQAACEIAABCAQLQGkTLSksvl1gZSZOnWqCwGJAaUGKT1JckORKeGRMqtXr/boGKX2SMgoikSpO4oSUZqNIkiWLl3qaUXB0N+VxhMpZbZu3epCRyOIWFEKj1KRFDFyyimn2DPPPGM333yz1375/vvvbfbs2aF5FUWjyBSJDgkV3aPnKO0poRFEyqhujqJ6tG6JEj1Daw9+rvQhpTQFQxE8kiYSRRs3bvTnKBWpWbNm/lmwv2DtwX2KtFEEkqSM+EjkKAImfGgepXa99dZbNm7cOJdXkjSSNcF56PpAyiTFLJZXGSmDlInlfeFaCEAAAhCAAAQgAAEIQCA2AkiZ2Hhl26vDpYzEgaJNNCQ8JCoipYyiQ0499VTr0qWLR3xIyihCRqk4ujYWKRPeElvpT5IYSncKImEefvhhl0OqzaJnqXZNUPNGdV/atGnjqT6qa6M6Lqq/IlmkuZKSMkpVOvvssz26Jbwld0LpTZpH6UaKiJFcUYqTxMqDDz5ouXPnNsmsaKSMpIvWLrGkWjzho2DBgnbyySf7R4pO0jl8/PHHNm3aNN/ffffdF5IyyTGL9kVGyiBlon1XuA4CEIAABCAAAQhAAAIQiJ0AUiZ2ZtnyjnApo4gQRamoZoyiPiQPwqXMjh07rHjx4l7wtl69es5LUSX6cyBlEkpfGjNmjKciRUbKJCcYgkLBEhN9+vQ5ojuURIVqroRHzii6RNE7yUmZYB2RB56YlFHdGtWJeemll/wWiSjJKYkdSRmlL6m99muvvRZKX9LelL6kOjKSOT/++KMXEg5nl9wL161bNxc03333HVImOVgp/DnpSykEx20QgAAEIAABCEAAAhCAQJIEkDK8IFERCJcyukGtsTVUYFYjXMpIRkhOXHXVVV73RGlD6ti0ePHikJSRoFBdlsaNG5ukgkSH6rOoZkusUkbPVxrRkiVL/h97dx5vc73+ffxKKCKzQggNiggJnSSSEIVEUmRMZkJmlTHzkCmiE0mG1H0ylDGp0ICfeeqIVKaSyBTux/v63Wvd226z19oDe3h9Hg+Po7U/3+n5Xf7Y73N9ro/3fhk/fnzwmUaPHm29evXy5UO63rRp00yf6e9xHcp07NjRl3KpOidTpkw2fPhwv662Clcoo6FlRwsXLgw2+tUuS1rC1aRJk2Cj3+eee84bGQeaCB86dMhDJS0ZUz8dVd/I9o477vBdntQ8WFVJqrIJLF+KLsgK6aWbGZUy/ytFKBPqN4Z5CCCAAAIIIIAAAgggEI4AoUw4Wsl4buRQJjJF5OVL2p1J/V3UcFeVHwpCtKVzoFJGx69evdorY1TpomoShSfqjxKTUEY9YxRsqE9MyZIlg7enXiy6hq6ryh5tT50hQwYPRuI6lFHTXoVCClDSpk3rzXsVSP3xxx/BUEZhVMQtsbX0SlUuEbfEDuwY9e6773pvGlUdlS5d2neT0rIoVf/o/tUkWaGYgi1tAa5lVoQy8fOPlFAmflw5KwIIIIAAAggggAACyV2AUCa5fwOSyPP37dvXZs+e7Ut4GAgggAACCCCAAAIIIIAAAggkBgFCmcTwlrjHSwqo8kRLn7T9c79+/bw3CwMBBBBAAAEEEEAAAQQQQACBxCBAKJMY3hL3eEkBLat6//33vafNjBkz/rFjEXQIIIAAAggggAACCCCAAAIIJFQBQpmE+ma4LwQSgECXFR0TwF1c/VsY/PDwq38T3AECCCCAAAIIIIAAAggkOQFCmST3SnmgKy3w9ddf24MPPugNd9W0NykNQpn/fZuEMknpW82zIIAAAggggAACCCCQcAQIZRLOu+BOEqlA06ZNLV26dPb222/b9u3bLWfOnIn0Sf5524QyhDJJ5svMgyCAAAIIIIAAAgggkAAFCGUS4EvhlhKPgBoN58iRw7799lvr06ePFSlSxLp37+4P8Pvvv1vr1q3ts88+M8275ZZb/GeNGjWyM2fOWMeOHW3u3Lk+76abbvKtu7t16+bHDh8+3KZOnepbimfOnNmqV69ugwcP9vBH45133rH27dvb9OnTTdtq79u3z6pWrWraRlu7UOletBX3888/79tlX3vttTFCJZQhlInRF4eDEEAAAQQQQAABBBBAICQBQpmQmJiEQNQCU6ZMsfHjx9s333xjn3zyiQclO3futGuuucYDmS+//NImTZpkWbNmtV27dtnJkyc9YBk6dKiNHj3a3nvvPcuTJ4+HKvpTr149v9DIkSOtaNGili9fPg9mWrZsaRUqVLBx48YFQ5nmzZvbww8/bG+88Yb9+eefVqtWLStRooRlzJjRQxkd99RTT3lQU7du3Ri9QkIZQpkYfXE4CAEEEEAAAQQQQAABBEISIJQJiYlJCEQt8K9//cvq1Klj7dq1s7///turZlSporDkiSee8DBGwU3k0bZtW9u8ebMtWbLEA5zoxpw5c7yS5vDhw8FQRhU3CnoKFCjgn+nn06ZNswMHDgQratTn5tZbb7UJEyZEd4kof04oQygToy8OByGAAAIIIIAAAggggEBIAoQyITExCYF/Cqh/TOHChW3//v2WPXt2n6DqGC0bUjiycOFCr1S54447rFKlSr5t9wMPPODzvv/+e3v00UctS5Ys3iC4WrVqPicwFNYMHDjQtm3bZseOHfPA59SpU3bixAlLmzatL19q1aqV/3dgqDpG4Y3CnsBo2LChV9F8+OGHMXqFhDKEMjH64nAQAggggAACCCCAAAIIhCRAKBMSE5MQ+KdAly5dbMiQIRf1a7lw4YJdd9119ssvv1iGDBns0KFDtmDBAlu8eLH3j1GQoqVLGgpbFNwogFF1TcWKFT1U2bNnjxUsWNBeeuklX3aknjKrVq2yJk2aeP8ZLU8K9JQ5evRo8MZeffVV++ijj2z9+vXBz1544QXTHH0ek0EoQygTk+8NxyCAAAIIIIAAAggggEBoAoQyoTkxC4GLBFS5osa9CmYiVrhokipiOnXq5MuJIo6JEyda586dPYyJPD799FOvmDly5IgtX77ce8uoMiZFihQ+tV+/ftarVy9Cmav0PWRL7KsEz2URQAABBBBAAAEEEEjiAoQySfwF83jxI6DKE1WxHDx40CtiIo5XXnnFli1bZlWqVPHGu4UKFbLTp09b165dff6aNWt8dyX1nylWrJgHL9pZaf78+b4UauPGjXbvvfd6s181BVazYO3KpJ9RKRM/7zO6sxLKRCfEzxFAAAEEEEAAAQQQQCAmAoQyMVHjmGQvoLDk/PnzHqREHmvXrrVSpUrZa6+9ZjNnzvTlSGnSpLGyZcv69tTaUUk7MmknJe3UpO2qS5Ys6UuhFNJoaJ7+W0uPHnroIatfv741aNCAUOYqffMIZa4SPJdFAAEEEEAAAQQQQCCJCxDKJPEXzOMhgAACCCCAAAIIIIAAAggggEDCFCCUSZjvhbtCAAEEEEAAAQQQQAABBBBAAIEkLkAok8RfMI+HAAIIIIAAAggggAACCCCAAAIJU4BQJmG+F+4KgQQhsLpduwRxH1fjJkqPGnU1Lss1EUAAAQQQQAABBBBAIBkJEMoko5fNo15a4IUXXvCmutpVKeJYsWKFlS9fPthgN7kZEsoktzfO8yKAAAIIIIAAAggggMCVFCCUuZLaXCvBCsRXKHPmzBlLnTp1gn3u6G6MUCY6IX6OAAIIIIAAAggggAACCMRcgFAm5nYcmYQEQgllzp07Z61bt7aVK1d65UyBAgWse/fuVq9evaDEww8/bIULF7aUKVPa9OnT7Z577vEtsA8ePGiffPJJcN7Zs2ctV65cNnDgQGvSpIktWrTI+vXrZ5s2bfItssuUKWOjRo3ya2hoW22dZ+7cuTZmzBhbs2aN3X777TZhwgSfq3HkyJFo7y/cV0YoE64Y8xFAAAEEEEAAAQQQQACB0AUIZUK3YmYSFggllDlx4oS9//77VrFiRbvxxhtt/vz51qFDB/vqq6/s/vvvdx2FMt9995299NJLHrYEwpKHHnrI9u3bZzly5PDP5s2bZ88//7z9+uuvli5dOg9brrnmGitSpIgdP37cevfu7UHM+vXrLUWKFMFQpmDBgjZ06FAPZHr06GHffPON7dq1y0Og/fv3R3t/4b5CQplwxZiPAAIIIIAAAggggAACCIQuQCgTuhUzk7CAQhlVtlx//fUXPaWqY06dOnXJnjLVqlWzQFASCGWOHTtm33///UXnKVSokDVs2NC6dOninz/xxBOWJUsWmzp1apSqhw8ftmzZstnGjRu98iZQKTN58uRg2LNlyxbTebdu3er3ENWIfH/hvkJCmXDFmI8AAggggAACCCCAAAIIhC5AKBO6FTOTsIBCGVWajB8//qKn1DKh5557zkOZ9OnT24ABA2zWrFk+V/1iTp8+bTVr1vTPAqGMqlgmTZp00XlGjBhhb731lgcoBw4csFtuucWWLVtmZcuW9Xk7d+706hhdT4HM+fPnTZU5qsapWrVqMJRZu3atlSxZ0o/RPWXOnNk+//xzUyWOAqTo7i/cV0goE64Y8xFAAAEEEEAAAQQQQACB0AUIZUK3YmYSFghl+ZL6t2jp0MiRI71XzA033GDt27f3pUOBXZu0fOnee+/1ORGH+r3kzJnTtJuTljtNnDjRduzYEZyiSpe8efN6JY3mKZRRhYyWOdWoUSMYyqxbt87Pr6HdojJlymTLly/3ZVODBg2K9v7CfYWEMuGKMR8BBBBAAAEEEEAAAQQQCF2AUCZ0K2YmYYFQQhn1gMmePbu9/fbbLqHgRGHK3XffHW0oo/l169a1DBky2Ndff23PPvusdevWzc+jwCZr1qzeQDhQObNq1Sr/ezihTPXq1aO9v3BfIaFMuGLMRwABBBBAAAEEEEAAAQRCFyCUCd2KmUlYIJRQ5vXXX7c5c+bYzJkzvUJl+PDhvmypfPnyIYUyixcvNvV40TKjvXv3ekVMINxR2FOlShXr06eP/6xr167exDecUKZjx47R3l+4r5BQJlwx5iOAAAIIIIAAAggggAACoQsQyoRuxcwkLBBKKKPKmMaNG9vSpUstbdq01rx5cw9Q/vjjj5BCmQsXLvi21mrOq14xEceSJUusbdu29sMPP9idd95po0eP9iVJ4YQyv/32W7T3F+4rJJQJV4z5CCCAAAIIIIAAAggggEDoAoQyoVsxE4FYCWir61y5cvmOS7Vq1YrVuTgYAQQQQAABBBBAAAEEEEAg8QsQyiT+d8gTJHABVdhoR6Vhw4b50qfdu3d7c2AGAggggAACCCCAAAIIIIBA8hYglEne75+nvwICe/bs8WVL2gb7nXfesUceeeQKXJVLIIAAAggggAACCCCAAAIIJHQBQpmE/oa4vyQncOutt/pW2vqjcc011wR7x0T3sOHMje5cofx8bJc5oUxLVHNaDa6dqO6Xm0UAAQQQQAABBBBAAIGkK0Aok3TfLU8WzwL79u3z3ZIWLVrky5Ny5MhhNWrUsN69e1uWLFkuefXIocyvv/7quzldd9110d4xoUy0RNFOIJSJlogJCCCAAAIIIIAAAgggcIUECGWuEDSXSVoC2iWpTJkydscdd1i/fv18edLmzZutc+fOdubMGVu9erVlzpw5yoeOHMqEI0MoE45W1HMJZWJvyBkQQAABBBBAAAEEEEAgbgQIZeLGkbMkM4EqVarYpk2bbMeOHZYmTZrg06vqpUCBAtagQQMbP368HTx40Jo0aWLa8vrmm2/2AKdHjx6XXL6kQKdjx442d+5c+/333+2mm26yFi1aWLdu3fwaCmUmTZrkW2p/+umnvpuTGgg/8cQT/vNz5875Vt3Lli0z3UuePHmsZcuW1q5duxi9IZYvxYiNgxBAAAEEEEAAAQQQQACBkAQIZUJiYhIC/1/gt99+s6xZs1r//v2DYUlEH4Uic+bMsSNHjtjjjz9uP//8s02YMMFSpUplbdu2tXXr1tmAAQOi7CkzdOhQGz16tL333nseqGiJlP7Uq1cvGMqoYfDgwYOtZMmSNmbMGJsyZYr9+OOPXplz9uxZD36qV6/uS6i++uorD2m0DXedOnXCfo2EMmGTcQACCCCAAAIIIIAAAgggELIAoUzIVExE4H8F1qxZY6VLl75kc94RI0Z4tYvmlSpVytauXesBisa2bdvsrrvuMs2JqtGvQhstg1JljapiIg991rNnT+vbt6//6MSJE5YuXTpbuHChVa5cOcpX1Lp1a6+aUVAU7iCUCVeM+QgggAACCCCAAAIIIIBA6AKEMqFbMROBi0KZDz/80GrWrPkPlUAoo+2vmzZtaqdPn7YUKVIE56mprxoERxXKfP/99/boo496lYtClmrVqlmlSpWCxyqUmTVrlj399NPBzzJkyOAVM1oypTF27Fivntm7d6+dPHnSe9zce++9Hg6FOwhlwhVjPgIIIIAAAggggAACCCAQugChTOhWzETABbQsKVu2bL5MqHv37v9QCSxf0pKh2rVrhxXK6GTHjh3zyhdVy8yePdsqVqwYrHKJqtFvxowZbeTIkfbCCy/YzJkzrVGjRt5nRo2I06dPb0OGDPGqnfXr14f9BgllwibjAAQQQAABBBBAAAEEEEAgZAFCmZCpmIjA/xd47LHHfJnRzp07L9noV5UwBQsWvGj50vbt2/2zSy1fimysZr6qmFEQpJ4x0YUybdq0sS1bttjSpUuDp1Kooy27CWX+l4Tdl/iXjAACCCCAAAIIIIAAAglFgFAmobwJ7iNRCSiMeeCBB7w/TOQtsbVcKbAltnZpOnDggO/ElDJlSl+y9N13312y0e/w4cMtR44cVqxYMV/ypIa+2mlp//79/t/RhTJqEtyrVy9f4qRtuqdNm+aNg/V3QhlCmUT1j4ybRQABBBBAAAEEEEAgGQgQyiSDl8wjxo+AdjxSb5hFixaZdmTSltc1atTwz9QTRkMNdtVXRkuRtL21AhyFJgpnouopo+2ux40b5xU41157rTcI1vIjhTQa0YUyCoS0hfa8efN8rnZtUs8ZLYcilCGUiZ9/CZwVAQQQQAABBBBAAAEEYipAKBNTOY5DAAEEEEAAAQQQQAABBBBAAAEEYiFAKBMLPA5FAAEEEEAAAQQQQAABBBBAAAEEYipAKBNTOY5DAAEEEEAAAQQQQAABBBBAAAEEYiFAKBMLPA5F4GoLaBvso0eP2kcffRQvt9K3yWPxct64OGmvtz+Ni9NwDgQQQAABBBBAAAEEEEDgqgkQylw1ei6clASiCkfmzJljzz33nPXv399efvnleHlcQpl4YeWkCCCAAAIIIIAAAggggMAVESCUuSLMXCSpC0QORyZPnmytWrWyCRMmWKNGjcJ+/LNnz1qqVKmiPY5QJloiJiCAAAIIIIAAAggggAACCVaAUCbBvhpuLDEJRAxHBg8e7Ntiz5gxw2rWrOmP8fHHH9trr71mW7ZssZw5c1rDhg2tR48eljJlSv+5tq/WVtjaunrp0qXWuXNn3zq7efPmtmzZMt9aO0+ePNayZUtr165dkCZyKKPtubXt9qZNm3xL7TJlytioUaOsQIECMeJk+VKM2DgIAQQQQAABBBBAAAEEEAhJgFAmJCYmIXB5gUA4cuedd3q4oh4vjzzyiB/0xRdfWLVq1Wz06NFWtmxZ2717t4ctOkbhTSCUyZ49uw0aNMjKlSvnYU2OHDk8YKlevbplyZLFvvrqKz9u6tSpVqdOHT8ucigzd+5cD3iKFClix48ft969e9uePXts/fr1liJFirBfI6FM2GQcgAACCCCAAAIIIIAAAgiELEAoEzIVExG4tIDCkffff9/OnDnjlS4VKlQITq5YsaIHNN26dQt+Nn36dOvSpYv9/PPPwVCmffv2NmLEiMsyt27d2qtm1K8mqlAm8sGHDx+2bNmy2caNG61w4cJhv0JCmbDJOAABBBBAAAEEEEAAAQQQCFmAUCZkKiYicPlQZvPmzaYQ5JZbbvFlSOnSpfMDFIqoakXLiQLj3LlzdurUKTtx4oSlTZvWq1sU1NSvX/+ii4wdO9amTJlie/futZMnT3roc++999ratWujDGV27tzp1TFr1qzxezl//rxfY/78+Va1atWwXyGhTNhkHIAAAggggAACCCCAAAIIhCxAKBMyFRMRuHwoo62p1b+lfPny3jdGwUz69OktTZo03k+mVq1a/zhB/vz5fVmRQpl58+ZZjRo1gnNmzpzpTYKHDRvmvWF0riFDhnjgouVIGpGXLxUsWNDy5s3rVTi6B4UyqpCJfO5Q3yWhTKhSzEMAAQQQQAABBBBAAAEEwhcglAnfjCMQ+IdAxHBk3759HszcdNNNpsa7lStXNoUlb7/99iXlogpl2rRp442BtRwqMLQUShUwUYUyR44csaxZs9rKlSu9d43GqlWr/O+EMnxpEUAAAQQQQAABBBBAAIGEJ0Aok/DeCXeUCAUiV6z89NNPHsxo6dIrr7xitWvXtp49e/r/qjJmw4YNvkOSGvlqRBXKqDGwdmCaNWuW5cuXz6ZNm+bNgvX3qEIZVcWoWXCVKlW8gbCWPHXt2tW++eYbQplE+J3ilhFAAAEEEEAAAQQQQCDpCxDKJP13zBNeAYHIoYwuuX//fg9mtHOSwhFtlb1u3TpLlSqVV840bdrUmjVrdslQ5vTp09aiRQsPVBTa1KtXzzJkyODLoi61fGnJkiXWtm1b++GHH0w7QSnEefjhhwllrsB3gEsggAACCCCAAAIIIIAAAuEKEMqEK8Z8BBBAAAEEEEAAAQQQQAABBBBAIA4ECGXiAJFTIIAAAggggAACCCCAAAIIIIAAAuEKEMqEK8Z8BBBAAAEEEEAAAQQQQAABBBBAIA4ECGXiAJFTJB6BqHq/XOm7v/XWW619+/b+Jy5HfDzbhiFL4vIW4+RcRTtXjJPzcBIEEEAAAQQQQAABBBBA4GoLEMpc7TcQR9ePj1/I4+jWEtRponNasWKFN+f9/fffLWPGjH7vP//8sz322GOWKVMm+89//uPNdmMz4iuU+eOPP+zChQvB+47NPQaOJZSJC0XOgQACCCCAAAIIIIAAAghELUAok0S+GdGFDUnkMWP9GNE5RQ5ldu/ebY8++qjdfffdNnv2bEuTJk2s7yG+QpnobuzMmTOWOnXq6KZd9HNCmbC4mIwAAggggAACCCCAAAIIhCVAKBMWV8KdHDFsWLRokfXr1882bdpk1157rZUpU8ZGjRplBQoU8AfYs2eP5cuXzz744AMbM2aMffvtt1a4cGF77733TNUWL730km3bts3Kli1r7777rmXLls2PC1zj/vvv9/Npy+aOHTta9+7drVu3bvb2229b2rRprW/fvtaoUSM/JqrKE23nXKxYMfvvf/9rCiiiGsOHD7epU6f61s6ZM2e26tWr+5bS6dKl8+nvvPOOL//RM+h/9+3bZw8++KAfkyNHDp9z7tw569y5s02ZMsUdmjRpYgcOHPBn/Oijj6K8bsT73bt3r1fIVKhQwf79739bypQp/ZhvvvnGn1nbW589e9buvfdeGzFihBUvXtx/rmqV1157za+r62lL7Nq1a/v21Bp65ubNm9uuXbs86FEFTs+ePf2zuHg/gWfTVth6r7rv6dOn2z333GPLly8P60tMKBMWF5MRQAABBBBAAAEEEEAAgbAECGXC4kq4kyOGMnPnzrVrrrnGihQpYsePH7fevXt7EKMwJEWKFMFQpmDBgjZy5EjLkyePNW7c2AOG9OnTe6CjcKVOnTpWsWJFGz9+vD+4rvHhhx9agwYNrE2bNvbll1960KHg4qGHHrKnn37aQ5LXX3/dw5RbbrklxqGM7qto0aIeHulcLVu29HBk3LhxwVBGIUa5cuVs4MCB/lzPPfechz0KlzQU4gwaNMgmT55sd911lw0bNsxmzZrl54kulJk/f77Vr1/f/yi4kmdgLFu2zJc03XfffR7A6LyffPKJ7dy50/3mzJnjLjNnzrRChQrZr7/+ahs2bLBmzZoFQ5k///zTw6tKlSr5/B49etiWLVvszjvvjNX7OXr0aPDZFMp89913HrLpfjR0/nAGoUw4WsxFAAEEEEAAAQQQQAABBFuP+P4AACAASURBVMITIJQJzyvBzr7cspzDhw97tcvGjRu9ciJQKaOwIvDLugKEevXq2dKlSz200FCgoYoUVc0EQhlVkigkUQiioWAne/bstnLlSv9vVaeo54rO/cwzz8Q4lIkMreCiRYsWpmfR0H2pGkfVJoEKIAU2CoQUgmjkzJnTOnTo4NUyGn///beHPCVKlIg2lNEyn7p163qlUHTj/Pnz3sdlxowZVq1aNVOVz8SJE71SKVWqVP84XJUyqkKaNm2a/0zBzs033+zVNXrG2LyfyKHMsWPH7Pvvv4/uES75c0KZGNNxIAIIIIAAAggggAACCCAQrQChTLREiWNCxFBGFRuqjlmzZo2HGAoNTpw4Yar+qFq1avCX/rVr11rJkiX9AbWsRWHMwYMHg8uVtBTo5Zdftt9++83n6BqHDh3y8wSGKlUU9IwdOzb4Wd68ef24tm3bxjiUWbJkiVfAKBBSsKBA5dSpU/4cquJRKNOqVSv/78CYN2+ePfXUU/68WqKkoOTzzz/3Kp7AqFmzpocg0VXKqOpn4cKFtmDBAg9QIg4tSdJyIwVU8lIQ9ddff9mbb77pFT1aSvWvf/3Lr1O5cmU31/KrwPInhTK690BYpHOrKkj3HqhqUngUk/cTOZS5/fbbbdKkSTH+EhPKxJiOAxFAAAEEEEAAAQQQQACBaAXiPZRRo1T9oqlfso8cOWKfffaZ//KvX+71i7t+iS1dunS0N8qEywtEDGVUvaJgpEuXLl4topBCwYlCixo1agRDGfVEUT8Ujah6vwT6tugX/UAoE/GXfn2mJTI6h5YbBUbERraqoFFwo2BHvVM01JNFfWku1VNGlSJ6Bi27UbWKesqsWrXKq3oCuyJFvjedV0FLIHSJbSij+5Xf+++/78FMxGBHQYu+y6pskfN1113nfXu0BCmwzfXJkyf9O7948WLvG6OQRQGRKmeiavQrQ72bV199Nc7eT1TvJtx/R4Qy4YoxHwEEEEAAAQQQQAABBBAIXSBeQxlVOTzwwAMeCih40S+o+hNYHqPGqOoBogaxjNgJBEIZWWbNmtWXEwUqPBRo6O9XI5TZunWr71y0efNm/18NVW6oH8ylQhn1xNFSKlXGBJZJqc9Nr169Qg5ldJ2oli/lz5/fG/JGVymj8EfLsLScSD1qVB2kcElDfWO0VOr555/3/1ZljPryqNlvIJSJ+Da3b9/uIZP6u+jahDKx+64X7VwxdifgaAQQQAABBBBAAAEEEEAggQjEayhTq1Ytr4rQMgxVCKj3iKoHAqGMKgv0C3igZ0kCMUmUtxEIZdSIV85VqlSxPn36mHYQ6tq1q7+HqxHKqHmwer4olOvfv7/t2LHDK6QUVFwqlFFT3ED1jZb9qKGwdnfav39/WKHMG2+84c1+FVQpFFGvF/XOCaXRb6AiR0uQtNRIuy8pmFH1iYIVBV/agUpLq7QMSTtYDRgwwEMZVfFoSVOpUqV8qZWWgakZsMIb7cREKBO7f2KEMrHz42gEEEAAAQQQQAABBBBIOALxGspo2Yl+YdUv1FruoWazEUOZt956y39B1040jNgJaEck9TVRQ1wZq5+LGvJqtx1txaww4WqEMnoqhSpaiqReN+pho3tTz5bLbYmtqpMhQ4aYlktp6ZB2QdIzhrp8SddVH5pOnTp5KKKKG+0wpR47oW6JrZ40GgpmtNuUzqNdlvS5Kn3UyDd37twexug6CmT0R1U4apKsKiGFM9qKWpU+jzzyiJ+PUCZ233VCmdj5cTQCCCCAAAIIIIAAAggkHIF4DWXSpEnj1QT6BTaqUEbVA+rLoWoDRuwE1Ofktttu82azDAQQQAABBBBAAAEEEEAAAQQQSPgC8RrKaEcZNXRVD5GoQhkFCapa+PrrrxO+VAK9Q1WOqBKldu3avjRHzWIZCCCAAAIIIIAAAggggAACCCCQ8AXiNZTREhT1M1FYoCUoWr60dOlS/7uWc7z++us2YcIEa9asWcKXSqB3qN2G1C+mYcOGbnrNNdck0DvltsIV0LsMLDkL5Vjt3KSlU+vXrw9lekhzunfvHtK8+JqkpWEMBBBAAAEEEEAAAQQQQCCpCsRrKKNdl7SlsZr55sqVy37++WffGljbYauPjH6mLYcZCCQ2ATVWVvNfDTWx1u5L6nmjECNlypRx8ji//vqrbyOuLbdDGYQyoSgxBwEEEEAAAQQQQAABBBBIOALxGsoEHnP27NleLaNdltQ0Vb1Pnn32WXvmmWcSjgR3gkAYAgplDhw44M1/T58+bQsWLPBdmrTDlBpbX41BKHM11LkmAggggAACCCCAAAIIIBBzgSsSysT89jgSgYQpENiCXMuFAqNSpUpeAabKlsCW3oGfqdePdm3Sdtka2oFJDbB37dplCi1VEdOzZ0//LDAiL1965ZVXfDnTTz/9ZDfffLPvSNW7d2+v1NEIhDLa6UpL2dTHqVq1at7TKUOGDDGCZPlSjNg4CAEEEEAAAQQQQAABBBAISSBeQ5kKFSpYjx49glsBR76j5cuXW9++fW3ZsmUh3SyTEEgoAlGFMk8++aQHJunTpw8plFGAo++/whxtZa5/K1u2bPFtzDUihzIKWvRvKmfOnLZx40bvxdSxY0fr0qVLMJQZOnSolSpVyrSzmXY1a9KkiTfbfu+992JERygTIzYOQgABBBBAAAEEEEAAAQRCEojXUCZFihQ2ffp0X6oU1fjggw/8Z+fOnQvpZpmEQEIRiBjKaEmeGlirKqVNmzbeeDmUSpmyZcvatGnT/JF0DlW/aIv4Fi1aRBnKRH52BTBaFvjtt98GQxkFNz/++KP3cNJYtGiRPf7447Z//34/f7iDUCZcMeYjgAACCCCAAAIIIIAAAqELXNVQRv9vvpZcqGKAgUBiElAoo8Dx+uuvt7Nnz5qaWitgHDdunIcgoYQy6kHTuXPn4GNrC/mnnnrKlyRpRK6UUYg5evRo2717tx0/ftz+/vtvu/HGG+3gwYPBUObdd9+1H374IXhObTmvZVMrVqywcuXKhU1MKBM2GQcggAACCCCAAAIIIIAAAiELxHko8/HHH5v+aKh/hra/zp8//z9u6Pfff7clS5ZYiRIl/BdGBgKJSUChjKpPxo8fb6lTp/YlRYFdl7TE6J577rFRo0YFH0lBjbaEj9hTpn379qY/gaEgR71nFFRGDmW+/vprU2WNKmkee+wx7xGjKhkFm0ePHiWUSUxfHu4VAQQQQAABBBBAAAEEEPh/AnEeyuiXRv0J/FKpZRlRDTVDve+++/yX2sKFC/NCEEhUAlH1lAk8gLZ61/d+1qxZ/pGW5ymYLF++fIxDGYUvqsJRlUxgNG3a1HvRRAxltHxp7969HhJpfPrpp1a1alWWLyWqbxc3iwACCCCAAAIIIIAAAslFIM5DGf0yqqUc+l9VEGg5Rb169S7y1LIM9ZthIJBYBS4XykycONEb8CqUKVCggA0fPty09KhmzZoxDmX+z//5P760ST1oSpYsafPnz/fwU4FPxFBGfWbKlClj+l81+lVwU7x4cXv//fdjRM3ypRixcRACCCCAAAIIIIAAAgggEJJAnIcyEa+qhqNaspE2bdqQboZJCCQWgcuFMuox065dOw9itKSpQ4cOtnr16n9siR3O8iW5aJelKVOm2OnTp71vTenSpX2pU8RQRlt0v/jii74l9m+//ebNh9966y3fcjsmg1AmJmocgwACCCCAAAIIIIAAAgiEJhCvoUxot8AsBBCILKDgRU2EFy9ebBUrVrxqQIQyV42eCyOAAAIIIIAAAggggEAyEIj3UObw4cP29ttv+zbB+n/0tbQp4tBSJm0nzEAAgf8V0LKjDz/80Jo0aeLbW99yyy3QIIAAAggggAACCCCAAAIIJEGBeA1ltm/f7rsvaVveO++80zZt2mR33323aeeln3/+2ftt6BfO5cuXJ0FaHgmBmAloudOMGTN8u+xOnTrF7CQchQACCCCAAAIIIIAAAgggkOAF4jWUqVWrlmkr3y+++ML7aWTPnt23wdaWwdOnT/deG6qSKVKkSIKH4gYTt8DDDz9s2nJ65MiRcf4gl+svo4up74t6vaxfvz7Orx3dCbUFt3rXBPrORDc/8s9Xz+8S7iGXnF/68cFxdi5OhAACCCCAAAIIIIAAAggkBYF4DWWyZs1qrVu39l9K1XRU//3ZZ58Fe2SoIamWZyxatCgpWPIMCUwgYlhCKHM0Rm+HUCZGbByEAAIIIIAAAggggAACCIQkEK+hTJo0aWzs2LHWuHFjO3HihKVPn97mzp3rWwNrTJo0yZdnaHkTA4G4FojvUEbbUasnkr7fqkRRNUxUg0qZ/1WhUiauv+GcDwEEEEAAAQQQQAABBBK7QLyGMrfddpvpF+OePXu6U5YsWaxVq1b2+uuv+3937drVJk+ebGoGzEAgrgUihzJaJqcdjfSdS506tbVo0cKruAJj+PDhNnXqVPvhhx8sc+bMVr16dRs8eLClS5fOpwSWAr377rv+3d2xY4ft2rUruC11IJRRU+uqVat64PjKK68Ely+9/PLL1qtXL++pVKVKFQ8lFVRqqFpM21ir79K1115rZcqUsVGjRnnfJY09e/ZYvnz5PNQcM2aMrVmzxm6//XabMGGCzw0M3WPv3r3939Rjjz1mDz74oPXt25flS3H95eJ8CCCAAAIIIIAAAggggEAcCMRrKNOgQQPbt29fsJFvw4YNbc6cOdatWzdTlYF+4X300UcvWWEQB8/HKZKxQORQZt26ddaxY0d79tlnvdeRfv7pp5/6d1BD/WaKFi3q4YeCmZYtW3r/o3HjxgVDmebNm1vJkiVtyJAhHjLmzp3b5wUqZZYtW2bqpaTvtuZqKPgZNmyYVapUyV577TUPZerUqeMVNv379/c5CltUdaPg6Pjx4x6sKIhRH5oUKVIEQ5mCBQva0KFDPZDp0aOH72qmYChlypQe1DzwwAM2cOBAq1Gjhgc9ffr0sQsXLhDKJON/Bzw6AggggAACCCCAAAIIJFyBeA1l1q5d64GLfsFUhcKvv/7qvwBv3rzZRbQj04IFC/yXYAYCcS0QOZRREKim04Fx//33e+gyaNCgKC+tAFHVNIFKLlWhNGrUyIMShTeBEbiOQkcFkarEqVu3bvDnCmUU4uj7H6iM6dKli61cudJWr14d5bV1zWzZstnGjRutcOHCwVBG59ZW2RpbtmyxQoUK2datW01hjcImLQWcP39+8JzPPPOMhzM0+o3rbxfnQwABBBBAAAEEEEAAAQRiLxCvoUxUt6f/116/aGqJhn6R1P8yEIgPgcihjAIM9TgKjCeffNKrXaZMmeIfaWcwVZls27bNjh07Zn///bedOnXK+yGlTZvWly+pObU+U1VLxFBGFTeHDh3ySjBVqUQcCmVmz54dDCP1sxEjRvgyJFXkaOzcudPDS1W7KJA5f/68X1cBi5ZCBZYvKehUpY6GKm60zOrzzz/3reeLFSvm/Zp0nsDQEihVyxDKxMc3jHMigAACCCCAAAIIIIAAArETiNdQRr039MvirbfeGuVdaucl/UKp6gIGAnEtEF2jX4Un2qpdYYtCD4WEL730kle5KOxYtWqVV6Uo/AjMi2p7aV1HS4gUfOTPn9+XIqVKlSr4OFE1+tVSKf3RdTV07bx585oqaHLmzOmhjCpk5s2b5yFPIJTREixt7a2h62XKlMmXB2p3KUKZuP4GcT4EEEAAAQQQQAABBBBAIH4F4jWUURXMtGnTfFlFVOODDz7wn2lZCQOBuBYIJ5RRkFKvXj2vglEPFw013g005o0ulFFA8tZbb3k4omV5s2bNCgYz0YUyR44c8e3itZypbNmyfm0FQvp7OKFMVMuX9EwLFy6kUiauv1ycDwEEEEAAAQQQQAABBBCIA4F4DWX0y+306dMvGcqoQkHNUM+cORMHj8IpELhYIJxQZsOGDV6BouoV7br05ZdfekPq/fv3h1QpE2j0q74x5cuX914vM2fO9Aa80YUyqorJnj2778ikpUZ79+713Z3UxDecUEb9af71r3/ZG2+8YVqapSVVCpVo9Mu/DAQQQAABBBBAAAEEEEAgYQrEeSijXygDSzJUNaDtsCtWrPiPp9eSEPXvUJWA+mkwEIhrAS2L++uvv7zPi76LgdAlcJ2Iy5f0mfq8qCGvAhYtu6tfv74vrQtl+VIglNF5fvnll+D1ZsyY4VtSq+G1GgQHRuTlS+pn07ZtW+8xo0qb0aNH+znCCWV0bvXHUbCjf1f6d1euXDm2xI7rLxbnQwABBBBAAAEEEEAAAQTiSCDOQxlt+as/ERuhRnWv+n/vNdR4VX08GAjEtUDlypXttttuszfffDOuT835EEAAAQQQQAABBBBAAAEEEIi1QJyHMmpE+v333/uSCS1NUqPU0qVLX3SjCmxuuOEGK1GihP/SzEAgLgVU2aLlR7Vr1/YlRJF3Q4rLa3EuBBBAAAEEEEAAAQQQQAABBGIqEOehTMQbUcXMU0895bvIMBC4UgLaFlr9WBo2bOjNeqOr2rpS98V1EEAAAQQQQAABBBBAAAEEEIgoEOehjBqd7tixw4oXL27p0qULXks7LKmHzL///W9vnnr33Xf7L8xaYsJAIBwBhSyBXitRHbdixQpvthvoBRPOuWM6V9u+a7ts/bmaI67vY8TKrbF6nA4P3RWr4zkYAQQQQAABBBBAAAEEEEjKAnEeynTo0MG3wVbwct111wXt2rVr5709brzxRitQoIBt3brVzp49a1988YWVKlUqKRvzbGEKKNjr37+/zZ8/379H2plITXoVeDzyyCNe+XIlQpmoAg7tGKb7UGPfiOPQoUO+JC9t2rRhPm3cTieUiVtPzoYAAggggAACCCCAAAIIxKdAnIcy9913n1fBvPvuu8H71i+suXLlMv3CqG17M2fO7LvMlClTxneY+eCDD+LzGTl3IhLQzl3a1jljxoz2+uuv2z333OPhnbZ3fuutt2zbtm0JMpS52sSqRFNYlT9//jit2KFS5mq/Wa6PAAIIIIAAAggggAACSVkgzkMZVTV06tTJunTpEnTTtsDPPfecjR8/3l588cXg5507d/ZGrPv27UvKxjxbGAJVq1a1//mf/7Ht27d75UnEoeoUhTUKHyZNmuSVNAprFPgNGzbMnnjiCZ8eWL6kbaZfeeUV27Jli1faTJ061beb1ti9e7d17NjRQ8ITJ07YXXfd5cvrAtu3Kyz8/PPPL7r+8uXLfVlUxKHtp1999VUPHAPLl9TkWv2UtD31gQMHLEuWLN50WNtca2jL7KZNm9qyZcvs5ptv9qqg7t27XxSmDB8+3O9X4aVCzOrVq9vgwYODSwIDFTsKP7t27epLBnft2uUhpxps6++zZ8+2TJky+bb0+iwmg1AmJmocgwACCCCAAAIIIIAAAgiEJhDnoUyaNGl8m+vGjRsH76Bt27b+maocbr/99uDnkydPtlatWtnp06dDu1tmJWmB3377zbJmzeohRbdu3S75rAplbrnlFg8pSpYsaWPGjPEA5Mcff/QAIxDKaFncG2+8YdmyZbMWLVqYqkm0K5PGhg0bPJBRVY6W2SncGDp0qIdBefLkMd1L0aJFPcxo1qyZH6NzK1js3bu3z9NQ3yT9iRjKzJkzx3cdU+BYqFAh03IsXS9wnkcffdQOHz5sEyZMsFSpUnk4tHbtWhswYECwJ83IkSP9+vny5fNgpmXLllahQgUbN26cX1ehjO5Nzz9kyBAPfnLnzu1Van/++af17dvXKlWqZLqXHj16eDAVCKTC+RIRyoSjxVwEEEAAAQQQQAABBBBAIDyBOA9lFLo888wz/kthYKjp73//+19vvBpx6JdS/cJ45MiR8O6a2UlSQMGEgpQPP/zQtIPSpYZCGVV/BL5jqnRRMLJw4UJvHB2xUkY9aDQWLFhgjz/+uJ08edKuv/76KE+tXcIU3rRu3dp/Hk5PmYhzVeUyceJE27Rpk4cuEYeCSVXlaHcoLfXTUFWL/t2MGDHiko2CFa7o3hTmaCiUadSoka1fv97Dm8DQfZQtW9b7OmmoakfVOKrc0fHhDkKZcMWYjwACCCCAAAIIIIAAAgiELhDnoUyDBg1Myzz0S6d+Gfz666+9GqFOnTpeORBx6JfflStX+nIVBgJr1qyx0qVLhxTKzJo1y55++ukgWoYMGbxiRt+/QChz8OBBr5LRWLdune8IpmoaVcIcP37clx1pCZSWE/39998e2Lz88stegaMR01BGy/H0nVcgopBIS7K0/ChlypT28ccf+1ImVYelSJEieP+qwlEFTmD3Ji290nIqhTjHjh3z+zt16pQvtVIzYYUyWgqozyJu+a17VvWZlgYGhkIbbU2v84c7CGXCFWM+AggggAACCCCAAAIIIBC6QJyHMjt37vT+Hddee63ddttt/kullo0onNEvxYFx/vx5y5s3r1WrVs2XhDAQCGf5UuTdl9RrRkt+XnjhhWAoE3FLbFWUFCtWzCu2FFyoamTx4sW+ZEnfUy27U1iiniw6T2xCGR2rgEfBiq6h3i5ahqQeNarYiS6UUbPjggUL2ksvvWR169b1ZVOrVq3yJVGBZ7rULlBRBUn691ijRg0PocIdhDLhijEfAQQQQAABBBBAAAEEEAhdIM5DGV1ay1C0c46aqeqXUfUH0ZKKiGPp0qVeFaClHuqxwUBAAlWqVLGNGzdG2+g3tqGMdnVS9VavXr0cXpUz6lOjUCcQytxxxx1ejaLqmcBQ02p9pr4tEcfltqJW/xmFLN99951XuWj50rfffmslSpTwU0RevjR37lyrV6+eV8EEqmn69evn90oow78TBBBAAAEEEEAAAQQQQCDpCMRLKJN0eHiSKy2gprZa+qPqEAV7RYoU8aU7qjhRRdXWrVuj3BI73EqZWrVqedWMdjjS8h8FHlr2pAbVgVBGjXJVQaPmumoGrCbEX331ld+fqmC0LEghi/5EDGVUxaLqMPXH0c90De0OpWVNasirEFJVQXoe9ZxR6KOmw1qu1K5dO28KrOoW3YeWPak5sYLN/fv3E8pc6S8k10MAAQQQQAABBBBAAAEE4lGAUCYecTl1zATU40U7MH3yySfe70V9YVRV0qFDB19epBAltpUyWiKkAEZhiMIWbZ2tZUaBMER3rp+pKkaVLuoBox4xGlpWpLlqUB3VltgfffSRDRo0yAMkhTOqylGlS6DpsJ5JS5ECW2IrjFHVmEKowJbxavqrXZW0DfhDDz1k9evX9345VMrE7DvFUQgggAACCCCAAAIIIIBAQhQglEmIb4V7SlYCP/30k29nreqbQHCTrAB4WAQQQAABBBBAAAEEEEAgmQoQyiTTF89jXz0BVcioh40qaFQ106VLF1+atGPHjn9soX317pIrI4AAAggggAACCCCAAAIIxLcAoUx8C3N+BCIJfPrpp95HRv1z0qdPbw888ID3j9FuZAwEEEAAAQQQQAABBBBAAIHkI0Aok3zeNU8aTwLasUm9X9RLJqqhraj1M23LfaXHpbbODvU+nu29ItSpF82b8frDMTqOgxBAAAEEEEAAAQQQQACB5CRAKJOc3nYielY19I3YdDdw6xFDhqjCEDXw1Tbs69at8+OvxCCU+acyocyV+OZxDQQQQAABBBBAAAEEEEjsAoQyif0NJtH7TwihzNmzZ0Pq8UIoQyiTRP8Z8lgIIIAAAggggAACCCAQzwKEMvEMzOljJhBdKKMtpF977bWLTr58+XIrX778RZ+VK1fOVqxYYd988411797dK2gUtqiKRttOFy9ePDhfW22PGzfOFi5caEuXLrXOnTtbr169rHnz5r599a+//mp58uSxli1bWrt27YLHRQ5ldK2qVatap06dfKvtwPIl9ZHR+bStdZUqVWzSpEneU0Zj0aJFvm32pk2b7Nprr7UyZcrYqFGjrECBAv7zQAXQ3LlzbcyYMbZmzRq7/fbbbcKECT43MFRJ1Lt3bzt8+LA99thj9uCDD1rfvn19eVVMBsuXYqLGMQgggAACCCCAAAIIIIBAaAKEMqE5MesKC0QXymgb6SZNmtixY8ds6tSpfneZM2e2DRs22P333+/bSxcqVMhSp07tnytU+fnnn+2+++6zCxcu2LBhw+yTTz6xnTt3BoMRhTLZs2e3QYMGmcKclClTWo4cOTwsqV69umXJksW++uorD2l0zTp16vh1I4Yyuk6tWrVs8ODBPk9DoYyuV6lSJQ+SFMro2MaNG1v//v19jsIWXb9IkSK+M5OCFQUx6kOTIkWKYChTsGBBGzp0qAcyPXr08LBp165dfq8KatQ0eODAgVajRg0Pevr06ePPSyhzhb/AXA4BBBBAAAEEEEAAAQQQCEGAUCYEJKZceYHoQhmFDLHpKXP+/HnLmDGjzZgxw6pVq+YPqFBEFTiqoLncaN26tVfNzJkz56JQpmHDhtagQQObPHmy1a1bN3gKhTJDhgzxYwKVMdoGe+XKlbZ69eooL6VKl2zZstnGjRutcOHCwVBG51YYpbFlyxYPnrZu3WoKa5599ln7448/bP78+cFzPvPMMx7OEMpc+e8wV0QAAQQQQAABBBBAAAEEohMglIlOiJ9fFYG4DmUOHDhgPXv29KVMBw8etHPnztlff/1lb775pi9HCoQy06dPt/r161/0zGPHjrUpU6bY3r177eTJk3bmzBlf/rR27dpgKKNtrg8dOuRBjapUIg6FMrNnz7bNmzcHP1bwo2VI2hZbQxU7qo5RtYsCGYVGJ06c8IBFS6ECy5d0zZIlS/oxqrhRFdDnn39uDz30kBUrVsxq1qzp5wkMLYFStQyhzFX5GnNRBBBAAAEEEEAAAQQQQOCyAoQyfEESpMATTzzhy4UCS5MCNzly5EivZPnxxx/DqpSpXLmyHTlyxJcP5c2b16677jrvxaIlQKqOCYQy8+bNuyhUmTlzpjVq1MiXH2m+Kl1U9aLwJLDFtSp2tIRIF2ZlPgAAIABJREFUwUf+/Pl9KVKqVKmCrlFtia3n0B+FLRqqdNF9qYImZ86cHsqoQiZwP1HtKqXrZcqUydRLRyEWoUyC/CpzUwgggAACCCCAAAIIIIDAJQUIZfhyJEgBNdn97LPPvEdMxKHlQb/88ostXrzYe7bo7//5z3+CU9Q3JleuXPbtt99aiRIlgp8rTFET3+eff94/27dvnzftVcBzuVCmTZs2vkxIjX8Do2LFil7NEjGUUUDy1ltveThy55132qxZs4LBTHShjMKirFmz+nKmsmXL+mVWrVrlfw8nlIlq+VK9evW8cTGVMgnya85NIYAAAggggAACCCCAQDIXIJRJ5l+AhPr4WtajfinNmjWzpk2bemWLlvJoNyOFMKp8GTBggE2cONHDG1XVZMiQwfvC3HjjjV4Bo+Ouv/56/1y7LCn40HIeNQdW6KPgRue4XCgzevRo3zFJIUu+fPls2rRpps/098ihzEcffeR9Y7QDlO5dVTZqwBtdKKOqGDUY1o5MWmqkZVJdu3b1Jr7hhDLqT/Ovf/3L3njjDXvyySdNS6p07zT6Tajfcu4LAQQQQAABBBBAAAEEkrsAoUxy/wYk4OdXKKFwReGH+rhoiY/CikDPFvVwUf+Xr7/+2ncsCizjUTPc119/3fbv3+/VJuojo62wVVmjLadz587tYYy2rFYgc7lQ5vTp09aiRQsPRxT4qPJEIY+qT6IKZcSp6p1ATxw1EtaW1ApsAvM1J/LyJe0W1bZtW+8xo0obBT86RzihjM6r3jcKdlR9o4oe7SLFltgJ+EvOrSGAAAIIIIAAAggggECyFiCUSdavn4dHAAEEEEAAAQQQQAABBBBAAIGrJUAoc7XkuS4CCCCAAAIIIIAAAggggAACCCRrAUKZZP36eXgEEEAAAQQQQAABBBBAAAEEELhaAoQyV0ue6yKQCAR2DH0hpLu8o9M7Ic1jEgIIIIAAAggggAACCCCAwP8XIJTh24BAAhHQzk0DBw70XaZ++uknbyh822232XPPPWcNGza0tGnTXvE7JZS54uRcEAEEEEAAAQQQQAABBJKRAKFMMnrZPGrCFdCuS9rOOmPGjPbaa6/ZPffc49uAb9y40d566y178cUX7YknnrjiD0Aoc8XJuSACCCCAAAIIIIAAAggkIwFCmWT0snnUhCtQuXJl27x5s23bts1uuOGGf9zohQsXfEvuvXv3Wps2bWzp0qWWIkUK03Fjxoyxm266yY/ZvXu3dezY0VavXm0nTpywu+66y6tvtD12TAahTEzUOAYBBBBAAAEEEEAAAQQQCE2AUCY0J2YhEG8CR44csWzZstmAAQOsa9eul7zO+fPnrUSJEpYuXTobOXKk/f3339aqVSv/7xUrVvhxGzZs8EBGVTeqtHn33Xdt6NChtn37dsuTJ0/Yz0AoEzYZByCAAAIIIIAAAggggAACIQsQyoRMxUQE4kdgzZo1Vrp0afvwww+tZs2awYtkzZrVTp065f+t8EXVLlWqVLH//ve/ljt3bv98y5YtVqhQIVu7dq2VLFkyyhssXLiwtWjRwlq3bh32AxDKhE3GAQgggAACCCCAAAIIIIBAyAKEMiFTMRGB+BG4VCijPjOqjqlfv76VKVPG8ufPbyNGjPBQJuLIlCmTjRo1yho0aGDHjx+3V1991ZsF//LLL15Nc/LkSXv55Zdt8ODBYT8AoUzYZByAAAIIIIAAAggggAACCIQsQCgTMhUTEYgfgeiWLz388MN27733hhTKqCJm8eLFvmRJOzelSZPGateubTqHljyFOwhlwhVjPgIIIIAAAggggAACCCAQugChTOhWzEQg3gQee+wxb/Sr3i+RG/0GQpnHH3/8ksuXvvnmG7vvvvt816Y6depYr169/F5VOXPLLbfYCy+8QCgTb2+PEyOAAAIIIIAAAggggAACMRMglImZG0chEKcC2jVJzXm1FEnLj4oUKeK7Kyls6dSpky9hUvVL8eLFLX369MFGvy1btryo0W+tWrV8edPUqVN9tyaFM2oC3LhxY0KZOH1jnAwBBBBAAAEEEEAAAQQQiL0AoUzsDTkDAnEioB4w2oFJ/WB++ukn3z3p7rvvtqefftoUvqRNmzbaLbH37NnjAYx2YFKj4FdeecVmz57ty59YvhQnr4mTIIAAAggggAACCCCAAAJxJkAoE2eUnAgBBBBAAAEEEEAAAQQQQAABBBAIXYBQJnQrZiKAAAIIIIAAAggggAACCCCAAAJxJkAoE2eUnAgBBBBAAAEEEEAAAQQQQAABBBAIXYBQJnQrZiIQIwE17v3oo49s/fr1MTr+ah7UZUXHy15+8MPDr+btcW0EEEAAAQQQQAABBBBAIFELEMok6tfHzV9pAe1odLnRp08f3z0p4tC21KdPn7YsWbJc6duN9fUIZWJNyAkQQAABBBBAAAEEEEAAgUsKEMrw5UAgDIFff/01OPuDDz6w3r172/bt24OfpUuXzreo1rhw4YKdO3fOUqZMGcYVYj717NmzlipVqpifIIojCWXilJOTIYAAAggggAACCCCAAAIXCRDK8IVAIIYC77zzjrVv396OHj3qZ1ixYoWVL1/eFixYYD179rSNGzfaZ5995p9HXL70wgsv+DHFihWzN99806tonn32WRs9erSlTp3az3Xrrbf6ufUnMLStdY0aNYKVOKraGTdunC1cuNCWLl1qnTt3tl69elnz5s1t2bJlpgApT548vp12u3btYvSUhDIxYuMgBBBAAAEEEEAAAQQQQCAkAUKZkJiYhMA/BS4VyhQpUsSGDh1q+fPnt0yZMnnYEjmUmTt3rj3++OMeouzZs8caNWpkzZo1s/79+4cVymTPnt0GDRpk5cqV84qcHDlyWL9+/ax69eq+XOqrr77ykGbq1KlWp06dsF8joUzYZByAAAIIIIAAAggggAACCIQsQCgTMhUTEbhY4FKhjAKYJ598Mjg5cqNfVcr85z//sX379lnatGl93oQJE7zS5Y8//rAUKVKEXCmjSpoRI0Zc9tW0bt3aq2bmzJkT9isklAmbjAMQQAABBBBAAAEEEEAAgZAFCGVCpmIiAqGFMj/99JPlypXrsqHM3r17fYlRYGzYsMG0PElVM3nz5g05lJk+fbrVr1//ohsbO3asTZkyxXSNkydP2pkzZ/zca9euDfsVEsqETcYBCCCAAAIIIIAAAggggEDIAoQyIVMxEYHQQpnff//dMmbMGKtQRkuf2rRpYx06dAiep1ChQvb0009f1FNm3rx53mcmMGbOnOlLoYYNG2ZlypSx9OnT25AhQ2zNmjUx2pKbUIZvPQIIIIAAAggggAACCCAQfwKEMvFny5mTuMClli+FEspo+ZIqatKkSeNKEydOtE6dOgWXL5UqVcr7xAwePNh/fuzYMbv55putS5culw1lFORs2bLFG/8GRsWKFe3w4cOEMkn8+8jjIYAAAggggAACCCCAQOITIJRJfO+MO04gArEJZdToV814tUuTliw1btzYK1wGDhzoT9etWzfT+WfNmuVVN9p6e8mSJfbyyy9fNpRRU2E1D9Zx+fLls2nTpnmjYf19/fr1YctRKRM2GQcggAACCCCAAAIIIIAAAiELEMqETMVEBC4WiE0ooy2xixYtaur/oi2x69WrZ2PGjLHrrrvOL6LKGO2apO2uM2TIYH379vWGvpG3xI68fEnnatGihelzbZmt8+p4nYdQhm8wAggggAACCCCAAAIIIJCwBAhlEtb74G6SgYB2X1Ioo12aGAgggAACCCCAAAIIIIAAAslXgFAm+b57nvwqCRDKXCV4LosAAggggAACCCCAAAIIJDABQpkE9kK4naQvQCiT9N8xT4gAAggggAACCCCAAAIIhCJAKBOKEnOSjcCtt95q7du39z9xMRJ7ALO6XbsoGUqPGhUXPJwDAQQQQAABBBBAAAEEEEjWAoQyyfr1J+6HV+Dx73//2x8iVapUlidPHmvQoIF1797dUqZMGaOHI5S5mI1QJkZfIw5CAAEEEEAAAQQQQAABBEISIJQJiYlJCVFAocyBAwds6tSpvoPRggULrFWrVta/f3/fUjomIzGEMufOnfOdlVKkSHHRI545c8ZSp04dk8e+5DGEMnHKyckQQAABBBBAAAEEEEAAgYsECGX4QiRagaiWBlWqVMn+/PNP31r63nvvtZEjRwafT9tJZ8yY0bSVtcbBgwetSZMmtmTJErv55putX79+1qNHj+DypT179li+fPls3bp1fi4N7ZqUKVMmW758uT388MP+2ebNm+2VV16xlStX2oULF3yurlGgQAEL3OODDz5ow4YNMwUnzzzzjN+Xqns0FCjpuu+//76fv3DhwvbGG28Ezx/Yevvdd9+1rl272o4dO2zXrl3+c93/zp07fSenWrVq2d69e+3uu++2N998M/jchw4dsly5cvm22I888khY75tQJiwuJiOAAAIIIIAAAggggAACYQkQyoTFxeSEJBBVKPPkk0/aTz/9ZOnTp482lKlatar9/PPPNmHCBA9I2rZt6wHMgAEDPJgJJZTZv3+/FSlSxAMSVefceOON9uWXX9oDDzxgd955p4cy8+bNs2effdbatWvnYUrdunU9lGnWrJlz6n+3bNligwYNspw5c/r8nj172saNG+3222/3gKd58+ZWsmRJGzJkiGXJksVy587t4cvvv/9uvXv3NgVOGmvWrLHWrVvbL7/84sGUxogRI2z06NH2ww8/eIVNOINQJhwt5iKAAAIIIIAAAggggAAC4QkQyoTnxewEJBAxlFGFytKlS61atWrWpk0b++abby4byqjaRKHJ2rVrPezQ2LZtm911110eYoQayqh/zcyZM2379u3BypeIRLrHFStW2O7du+3aa6/1H9WpU8eXHuk4Vbbkz5/f/1eBTGBUrFjR7r//fg+IFMo0atTI1q9fb0WLFg3O0VKrYsWKeYgTGKdOnfLzKGjSdTR0jKpo+vTpE/bbI5QJm4wDEEAAAQQQQAABBBBAAIGQBQhlQqZiYkITUOAxffp0u/766+3s2bN2/vx5r0gZN26cPf7445cNZT7++GOrXbu2Lx2K2JtFS5MUXoQayqjaJlu2bMGGw5GNdI9aPjR//vzgj1QxoyqYZcuW+ecKkm644YaLDtV9KUj54IMPPJR58cUXTYFLxEoXhTKqstHSp4hD51dItGjRIvv+++89dFKVTN68ecN+hYQyYZNxAAIIIIAAAggggAACCCAQsgChTMhUTExoAgo8tHxo/Pjx3uBWFSKBXZcqVKhg99xzj42KsHWzghoFKAo5QgllVL2iIEPBhipSNBSwZM+ePdhT5qmnnrJ06dJdNpRRnxj1fAkMBT6qelEFjUKX+vXre1+aQCVNYJ7Oq143gZ4yOk/EcammxAp81Nfmxx9/9N40qgBavHhxjF4foUyM2DgIAQQQQAABBBBAAAEEEAhJgFAmJCYmJUSBqHrKBO5TfVu0pGnWrFn+kXYs0jKh8uXLe8ihSpKCBQtetHwp8Flg+dLJkyctbdq0Xs2iihgNhRtqJhxo9Pvaa695IHO55UuXC2UCy6jUJLhs2bJRMocbyugkpUqVssqVK3vDX/2pV69ejF4hoUyM2DgIAQQQQAABBBBAAAEEEAhJgFAmJCYmJUSBy4UyEydOtI4dO3ooo12Qhg8f7lUpNWvWDO6+VKVKFd9SW5U2qrBRBct3330XbPSrZy5Tpoz3itH5tFtTly5dPMgJhDJHjhzx3jTlypXzRr8ZMmSw1atXez+YQKPfy4UyusZzzz3nzYG1O5MqclSNo/44aiCs6p6YhDKTJk3yhr9aFqVmxlriFZNBKBMTNY5BAAEEEEAAAQQQQAABBEITIJQJzYlZCVDgcqGMesyot4qCGAUuHTp08LAk4pbYv/76qzVt2tS3xL7pppt8S+xevXoFt8TWI2/dutW3ndZyI4UsgwcPvqhSRnP+53/+xzp37myrVq3yJUiBLbFVmRPVPUZcvqTjda+6tra81nKsrFmzWunSpU1VOFqCFZNQ5vjx4/5Muv7YsWNj/PYIZWJMx4EIIIAAAggggAACCCCAQLQChDLREjEBgcQnoO28VSGkXaiKFy+e+B6AO0YAAQQQQAABBBBAAAEEkoEAoUwyeMk8YvIRUNWNllR16tTJ/vvf//qyKAYCCCCAAAIIIIAAAggggEDCFCCUSZjvhbtKRgKXWp4UEwLt6KRmxnfccYfNmTPHlz/FZoztMucfh7caXDs2p+RYBBBAAAEEEEAAAQQQQACB/ydAKMNXAYFIAurDoh2VXnzxRZswYcJFP23VqpWNGzfOGjZsGGwYHFtA7fL0559/+lbbCW0QyiS0N8L9IIAAAggggAACCCCAQFISIJRJSm+TZ4kTAYUyy5Yts2PHjtkvv/xiadKk8fOeOnXKcuTIYTfeeGNwa+04ueAVOsmZM2csderUYV2NUCYsLiYjgAACCCCAAAIIIIAAAmEJEMqExcXk5CAQ2DFp9+7d1rVrV6tfv74/9owZM+yNN96wfPnyBXdxWrRoke+ctGnTJt95SVtojxo1ypvsaqjhrubPnTvXxowZY2vWrLHbb7/dK3A0VyPy8qVXX33VPvroI3vppZf83OoRU61aNdM219pyW+Phhx/2XZ5GjhwZfCU1atS4aHepW2+91XeO2rlzp5+vVq1aYVf3EMokh288z4gAAggggAACCCCAAAJXS4BQ5mrJc90EKxAIZcqVK2fz58/3LbM1Klas6OGI+rYEttZW2HLNNddYkSJFTNtQ9+7d24MYbaGdIkWKYChTsGBBGzp0qAcyPXr08F2Rdu3a5dt1RxXKaG6pUqVs2LBhXrGjcOX++++39957L6xQ5vfff/d7UmCjEQiLQsUnlAlVinkIIIAAAggggAACCCCAQPgChDLhm3FEEhcIhDKqTMmdO7dt377dn1jByr59+6xp06YXVaRE5Dh8+LBly5bNNm7caIULFw6GMpMnT/ZgRWPLli1WqFAh27p1q58zqlBGFTI//vij5cqVy49RRc7jjz9u+/fvt5tvvjnkSplixYrZvHnzYvzGCGViTMeBCCCAAAIIIIAAAggggEC0AoQy0RIxIbkJBEIZLfl56qmnvArmwoULvkRJOxpFXCakpUGqRNGyJAUy58+ftxMnTniFTdWqVYOhzNq1a61kyZJOqeqVzJkz2+eff24PPfRQlKHMu+++az/88EOQ/o8//vAgSFU6quAJdflSs2bNvDInpoNQJqZyHIcAAggggAACCCCAAAIIRC9AKBO9ETOSmUDEUEbhSuvWrV1g7NixHrREDGVU6ZI3b17r0qWL5cyZ00MZVcioOkXzAj1l1q1b5z1gNI4ePWqZMmWy5cuXe7gSVaVMdKFMhQoVfLtr9a8JDFXSqEpH59NQT5n27dv7n5gOQpmYynEcAggggAACCCCAAAIIIBC9AKFM9EbMSGYCEUOZc+fOWZ48ebxvjJYTqZlvIJRRv5esWbPaypUrrWzZsq60atUq/3tsQxktX9q7d68HPRqffvqpB0KB5Ut169b16p1Zs2b5z3Wf+fPnv2hXKEKZZPbF5XERQAABBBBAAAEEEEAg0QkQyiS6V8YNx7dAxFBG11KjXQ1tha0RCGWmTJli2bNntypVqlifPn08RNFuTWriG9tQRo1+tTuT/lfXVx+b4sWL2/vvv+/3MHHiROvYsaOHMmreO3z4cPvggw+sZs2aVMrE9xeE8yOAAAIIIIAAAggggAACcSRAKBNHkJwm6QhEDmUiP1nE5Uvamalt27be/+XOO++00aNH+5Kk2IYy6mfz4osv+pbYv/32m+/69NZbb/myJ42zZ89au3btPIjRDk4dOnSw1atX/2NLbJYvJZ3vJU+CAAIIIIAAAggggAACSU+AUCbpvVOeKJELvPrqq6ZQRttqMxBAAAEEEEAAAQQQQAABBJKuAKFM0n23PFkiFSCUSaQvjttGAAEEEEAAAQQQQAABBMIUIJQJE4zpCMS3AKFMfAtzfgQQQAABBBBAAAEEEEAgYQgQyiSM95Dg7yLyts1X64bVr0VbS48cOTLGt5BQniXwANH1sAnnQaPagjuc4yPP7dvksX8c3uvtT2NzSo5FAAEEEEAAAQQQQAABBBD4fwKEMsn8q3CpQGDFihW+vfLvv//uzWNPnjxpf/75p+82dDXHlQpltAV2YGjXpcKFC1vfvn2tQoUKcf74hDJxTsoJEUAAAQQQQAABBBBAAIFEIUAokyheU/zdZKihTPzdQXhnvpKhzNSpU61y5cp2+PBh69Gjhy1evNg2bdpk+fPn/8dNazekVKlShfcw/282oUyM2DgIAQQQQAABBBBAAAEEEEj0AoQyif4Vxu4BQg1lIi/5CfQ90XbQ+ru2bW7QoIGNGTPGhg0bZsOHD7fz58/7ts0KNAJDnyvs0BbSmTNnturVq9vgwYMtXbp0wTlffvmlH7N27Vq77rrr7P7777eZM2f6dtAKZYoUKWLXX3+9TZ482VKnTm0tWrTwewj1GqEsX1KlTGBba533559/tly5ctmECRN8q2r9fNy4cbZw4UJbunSpde7c2Xr16mXNmze3ZcuW2a+//mp58uSxli1bukFgnDt3zudOmTLFrr32WmvSpIkdOHDA/vjjD99xSUNub7zxhm+BrfPccccdfu7atWv7z1W91Lp1a/vss8/s+PHjdsstt1j37t2tUaNGFli+NHfuXH8Xa9assdtvv93vu0yZMmF/WVi+FDYZByCAAAIIIIAAAggggAACIQsQyoRMlTQnxiaUUfiiSpLXXnvNdu/e7aGBljwpRGjVqpV99dVX1rhxY1u9erWVKlXKAdULpmjRopYvXz4PZhRaaEmQAg4NbQNdunRpP07hR8qUKW358uX2zDPPWNasWT2UWbdunXXs2NGeffZZ+/rrr03P8Omnn9qjjz4a0jViEsooCFGINHr0aGvTpo2HMlrKNWjQICtXrpzfZ44cOaxfv34eNGXJksWfXyGNQqg6der4vSmA0jEKlO666y4PsGbNmuUGgVCmf//+Nn36dLdSoLJy5UoPnvSMupYCGQVXkyZNcpNdu3b58jJdNxDKFCxY0IYOHerHK+D65ptvfJ7uM5xBKBOOFnMRQAABBBBAAAEEEEAAgfAECGXC80pysxVoKABQ5UnEoYqOU6dOBXvKRFUpM2TIEK/kSJ8+vR+qgGb79u0e0KRIkcI/Uziga3Tt2jVKuzlz5njgoCVCGgpa9u7da6tWrYpyvkIZ3dsXX3wR/LkqaRRqKOyIakS+RrihzF9//eXVLRMnTrTvv//eK3UUyrRv395GjBhx2e+EAhQZ6R40cubMaR06dPDzafz9998eUJUoUcJDmdOnT3v4s2TJkosqW5o2bWq6jxkzZtgTTzzhYYyqbSKPQCij0EdVOBpbtmyxQoUK2datW/19hDMIZcLRYi4CCCCAAAIIIIAAAgggEJ4AoUx4XklutgKT/fv32/jx4y96Ni17ee655y4bysyePds2b94cPK5hw4YersyfPz/4mSo7FDho2ZKGwoaBAwfatm3b7NixYx5KKPw5ceKEpU2b1u6++257+umnvfomqqFQRgHD2LFjgz9+8sknvTIlEFJEd41QQxkFVVpipCqUbNmy+ZIiPaOGQhmFWfXr17/oNnVfug8FSzruzJkzvluUlmJpiZKaJn/++ef20EMPBY+rWbOmXbhwwUMZeaqp8A033HDReXWeYsWK+XIkLZl66qmnvCKpUqVKVqNGDXvggQd8fiCU0fVKlizpnwWqfCJfN5QvM6FMKErMQQABBBBAAAEEEEAAAQRiJkAoEzO3JHNUbJYvKUTQcqPAiOpcERvzKjBQpcZLL71kdevW9YoQVcSooiOwy5MCnGrVql02lIm8JbZCCYUdCltCuUaooYyCqooVK1qGDBk8lIk4Ivec0c/U90Z9XbQkSf1bVEGkaiIFKXIKJZTRXC3f0u5X6mETcai/Tu7cuf2jQ4cO2YIFC7z5sPrHaLmYlitFtSX20aNHvR+PloHpfYQzCGXC0WIuAggggAACCCCAAAIIIBCeAKFMeF5JbvaVDGUUHtSrV88rYwLLm9SDRU1sA6GMQo2dO3dedvnS5UKZUK4RaigTsdFv5BcfVSijXjNaKqTGv4GhUEfVQ4HwKqrlS9rNqXjx4l4po23HFQCpX8zzzz8f0vdNy6q0HEqVR4QyIZExCQEEEEAAAQQQQAABBBBIEAKEMgniNVy9m7iSocyGDRt8KY8a2KoprZrVduvWzZdPBUKZHTt22D333OPVM+o1o92VVOGhJU2BRr+XC2VCuUZ8hTJqAqyASY171Sdm2rRp3hhYfw+EMloCpWa/b7/9tlcNaVmXKmwiNvrt2bOn75akipsHH3zQK2xkdeONN/ryqd69e/uSMC3jUg8a9es5ePCgV+QQyly9f0tcGQEEEEAAAQQQQAABBBAIV4BQJlyxJDb/SoYyolNjXC3p0ZIa9VVRTxZtpR0IZTRHvU+0xfN3331nadKk8Z2bFFxoiVLE5VCBVxFx+VIo14ivUEYBiYIkVdiokkZVQVr6pB4wgVBGPXQ6derkOzKpWki7TKmSJuKW2OovozBHy6e0Q5WeW5U0MpGZqovU8FcBjHzKli3rrgp/CGWS2D9QHgcBBBBAAAEEEEAAAQSStAChTJJ+vTwcAggggAACCCCAAAIIIIAAAggkVAFCmYT6ZrgvBBBAAAEEEEAAAQQQQAABBBBI0gKEMkn69fJwCCCAAAIIIIAAAggggAACCCCQUAUIZRLqm+G+krSAtrwuX778Rb104uuBo9opKtRrbRiyJDi1aOeKoR7GPAQQQAABBBBAAAEEEEAAgRAECGVCQGJK0hBQU+N///vfNnDgQN+xKDC0FXXNmjVNDXav1CCUuVLSXAcBBBBAAAEEEEAAAQQQSLgChDIJ991sLSnMAAAgAElEQVRwZ3EsoFDmgw8+sOuvv953NcqUKZNfgVDm0tBUysTxl5DTIYAAAggggAACCCCAAAIRBAhl+DokGwGFMkeOHLFdu3ZZ9erVbfDgwf8IZfTz1q1b28qVK31pUYECBXwram1vHRh//vmnb32tMOfGG2+0Ll262Mcff2z33nuvjRw50qdNmzbNRo0aZdu3b7cbbrjBKlSo4D/Lnj27/zxypUwo19V24EWKFPFQafLkyZY6dWq/j1dffTV4bzt37rQmTZrY2rVrLX/+/H4PlSpV8m26tXV4uINQJlwx5iOAAAIIIIAAAggggAACoQsQyoRuxcxELqBQ5ujRo9awYUN79tlnTQHGLbfcclGlzP79++3999+3ihUreuAyf/5869Chg3311Vd2//33u0CzZs1s8eLF9vbbb9tNN91kvXv3tiVLlljjxo2DocyUKVMsR44cduedd9rBgwetY8eOljFjRluwYEGUoUwo11Uos27dOj+X7v/rr782PdOnn35qjz76qJ0/f96KFi3q9zRs2DD7448/rH379n4MoUwi//Jy+wgggAACCCCAAAIIIJAkBQhlkuRr5aGiEgiEMqpwKVOmjN19990erES3fKlatWpWsGBBGzp0qKlKJkuWLDZjxgyrXbu2X0bhR86cOT2sCVTKRL7+t99+ayVLlvTj06VL949KmajuN+J19XOFMufOnbMvvvgiOF1BkapwBg0aZJ999pk9/vjj9uOPP/r9aCxatMiqVKlCKMM/CQQQQAABBBBAAAEEEEAgAQoQyiTAl8ItxY9AxFBGy5MUZmzcuNGXGAUa/Sr0GDBggM2aNctUvXLmzBk7ffq0/1yfbdiwwZcpKfjIkydP8EaLFy9uDz30UDCU+e6773xZkeZrGZSqWP766y/bvHmzh0GRly9Fd91AKFOoUCEbO3Zs8LpPPvmkh0SqzNFSJf1Rv5zAUGCkCh0qZeLnO8VZEUAAAQQQQAABBBBAAIHYCBDKxEaPYxOVQMRQRjeuqpJUqVL5EqBAKKOKE1XEqOLlnnvu8X4wWgKUMmVKr6gJJZQ5ceKE5c2b1x577DHv+ZItWzbbu3ev/7eWEinUiRzKRHfdQCgTsW+NPlOfGIUu77zzDqFMovo2crMIIIAAAggggAACCCCAgBmhDN+CZCMQOZRRlYxCjk6dOnnTX22JrQbAasarZU0aqnDR0iVVtyiUCSxfUt+Zp556yueoGiVXrlzWtGlTD3NUJXPfffd5EJM7d26fM336dHv++ecvGcpEd91QQpnA8iVdV/1sNNRvpnLlylTKJJtvOQ+KAAIIIIAAAggggAACiUmAUCYxvS3uNVYCkUMZnaxBgwY2e/ZsO3XqlIcyaqI7Z84cmzlzpm+ZPXz4cF+2VL58eQ9lNNQ7ZunSpR7cKMDp06eP93PRrkcjRoywQ4cOeQPhdu3aeaXMpk2brHPnzrZjx45LhjKhXFc9ZS5XKaMASdU9CoiGDBlix44d8ybFColYvhSrrw4HI4AAAggggAACCCCAAALxIkAoEy+snDQhCkQVyuzZs8d3SFLvGIUyv/32m++ipNAlbdq01rx5c694UTVMIJSJaktshTjqUTNw4EB/dFXSaCvtX375xdRvplu3bvbEE09cMpQJ5brRhTK6roKfwJbYt956q40ePZpKmYT4ZeSeEEAAAQQQQAABBBBAAAFj+RJfAgRiLaAeMqpO0TbUCkQYCCCAAAIIIIAAAggggAACCIQiQKVMKErMQSCCgJr1btu2zbQdtSpoXn/9dW/cu2vXLsuaNStWCCCAAAIIIIAAAggggAACCIQkQCgTEhOTEPj/Agpl1NRXW2mnTp3aSpQo4b1n1M+FgQACCCCAAAIIIIAAAggggECoAoQyoUoxD4E4FtA21tpu++jRoyGfWX1idIz+RDWi6jsT8smjmKi+OIExYMCA2JyKYxFAAAEEEEAAAQQQQAABBCIJEMrwlUAgRIGoGgWHeGiU0whlYqPHsQgggAACCCCAAAIIIIBA4hcglEn875AnuEIChDJUylyhrxqXQQABBBBAAAEEEEAAgWQiQCiTTF40jxl7gcuFMuopM3XqVPvhhx8sc+bMVr16dRs8eLClS5cueGFVxvTu3dsOHz5sjz32mD344IPWt2/f4PKl3bt3W8eOHW316tWmHZ3uuusu32K7YsWKwXNEXr40efJk69Spk82dO9ceeeQR0/KlIkWK2PXXX2/6mXretGjRwl599dUYAbB8KUZsHIQAAggggAACCCCAAAIIhCRAKBMSE5MQMLtcKDNy5EgrWrSo5cuXz4OZli1bWoUKFWzcuHFOt2bNGnvggQc8ZKlRo4YtWrTI+vTpYxcuXAiGMhs2bPi/7d0JuI31/v//9zEkZMhUMuskMqVyIqKkokgyU2RIUSgyRalMmUOiiAql0GhImRLKUKlkKHOZMpWSuf7X6/P73uu/LGvvvdbee9lr7f38XNe5jva+x8d926yX9+f9cYFMlSpVLFOmTPbmm2/a8OHDXUPhwoULu+P4hzIKffS/efPmuZWgNBTKqBGxwp3mzZvbl19+6a57wYIFdvvtt4f9GAllwiZjBwQQQAABBBBAAAEEEEAgZAFCmZCp2DCtC4QzfWnWrFmuQkVVMRoKSLR89ty5c32MTZs2deFMfI1+y5Qp447z2GOPnRPK7N2716ZOnWqfffaZlS5d2ndMhTJnz561L774wvc1BTYKiF544YWwHyGhTNhk7IAAAggggAACCCCAAAIIhCxAKBMyFRumdYH4QpmFCxe6KphNmzbZ0aNH7cyZM3bixAk3DSlLlixWoUIFq1+/vpu+5I3Ro0e7ahkvlPnrr7/cNCMFNwpddIzjx49bt27dXEWMhiplFLrouGvXrrXixYuf81gUyiikGTdunO/r9erVs9y5c9vkyZPDfoSEMmGTsQMCCCCAAAIIIIAAAgggELIAoUzIVGyY1gXiCmV27NhhJUuWtA4dOliTJk1cT5nly5db27Zt7ciRI5YzZ86QQhlVxKjyRVOW/vvf/1rmzJmtYcOGbkqSpkd5oYymQSm46d27t/Xq1eu8UObaa6/1ba9varqUrkE9bcIdhDLhirE9AggggAACCCCAAAIIIBC6AKFM6FZsmcYF4gpl1GS3WbNmrjImXbp0TmnAgAH29NNP+0KZYNOXtM/8+fN9lTJly5a1xo0bu/00VDlTsGBB1xPGP5R5/PHHXQ+ZWrVqucobNfr1hgIcQpk0/qJy+wgggAACCCCAAAIIIBAzAoQyMfOouNCUFlA4snPnThs1atQ5l6JeMV41i1ZdWrFihati2b17ty+U8Rr4DhkyxDSdSI13Fb74N/q97777bPv27W4Vp//85z/u+0uXLrU2bdqcF8oomFE1Tu3atd0KTvpvDUKZlH5LOD8CCCCAAAIIIIAAAgggELoAoUzoVmyZxgUUyrzxxhvnKWiakvq4DBs2zFW9VKtWzVq0aGEtW7b0hTLaST1d1EPm0KFDbpnr6tWrn7MktqZBKYBRgJMnTx7r2bOnzZw585zKl8AlsZctW2Z33XWX62fTqVMnQpk0/o5y+wgggAACCCCAAAIIIBBbAoQysfW8uFoEEEAAAQQQQAABBBBAAAEEEEglAoQyqeRBchsIIIAAAggggAACCCCAAAIIIBBbAoQysfW8uFoEEEAAAQQQQAABBBBAAAEEEEglAoQyqeRBchvnCqhR7vvvv++Wg77QI7Dvy4W6FvWkKVasmH377beuD01yjK/m9vAdptLdQ5PjkBwDAQQQQAABBBBAAAEEEEDg/wQIZXgVYlJg3759NnDgQJs7d65b5ShfvnwuiNAqRLfddptbvShaQhld66WXXmqZMmWKqDWhTER5OTgCCCCAAAIIIIAAAgggkOwChDLJTsoBIy2g8KFKlSqWM2dOe/75561s2bJ2+vRpt8z0q6++aps2bYqqUCbSHjr+qVOnbM+ePVTKXAhszoEAAggggAACCCCAAAIIJJMAoUwyQXKYCyegJaC///5727x5s2XNmvWcE2tJaoU1qpSZOHGiq6RRWFOgQAEbMWKE3XPPPW77s2fPWvv27W3x4sWmSpbChQtbx44drUuXLr7jaQlsHa9q1apuXwUfTZs2tRdffNEyZszotvvtt99MS2IvXLjQLr/8chswYID16dPHVezofxqBVTsrV65051J4VKZMGevbt6/Vr1/fN+0onGurWLGijRs3zlXhLFmyxIUys2fPtrFjx9qqVavsqquusgkTJljlypUT9YCYvpQoNnZCAAEEEEAAAQQQQAABBEISIJQJiYmNokXg8OHDlidPHjd1qXfv3nFeloKQggUL2tChQ03BhUKKyZMn286dOy1XrlyuskYBSt26dS137tymoEQhzZQpU6xx48buuAplNAWqefPmLqzZsmWLNWnSxIUyDz30kNtGAZEqVBR8KKjp3LmzC1cGDRoUNJQ5evSoC060n65f16Pw5qeffvKFMqFem8IXhTk9e/Z016KASscuWbKkDR8+3AUyCojWrFnjrj1DhgxhP0ZCmbDJ2AEBBBBAAAEEEEAAAQQQCFmAUCZkKjaMBoHVq1fbjTfeaO+9954LJOIaCmVUgdK/f3+3ybFjx+ySSy6x+fPnW61atYLu9thjj7mqmVmzZvlCmaVLl9rWrVstffr07msKbNKlS2czZsxwQcrVV19tuiYFPxqqfilVqpSNGjUqaCij8EbX9euvv9rFF1/s9pk0aZILeeJr0Bvs2j755BPbtWuXXXTRRe44Xk8ZHU/VOxobNmyw0qVL28aNG11YE+4glAlXjO0RQAABBBBAAAEEEEAAgdAFCGVCt2LLKBDQlJxKlSqFFMq8++671qhRI99V58iRw1XMtGzZ0n1N035UPaNg4/jx4256kpoFK2TRUKXMgQMH3BQob6hi5ocffnDTnj788ENr2LChnTx50gU13lBT3379+gUNZZ544gn77rvv3P7e0FSs8uXLnxPKhHJtanD82Wef+Y7jhTL+IdGRI0dcZdDnn39u1apVC/sJEsqETcYOCCCAAAIIIIAAAggggEDIAoQyIVOxYTQIhDN9KXD1JfWa0dQjhS2qdGndurXrFaN+K9myZbNhw4a5Pizr1q3zhTLqKfPBBx/4bl1TjfR9VdBEKpRJ7LUFW31J16+QSP1mbrnllrAfIaFM2GTsgAACCCCAAAIIIIAAAgiELEAoEzIVG0aLQO3atV21SkKNfuMLZTp16uSm9ixatMh3WzVr1rSDBw+GHMro/JoS5F+Z4n0tvulLTz/9tJu+5C2R/dprr1m7du18lTKJvTZCmWh5Q7kOBBBAAAEEEEAAAQQQQCA0AUKZ0JzYKooEtm3b5pbE1rQcLYldrlw5O3PmjJvKM378eNc/JXDFI12+f6XMmDFjTOGIpjipOe7UqVNNX9OvQ62U0TEVEO3fv9+dV410VUnz9ddfJ9jot06dOtarVy83dUr7qBeNzqtpTIm9NkKZKHpJuRQEEEAAAQQQQAABBBBAIAQBQpkQkNgk+gT27t3rVmCaM2eO6dd58+a166+/3tSzRdN0Egpl1AfmkUcecasradtmzZqZes6oEXA4oYwaA6vKRUtiX3bZZW5FJ4U9CS2J3aFDBxfElC1b1rp16+ZWeNJ/q3FwYq+NUCb63lOuCAEEEEAAAQQQQAABBBCIT4BQhvcDgRQWmD59uutv88cff1jmzJlT+Go4PQIIIIAAAggggAACCCCAwIUSIJS5UNKcB4H/E3jzzTetePHiVqBAAbcSk5a7VnXPtGnTMEIAAQQQQAABBBBAAAEEEEhDAoQyaehhc6vRITB06FB7+eWXTVOf8ufPb/fee6+bipUlS5bouECuAgEEEEAAAQQQQAABBBBA4IIIEMpcEGZOklwCqii59tpr3dLWiR2vv/666/mi5aKjYWiJ7sCltxN7XcH6yiT2WNpv1LKNbvcnqpVKymHYFwEEEEAAAQQQQAABBBBAIIgAoUwafC2+/PJLq1q1qtWqVcvmzp0bUwIXKpRR819vZM+e3cqUKWP9+/e3GjVqJLsXoUyyk3JABBBAAAEEEEAAAQQQQCAmBAhlYuIxJe9FarWgSy65xF577TXbvHmzXXHFFXGe4N9//7WzZ8+65Z6jYVzIUGbKlCkuuDp48KD16dPHLbm9fv161w8mcJw+fdoyZsyYKCJCmUSxsRMCCCCAAAIIIIAAAgggEPMChDIx/wjDu4G//vrL9TFZu3at9evXz8qVK2dPPfWU7yBLly61W2+91ebNm2d9+/a1H374wT799FPTlJ/AKTaaAqTlo7WPhgITHe/iiy+2SZMm2UUXXeSWnX722Wd9xx85cqQp7Ni2bZvlypXL6tata+qxopDIGytWrHAhyOrVqy1Tpkz2v//9z2bMmGGXXnppspwjlOlLgUtq79mzxzXmnTBhgj388MNuGW31hdES2osWLbLu3bu7pbDbt29vixcvdv1iChcubB07drQuXbr47k0Bl7adPHmypU+f3tq2bWv79+93Ky998MEHbrt//vnHhgwZYq+++qo7TokSJdyxGzZs6L5/5MgR1xxYz0XPs2DBgu4ZagUnb/rS7NmzbezYsbZq1Sq76qqr3HVXrlw5vJeF6Uthe7EDAggggAACCCCAAAIIIBCOAKFMOFqpYFuFAePHj7c1a9bYnDlzXG+Vn3/+2YUMGl4oo3Bl+PDhripEYUjXrl1DCmW+/fZbt23z5s1N06RUBbJgwQK7/fbb3fHVC6Z8+fJWrFgxF8wotNCUIAUcGgp5KlWqZG3atHHhhyp0lixZYk2bNrU8efK4UCap50hMKKMgRCHSmDFjrFOnTs4rX7589sILL1j16tXddSrsGjBggAuacufObStXrnQhjUKoxo0bu/tTAKV9FFqVKlXKRowYYe+++64z8EIZNf3VSkyyUqCybNkyF27JUedSIKPgauLEic5ky5Ytdvz4cXdeL5QpWbKke37aXwGXnre2C7fiiZ4yqeA3PbeAAAIIIIAAAggggAACUStAKBO1jyYyF1alShUXEKh648yZMy5ImDlzpgs7/EMZBQT16tXzXUSwKTbBKmVUCfLFF1/49lOViwIHBRHBxqxZs1zgoClCGgpzdu3aZcuXLw+6va4zqecIN5T5+++/XXXLK6+8Yt98842rBlIoo/sfNWpUvA9KAYqqXXSfGpoq9sQTT7jjaegZKKC6/vrrXShz8uRJF/4sXLjwnMoWTTnTdbz11lt2zz33uDBGAVvg8EIZhT6qwtHYsGGDlS5d2jZu3GgKa8IZhDLhaLEtAggggAACCCCAAAIIIBCeAKFMeF4xvbX6x6hh7e7du12Vh4ZCA02dmTp1qvtvr1Lm119/ddN1vBFqKKMP/+PGjfPtp2BHVSNegKCwYfDgwbZp0yY7evSoCyVOnDhhx44dc0tCX3PNNdaoUSN77rnnglorlEnqOUINZTQNS1OMVIWSN29eN6WoVatW7roUyqiapUWLFudcp+5d96pgSfudOnXKrRalqVhyzpkzp33++edWrVo1337169c39e5RKPPjjz+6Z5Q1a9ZzjqvjVKhQwU1H0pSpBg0auGlNd9xxh1tS+6abbnLbe6GMzlexYkX3Na/KJ/C8obzMhDKhKLENAggggAACCCCAAAIIIJA4AUKZxLnF5F49evSwYcOGuaDBGwoD1Ldl7969liNHDl8oow/yChC8oelEhw4dsg8//ND3tUcffdSFCP49ZQKXq1ZgoOMoCFFgoEqNDh06WJMmTVxFiCpiVNHhnU8VI3Xq1Ik3lEnqOUINZTTNq2bNms5FoYz/COw5o++p7436umhKkvq3ZMuWzXkrSNG0rFBCGW2r6Vsy9Q/FdHw9p0KFCrnLOHDggOv7o+bD6h+jZ6HpSsGWxFYvIE1B0zQwryIq1BeYUCZUKbZDAAEEEEAAAQQQQAABBMIXIJQJ3ywm91BFihrCKphRdYX/UHDy5JNPumlEXqVMYCjTs2dP96FeFRje0FQorTgUaiij8KBZs2auMiZdunTuMOrBoia23vkUaqjHTXzTl+ILZUI5R6ihzPvvv++qUIKNYKGMes1oqpAa/3pDoY6mZimU0Qg2fUl9e6677jpXKfPnn3+6AEj9Yh544IGQ3jVNq9J0KFUeEcqERMZGCCCAAAIIIIAAAggggEBUCBDKRMVjiPxF6AO/qlN+++03V/nhPxS4aMUgNYONK5RRk9natWu7ihdVgXiNaDWlJtRQ5rvvvnNTedTAVk1p1ay2d+/ebjqVF8r89NNPVrZsWVc9o5BIKzgpDNKUJq/Rb3yhTCjniFQooybACpjUuFd9YjQlTF/Tr71QRlOg1OxXy5GrakirUanCxr/Rr1a90mpJqripWrWqq7CRVfbs2d30qWeeecb1oNE0LvWg6dWrl3uuqrIhlIn87yXOgAACCCCAAAIIIIAAAggklwChTHJJRvlxFIJoqeW5c+eed6WqfrnxxhtNgcbhw4fdktiBlTLaSUtoqypDlS6aznT69Gm3ZHaooYyOoca4mtKjKTXqq6KeLC1btjznfOp9oiWev/76a8ucObO7NgUXmgal6TfxhTKhnCNSoYwCEgVJqrBRJY2qghSAqQeMF8qoYklVSVqRSdVCclQljf+S2JpSpjBH06e0QpXuW5U0MpGZqovU8FcBjHxuvvlm56rwh1Amyn8jcnkIIIAAAggggAACCCCAgJ8AoQyvAwIIIIAAAggggAACCCCAAAIIIJACAoQyKYDOKRFAAAEEEEAAAQQQQAABBBBAAAFCGd4BBC6wQLApWIm9hOQ8VrBraP7MUvflt56/JbGXyH4IIIAAAggggAACCCCAAAJxCBDK8GokSeDBBx+0N954wx0jQ4YMbpnrcuXKuX4q+p63ylKSTpLKdk4oSFHPG61CpSE/NfgtUaKE3X333dalS5dzGjWrB5BWwNLy25EYhDKRUOWYCCCAAAIIIIAAAggggMD/EyCU4U1IkoCCl/3797vGtWfPnnW//uSTT2zw4MGuAe1HH33kwhrG/y8QSiij8GXz5s2mpr9qirxy5UpnKmOtxKSltS/EIJS5EMqcAwEEEEAAAQQQQAABBNKqAKFMWn3yyXTfCmUUGmjJbf+hJbZvu+02mzhxorVr1859S8s/K7zRikKqqNGKUFoe+pJLLnHf91ZF0nLb3bp1s19++cXuuusue/PNN23mzJlu9SetUvTAAw+41YbSp0/v9tPS06NHj3YhRtasWd3y0lp2O1++fO773jLfCxcuNC3/vWHDBreCk67l6quvjlNC22olpV9//dUuv/xyt1KUlqNWZYrGs88+6+5b16qlsLVilZYN1z17lSvHjh2zDh062Hvvvee+ppWXPv744/NWkPK/iLhWh9Ky11oG+84773RLkmsEBjxa9UnXfO+99/oOqdWb5KFnFe4glAlXjO0RQAABBBBAAAEEEEAAgdAFCGVCt2LLIAJxhTLaVMGHKjrmzZvn9lQwUL58ebd0s4KZjh07ugDl5Zdfdt9XGNG+fXsXNAwZMsT+/PNPu+++++z66693y0IrlNF+DRo0cEFNkyZN3H6TJ0+2/Pnzu4BFwUXXrl3d9t55vVBGS2vruHnz5nVLV3tVJ3E9WC09revTPWjp74ceesgdu0ePHm4XhTIjRoywO+64w5577jkXyjRu3Ngtcz1w4EC3je5Ry5DrGhUSaVlrLfmtbeQRbMS3ZPfjjz/ujqVzKZQilOG3JQIIIIAAAggggAACCCAQuwKEMrH77KLiyuMLZZo2bWrff/+9q0wJNmbNmuXCkYMHD/pCGfVS2bJli1155ZXua/q+KmE0LcqrqKlVq5YVLVrUJkyYEPS4a9eutYoVK7pQR/v4V8qoekdDgY16tBw/ftwuvvjikCyHDx9uM2bMMB3fC2WGDRtm+/bt81XGKLBZtmyZffXVV/bXX39Z7ty5XVVLo0aN3D7qAVOwYEEXPiUmlNE9q/JGHgp5CGVCenRshAACCCCAAAIIIIAAAghEpQChTFQ+lti5qPhCGVWyrF+/3n788Ud3Q5o+pL4omzZtsqNHj9qZM2fsxIkTpik+WbJkcZUyjz76qPtvb6g6RuGNdwx9vVWrVi5w0ZQgja+//tpVrXz33XeuguSff/6xv//+2+1zzTXX+EIZVdGoSkbj22+/teuuu8527txphQsXDgr+zjvv2JgxY2zr1q0uYNH1qumujuOFMppW5X9tmlY1duxYV9Gj61G1UOA5KlSoYNWrV09UKDN+/HhXfePdC6FM7Pxe4UoRQAABBBBAAAEEEEAAgUABQhneiSQJxBfKaBUmBR5z5syxHTt2WMmSJV2Vh8Ia9ZRZvny5tW3b1gUpmm4UbNqO17dl3bp1vuv0P6cCnCJFirg+K6qqUeiya9cu998KXhSKeJUy3nl0IB1P4cj27dtd1U3g+PLLL12jYk1L0rFy5MjhqmQ0XUk9dLxQRj1l/K9N1S/6n+43EqFM586d3WpXuhetzBQYyuhrs2fPtvr16/tuSX12xo0bR0+ZJL3p7IwAAggggAACCCCAAAIIJL8AoUzym6apIybU6Ff9TzQlSUGBlslWZYy3TLZ6tngNchMbyqhK5oYbbnBBTKFChZy9pgupGXBSQhmFL+p1oyoZb6hhsap2Qg1lVF2j8Gn69Om+6UsKUzR9Sf1pwp2+pOoYVf5o2pW3DHlgKHPZZZe53juqptH4+eef3XLaampMo9809VuTm0UAAQQQQAABBBBAAIEYECCUiYGHFM2XGN+S2AoMVEmihrRe1YiCCK26pGWde/fubbt3705SpcyBAwdcyKElpFUpo+lS3bt3t59++ilJoYyW8lZDYfWzUX8aNetV1YyaA4cayui5qTJo/vz5vka/ffr0Ma1MpQqh+EKZwCWxVbkzaNAgt0S2KozU2FgjMJRR8CVrBaiR/RsAACAASURBVEG6Vq0g9cUXX9irr75KKBPNv5G4NgQQQAABBBBAAAEEEEiTAoQyafKxJ99NK5TxqjYyZMhgl156qVthqXnz5q73i1cVozOq34oa4yrUqFatmltiumXLlkkKZXTct99+261qtHfvXtcnRmHPPffck6RQRsdV015V+pw8edJVp1SqVMn1rgknlFG1jP+S2Fo+WwGPplXFF8qoukhDS1yrj41WlqpTp44Ln/Tf3ggMZfbs2eMqkxR6adUoLRWuoIYlsZPvnedICCCAAAIIIIAAAggggEByCRDKJJckx0EgFQo0f2apu6u3nr8lFd4dt4QAAggggAACCCCAAAIIpKwAoUzK+nN2BBBAAAEEEEAAAQQQQAABBBBIowKEMmn0wXPbCCCAAAIIIIAAAggggAACCCCQsgKEMgH+wZZgTtlHFB1nD7ZcdWKvLLAPSmKP4+2X3MdL6vX476+eMO+//77de++9yXnY844VKYOfhj/ozlXiydcjev0cHAEEEEAAAQQQQAABBBBIiwIxHcpoRZqqVatarVq1XPPU5BiEMsEVQwllFEBkypTJNm/ebEWKFPEdSIGEt+S1vnj48GHLmDGjZcuWLTke2XkrECXLQeM5SDhBSzjbJuW6CWWSose+CCCAAAIIIIAAAggggEDKCMR0KNOuXTu75JJL7LXXXnNBgFabSeoglElaKHPxxRdb48aNfSsy6WiBoUxSn1Hg/pEIJLT0tJaU1opSgSOcoCWcbZPiEgkDXQ+VMkl5KuyLAAIIIIAAAggggAACCMQvELOhjJYazp8/v61du9b69etn5cqVc8sie2Pp0qV266232sKFC61nz562YcMGtwzxlClT3PLC3njhhRfcUs1///23CxPy5s1rn3zyia1bt85tsmbNGnfcb7/91k6fPu2Ooe219LI39MF7woQJ9vHHH9vixYtdlYiWUtaxFBzpGFomeurUqXbllVe63bZu3Wpdu3a1r776yo4dO2alSpWywYMHW82aNX3HLVq0qLVv3962bNliM2fOdMtN9+3b130trqFrHzBggK1fv97Sp09vlStXdssie+fdsWOHFStWzGbPnm1jx461VatW2VVXXeWuX9t6Q5UxzzzzjB08eNDuvPNOV5HUv39/33LQwc4vhyeffNJGjhxp3333nZUpU8ZtFhjKBAYIWnJa53rrrbfst99+s0KFCrllrdu2bev2//zzz6179+7umLly5XJLbesevcBEx/POJWNV4WgZ6ueff94tKa2hr8tB4V3WrFmtRo0abpnofPnyue9778u8efOc8Q8//GCffvqpq8IJHP5By6lTp9xzlOeRI0fssssus0ceecRdv0ZgKKN3UdOZfv31V7v88svdsuC6d12zhhcKaunsp59+2h2zdu3aNnHiRF9lkd4X/2W2Za53z3+Z7Zdfftm9p7/88ovlyJHDbr75Zps1a1bYPw8JZcImYwcEEEAAAQQQQAABBBBAIGSBmA1lFHqMHz/eBR5z5syxxx9/3H7++Wffh3DvQ/aNN95oQ4YMcQGJPiyr+mHFihUO6N1337WWLVvauHHjXOigD+5jxoyx4sWL+0IZhSx79uyxG264wVQ9MWLECHc+ncubfqMP3gUKFHBhhD4Y64O3Qh0dp0ePHla4cGFr06aNm8Izf/58d24FDApkqlSp4qb8vPnmmzZ8+HAXGmh7DYUyf/75pwtD7rjjDvehuk+fPi5g8g+W/J+2wgFdj0IqBVf6wK8gRteTLl0692uFMiVLlnTnUyCjY8pR4Y+CDgU1N910kwuJFKgo6FHwpfv//fff43y5vABCwZec5aSRUCjTpEkT01Q0hSYKr7Zv3+7CIH199+7dVqJECXvwwQetU6dOtmnTJnvooYfs0UcfdQGGhoKTr7/+2oU4CisU1Cm4UuiibTX0vijEk5uCHwUpeh4KYTS890VuctGzUwimEChw+Act2lbvzPTp091zUwii/zVr1sztFhjKKExSIKSqLgU/uj5di94TDd2T3jE97+eee86FMgoL9f4MHDjQbdOxY0c3XU/3pFBJoaGCK22je9b9V6pUyb3Peo6aLvbFF19Y586dQ/7B4G1IKBM2GTsggAACCCCAAAIIIIAAAiELxGwoozBDH1a7dOliZ86ccR+4VU3iVTb4V8rcdtttDkQfwO+++247fvy4aZqNPrBWqFDBhTLe0IfZEydO+EKZQMl//vnHfZhXVUedOnV8H7xVXaHwRENhi6pONK1KH5Q1ZsyYYa1bt3bnjmuo2kPB0WOPPeY2USijCgd9uNZQKKLqCn1Y13ahDIUbCqQUAOj4XigzadIkXyWKQp7SpUvbxo0bXVjTvHlz++OPP87p09O0aVMXzoQSyihEUbixZMkSd/3xhTI//fSTC0o+++yzc6qEvHtTYKSgSdfmVb2oCkTBl65RQZOeuYKWH3/80bdNr1697KOPPnIBVrCh4KJixYou9NIUOO99+eCDD6xevXrx0voHLQo6dF5VZHnX579zQtOXFOro3dD1aCiUGTZsmO3bt88X+imwWbZsmXuvFLTlzp3bpk2bZo0aNXL7KHQpWLCgL4h677333Lumapyk9u0hlAnldxnbIIAAAggggAACCCCAAAKJE4jJUEbVJAoYVEXhTT9RkKEP6V6A4X3I1od1hRIamoKkaUc7d+50VQ2qhFB1hqplvPHEE0+4MMGbvrR//343nUXH07FUAaKpTi+99JKrWNDQB29V3XgfklXpoUqL1atXuw/+GjqmKiR0jdmzZ3cfrvUBXBUPe/fudcGSAhtNWxk6dKjbR6GMKkI0dccbqiRp0KCBq4AJNlTBo++p2kWBjEIkTXfRee666y5fKON/barGUEWIqi2qVavmgqr69eufcw45qVomlFBGIYzCKD0nVSXFF8rITSGQ7t2bwuN/X/fdd5+bfqPqG2+oykgVSd5zVCgjb1WOeOPDDz+0hg0buoBN07hUSSNv7av7lYueowKVa665xhfKKMhQ1VN8wz9o+eabb+z22293QYkaTiuoU5WLNwJDmXfeecdV1mj6mt4BPXe9D3q3NHSNChd1Xd7QNCRNNdu2bZu7fv9797bRM6tevbqrlFHQpNBS75WuSf/T88ySJUvYPyUIZcImYwcEEEAAAQQQQAABBBBAIGSBmAxlVDmgagJ92PaGqkg0DUgfRPUh3gtl9AFclS0aClr04VWhiQKPUEIZfaA9dOiQq05RrxidQ1UwquDQlCmNwA/eXjWKQiB9gNYIvB5Vuqg6RJUS//3vfy1z5swuRFDAoA/WGrpGncM7j76m4ynk8KbuBD5pVbroOmWkKTIKHxRgecsyB7s2BS2yUHCk8ydHKKMpPKqYefvtt039afxXX/LvKaNeKAoMIhnKKJiRiXrjyF0h3a5du9x/e88o2PsS1++iwOd99OhRNy1N1TIKVNQXyOvf4r+tpmipckjvks6t91RVMpqu5IVdwRpN633Q//TsQglldN0Ke3RP6oujSiNVFGmKmvd7IdSfEIQyoUqxHQIIIIAAAggggAACCCAQvkDMhTL6sKmpGgod/CsSdOsKK9T0VB+8Qwllgk1fUuCigMCrlNH0D02XeeCBB5yuwgZV2ah6ISmhTNmyZd30KzVz1VDVhO5LvVMSG8ooPMqTJ4+b6qIP/xrLly93vw4nlAk2fUk9UhQ8hFopo3OrwkcVOmoyrEoShTMa/qGMggZVuSg88G9y7L3KcU1f0vQkXYs3fenAgQPnVJeo0a6qZTR9SVUy6gmkIEZNhDU0/UfPNDlCGf/fdgsWLHCVKXoWqj7yD2UUvuhdUpWMN9QIWgFOqKGM3hMdVz1svMosBY96d9Sfxnt3/K9JlVIKY1Slo8qjcAahTDhabIsAAggggAACCCCAAAIIhCcQc6GMen6oAayme6jSwH+oz4ga86oiIJRQRh9SFYLog7Kme+iDrsIW/0a/mu6koEPTd1QRoaBB/T8GDRqUpFBGH45VsaNpOfrgrnBG1+w1a9V9hVspo6oYTefSaj2aaqQQQuGFPMIJZbwGxGqQrP4qChp0faE2+lU4pqFeJ7LU6kp6ZsFCGW2n/ieLFi1y03o0PUvTkvR8FVp5jX61jaaoaUqUgoxgjX4VSjz88MOmKUX6tUIQ/bcCG4UW6j+kwE4rU+k5qp9NUkMZNXdWPyNVFykg0tQzBVG6bv23fyijHjeaeqYpdprWpu1UNaMpcaGGMvJSM2MFZF6jXwVXeu/V6FihjBosa6qTpqKpAkq9lGT3/fffu95B4QxCmXC02BYBBBBAAAEEEEAAAQQQCE8g5kKZunXruik5+kAbONQnRastaYqHAgEtiR3f9CXtr3BFQYymuOgDs5Y0VgjhVcroQ7tW8tEHeVVZaHtV4/hPK0rM9CVViCiAUQCi0EeBkqa++C9rHG4oo/vRFBo1n9WHcjXQVdChypRwQhkdRx/4Feyo4kMVLOpXEsqS2N55vGejFZy0OpCWsY4rlJG9ttFUHp1PlUj6bwUxGqEsia2wQe+FGjBrWpuCC6105DXf1TQqHVPT2xS0qZLmnnvuSXIoo6WqFeqpl4/Oq7BFU+sU0mgEvhuq8JKtgio1nVZjaU1ZCieUUbWM/5LY6kOk3w/eu6PqKPVBUggjW2+FLYVc4Q5CmXDF2B4BBBBAAAEEEEAAAQQQCF0g5kKZ0G+NLRFAAAEEEEAAAQQQQAABBBBAAIHoFSCUid5nw5UhgAACCCCAAAIIIIAAAggggEAqFiCUScUPl1tDAAEEEEAAAQQQQAABBBBAAIHoFSCUid5nw5VFqYB646inUHwrUYVy6YH9ZkLZ50Jv02NpVxt6y8gLfVrOhwACCCCAAAIIIIAAAgikCQFCmTTxmFP3TWoFrTfeeMOttDRhwoRzblarNKkRr3+j4aRqEMokVZD9EUAAAQQQQAABBBBAAAEEJEAow3sQ8wIKZbQktJYs1+pKmTNndveklYe0XHX27NndSlze6k9JvWFCmaQKsj8CCCCAAAIIIIAAAggggAChDO9AqhBQKKOpRFu3brVevXpZixYt3H1peewhQ4ZYsWLFLGfOnC6U0bLZ+tqrr75q+/btsxIlStjTTz9tDRs29Fl89NFHpmWmf/nlF6tcubLp+Pqft7y6F8q88847bhqTtqtatapNmTLFhUAaa9ascUtwa0n106dPu+WqtfS6luP2RuD0JS2LriXFf/31V7v88svdfTzzzDOWMWNG0xLqxYsXNy37fsMNN/iO8eKLL7rjbt++3f7991+3fLsCKt2blhbv2LGjdenSJdHPmelLiaZjRwQQQAABBBBAAAEEEEAgQQEqZRIkYoNoF/BCmerVq9vcuXNt4cKF7pJr1qxpderUsaVLl/pCmYEDB9q0adNMYcZVV11ly5Yts0ceecQWLFhg2l/hxtVXX+2CjHbt2rlQ5cknn7Tdu3efE8oo/ND2gwcPtnTp0tn9999vFSpUsOnTp7tzKxjZs2ePC1AUlowYMcLmzJljP//8s2XLls1tExjKDBgwwGrUqGFXXHGF/fDDD/bQQw9Z165drUePHm77O+64w13zuHHjfI+kfPnydu+999pzzz3nwh8do27dupY7d25buXKlC2kUFjVu3DhRj5FQJlFs7IQAAggggAACCCCAAAIIhCRAKBMSExtFs4AXykycONEKFSpkmzdvdpdbsmRJV8WicEWVMq+88orlypXLhTaqgPGGvv/333+7yhpV2ijYUSjijb59+5rCHP9KmdatW9uWLVvsyiuvdJupb83zzz/vKlSCDVXo6Bp0DgVFGgk1+h0+fLjNmDHD1q5d67Z/9913XYCkKVqZMmWyb775xoU+27Zts6JFiwY972OPPeauadasWYl6hIQyiWJjJwQQQAABBBBAAAEEEEAgJAFCmZCY2CiaBbxQ5oMPPrAGDRpYuXLlXHXK+vXrXRihShIFIt27d7cyZcpY1qxZz7mdU6dOuSqXVatWWf369e3SSy+1yZMn+7bRdKZ69eqdE8qogfCxY8d822jakc6t8EVj//79pjBHVTq//fabnT171gU/L730kptSFCyU0XSoMWPGuGlYf/31l505c8b1w9H+GrrOAgUK2NixY61p06bWuXNn+/HHH23RokW+61AVja59165ddvz4cbePpk5p2lNiBqFMYtTYBwEEEEAAAQQQQAABBBAITYBQJjQntopiAf9QRlUuqg7RUEBx1113+UKZDh06WKVKlVxQonDDf6jyRFU2oYYygUtiKxDSvgqDNGrVqmWHDh1y04qKFCniKltUndOnTx/XhyYwlPnyyy/t5ptvdtvfeeedliNHDlclo2lP/ktvq9eNwqaPP/7YTXMaPXq0r4eOtlcFj/bRuTRNatiwYS5sWrduXaKeIKFMotjYCQEEEEAAAQQQQAABBBAISYBQJiQmNopmAf9QRhUpanCrqUE7d+609OnT+0IZVZjkzZvXNM3pgQceCHpLmr40b948+/77733fVyNg9WoJbPTrH5YEhjIKRDSlyTuPplHputSUN1gooyBF26tKxhuaVqVKH//zbNy40VX7aPtnn332nNWmOnXqZBs2bDinckZ9dQ4ePEgoE80vMNeGAAIIIIAAAggggAACaVaAUCbNPvrUc+P+oYzuSktja2jqj4Y3fUmrJmlK0YQJE1yooRWT/vjjD1uxYoXbtlWrVr5Gv0888YS1bdvWhRmqTtGKSApHVMESbEnswFBGqyzlyZPHVbLoejR1Sr1hBg0aFDSU0RQpTX+aOnWqVaxY0fW1UdWMQib/UEb3U6VKFXesNm3a2Pjx430PUlOfFCCp94xWnNKx9DX9mkqZ1PO+cycIIIAAAggggAACCCCQegQIZVLPs0yzdxIYygRC+Icyml6koEJhhhrkqteMAhQtX12tWjW3a+CS2E2aNDFNfVKPlosvvjikUEarNmnlI0010rQohTFaxUlVMsEqZXRerbKkfjAnT560u+++2021UjVMYCijbRQYqU+MAhxvaD81AlZ/G1UKNWvWzIVI8+fPJ5RJs787uHEEEEAAAQQQQAABBBCIZgFCmWh+OlxbVAho5SVV12gKUjSM/v3728yZM8+ZYhUN18U1IIAAAggggAACCCCAAAIIhCdAKBOeF1unAQH1dlEFSu7cud3UJvVqUfNg9ZVJyaEVmXbs2GG33Xabu5aHHnooJS+HcyOAAAIIIIAAAggggAACCCRRgFAmiYDsnvoE1E9Gy1MfPnzYNedVs97evXtbhgwZUvRmNU3r7bffdj1y3nrrLdfEmIEAAggggAACCCCAAAIIIBC7AoQysfvsuPIYEFBvF/V4UZCiKhc13VW/mWuvvTbo1ftvH2yDokWLntOXJtIEX3XpYpVGj470aTg+AggggAACCCCAAAIIIJAmBQhl0uRj56aTS+DAgQP2zDPPuNWS9u/fb5deeqmVL1/efU2rJO3bt899LVOmTMkSyuh8WbNmtSxZsiTXLcR7HEKZC8LMSRBAAAEEEEAAAQQQQCCNChDKpNEHz20nj4BWbDp16pQNHjzYihcv7oKZRYsWWenSpe2ee+455yTJUSmTPFcd+lEIZUK3YksEEEAAAQQQQAABBBBAIFwBQplwxdgegf8T0FLVqoJZunSpVa9ePahLfNOXzp4965r1rly50j799FPXvyZw+lK/fv3s1VdftQULFli5cuUscPqSttfKUB9//LEtXrzYihQp4pbVzps3r7Vr187WrFnjKnemTp1qV155ZdjPjlAmbDJ2QAABBBBAAAEEEEAAAQRCFiCUCZmKDRE4V+DMmTMulFH48cILL7gpSoEjrlCmVKlS1qxZMzelSYGLQhQNb/t69epZ586dbc6cOfbZZ5/Zf//7X/f9YKFMgQIFbOTIka5PTc+ePW3dunWuaqdHjx4u6GnTpo3lzJnT5s+fH/YjJJQJm4wdEEAAAQQQQAABBBBAAIGQBQhlQqZiQwTOF5g9e7ardjl+/Lhdd911rmKmadOmrqrFP2Txb/T7xRdf2LPPPmsnT550oUuOHDl8B1YoM3PmTNccWA2BFcgodPFGsFCmb9++1r9/f7fJV199ZZUrV7bXXnvNhTEaM2bMsNatW7trDHcQyoQrxvYIIIAAAggggAACCCCAQOgChDKhW7ElAkEFTpw4YQpaFIioGmX16tU2adIk0xLWwSplChYsaPqfphtlzpz5nGNqe31PVTc6Xp48ec75frBQ5t1337VGjRq57bZv3+6qZHQNFStWdF9bsmSJ1ahRw/744w/Lnj17WE+RUCYsLjZGAAEEEEAAAQQQQAABBMISIJQJi4uNEUhYQNOZVOGyc+fOoKFM+/btbdq0aa4PjMIS/6FQRlUtb7/9tgt2WrRokWAo4y25rQ2DNRNWz5tbb73Vjhw54qYxhTMIZcLRYlsEEEAAAQQQQAABBBBAIDwBQpnwvNgagQQF1N9l0KBBdvDgwaChjKYlqbKmd+/ebilt/ybBXmXNv//+a82bN7cpU6a46VDeCFYpQyiT4CNhAwQQQAABBBBAAAEEEEAgKgUIZaLysXBRsSBw6NAhN21IvVvUQyZbtmy2du1a69Spk919992ur0t8qy+9+OKL9vTTT7spT1WrVnW37L/9rFmz7IEHHnArJzVs2NB9n1AmFt4MrhEBBBBAAAEEEEAAAQQQCE2AUCY0J7ZC4DwBNepVw14tZ71161Y7ffq0FSpUyAU1Tz31lOsXE18oowOqqkbH+OSTT+ymm246b0ls9Ytp1aqVTZ8+3e677z5CGd5DBBBAAAEEEEAAAQQQQCAVCRDKpKKHya0ggAACCCCAAAIIIIAAAggggEDsCBDKxM6z4koRQAABBBBAAAEEEEAAAQQQQCAVCRDKpKKHya0ggAACCCCAAAIIIIAAAggggEDsCBDKxM6z4kqjROCWW26xa6+91tSoN7WPcT1m2aND/1+TYQYCCCCAAAIIIIAAAggggEDyChDKJK8nR4tRgQcffNDeeOMNe/jhh23ChAnn3MWjjz5qL7/8smu4+/rrr9vhw4ctY8aMbrWl1D4IZVL7E+b+EEAAAQQQQAABBBBAICUFCGVSUp9zR42AQpnFixfb0aNHbe/evW7lJI0TJ05Y/vz5LXv27Hbrrbe6UCbSQ6s4KfSJhkEoEw1PgWtAAAEEEEAAAQQQQACB1CpAKJNanyz3FZaAQpnff//dLW3dq1cva9Gihdv/rbfesiFDhlixYsUsZ86cLpTxn760dOlSF9YEDq+qRl8fP368DR8+3H755Rd3nL59+9oDDzzg20XLZqsSZ/78+bZo0SLr3r27Pf3009a+fXsXFO3bt88KFy5sHTt2tC5duvj28675f//7n40ePdq0RHfXrl3dcty9e/e21157zbJkyWL9+/e31q1bh+XhbUwokyg2dkIAAQQQQAABBBBAAAEEQhIglAmJiY1Su4AXcFSvXt3mzp1rCxcudLdcs2ZNq1Onjil8CRbKnDp1yk1n8sbGjRvtrrvusnHjxlmbNm3s/ffftyZNmrj+MzrWnDlzrEePHvbZZ5/5whyFMvny5bMXXnjBdP4MGTK46pwBAwZY3bp1LXfu3LZy5UoX0kyZMsUaN27sTqdrfu+996xly5bWqVMnW7FihbVt29buvPNOq1atmjVq1Mjeeecde/75523btm1WsGDBsB8joUzYZOyAAAIIIIAAAggggAACCIQsQCgTMhUbpmYBL5SZOHGiFSpUyDZv3uxut2TJkq7CpV27dkFDGX+TQ4cOmapWatWq5UIZjSpVqljp0qXt1Vdf9W2qUOXYsWMu/NFQKPP444/bqFGj4iV+7LHHXNXMrFmzfKGMwiIFLunSpfNdrwKeZcuWuf8+e/as5ciRwyZNmmRNmzYN+xESyoRNxg4IIIAAAggggAACCCCAQMgChDIhU7FhahbwQpkPPvjAGjRoYOXKlbN///3X1q9f70KQe++9N95QRn1gbr/9dheOfPrpp67aRSNXrlwubNF0Jm9oqpH+pzDFC2WmTZvmmzLlbadgZ/LkybZr1y47fvy4qSpHqz6tXr3aF8ocOHDAF+7oi6q0KVOmjC8U0teKFCli3bp1s86dO4f9CAllwiZjBwQQQAABBBBAAAEEEEAgZAFCmZCp2DA1C/iHMqpgUVWKhoIRTUdKKJRRJc2SJUtcYKLpRt4INZTRNCedwxszZsxwfWBGjBhhlStXdis9DRs2zFatWmXr1q3zhTLqg6MgyRvBlusuWrSoq8TR/8IdhDLhirE9AggggAACCCCAAAIIIBC6AKFM6FZsmYoF/EMZTflRY11NK9q5c6elT58+3lBm5MiR9uyzz7q+L6pS8R9xTV/6+++/XX8ZDZ0nMJRRj5gNGza4xr/eUE+agwcPEsqk4veQW0MAAQQQQAABBBBAAIG0JUAok7aeN3cbh4B/KKNNtDS2hpbC1oirUkYNgb0eMvXq1fMdXUtqq5eLqljUQ0bTlRSqfPzxx67Rr/ZTVUtcocyYMWPcCkzvvvuuW7Fp6tSppq/p11TK8BojgAACCCCAAAIIIIAAAqlDgFAmdTxH7iKJAoGhTODh4gplVCHz3HPPnXf2cJfEDqyU0fLWjzzyiKugUSVNs2bNXMijZbMJZZL4sNkdAQQQQAABBBBAAAEEEIgSAUKZKHkQXAYCCCCAAAIIIIAAAggggAACCKQtAUKZtPW8uVsEEEAAAQQQQAABBBBAAAEEEIgSAUKZKHkQXAYCCCCAAAIIIIAAAggggAACCKQtAUKZGHzer7/+ulveWMshx8qIxWuOFdvA6wxcFjspS2LHqgHXjQACCCCAAAIIIIAAAgjEggChTASekprGvvHGG+7IGTJksFy5clm5cuVcs1Z9L126dEk6aywGHKFcsxraZsqUyTZv3mxFihTxGfk32U0SXIR2ju/egi13HaHL8B02MJQ5cOCAZc2alNpOnAAAIABJREFU1bJkyRLpU3N8BBBAAAEEEEAAAQQQQACBMAQIZcLACnVTBS/79++3KVOm2NmzZ92vP/nkExs8eLDdfPPN9tFHH7mwJrEjoYDj1KlTdtFFFyX28BHZL6Fr1kkVYFx88cVuCWkv1NLXoyWUics12kOZiDxQDooAAggggAACCCCAAAIIIJBkAUKZJBOef4C4lldevHix3XbbbTZx4kRr166d23HkyJEuvNm2bZurqKlbt64NHTrULrnkEt+B9aH/mWeesYMHD9qdd95pVatWtf79+/umL2lZ5g8++MAee+wxGzhwoO3cudP++ecfFwQNGDDA1q9fb+nTp7fKlSvb6NGj7corr4zzrhPaZ8eOHVasWDGbPXu2jR071latWmVXXXWVTZgwwR3fGwldc7ALUCjz5JNPOpPvvvvOypQp4zYLDGUSukbts3LlSuvYsaNt2rTJHadv375Wv359+/bbb+3aa691YVn79u1Nz2Tfvn1WuHBht32XLl18l+Y9x4oVK9q4ceNcFc/27dvPu/RwQpmePXu6Za5//fVXu/zyy61Fixbu2WbMmNF++uknu/rqq23jxo1WsmRJ33lGjRplL730km3dutV9Tc+ze/fu9sUXX7gKmDvuuMO0TZ48edz3mb4Ugd/UHBIBBBBAAAEEEEAAAQQQiIAAoUwEUOMKZXQqBQJXXHGFzZs3z535xRdftPLly7ugQ8GMgoEaNWrYyy+/7L6v0OOmm25yVTYKJxRI9OvXz/79999zQpnhw4e7KpxBgwa5AEbTpRScKOjQr//66y/34V+hyrp16+KcQpXQPl4oo9BA51Qg06dPH1uzZo1t2bLFVQCFcs1xhTIKLLwKozlz5gQNZRK6xqNHjzrPu+66y3r37u1CKvXgUejhhTKnT592gZVCsNy5c7sQRyGNzq1KHQ09R51LYY7CFI3SpUsnKZTROfV89Q788MMP9tBDD1nXrl2tR48e7rgKgGrVquVCN2/ccMMNVrt2bV8QV6JECRfqtWzZ0o4fP+6u7cyZMy5g0iCUicBvag6JAAIIIIAAAggggAACCERAgFAmAqjxhTJNmza177//3jZs2BD0zLNmzbJHHnnEVcVoNG/e3P744w+bO3eub3sdQ+GM1+hXlTIKY3bv3m158+aN8450TH1fYYBXhZLQ7Qfu44UykyZNsrZt27rddS8KK7wKj1CuOdh5vf4rCh0UJC1ZssQFTQlNXwq8RlXtqDJG1SiaDqWh61UA4oUywc6vSiNVzegZaOg5ynnXrl3xTgdTpUzr1q1d1UrgOHbsmKuM0T0EGwq2ZsyYYWvXrnXfVkinqhgFXBqB1TMKdVQhs2DBAt/hdJ+FChVyvXhkRyiT0FvN9xFAAAEEEEAAAQQQQACB6BAglInAc4gvlGnSpImbfvLjjz+6My9cuNBVwWiajSo8VPFw4sQJ04d5NWatUKGCq9RQlYs3NAVJ1TL+ocz06dPt559/Pudu9N/aT5UrCi40pUnHVcCjKpJgI6F9vFBm9erVrqpD48iRI27q1eeff27VqlUL6ZqDndu/KW6bNm1cyLBixYrzQpmErvGJJ55w05+8yhGdS0GYKpL8QxlNSZo8ebILXVRxop4xqmTSvWnoOSro+uyzz+J9SxTKdO7c2b755pvztlMlkX8o884779iYMWPcVCRVL+l5Z8+e3X777Te3r0KhggUL2vLly61SpUruOati6Ouvv3bfb9SokX344YfnhUR6rqq+UkUNoUwEflNzSAQQQAABBBBAAAEEEEAgAgKEMhFAjS+UUQWI+pfog7YCDk0D6tChgymsUbChD+OqQFHQkTNnzpACDq+njKYl+Q8dW6sYaWqMpssolFGFTHyVGwnt44Uy/uGGwqFLL73UVbYoEAglSEoolPnll19c1cfbb79tCj1kof/XSOgaQwllVJ2i6pYRI0a4XjjZsmWzYcOGuQDLc4zvOfpff6g9Zb788ktX+fPcc8+53kA5cuRwVTK6Bv/lzdUjRveo8Eahjt4PTXHSUOiisG7IkCHnEebPn99V6xDKROA3NYdEAAEEEEAAAQQQQAABBCIgQCgTAdSEGv2qOkOBgPqVaJlsVcZ4y2RresrTTz/tC2WCTQXSPvPnzz+v0a9/KHPo0CHX+HXZsmUuCNBQ4KNfxxXKhLJPKKFMKNecUCij76uZrap61JhYfV8UfoRyjZq+JENN61FzXo3XXnvN9WHxwqROnTq5aVeLFi3yXUrNmjVdRVGkQhmFL+oV5DXs1Yl1TZou5R/KaOUpBWlq3qymzgqoFKppqH+P3htVW8W1ghehTAR+U3NIBBBAAAEEEEAAAQQQQCACAoQyEUCNb0lsfWDWh20149UUG02XUR8RNZzVVB01ptWUGa9S5quvvrIqVaq4yoh69eq5XiIKHAIb/eqY/qGMqmLy5cvnKis0BUZTdHr16uUa8sYVyoSyTyihTCjXHEooc/jwYStevLidPHnSVRIplAnlGr1Gv3Xq1HH3rHtXo19NEZORpjGpCkWO7777rmsKPHXqVPc1/TpSoYyWQm/QoIE7l6Z+KXBS1YxWgvIPZf7880+77LLLXKWQgjVNcfPGnj173DtTvXp1F9youkr9Z1Rxo745eq8IZSLwm5pDIoAAAggggAACCCCAAAIRECCUiQCqQhlVO2iomkFTexQEqIKkVatW56x8pKWMNW1GH8rVj0VLJGtVHS+U0TFUWaNgRVUiqubQB/JgS2IHTl/Sh3n1OtGqTlpqWaGDPrDHN30poX1CCWVCueZQQhlto347Tz31lHPzpi8ldI3aT6spadqPgpiyZctat27dnL/+WxYKetRQWRbqZaPqI00nUgVSpEIZXZeCFD1Pnf/uu+92fWM0/cw/lNF2CqEUGHlVVf5e6qmjFZc0XUzH0RQ1rdikpcR1L4QyEfhNzSERQAABBBBAAAEEEEAAgQgIEMpEAJVDRp+AGiFryphWssqcOXP0XWAUXtHff//tQiwGAggggAACCCCAAAIIIIDAuQLqA6p+n0kdhDJJFWT/qBR488033dSnAgUKuGliWu5aFSTTpk2LyuuNxovSVDlV4DAQQAABBBBAAAEEEEAAAQTOFdAKudddd12SWQhlkkzIAaJRYOjQoa6prpaY1qpE9957rw0cODBZksxovN9IXJN6HKnRsIKsUqVKReIUHBOBCyKwceNGu//++3mXL4g2J4mkAO9yJHU59oUS4D2+UNKcJ9ICvMuRFo7+41MpE/3PiCtEIKYFvvnmG7v++ustuRLgmMbg4mNagHc5ph8fF+8nwLvM65AaBHiPU8NT5B4kwLvMe5BcAlTKJJckx0EglQnwB00qe6Bp+HZ4l9Pww09lt867nMoeaBq9Hd7jNPrgU+Ft8y6nwoeaQrdEKJNC8JwWgWgX4A+aaH9CXF+oArzLoUqxXbQL8C5H+xPi+kIR4D0ORYltYkGAdzkWnlJsXCOhTGw8J64SgQsuwB80F5ycE0ZIgHc5QrAc9oIL8C5fcHJOGAEB3uMIoHLIFBHgXU4R9lR5UkKZVPlYuSkEki6wd+9ee+WVV+zhhx92zZIZCMSqAO9yrD45rjtQgHeZdyI1CPAep4anyD1IgHeZ9yC5BAhlkkuS4yCAAAIIIIAAAggggAACCCCAAAJhCBDKhIHFpggggAACCCCAAAIIIIAAAggggEByCRDKJJckx0EAAQQQQAABBBBAAAEEEEAAAQTCECCUCQOLTRFAAAEEEEAAAQQQQAABBBBAAIHkEiCUSS5JjoMAAggggAACCCCAAAIIIIAAAgiEIUAoEwYWmyKAAAIIIIAAAggggAACCCCAAALJJUAok1ySHAeBGBE4e/asDRs2zCZNmmS//PKLFSpUyNq1a2fdu3e39OnTJ3gX69evtx49etjy5cvdtlWrVrWhQ4damTJlEtyXDRBILoGkvMcPPvigvfHGG0EvRb8nChYsmFyXyXEQSFDgr7/+suHDh9vXX39ta9eutX379lmrVq3s9ddfT3BfbwN+LodMxYYREkjqe8zP5Qg9GA4btoB+Dk+bNs0WL15s27dvt6xZs1rp0qWtd+/eVrNmzZCOx8/kkJjYyE+AUIbXAYE0JtCxY0cbP368tW7d2m666SZbsWKF+8u/vj5u3Lh4NX7++WerWLGi5cqVyzp16uS2HTNmjP3++++2evVqu+qqq9KYJrebUgJJeY+9v/wrmEmXLt05t3DfffdZlixZUuq2OG8aFNixY4cVK1bM8ufPb9dff73NmTMnrFCGn8tp8KWJwltO6nvMz+UofKhp9JIaNmxon3/+uTVo0MCuu+46U+A4ZcoUU9Dy8ssvW4cOHfi7chp9NyJ524QykdTl2AhEmcAPP/xg5cuXd4HK6NGjfVfXpUsXGzt2rH333XdWtmzZOK9af1B98skntnHjRldho6HKglKlSlnt2rVt5syZUXbHXE5qFEjqe+z95f/06dOWIUOG1EjEPcWQwMmTJ+3gwYNWoEABO3PmjGXMmDGsUIafyzH0sFPxpSb1Pebncip+OWLs1vSPlTfccINlypTJd+XHjx+3a6+91g4cOGC//fZbvH934GdyjD3wKLlcQpkoeRBcBgIXQqBPnz42aNAg27Ztm/uXWW+oPLN48eKm7w8YMCDopehfCnLnzm1NmzY9b+qHSu3feecdO3TokCvzZCAQSYGkvMe6Lu8v/6dOnTL9ReuSSy45r2ImktfPsRGISyDcUIafy7xL0SgQ7nvMz+VofIpcU6BAt27dbOTIke4fI+Oa5szPZN6bxAoQyiRWjv0QiEGBO++801XDqGdB4LjsssusQoUKrhIm2Pjyyy/ddCdNfXrkkUfO2URf03QSbVOpUqUYlOGSY0kgKe+x/1/+s2XLZn/++adlzpzZVXqpN9KVV14ZSxRcayoTCPfDLD+XU9kLkEpuJ9z3mJ/LqeTBp/LbaNasmc2aNcuOHDni/jGHvyun8gd+gW+PUOYCg3M6BFJSQFOTLrroItdQMnBo3qymc2hqSLAxe/ZsU0nmRx99ZHXr1j1nE32tXr167g8rzcFlIBBJgaS8x7quXr16uWki6t+h3w8rV660l156ybJnz+4arRYpUiSSl8+xEYhTINwPs/xc5mWKRoFw32N+LkfjU+Sa/AU0bV/Tl+rUqWP6uRvX4Gcy701iBQhlEivHfgjEoICqAFQRow+hgUNVMJonu2XLlqB3NnXqVGvZsqUtWLDA7rjjjnO2+fTTT03VC9rm/vvvj0EZLjmWBJLyHsd1n6oQU7VMuKvexJIb1xr9AuF+mOXncvQ/07R4heG+x/xcTotvSezc8x9//GGVK1e2PXv2uGrz+P7hhp/JsfNco+1KCWWi7YlwPQhEUCApFQak/xF8MBw6LIGkvMfxnUiVM3v37nV/8WIgkBIC4X6Y5edySjwlzpmQQLjvMT+XExLl+ykloL5z+kdHrTA6f/58u/XWW+O9FH4mp9STiv3zEsrE/jPkDhAIWSApvTjoXRAyMxtGWCAp73F8l6blsLUcsRoAMxBICYFwP8zyczklnhLnTEgg3PeYn8sJifL9lBDQ3wXuueceW7RokZuer2n6CQ1+JickxPfjEiCU4d1AIA0JPPXUUzZ48OA4V1/S9wcOHBhUJKGO8jNmzHCrL8XV/CwNMXOrERZIynsc36WVK1fONfDTygoMBFJCINwPs/xcTomnxDkTEgj3PebnckKifP9CC+gdVh/Fjz/+2N58801r0aJFSJfAz+SQmNgoiAChDK8FAmlIQHNhtcJSp06dbPTo0b4779Kli40dO9bWrVtn+mCqhr9bt261HDlyWP78+X3bqYmvesps2rTJtxygPsCWKlXKlXfG1/wsDTFzqxEWSMp7fOzYMXd1gUu3a0l3Lff+8MMP24QJEyJ8BxwegeAC8X2Y5ecyb02sCIT7HvNzOVaebNq4zn/++ceaN29u+nuB/j6gvxcEG/xMThvvw4W6S0KZCyXNeRCIEgEtZ/3KK69Y69atrUqVKrZixQqbMmXKOR9Gd+zYYcWKFTuv6enmzZvtf//7n+XOnds6d+7s7mjMmDGuQkbzba+++uoouUsuI7ULJPY9VvBYo0YNa9KkiXtftfqSyo2nT59uhQsXtlWrVrlm2AwELqSAVv/6/fffTR8G+vXr58JzTafTUPm8wnJ+Ll/IJ8K5EiOQ2PeYn8uJ0WafSAl07drVRo0aZdWqVbOHHnrovNPcfvvt7u8J/EyO1BNIm8cllEmbz527TsMC+hesoUOH2qRJk2z37t1WoEABa9eunfXo0cMyZMjgZOL6g0bf+/77761nz562fPlyt23VqlVtyJAh7kMDA4ELJZDY93jfvn3WrVs3W7NmjWvoq3/pKlSokFvmvU+fPpYnT54LdQucBwGfQNGiRW3nzp1BRRSaP/jgg/xc5n2JeoHEvsf8XI76R5umLvCWW26xzz//PM57XrJkiWkb/q6cpl6LiN8soUzEiTkBAggggAACCCCAAAIIIIAAAgggcL4AoQxvBQIIIIAAAggggAACCCCAAAIIIJACAoQyKYDOKRFAAAEEEEAAAQQQQAABBBBAAAFCGd4BBBBAAAEEEEAAAQQQQAABBBBAIAUECGVSAJ1TIoAAAggggAACCCCAAAIIIIAAAoQyvAMIIIAAAggggAACCCCAAAIIIIBACggQyqQAOqdEAAEEEEAAAQQQQAABBBBAAAEECGV4BxBAAAEEEEAAAQQQQAABBBBAAIEUECCUSQF0TokAAggggAACCCCAAAIIIIAAAggQyvAOIIAAAggggAACCCCAAAIIIIAAAikgQCiTAuicEgEEEEAAAQQQQAABBBBAAAEEECCU4R1AAAEEEEAAAQQQQAABBBBAAIGYEvjrr79s+PDh9vXXX9vatWtt37591qpVK3v99dcTfR+33HKLff7553HuP23aNGvRokWijx9sR0KZZOXkYAgggAACCCCAAAIIJE7gkksuOWfH48ePW8eOHW3s2LGJOyB7IYAAAqlYYMeOHVasWDHLnz+/XX/99TZnzpwkhzKfffaZ7d+//zy1vn372u7du93/8uXLl6yqhDLJysnBEEAAAQQQQAABBBBIuoD+Bfjyyy+3efPmWbVq1ZJ+QI6AAAIIpDKBkydP2sGDB61AgQJ25swZy5gxY5JDmWBEu3btsqJFi1qdOnXso48+SnZFQplkJ+WACCCAAAIIIIBA6hHYunWrderUyb766is7cuSIjRo1ynLmzGmtW7e2JUuWmEq9Y2n85z//sX79+tmzzz4b0mUvW7bMatSoYT/++KNdffXVIe2THBu98cYb9txzz5n8dc0ab775pnsW27Zts9y5cyfHaTgGAgggkCoEEgpl/v77bxsyZIjNmDHDVGGTI0cOq1Wrlg0aNMgKFiwYr8HAgQNNlTKzZs2yBg0aJLsXoUyyk3JABBBAAAEEEEAg+QT++OMPGzNmjH3wwQe2ZcsWO3HihPtXwerVq9sjjzxiN954Y/KdLMiRqlataps2bXJ/Ic2TJ4/dcMMNLqBJK6FMpUqV7Morr7Tp06c7nXB7GJw9e9aGDRtmkyZNsl9++cUKFSpk7dq1s+7du1v69OnjfHYKglQh4x8e6UOHgqF69erZyJEjI/rcOTgCCCAQSwLxhTKnTp2yW2+91datW2dt27a1MmXKmKpfxo0bZ9myZbNvvvnG/fkW19DPXVXk7N271y666KJkZyGUSXZSDogAAggggAACCCSPgKozateu7f4iqH+dq1KlimXJksVVT+hf7H7++WdXwXHNNdckzwkDjqKeJjpfly5d7MUXX/R9V0HD6dOn3V9O06VLF5FzR+qg4VTKLFq0yGrWrGlffvmlKZzRCLeHgXrCjB8/3oVYN910k61YscI1odTX9YEg2Ni5c6cVL17chXDql+A/hg4d6oKaPXv2uIolBgIIIICAxTt9ScH4U089Zap8rFy5so9LIY3+oUEh+eDBg4My6ue/fnY/+uij9tJLL0WEmlAmIqwcFAEEEEAAAQQQSJqAKjLKly/vpgx9+umn7i+O/kPBiP6CePvtt0cslNG/JBYpUiSs6T7+16jg5t9//43IvywmVjecUKZp06ZuRQ+FI94Ip4fBDz/84J6hphyNHj3adwyFXGre+91331nZsmXPu5UBAwaYmk0GWwHE622g/fUhgYEAAgggEH8oc91117k/h9QIOHDcfPPNpibra9asCcqoitRXXnnFfT/wz+HkcieUSS5JjoMAAggggAACCCSjgKandOvWzU17Ubl1KEPLgWqa0dy5c+3w4cNWuHBhe+CBB6x3796uAaKGqjRUtfHJJ5+4ChAdX2XZWrni5ZdfdiGCxoMPPmjqaxI4FLJ4x/DvKeN9TedWNYj6n6iaQ0uV6l8jdc758+fbypUrbfLkyS5s0tSoiRMnuutUyKDg4tdff3XX8Oqrr/quxbuGcHoCqNrk8ccft4ULF1qGDBlc7wBV+6h5big9ZRQoqRJFDnFVtCTUw6BPnz6uX4F6wPhXvGzfvt1Vwuj7CmACR4kSJaxXr17Wpk2boI+9dOnSdtlll9nixYtDeS3YBgEEEEj1AvH9PFbFpyo/4xr6M0h/ZgQOhfBa2emKK66w9evXR8yQUCZitBwYAQQQQAABBBBIvID+9U7/Mvf777/bxRdfnOCBFHLoXwO1XGeHDh1c7xEFEu+//76b+qTpTv6hjEIYVY00b97c9akZPny4Zc+e3U2JUoihwGbVqlX2xBNPWP369e2+++5z+99///3xhjKaq68AqEWLFm5qk86t8EChTIUKFdy9qAJF4YuaBpcrV84aN25sb731lgtAjh49apqio78Ib9682dd3JZyeALJQsPPbb7+5ahIFIgqLtMzpt99+G1Ioo745KnNX2NSqVaug/gmFMnfeeaerhlFYFjgUqshD4Zj/UGil6ifto14HwYbCmnfeece9G17YluALwgYIIIBAKhaI7+dx5syZ3c/b559/PqiA/lzSPxIEjpkzZ7o/n/RnkqY4RWoQykRKluMigAACCCCAAAJJENDqOloRQh/qQxk9e/Z0f3HUyhJNmjTx7aKAZsKECe7Dv0ICr6JFf0FV6OJ9qFcjYYUvCi/uuusut7/XPyWwsiS+Shn1t1F1jH+Q5G2v0m+FPQp9NBT4qHpFoYl64+gvzhqa/9+jRw9bsGCB3XHHHb6vhdoTQFUmWmVDgdS9997r9leFT6NGjWz27NkhhTJTpkxxlSrqQaCALNhIKJTR1CSVzMsjcChAUzWOpjj5j4cffthUETR16tQ4H7u3EshPP/1kV111VSivB9sggAACqVogvp/H+lmsn7dqWh/O0BLY+rNTTdr1DwWRGoQykZLluAgggAACCCCAQBIEFJaouewXX3wR0lFKlSrl/tLp3/9EO3p9YRTOaHqSF5AoqFEA4A1Vl+TKlcut9KQeKBqJCWVU/aJpQ/7DO6fm5bdv3973LVXvKCh55pln3PLP3li+fLkLQnS9um6NcHoCyEJ/QVfVj//wql9Cmb6kgEtBl0ITVf8EGwmFMlq1SRUxqn4JHGocqUqewOcVysPWs5OLjuvftDKUfdkGAQQQSI0C8f08VhNfhfoK21WR6T8U2GsKb968ec/5uior9Q8jqlycN29eRMkIZSLKy8ERQAABBBBAAIHECahSRssnqx9LKEOVKfrL48cff3ze5poGo9Js9XTx7ymjyhn/oelMWtlHoYVGYkKZjz76yOrWrXvOceM6p6ZX6ZoD++Zo7r7+ZVP9VtR3RSOcngBxWWh5cfWJCSeU+f7774M249U1JRTKJKZSJpRnrbBK07IIZULRYhsEEEjNAmp4r6mc//zzj/vZripQb7rtPffc46bIqjeM/qzRP3I0bNjQ/Xmof/hQf68PP/zQTVEK7O/l9XULrD6NhCWhTCRUOSYCCCCAAAIIIJBEgXB7yoQbymh1Hy33HBjK+AcWiQllgh3XC2UCv+eFMoH/eumFMv3793eNizXC6QmQHKGMN31JKyBVq1Yt6NNMKJRJTE+ZUF4bpi+FosQ2CCCQFgSKFi0atEmv7t3/zxYFM5ouq/5lmvqpUEaVMDVq1DCtsBRYEam+ZKo03bt3b0h93ZJiTSiTFD32RQABBBBAAAEEIiQwYsQIe/LJJ+21116LcxUe/1PHNX1Jc+G1skTHjh3dKkJxBSQ6VuBy0dEUyoTTE0AWWjJcf/H2H+FMX/K2jc8/oVBG5fIqm49r9SV9XwFLuINGv+GKsT0CCCAQvQKEMtH7bLgyBBBAAAEEEEjDAn/++acru9ZqRKowUU8V/6FSbYUst912m6m5rtfcVqtFqDzbG5rmoukuXtPcWA1lwukJ4DU9TkqjX/XnyZEjh7Vs2dI1Sg42Egpl1KRZpfTq0aPlvr3RpUsXtwS4pqbpGYc7tCR2vnz5TEuSMxBAAAEEYluAUCa2nx9XjwACCCCAAAKpWEBNZmvXru2WclZDXDWH1TQezYPXKkJaMlpTfRTK+C+JraqYEiVKuKWotV2wJbFjbfpSOD0BDh06ZNdee60dOHDAHnvsMbe605w5c8JaEluvlVaxWr16tat0URWRN0LpYeBtq7J4NTjWkuBVqlSxFStWuJJ6NVmOK+yJ75VW5VORIkVcQ2bdGwMBBBBAILYFCGVi+/lx9QgggAACCCCQygUUtugDuJoRajWhU6dOWYECBezWW291K/BomWlvaO67erBoWevDhw+7aUuq9Ojdu7dv6etYrZTRPYbTE0DBlVaBWrRokbv3WrVquX4Cl19+eUiNfnU+hVqqRNJqUApUvBFqDwNtr2oareSkZsa7d+92z65du3ZuyW9vafBwXmEtF67VqvSs1bSYgQACCCAQ2wKEMrH9/Lh6BBBAAAEEEEAAgQgKaFlyVdq8/fbbETxLaIdWn5yrr77arW6lpccZCCCAAAKxL0DcIKPEAAACv0lEQVQoE/vPkDtAAAEEEEAAAQQQiJDAsmXLXFXShg0bXCCSkmPq1KluypKmU2nJdAYCCCCAQOwLEMrE/jPkDhBAAAEEEEAAAQQQQAABBBBAIAYFCGVi8KFxyQgggAACCCCAAAIIIIAAAgggEPsChDKx/wy5AwQQQAABBBBAAAEEEEAAAQQQiEEBQpkYfGhcMgIIIIAAAggggAACCCCAAAIIxL4AoUzsP0PuAAEEEEAAAQQQQAABBBBAAAEEYlCAUCYGHxqXjAACCCCAAAIIIIAAAggggAACsS9AKBP7z5A7QAABBBBAAAEEEEAAAQQQQACBGBQglInBh8YlI4AAAggggAACCCCAAAIIIIBA7AsQysT+M+QOEEAAAQQQQAABBBBAAAEEEEAgBgUIZWLwoXHJCCCAAAIIIIAAAggggAACCCAQ+wKEMrH/DLkDBBBAAAEEEEAAAQQQQAABBBCIQQFCmRh8aFwyAggggAACCCCAAAIIIIAAAgjEvgChTOw/Q+4AAQQQQAABBBBAAAEEEEAAAQRiUIBQJgYfGpeMAAIIIIAAAggggAACCCCAAAKxL0AoE/vPkDtAAAEEEEAAAQQQQAABBBBAAIEYFCCUicGHxiUjgAACCCCAAAIIIIAAAggggEDsCxDKxP4z5A4QQAABBBBAAAEEEEAAAQQQQCAGBQhlYvChcckIIIAAAggggAACCCCAAAIIIBD7AoQysf8MuQMEEEAAAQQQQAABBBBAAAEEEIhBAUKZGHxoXDICCCCAAAIIIIAAAggggAACCMS+AKFM7D9D7gABBBBAAAEEEEAAAQQQQAABBGJQgFAmBh8al4wAAggggAACCCCAAAIIIIAAArEvQCgT+8+QO0AAAQQQQAABBBBAAAEEEEAAgRgUIJSJwYfGJSOAAAIIIIAAAggggAACCCCAQOwL/H/QzaDhruqA0AAAAABJRU5ErkJggg==\" width=\"900\">"
      ],
      "text/plain": [
       "<IPython.core.display.HTML object>"
      ]
     },
     "metadata": {},
     "output_type": "display_data"
    }
   ],
   "source": [
    "plt.figure(figsize =(9,5))\n",
    "sns.barplot(x = \"Confirmed\",y = \"State\",data = data_plot,palette = \"muted\")\n",
    "# plt.bar(x = \"Confirmed\",height = \"State\")\n",
    "plt.xlabel(\"Confirmed ($10^7$)\")\n",
    "plt.gca().spines[\"right\"].set_visible(False)\n",
    "plt.gca().spines[\"top\"].set_visible(False)\n",
    "plt.gca().spines[\"left\"].set_visible(False)\n",
    "plt.tick_params(left = False)\n",
    "plt.gca().set_yticklabels(data_plot[\"State\"],fontsize = 8 )\n",
    "plt.title(\"Confirmed Cases till August\")\n",
    "plt.tight_layout()"
   ]
  },
  {
   "cell_type": "code",
   "execution_count": 25,
   "metadata": {},
   "outputs": [],
   "source": [
    "top_3  = new_covid.set_index(\"State\").apply(lambda x: x.nlargest(3)) ######FIRST SET INDEX TO STATE THEN USE NLARGEST"
   ]
  },
  {
   "cell_type": "code",
   "execution_count": 26,
   "metadata": {},
   "outputs": [
    {
     "data": {
      "text/html": [
       "<div>\n",
       "<style scoped>\n",
       "    .dataframe tbody tr th:only-of-type {\n",
       "        vertical-align: middle;\n",
       "    }\n",
       "\n",
       "    .dataframe tbody tr th {\n",
       "        vertical-align: top;\n",
       "    }\n",
       "\n",
       "    .dataframe thead th {\n",
       "        text-align: right;\n",
       "    }\n",
       "</style>\n",
       "<table border=\"1\" class=\"dataframe\">\n",
       "  <thead>\n",
       "    <tr style=\"text-align: right;\">\n",
       "      <th></th>\n",
       "      <th>Confirmed</th>\n",
       "    </tr>\n",
       "    <tr>\n",
       "      <th>State</th>\n",
       "      <th></th>\n",
       "    </tr>\n",
       "  </thead>\n",
       "  <tbody>\n",
       "    <tr>\n",
       "      <th>Maharashtra</th>\n",
       "      <td>22437979</td>\n",
       "    </tr>\n",
       "    <tr>\n",
       "      <th>Tamil Nadu</th>\n",
       "      <td>11965369</td>\n",
       "    </tr>\n",
       "    <tr>\n",
       "      <th>Delhi</th>\n",
       "      <td>7896076</td>\n",
       "    </tr>\n",
       "  </tbody>\n",
       "</table>\n",
       "</div>"
      ],
      "text/plain": [
       "             Confirmed\n",
       "State                 \n",
       "Maharashtra   22437979\n",
       "Tamil Nadu    11965369\n",
       "Delhi          7896076"
      ]
     },
     "execution_count": 26,
     "metadata": {},
     "output_type": "execute_result"
    }
   ],
   "source": [
    "top_3"
   ]
  },
  {
   "cell_type": "markdown",
   "metadata": {},
   "source": [
    "### THE AGE GROUP\n",
    "\n"
   ]
  },
  {
   "cell_type": "code",
   "execution_count": 27,
   "metadata": {},
   "outputs": [],
   "source": [
    "age_group = pd.read_csv(\"IndividualDetails.csv\")"
   ]
  },
  {
   "cell_type": "code",
   "execution_count": 28,
   "metadata": {},
   "outputs": [
    {
     "data": {
      "text/plain": [
       "id                        0\n",
       "government_id         25185\n",
       "diagnosed_date            0\n",
       "age                   25836\n",
       "gender                22869\n",
       "detected_city         25832\n",
       "detected_district      6984\n",
       "detected_state            0\n",
       "nationality           25473\n",
       "current_status            0\n",
       "status_change_date      402\n",
       "notes                  1335\n",
       "dtype: int64"
      ]
     },
     "execution_count": 28,
     "metadata": {},
     "output_type": "execute_result"
    }
   ],
   "source": [
    "age_group.isnull().sum()"
   ]
  },
  {
   "cell_type": "code",
   "execution_count": 29,
   "metadata": {},
   "outputs": [],
   "source": [
    "age_group = age_group.dropna()"
   ]
  },
  {
   "cell_type": "code",
   "execution_count": 30,
   "metadata": {},
   "outputs": [
    {
     "data": {
      "text/plain": [
       "id                    0\n",
       "government_id         0\n",
       "diagnosed_date        0\n",
       "age                   0\n",
       "gender                0\n",
       "detected_city         0\n",
       "detected_district     0\n",
       "detected_state        0\n",
       "nationality           0\n",
       "current_status        0\n",
       "status_change_date    0\n",
       "notes                 0\n",
       "dtype: int64"
      ]
     },
     "execution_count": 30,
     "metadata": {},
     "output_type": "execute_result"
    }
   ],
   "source": [
    "age_group.isnull().sum()"
   ]
  },
  {
   "cell_type": "markdown",
   "metadata": {},
   "source": [
    "### CHILD 0- 16\n",
    "### Young Adults  17-30\n",
    "### Middle Aged Adults 31-45\n",
    "### Old Age Adults above 45"
   ]
  },
  {
   "cell_type": "code",
   "execution_count": 31,
   "metadata": {},
   "outputs": [],
   "source": [
    "age_group[\"age\"] = age_group[\"age\"].astype(int)"
   ]
  },
  {
   "cell_type": "code",
   "execution_count": 32,
   "metadata": {},
   "outputs": [
    {
     "data": {
      "text/html": [
       "<div>\n",
       "<style scoped>\n",
       "    .dataframe tbody tr th:only-of-type {\n",
       "        vertical-align: middle;\n",
       "    }\n",
       "\n",
       "    .dataframe tbody tr th {\n",
       "        vertical-align: top;\n",
       "    }\n",
       "\n",
       "    .dataframe thead th {\n",
       "        text-align: right;\n",
       "    }\n",
       "</style>\n",
       "<table border=\"1\" class=\"dataframe\">\n",
       "  <thead>\n",
       "    <tr style=\"text-align: right;\">\n",
       "      <th></th>\n",
       "      <th>id</th>\n",
       "      <th>government_id</th>\n",
       "      <th>diagnosed_date</th>\n",
       "      <th>age</th>\n",
       "      <th>gender</th>\n",
       "      <th>detected_city</th>\n",
       "      <th>detected_district</th>\n",
       "      <th>detected_state</th>\n",
       "      <th>nationality</th>\n",
       "      <th>current_status</th>\n",
       "      <th>status_change_date</th>\n",
       "      <th>notes</th>\n",
       "    </tr>\n",
       "  </thead>\n",
       "  <tbody>\n",
       "    <tr>\n",
       "      <th>0</th>\n",
       "      <td>0</td>\n",
       "      <td>KL-TS-P1</td>\n",
       "      <td>30/01/2020</td>\n",
       "      <td>20</td>\n",
       "      <td>F</td>\n",
       "      <td>Thrissur</td>\n",
       "      <td>Thrissur</td>\n",
       "      <td>Kerala</td>\n",
       "      <td>India</td>\n",
       "      <td>Recovered</td>\n",
       "      <td>14/02/2020</td>\n",
       "      <td>Travelled from Wuhan</td>\n",
       "    </tr>\n",
       "    <tr>\n",
       "      <th>3</th>\n",
       "      <td>3</td>\n",
       "      <td>DL-P1</td>\n",
       "      <td>02/03/2020</td>\n",
       "      <td>45</td>\n",
       "      <td>M</td>\n",
       "      <td>East Delhi (Mayur Vihar)</td>\n",
       "      <td>East Delhi</td>\n",
       "      <td>Delhi</td>\n",
       "      <td>India</td>\n",
       "      <td>Recovered</td>\n",
       "      <td>15/03/2020</td>\n",
       "      <td>Travelled from Austria, Italy</td>\n",
       "    </tr>\n",
       "    <tr>\n",
       "      <th>4</th>\n",
       "      <td>4</td>\n",
       "      <td>TS-P1</td>\n",
       "      <td>02/03/2020</td>\n",
       "      <td>24</td>\n",
       "      <td>M</td>\n",
       "      <td>Hyderabad</td>\n",
       "      <td>Hyderabad</td>\n",
       "      <td>Telangana</td>\n",
       "      <td>India</td>\n",
       "      <td>Recovered</td>\n",
       "      <td>02/03/2020</td>\n",
       "      <td>Travelled from Dubai to Bangalore on 20th Feb,...</td>\n",
       "    </tr>\n",
       "    <tr>\n",
       "      <th>28</th>\n",
       "      <td>28</td>\n",
       "      <td>DL-P2</td>\n",
       "      <td>05/03/2020</td>\n",
       "      <td>27</td>\n",
       "      <td>M</td>\n",
       "      <td>Janakpuri</td>\n",
       "      <td>South West Delhi</td>\n",
       "      <td>Delhi</td>\n",
       "      <td>India</td>\n",
       "      <td>Hospitalized</td>\n",
       "      <td>05/03/2020</td>\n",
       "      <td>Travelled from Italy PayTm Emp,</td>\n",
       "    </tr>\n",
       "    <tr>\n",
       "      <th>33</th>\n",
       "      <td>33</td>\n",
       "      <td>TN-P1</td>\n",
       "      <td>07/03/2020</td>\n",
       "      <td>45</td>\n",
       "      <td>M</td>\n",
       "      <td>Kancheepuram</td>\n",
       "      <td>Kancheepuram</td>\n",
       "      <td>Tamil Nadu</td>\n",
       "      <td>India</td>\n",
       "      <td>Recovered</td>\n",
       "      <td>07/03/2020</td>\n",
       "      <td>Travelled from Oman to Chennai Airport on 28.0...</td>\n",
       "    </tr>\n",
       "    <tr>\n",
       "      <th>...</th>\n",
       "      <td>...</td>\n",
       "      <td>...</td>\n",
       "      <td>...</td>\n",
       "      <td>...</td>\n",
       "      <td>...</td>\n",
       "      <td>...</td>\n",
       "      <td>...</td>\n",
       "      <td>...</td>\n",
       "      <td>...</td>\n",
       "      <td>...</td>\n",
       "      <td>...</td>\n",
       "      <td>...</td>\n",
       "    </tr>\n",
       "    <tr>\n",
       "      <th>19121</th>\n",
       "      <td>19122</td>\n",
       "      <td>KL-KN--P104</td>\n",
       "      <td>21/04/2020</td>\n",
       "      <td>32</td>\n",
       "      <td>F</td>\n",
       "      <td>Kottayam Malabar</td>\n",
       "      <td>Kannur</td>\n",
       "      <td>Kerala</td>\n",
       "      <td>India</td>\n",
       "      <td>Hospitalized</td>\n",
       "      <td>21/04/2020</td>\n",
       "      <td>Contact transmission</td>\n",
       "    </tr>\n",
       "    <tr>\n",
       "      <th>19130</th>\n",
       "      <td>19131</td>\n",
       "      <td>KL-KL-P10</td>\n",
       "      <td>21/04/2020</td>\n",
       "      <td>35</td>\n",
       "      <td>M</td>\n",
       "      <td>Kulathupuzha</td>\n",
       "      <td>Kollam</td>\n",
       "      <td>Kerala</td>\n",
       "      <td>India</td>\n",
       "      <td>Hospitalized</td>\n",
       "      <td>21/04/2020</td>\n",
       "      <td>Travel history to Thenkashi, Tamil Nadu</td>\n",
       "    </tr>\n",
       "    <tr>\n",
       "      <th>24837</th>\n",
       "      <td>24838</td>\n",
       "      <td>KL-KL-P12</td>\n",
       "      <td>25/04/2020</td>\n",
       "      <td>51</td>\n",
       "      <td>M</td>\n",
       "      <td>Kulathupuzha</td>\n",
       "      <td>Kollam</td>\n",
       "      <td>Kerala</td>\n",
       "      <td>India</td>\n",
       "      <td>Hospitalized</td>\n",
       "      <td>25/04/2020</td>\n",
       "      <td>Contact transmission, friend of P19074</td>\n",
       "    </tr>\n",
       "    <tr>\n",
       "      <th>24838</th>\n",
       "      <td>24839</td>\n",
       "      <td>KL-KL-P13</td>\n",
       "      <td>25/04/2020</td>\n",
       "      <td>47</td>\n",
       "      <td>F</td>\n",
       "      <td>Chathannoor</td>\n",
       "      <td>Kollam</td>\n",
       "      <td>Kerala</td>\n",
       "      <td>India</td>\n",
       "      <td>Hospitalized</td>\n",
       "      <td>25/04/2020</td>\n",
       "      <td>Details awaited, ASHA Worker, random sampling</td>\n",
       "    </tr>\n",
       "    <tr>\n",
       "      <th>24839</th>\n",
       "      <td>24840</td>\n",
       "      <td>KL-KL-P14</td>\n",
       "      <td>25/04/2020</td>\n",
       "      <td>20</td>\n",
       "      <td>M</td>\n",
       "      <td>Peringathur</td>\n",
       "      <td>Kannur</td>\n",
       "      <td>Kerala</td>\n",
       "      <td>India</td>\n",
       "      <td>Hospitalized</td>\n",
       "      <td>25/04/2020</td>\n",
       "      <td>Contact transmission</td>\n",
       "    </tr>\n",
       "  </tbody>\n",
       "</table>\n",
       "<p>268 rows × 12 columns</p>\n",
       "</div>"
      ],
      "text/plain": [
       "          id government_id diagnosed_date  age gender  \\\n",
       "0          0      KL-TS-P1     30/01/2020   20      F   \n",
       "3          3         DL-P1     02/03/2020   45      M   \n",
       "4          4         TS-P1     02/03/2020   24      M   \n",
       "28        28         DL-P2     05/03/2020   27      M   \n",
       "33        33         TN-P1     07/03/2020   45      M   \n",
       "...      ...           ...            ...  ...    ...   \n",
       "19121  19122   KL-KN--P104     21/04/2020   32      F   \n",
       "19130  19131     KL-KL-P10     21/04/2020   35      M   \n",
       "24837  24838     KL-KL-P12     25/04/2020   51      M   \n",
       "24838  24839     KL-KL-P13     25/04/2020   47      F   \n",
       "24839  24840     KL-KL-P14     25/04/2020   20      M   \n",
       "\n",
       "                  detected_city detected_district detected_state nationality  \\\n",
       "0                      Thrissur          Thrissur         Kerala       India   \n",
       "3      East Delhi (Mayur Vihar)        East Delhi          Delhi       India   \n",
       "4                     Hyderabad         Hyderabad      Telangana       India   \n",
       "28                    Janakpuri  South West Delhi          Delhi       India   \n",
       "33                 Kancheepuram      Kancheepuram     Tamil Nadu       India   \n",
       "...                         ...               ...            ...         ...   \n",
       "19121          Kottayam Malabar            Kannur         Kerala       India   \n",
       "19130              Kulathupuzha            Kollam         Kerala       India   \n",
       "24837              Kulathupuzha            Kollam         Kerala       India   \n",
       "24838               Chathannoor            Kollam         Kerala       India   \n",
       "24839               Peringathur            Kannur         Kerala       India   \n",
       "\n",
       "      current_status status_change_date  \\\n",
       "0          Recovered         14/02/2020   \n",
       "3          Recovered         15/03/2020   \n",
       "4          Recovered         02/03/2020   \n",
       "28      Hospitalized         05/03/2020   \n",
       "33         Recovered         07/03/2020   \n",
       "...              ...                ...   \n",
       "19121   Hospitalized         21/04/2020   \n",
       "19130   Hospitalized         21/04/2020   \n",
       "24837   Hospitalized         25/04/2020   \n",
       "24838   Hospitalized         25/04/2020   \n",
       "24839   Hospitalized         25/04/2020   \n",
       "\n",
       "                                                   notes  \n",
       "0                                   Travelled from Wuhan  \n",
       "3                          Travelled from Austria, Italy  \n",
       "4      Travelled from Dubai to Bangalore on 20th Feb,...  \n",
       "28                      Travelled from Italy PayTm Emp,   \n",
       "33     Travelled from Oman to Chennai Airport on 28.0...  \n",
       "...                                                  ...  \n",
       "19121                               Contact transmission  \n",
       "19130            Travel history to Thenkashi, Tamil Nadu  \n",
       "24837             Contact transmission, friend of P19074  \n",
       "24838      Details awaited, ASHA Worker, random sampling  \n",
       "24839                              Contact transmission   \n",
       "\n",
       "[268 rows x 12 columns]"
      ]
     },
     "execution_count": 32,
     "metadata": {},
     "output_type": "execute_result"
    }
   ],
   "source": [
    "age_group"
   ]
  },
  {
   "cell_type": "code",
   "execution_count": 33,
   "metadata": {},
   "outputs": [],
   "source": [
    "child_data = age_group[age_group[\"age\"] <= 16]"
   ]
  },
  {
   "cell_type": "code",
   "execution_count": 34,
   "metadata": {},
   "outputs": [],
   "source": [
    "young_adults = age_group[(age_group[\"age\"] >= 17) & (age_group[\"age\"] <=30)]"
   ]
  },
  {
   "cell_type": "code",
   "execution_count": 35,
   "metadata": {},
   "outputs": [],
   "source": [
    "middle_aged = age_group[(age_group[\"age\"] >= 31) & (age_group[\"age\"] <=45)]"
   ]
  },
  {
   "cell_type": "code",
   "execution_count": 36,
   "metadata": {},
   "outputs": [],
   "source": [
    "old_age = age_group[age_group[\"age\"] > 45]"
   ]
  },
  {
   "cell_type": "code",
   "execution_count": 37,
   "metadata": {},
   "outputs": [],
   "source": [
    "child_number = child_data.shape[0]"
   ]
  },
  {
   "cell_type": "code",
   "execution_count": 38,
   "metadata": {},
   "outputs": [],
   "source": [
    "yound_number = young_adults.shape[0]"
   ]
  },
  {
   "cell_type": "code",
   "execution_count": 39,
   "metadata": {},
   "outputs": [],
   "source": [
    "middle_number = middle_aged.shape[0]"
   ]
  },
  {
   "cell_type": "code",
   "execution_count": 40,
   "metadata": {},
   "outputs": [],
   "source": [
    "old_number = old_age.shape[0]"
   ]
  },
  {
   "cell_type": "code",
   "execution_count": 41,
   "metadata": {},
   "outputs": [],
   "source": [
    "counts = [child_number,yound_number,middle_number,old_number]\n"
   ]
  },
  {
   "cell_type": "code",
   "execution_count": 42,
   "metadata": {},
   "outputs": [],
   "source": [
    "names = [\"Children\",\"Young Adults\",\"Middle Aged\",\"Old Aged\"]"
   ]
  },
  {
   "cell_type": "code",
   "execution_count": 118,
   "metadata": {},
   "outputs": [
    {
     "data": {
      "application/javascript": [
       "/* Put everything inside the global mpl namespace */\n",
       "window.mpl = {};\n",
       "\n",
       "\n",
       "mpl.get_websocket_type = function() {\n",
       "    if (typeof(WebSocket) !== 'undefined') {\n",
       "        return WebSocket;\n",
       "    } else if (typeof(MozWebSocket) !== 'undefined') {\n",
       "        return MozWebSocket;\n",
       "    } else {\n",
       "        alert('Your browser does not have WebSocket support. ' +\n",
       "              'Please try Chrome, Safari or Firefox ≥ 6. ' +\n",
       "              'Firefox 4 and 5 are also supported but you ' +\n",
       "              'have to enable WebSockets in about:config.');\n",
       "    };\n",
       "}\n",
       "\n",
       "mpl.figure = function(figure_id, websocket, ondownload, parent_element) {\n",
       "    this.id = figure_id;\n",
       "\n",
       "    this.ws = websocket;\n",
       "\n",
       "    this.supports_binary = (this.ws.binaryType != undefined);\n",
       "\n",
       "    if (!this.supports_binary) {\n",
       "        var warnings = document.getElementById(\"mpl-warnings\");\n",
       "        if (warnings) {\n",
       "            warnings.style.display = 'block';\n",
       "            warnings.textContent = (\n",
       "                \"This browser does not support binary websocket messages. \" +\n",
       "                    \"Performance may be slow.\");\n",
       "        }\n",
       "    }\n",
       "\n",
       "    this.imageObj = new Image();\n",
       "\n",
       "    this.context = undefined;\n",
       "    this.message = undefined;\n",
       "    this.canvas = undefined;\n",
       "    this.rubberband_canvas = undefined;\n",
       "    this.rubberband_context = undefined;\n",
       "    this.format_dropdown = undefined;\n",
       "\n",
       "    this.image_mode = 'full';\n",
       "\n",
       "    this.root = $('<div/>');\n",
       "    this._root_extra_style(this.root)\n",
       "    this.root.attr('style', 'display: inline-block');\n",
       "\n",
       "    $(parent_element).append(this.root);\n",
       "\n",
       "    this._init_header(this);\n",
       "    this._init_canvas(this);\n",
       "    this._init_toolbar(this);\n",
       "\n",
       "    var fig = this;\n",
       "\n",
       "    this.waiting = false;\n",
       "\n",
       "    this.ws.onopen =  function () {\n",
       "            fig.send_message(\"supports_binary\", {value: fig.supports_binary});\n",
       "            fig.send_message(\"send_image_mode\", {});\n",
       "            if (mpl.ratio != 1) {\n",
       "                fig.send_message(\"set_dpi_ratio\", {'dpi_ratio': mpl.ratio});\n",
       "            }\n",
       "            fig.send_message(\"refresh\", {});\n",
       "        }\n",
       "\n",
       "    this.imageObj.onload = function() {\n",
       "            if (fig.image_mode == 'full') {\n",
       "                // Full images could contain transparency (where diff images\n",
       "                // almost always do), so we need to clear the canvas so that\n",
       "                // there is no ghosting.\n",
       "                fig.context.clearRect(0, 0, fig.canvas.width, fig.canvas.height);\n",
       "            }\n",
       "            fig.context.drawImage(fig.imageObj, 0, 0);\n",
       "        };\n",
       "\n",
       "    this.imageObj.onunload = function() {\n",
       "        fig.ws.close();\n",
       "    }\n",
       "\n",
       "    this.ws.onmessage = this._make_on_message_function(this);\n",
       "\n",
       "    this.ondownload = ondownload;\n",
       "}\n",
       "\n",
       "mpl.figure.prototype._init_header = function() {\n",
       "    var titlebar = $(\n",
       "        '<div class=\"ui-dialog-titlebar ui-widget-header ui-corner-all ' +\n",
       "        'ui-helper-clearfix\"/>');\n",
       "    var titletext = $(\n",
       "        '<div class=\"ui-dialog-title\" style=\"width: 100%; ' +\n",
       "        'text-align: center; padding: 3px;\"/>');\n",
       "    titlebar.append(titletext)\n",
       "    this.root.append(titlebar);\n",
       "    this.header = titletext[0];\n",
       "}\n",
       "\n",
       "\n",
       "\n",
       "mpl.figure.prototype._canvas_extra_style = function(canvas_div) {\n",
       "\n",
       "}\n",
       "\n",
       "\n",
       "mpl.figure.prototype._root_extra_style = function(canvas_div) {\n",
       "\n",
       "}\n",
       "\n",
       "mpl.figure.prototype._init_canvas = function() {\n",
       "    var fig = this;\n",
       "\n",
       "    var canvas_div = $('<div/>');\n",
       "\n",
       "    canvas_div.attr('style', 'position: relative; clear: both; outline: 0');\n",
       "\n",
       "    function canvas_keyboard_event(event) {\n",
       "        return fig.key_event(event, event['data']);\n",
       "    }\n",
       "\n",
       "    canvas_div.keydown('key_press', canvas_keyboard_event);\n",
       "    canvas_div.keyup('key_release', canvas_keyboard_event);\n",
       "    this.canvas_div = canvas_div\n",
       "    this._canvas_extra_style(canvas_div)\n",
       "    this.root.append(canvas_div);\n",
       "\n",
       "    var canvas = $('<canvas/>');\n",
       "    canvas.addClass('mpl-canvas');\n",
       "    canvas.attr('style', \"left: 0; top: 0; z-index: 0; outline: 0\")\n",
       "\n",
       "    this.canvas = canvas[0];\n",
       "    this.context = canvas[0].getContext(\"2d\");\n",
       "\n",
       "    var backingStore = this.context.backingStorePixelRatio ||\n",
       "\tthis.context.webkitBackingStorePixelRatio ||\n",
       "\tthis.context.mozBackingStorePixelRatio ||\n",
       "\tthis.context.msBackingStorePixelRatio ||\n",
       "\tthis.context.oBackingStorePixelRatio ||\n",
       "\tthis.context.backingStorePixelRatio || 1;\n",
       "\n",
       "    mpl.ratio = (window.devicePixelRatio || 1) / backingStore;\n",
       "\n",
       "    var rubberband = $('<canvas/>');\n",
       "    rubberband.attr('style', \"position: absolute; left: 0; top: 0; z-index: 1;\")\n",
       "\n",
       "    var pass_mouse_events = true;\n",
       "\n",
       "    canvas_div.resizable({\n",
       "        start: function(event, ui) {\n",
       "            pass_mouse_events = false;\n",
       "        },\n",
       "        resize: function(event, ui) {\n",
       "            fig.request_resize(ui.size.width, ui.size.height);\n",
       "        },\n",
       "        stop: function(event, ui) {\n",
       "            pass_mouse_events = true;\n",
       "            fig.request_resize(ui.size.width, ui.size.height);\n",
       "        },\n",
       "    });\n",
       "\n",
       "    function mouse_event_fn(event) {\n",
       "        if (pass_mouse_events)\n",
       "            return fig.mouse_event(event, event['data']);\n",
       "    }\n",
       "\n",
       "    rubberband.mousedown('button_press', mouse_event_fn);\n",
       "    rubberband.mouseup('button_release', mouse_event_fn);\n",
       "    // Throttle sequential mouse events to 1 every 20ms.\n",
       "    rubberband.mousemove('motion_notify', mouse_event_fn);\n",
       "\n",
       "    rubberband.mouseenter('figure_enter', mouse_event_fn);\n",
       "    rubberband.mouseleave('figure_leave', mouse_event_fn);\n",
       "\n",
       "    canvas_div.on(\"wheel\", function (event) {\n",
       "        event = event.originalEvent;\n",
       "        event['data'] = 'scroll'\n",
       "        if (event.deltaY < 0) {\n",
       "            event.step = 1;\n",
       "        } else {\n",
       "            event.step = -1;\n",
       "        }\n",
       "        mouse_event_fn(event);\n",
       "    });\n",
       "\n",
       "    canvas_div.append(canvas);\n",
       "    canvas_div.append(rubberband);\n",
       "\n",
       "    this.rubberband = rubberband;\n",
       "    this.rubberband_canvas = rubberband[0];\n",
       "    this.rubberband_context = rubberband[0].getContext(\"2d\");\n",
       "    this.rubberband_context.strokeStyle = \"#000000\";\n",
       "\n",
       "    this._resize_canvas = function(width, height) {\n",
       "        // Keep the size of the canvas, canvas container, and rubber band\n",
       "        // canvas in synch.\n",
       "        canvas_div.css('width', width)\n",
       "        canvas_div.css('height', height)\n",
       "\n",
       "        canvas.attr('width', width * mpl.ratio);\n",
       "        canvas.attr('height', height * mpl.ratio);\n",
       "        canvas.attr('style', 'width: ' + width + 'px; height: ' + height + 'px;');\n",
       "\n",
       "        rubberband.attr('width', width);\n",
       "        rubberband.attr('height', height);\n",
       "    }\n",
       "\n",
       "    // Set the figure to an initial 600x600px, this will subsequently be updated\n",
       "    // upon first draw.\n",
       "    this._resize_canvas(600, 600);\n",
       "\n",
       "    // Disable right mouse context menu.\n",
       "    $(this.rubberband_canvas).bind(\"contextmenu\",function(e){\n",
       "        return false;\n",
       "    });\n",
       "\n",
       "    function set_focus () {\n",
       "        canvas.focus();\n",
       "        canvas_div.focus();\n",
       "    }\n",
       "\n",
       "    window.setTimeout(set_focus, 100);\n",
       "}\n",
       "\n",
       "mpl.figure.prototype._init_toolbar = function() {\n",
       "    var fig = this;\n",
       "\n",
       "    var nav_element = $('<div/>');\n",
       "    nav_element.attr('style', 'width: 100%');\n",
       "    this.root.append(nav_element);\n",
       "\n",
       "    // Define a callback function for later on.\n",
       "    function toolbar_event(event) {\n",
       "        return fig.toolbar_button_onclick(event['data']);\n",
       "    }\n",
       "    function toolbar_mouse_event(event) {\n",
       "        return fig.toolbar_button_onmouseover(event['data']);\n",
       "    }\n",
       "\n",
       "    for(var toolbar_ind in mpl.toolbar_items) {\n",
       "        var name = mpl.toolbar_items[toolbar_ind][0];\n",
       "        var tooltip = mpl.toolbar_items[toolbar_ind][1];\n",
       "        var image = mpl.toolbar_items[toolbar_ind][2];\n",
       "        var method_name = mpl.toolbar_items[toolbar_ind][3];\n",
       "\n",
       "        if (!name) {\n",
       "            // put a spacer in here.\n",
       "            continue;\n",
       "        }\n",
       "        var button = $('<button/>');\n",
       "        button.addClass('ui-button ui-widget ui-state-default ui-corner-all ' +\n",
       "                        'ui-button-icon-only');\n",
       "        button.attr('role', 'button');\n",
       "        button.attr('aria-disabled', 'false');\n",
       "        button.click(method_name, toolbar_event);\n",
       "        button.mouseover(tooltip, toolbar_mouse_event);\n",
       "\n",
       "        var icon_img = $('<span/>');\n",
       "        icon_img.addClass('ui-button-icon-primary ui-icon');\n",
       "        icon_img.addClass(image);\n",
       "        icon_img.addClass('ui-corner-all');\n",
       "\n",
       "        var tooltip_span = $('<span/>');\n",
       "        tooltip_span.addClass('ui-button-text');\n",
       "        tooltip_span.html(tooltip);\n",
       "\n",
       "        button.append(icon_img);\n",
       "        button.append(tooltip_span);\n",
       "\n",
       "        nav_element.append(button);\n",
       "    }\n",
       "\n",
       "    var fmt_picker_span = $('<span/>');\n",
       "\n",
       "    var fmt_picker = $('<select/>');\n",
       "    fmt_picker.addClass('mpl-toolbar-option ui-widget ui-widget-content');\n",
       "    fmt_picker_span.append(fmt_picker);\n",
       "    nav_element.append(fmt_picker_span);\n",
       "    this.format_dropdown = fmt_picker[0];\n",
       "\n",
       "    for (var ind in mpl.extensions) {\n",
       "        var fmt = mpl.extensions[ind];\n",
       "        var option = $(\n",
       "            '<option/>', {selected: fmt === mpl.default_extension}).html(fmt);\n",
       "        fmt_picker.append(option);\n",
       "    }\n",
       "\n",
       "    // Add hover states to the ui-buttons\n",
       "    $( \".ui-button\" ).hover(\n",
       "        function() { $(this).addClass(\"ui-state-hover\");},\n",
       "        function() { $(this).removeClass(\"ui-state-hover\");}\n",
       "    );\n",
       "\n",
       "    var status_bar = $('<span class=\"mpl-message\"/>');\n",
       "    nav_element.append(status_bar);\n",
       "    this.message = status_bar[0];\n",
       "}\n",
       "\n",
       "mpl.figure.prototype.request_resize = function(x_pixels, y_pixels) {\n",
       "    // Request matplotlib to resize the figure. Matplotlib will then trigger a resize in the client,\n",
       "    // which will in turn request a refresh of the image.\n",
       "    this.send_message('resize', {'width': x_pixels, 'height': y_pixels});\n",
       "}\n",
       "\n",
       "mpl.figure.prototype.send_message = function(type, properties) {\n",
       "    properties['type'] = type;\n",
       "    properties['figure_id'] = this.id;\n",
       "    this.ws.send(JSON.stringify(properties));\n",
       "}\n",
       "\n",
       "mpl.figure.prototype.send_draw_message = function() {\n",
       "    if (!this.waiting) {\n",
       "        this.waiting = true;\n",
       "        this.ws.send(JSON.stringify({type: \"draw\", figure_id: this.id}));\n",
       "    }\n",
       "}\n",
       "\n",
       "\n",
       "mpl.figure.prototype.handle_save = function(fig, msg) {\n",
       "    var format_dropdown = fig.format_dropdown;\n",
       "    var format = format_dropdown.options[format_dropdown.selectedIndex].value;\n",
       "    fig.ondownload(fig, format);\n",
       "}\n",
       "\n",
       "\n",
       "mpl.figure.prototype.handle_resize = function(fig, msg) {\n",
       "    var size = msg['size'];\n",
       "    if (size[0] != fig.canvas.width || size[1] != fig.canvas.height) {\n",
       "        fig._resize_canvas(size[0], size[1]);\n",
       "        fig.send_message(\"refresh\", {});\n",
       "    };\n",
       "}\n",
       "\n",
       "mpl.figure.prototype.handle_rubberband = function(fig, msg) {\n",
       "    var x0 = msg['x0'] / mpl.ratio;\n",
       "    var y0 = (fig.canvas.height - msg['y0']) / mpl.ratio;\n",
       "    var x1 = msg['x1'] / mpl.ratio;\n",
       "    var y1 = (fig.canvas.height - msg['y1']) / mpl.ratio;\n",
       "    x0 = Math.floor(x0) + 0.5;\n",
       "    y0 = Math.floor(y0) + 0.5;\n",
       "    x1 = Math.floor(x1) + 0.5;\n",
       "    y1 = Math.floor(y1) + 0.5;\n",
       "    var min_x = Math.min(x0, x1);\n",
       "    var min_y = Math.min(y0, y1);\n",
       "    var width = Math.abs(x1 - x0);\n",
       "    var height = Math.abs(y1 - y0);\n",
       "\n",
       "    fig.rubberband_context.clearRect(\n",
       "        0, 0, fig.canvas.width / mpl.ratio, fig.canvas.height / mpl.ratio);\n",
       "\n",
       "    fig.rubberband_context.strokeRect(min_x, min_y, width, height);\n",
       "}\n",
       "\n",
       "mpl.figure.prototype.handle_figure_label = function(fig, msg) {\n",
       "    // Updates the figure title.\n",
       "    fig.header.textContent = msg['label'];\n",
       "}\n",
       "\n",
       "mpl.figure.prototype.handle_cursor = function(fig, msg) {\n",
       "    var cursor = msg['cursor'];\n",
       "    switch(cursor)\n",
       "    {\n",
       "    case 0:\n",
       "        cursor = 'pointer';\n",
       "        break;\n",
       "    case 1:\n",
       "        cursor = 'default';\n",
       "        break;\n",
       "    case 2:\n",
       "        cursor = 'crosshair';\n",
       "        break;\n",
       "    case 3:\n",
       "        cursor = 'move';\n",
       "        break;\n",
       "    }\n",
       "    fig.rubberband_canvas.style.cursor = cursor;\n",
       "}\n",
       "\n",
       "mpl.figure.prototype.handle_message = function(fig, msg) {\n",
       "    fig.message.textContent = msg['message'];\n",
       "}\n",
       "\n",
       "mpl.figure.prototype.handle_draw = function(fig, msg) {\n",
       "    // Request the server to send over a new figure.\n",
       "    fig.send_draw_message();\n",
       "}\n",
       "\n",
       "mpl.figure.prototype.handle_image_mode = function(fig, msg) {\n",
       "    fig.image_mode = msg['mode'];\n",
       "}\n",
       "\n",
       "mpl.figure.prototype.updated_canvas_event = function() {\n",
       "    // Called whenever the canvas gets updated.\n",
       "    this.send_message(\"ack\", {});\n",
       "}\n",
       "\n",
       "// A function to construct a web socket function for onmessage handling.\n",
       "// Called in the figure constructor.\n",
       "mpl.figure.prototype._make_on_message_function = function(fig) {\n",
       "    return function socket_on_message(evt) {\n",
       "        if (evt.data instanceof Blob) {\n",
       "            /* FIXME: We get \"Resource interpreted as Image but\n",
       "             * transferred with MIME type text/plain:\" errors on\n",
       "             * Chrome.  But how to set the MIME type?  It doesn't seem\n",
       "             * to be part of the websocket stream */\n",
       "            evt.data.type = \"image/png\";\n",
       "\n",
       "            /* Free the memory for the previous frames */\n",
       "            if (fig.imageObj.src) {\n",
       "                (window.URL || window.webkitURL).revokeObjectURL(\n",
       "                    fig.imageObj.src);\n",
       "            }\n",
       "\n",
       "            fig.imageObj.src = (window.URL || window.webkitURL).createObjectURL(\n",
       "                evt.data);\n",
       "            fig.updated_canvas_event();\n",
       "            fig.waiting = false;\n",
       "            return;\n",
       "        }\n",
       "        else if (typeof evt.data === 'string' && evt.data.slice(0, 21) == \"data:image/png;base64\") {\n",
       "            fig.imageObj.src = evt.data;\n",
       "            fig.updated_canvas_event();\n",
       "            fig.waiting = false;\n",
       "            return;\n",
       "        }\n",
       "\n",
       "        var msg = JSON.parse(evt.data);\n",
       "        var msg_type = msg['type'];\n",
       "\n",
       "        // Call the  \"handle_{type}\" callback, which takes\n",
       "        // the figure and JSON message as its only arguments.\n",
       "        try {\n",
       "            var callback = fig[\"handle_\" + msg_type];\n",
       "        } catch (e) {\n",
       "            console.log(\"No handler for the '\" + msg_type + \"' message type: \", msg);\n",
       "            return;\n",
       "        }\n",
       "\n",
       "        if (callback) {\n",
       "            try {\n",
       "                // console.log(\"Handling '\" + msg_type + \"' message: \", msg);\n",
       "                callback(fig, msg);\n",
       "            } catch (e) {\n",
       "                console.log(\"Exception inside the 'handler_\" + msg_type + \"' callback:\", e, e.stack, msg);\n",
       "            }\n",
       "        }\n",
       "    };\n",
       "}\n",
       "\n",
       "// from http://stackoverflow.com/questions/1114465/getting-mouse-location-in-canvas\n",
       "mpl.findpos = function(e) {\n",
       "    //this section is from http://www.quirksmode.org/js/events_properties.html\n",
       "    var targ;\n",
       "    if (!e)\n",
       "        e = window.event;\n",
       "    if (e.target)\n",
       "        targ = e.target;\n",
       "    else if (e.srcElement)\n",
       "        targ = e.srcElement;\n",
       "    if (targ.nodeType == 3) // defeat Safari bug\n",
       "        targ = targ.parentNode;\n",
       "\n",
       "    // jQuery normalizes the pageX and pageY\n",
       "    // pageX,Y are the mouse positions relative to the document\n",
       "    // offset() returns the position of the element relative to the document\n",
       "    var x = e.pageX - $(targ).offset().left;\n",
       "    var y = e.pageY - $(targ).offset().top;\n",
       "\n",
       "    return {\"x\": x, \"y\": y};\n",
       "};\n",
       "\n",
       "/*\n",
       " * return a copy of an object with only non-object keys\n",
       " * we need this to avoid circular references\n",
       " * http://stackoverflow.com/a/24161582/3208463\n",
       " */\n",
       "function simpleKeys (original) {\n",
       "  return Object.keys(original).reduce(function (obj, key) {\n",
       "    if (typeof original[key] !== 'object')\n",
       "        obj[key] = original[key]\n",
       "    return obj;\n",
       "  }, {});\n",
       "}\n",
       "\n",
       "mpl.figure.prototype.mouse_event = function(event, name) {\n",
       "    var canvas_pos = mpl.findpos(event)\n",
       "\n",
       "    if (name === 'button_press')\n",
       "    {\n",
       "        this.canvas.focus();\n",
       "        this.canvas_div.focus();\n",
       "    }\n",
       "\n",
       "    var x = canvas_pos.x * mpl.ratio;\n",
       "    var y = canvas_pos.y * mpl.ratio;\n",
       "\n",
       "    this.send_message(name, {x: x, y: y, button: event.button,\n",
       "                             step: event.step,\n",
       "                             guiEvent: simpleKeys(event)});\n",
       "\n",
       "    /* This prevents the web browser from automatically changing to\n",
       "     * the text insertion cursor when the button is pressed.  We want\n",
       "     * to control all of the cursor setting manually through the\n",
       "     * 'cursor' event from matplotlib */\n",
       "    event.preventDefault();\n",
       "    return false;\n",
       "}\n",
       "\n",
       "mpl.figure.prototype._key_event_extra = function(event, name) {\n",
       "    // Handle any extra behaviour associated with a key event\n",
       "}\n",
       "\n",
       "mpl.figure.prototype.key_event = function(event, name) {\n",
       "\n",
       "    // Prevent repeat events\n",
       "    if (name == 'key_press')\n",
       "    {\n",
       "        if (event.which === this._key)\n",
       "            return;\n",
       "        else\n",
       "            this._key = event.which;\n",
       "    }\n",
       "    if (name == 'key_release')\n",
       "        this._key = null;\n",
       "\n",
       "    var value = '';\n",
       "    if (event.ctrlKey && event.which != 17)\n",
       "        value += \"ctrl+\";\n",
       "    if (event.altKey && event.which != 18)\n",
       "        value += \"alt+\";\n",
       "    if (event.shiftKey && event.which != 16)\n",
       "        value += \"shift+\";\n",
       "\n",
       "    value += 'k';\n",
       "    value += event.which.toString();\n",
       "\n",
       "    this._key_event_extra(event, name);\n",
       "\n",
       "    this.send_message(name, {key: value,\n",
       "                             guiEvent: simpleKeys(event)});\n",
       "    return false;\n",
       "}\n",
       "\n",
       "mpl.figure.prototype.toolbar_button_onclick = function(name) {\n",
       "    if (name == 'download') {\n",
       "        this.handle_save(this, null);\n",
       "    } else {\n",
       "        this.send_message(\"toolbar_button\", {name: name});\n",
       "    }\n",
       "};\n",
       "\n",
       "mpl.figure.prototype.toolbar_button_onmouseover = function(tooltip) {\n",
       "    this.message.textContent = tooltip;\n",
       "};\n",
       "mpl.toolbar_items = [[\"Home\", \"Reset original view\", \"fa fa-home icon-home\", \"home\"], [\"Back\", \"Back to previous view\", \"fa fa-arrow-left icon-arrow-left\", \"back\"], [\"Forward\", \"Forward to next view\", \"fa fa-arrow-right icon-arrow-right\", \"forward\"], [\"\", \"\", \"\", \"\"], [\"Pan\", \"Pan axes with left mouse, zoom with right\", \"fa fa-arrows icon-move\", \"pan\"], [\"Zoom\", \"Zoom to rectangle\", \"fa fa-square-o icon-check-empty\", \"zoom\"], [\"\", \"\", \"\", \"\"], [\"Download\", \"Download plot\", \"fa fa-floppy-o icon-save\", \"download\"]];\n",
       "\n",
       "mpl.extensions = [\"eps\", \"jpeg\", \"pdf\", \"png\", \"ps\", \"raw\", \"svg\", \"tif\"];\n",
       "\n",
       "mpl.default_extension = \"png\";var comm_websocket_adapter = function(comm) {\n",
       "    // Create a \"websocket\"-like object which calls the given IPython comm\n",
       "    // object with the appropriate methods. Currently this is a non binary\n",
       "    // socket, so there is still some room for performance tuning.\n",
       "    var ws = {};\n",
       "\n",
       "    ws.close = function() {\n",
       "        comm.close()\n",
       "    };\n",
       "    ws.send = function(m) {\n",
       "        //console.log('sending', m);\n",
       "        comm.send(m);\n",
       "    };\n",
       "    // Register the callback with on_msg.\n",
       "    comm.on_msg(function(msg) {\n",
       "        //console.log('receiving', msg['content']['data'], msg);\n",
       "        // Pass the mpl event to the overridden (by mpl) onmessage function.\n",
       "        ws.onmessage(msg['content']['data'])\n",
       "    });\n",
       "    return ws;\n",
       "}\n",
       "\n",
       "mpl.mpl_figure_comm = function(comm, msg) {\n",
       "    // This is the function which gets called when the mpl process\n",
       "    // starts-up an IPython Comm through the \"matplotlib\" channel.\n",
       "\n",
       "    var id = msg.content.data.id;\n",
       "    // Get hold of the div created by the display call when the Comm\n",
       "    // socket was opened in Python.\n",
       "    var element = $(\"#\" + id);\n",
       "    var ws_proxy = comm_websocket_adapter(comm)\n",
       "\n",
       "    function ondownload(figure, format) {\n",
       "        window.open(figure.imageObj.src);\n",
       "    }\n",
       "\n",
       "    var fig = new mpl.figure(id, ws_proxy,\n",
       "                           ondownload,\n",
       "                           element.get(0));\n",
       "\n",
       "    // Call onopen now - mpl needs it, as it is assuming we've passed it a real\n",
       "    // web socket which is closed, not our websocket->open comm proxy.\n",
       "    ws_proxy.onopen();\n",
       "\n",
       "    fig.parent_element = element.get(0);\n",
       "    fig.cell_info = mpl.find_output_cell(\"<div id='\" + id + \"'></div>\");\n",
       "    if (!fig.cell_info) {\n",
       "        console.error(\"Failed to find cell for figure\", id, fig);\n",
       "        return;\n",
       "    }\n",
       "\n",
       "    var output_index = fig.cell_info[2]\n",
       "    var cell = fig.cell_info[0];\n",
       "\n",
       "};\n",
       "\n",
       "mpl.figure.prototype.handle_close = function(fig, msg) {\n",
       "    var width = fig.canvas.width/mpl.ratio\n",
       "    fig.root.unbind('remove')\n",
       "\n",
       "    // Update the output cell to use the data from the current canvas.\n",
       "    fig.push_to_output();\n",
       "    var dataURL = fig.canvas.toDataURL();\n",
       "    // Re-enable the keyboard manager in IPython - without this line, in FF,\n",
       "    // the notebook keyboard shortcuts fail.\n",
       "    IPython.keyboard_manager.enable()\n",
       "    $(fig.parent_element).html('<img src=\"' + dataURL + '\" width=\"' + width + '\">');\n",
       "    fig.close_ws(fig, msg);\n",
       "}\n",
       "\n",
       "mpl.figure.prototype.close_ws = function(fig, msg){\n",
       "    fig.send_message('closing', msg);\n",
       "    // fig.ws.close()\n",
       "}\n",
       "\n",
       "mpl.figure.prototype.push_to_output = function(remove_interactive) {\n",
       "    // Turn the data on the canvas into data in the output cell.\n",
       "    var width = this.canvas.width/mpl.ratio\n",
       "    var dataURL = this.canvas.toDataURL();\n",
       "    this.cell_info[1]['text/html'] = '<img src=\"' + dataURL + '\" width=\"' + width + '\">';\n",
       "}\n",
       "\n",
       "mpl.figure.prototype.updated_canvas_event = function() {\n",
       "    // Tell IPython that the notebook contents must change.\n",
       "    IPython.notebook.set_dirty(true);\n",
       "    this.send_message(\"ack\", {});\n",
       "    var fig = this;\n",
       "    // Wait a second, then push the new image to the DOM so\n",
       "    // that it is saved nicely (might be nice to debounce this).\n",
       "    setTimeout(function () { fig.push_to_output() }, 1000);\n",
       "}\n",
       "\n",
       "mpl.figure.prototype._init_toolbar = function() {\n",
       "    var fig = this;\n",
       "\n",
       "    var nav_element = $('<div/>');\n",
       "    nav_element.attr('style', 'width: 100%');\n",
       "    this.root.append(nav_element);\n",
       "\n",
       "    // Define a callback function for later on.\n",
       "    function toolbar_event(event) {\n",
       "        return fig.toolbar_button_onclick(event['data']);\n",
       "    }\n",
       "    function toolbar_mouse_event(event) {\n",
       "        return fig.toolbar_button_onmouseover(event['data']);\n",
       "    }\n",
       "\n",
       "    for(var toolbar_ind in mpl.toolbar_items){\n",
       "        var name = mpl.toolbar_items[toolbar_ind][0];\n",
       "        var tooltip = mpl.toolbar_items[toolbar_ind][1];\n",
       "        var image = mpl.toolbar_items[toolbar_ind][2];\n",
       "        var method_name = mpl.toolbar_items[toolbar_ind][3];\n",
       "\n",
       "        if (!name) { continue; };\n",
       "\n",
       "        var button = $('<button class=\"btn btn-default\" href=\"#\" title=\"' + name + '\"><i class=\"fa ' + image + ' fa-lg\"></i></button>');\n",
       "        button.click(method_name, toolbar_event);\n",
       "        button.mouseover(tooltip, toolbar_mouse_event);\n",
       "        nav_element.append(button);\n",
       "    }\n",
       "\n",
       "    // Add the status bar.\n",
       "    var status_bar = $('<span class=\"mpl-message\" style=\"text-align:right; float: right;\"/>');\n",
       "    nav_element.append(status_bar);\n",
       "    this.message = status_bar[0];\n",
       "\n",
       "    // Add the close button to the window.\n",
       "    var buttongrp = $('<div class=\"btn-group inline pull-right\"></div>');\n",
       "    var button = $('<button class=\"btn btn-mini btn-primary\" href=\"#\" title=\"Stop Interaction\"><i class=\"fa fa-power-off icon-remove icon-large\"></i></button>');\n",
       "    button.click(function (evt) { fig.handle_close(fig, {}); } );\n",
       "    button.mouseover('Stop Interaction', toolbar_mouse_event);\n",
       "    buttongrp.append(button);\n",
       "    var titlebar = this.root.find($('.ui-dialog-titlebar'));\n",
       "    titlebar.prepend(buttongrp);\n",
       "}\n",
       "\n",
       "mpl.figure.prototype._root_extra_style = function(el){\n",
       "    var fig = this\n",
       "    el.on(\"remove\", function(){\n",
       "\tfig.close_ws(fig, {});\n",
       "    });\n",
       "}\n",
       "\n",
       "mpl.figure.prototype._canvas_extra_style = function(el){\n",
       "    // this is important to make the div 'focusable\n",
       "    el.attr('tabindex', 0)\n",
       "    // reach out to IPython and tell the keyboard manager to turn it's self\n",
       "    // off when our div gets focus\n",
       "\n",
       "    // location in version 3\n",
       "    if (IPython.notebook.keyboard_manager) {\n",
       "        IPython.notebook.keyboard_manager.register_events(el);\n",
       "    }\n",
       "    else {\n",
       "        // location in version 2\n",
       "        IPython.keyboard_manager.register_events(el);\n",
       "    }\n",
       "\n",
       "}\n",
       "\n",
       "mpl.figure.prototype._key_event_extra = function(event, name) {\n",
       "    var manager = IPython.notebook.keyboard_manager;\n",
       "    if (!manager)\n",
       "        manager = IPython.keyboard_manager;\n",
       "\n",
       "    // Check for shift+enter\n",
       "    if (event.shiftKey && event.which == 13) {\n",
       "        this.canvas_div.blur();\n",
       "        // select the cell after this one\n",
       "        var index = IPython.notebook.find_cell_index(this.cell_info[0]);\n",
       "        IPython.notebook.select(index + 1);\n",
       "    }\n",
       "}\n",
       "\n",
       "mpl.figure.prototype.handle_save = function(fig, msg) {\n",
       "    fig.ondownload(fig, null);\n",
       "}\n",
       "\n",
       "\n",
       "mpl.find_output_cell = function(html_output) {\n",
       "    // Return the cell and output element which can be found *uniquely* in the notebook.\n",
       "    // Note - this is a bit hacky, but it is done because the \"notebook_saving.Notebook\"\n",
       "    // IPython event is triggered only after the cells have been serialised, which for\n",
       "    // our purposes (turning an active figure into a static one), is too late.\n",
       "    var cells = IPython.notebook.get_cells();\n",
       "    var ncells = cells.length;\n",
       "    for (var i=0; i<ncells; i++) {\n",
       "        var cell = cells[i];\n",
       "        if (cell.cell_type === 'code'){\n",
       "            for (var j=0; j<cell.output_area.outputs.length; j++) {\n",
       "                var data = cell.output_area.outputs[j];\n",
       "                if (data.data) {\n",
       "                    // IPython >= 3 moved mimebundle to data attribute of output\n",
       "                    data = data.data;\n",
       "                }\n",
       "                if (data['text/html'] == html_output) {\n",
       "                    return [cell, data, j];\n",
       "                }\n",
       "            }\n",
       "        }\n",
       "    }\n",
       "}\n",
       "\n",
       "// Register the function which deals with the matplotlib target/channel.\n",
       "// The kernel may be null if the page has been refreshed.\n",
       "if (IPython.notebook.kernel != null) {\n",
       "    IPython.notebook.kernel.comm_manager.register_target('matplotlib', mpl.mpl_figure_comm);\n",
       "}\n"
      ],
      "text/plain": [
       "<IPython.core.display.Javascript object>"
      ]
     },
     "metadata": {},
     "output_type": "display_data"
    },
    {
     "data": {
      "text/html": [
       "<img src=\"data:image/png;base64,iVBORw0KGgoAAAANSUhEUgAAAyAAAAJYCAYAAACadoJwAAAgAElEQVR4XuzdB5QVRdrG8RcTYk4YQXHXVTAiYgKzmDNmwYAJA3zmtK45Z0VUzAHWnDHnhJk1oGIWdQ1rzpj5zlPn9NhzuTPdM919b92uf5/j2RU6VP2qZqznVlXfDpMmTZpkHAgggAACCCCAAAIIIIBADQQ6EEBqoMwjEEAAAQQQQAABBBBAwAkQQOgICCCAAAIIIIAAAgggUDMBAkjNqHkQAggggAACCCCAAAIIEEDoAwgggAACCCCAAAIIIFAzAQJIzah5EAIIIIAAAggggAACCBBA6AMIIIAAAggggAACCCBQMwECSM2oeRACCCCAAAIIIIAAAggQQOgDCCCAAAIIIIAAAgggUDMBAkjNqHkQAggggAACCCCAAAIIEEDoAwgggAACCCCAAAIIIFAzAQJIzah5EAIIIIAAAggggAACCBBA6AMIIIAAAggggAACCCBQMwECSM2oeRACCCCAAAIIIIAAAggQQOgDCCCAAAIIIIAAAgggUDMBAkjNqHkQAggggAACCCCAAAIIEEDoAwgggAACCCCAAAIIIFAzAQJIzah5EAIIIIAAAggggAACCBBA6AMIIIAAAggggAACCCBQMwECSM2oeRACCLRX4Nlnn7Xll1/eXX7MMcfYkUce2d5bNcx13bp1s/fff98mTZrkXZnvueceGzlypD355JP2v//9z5WvS5cutuKKK9r2229v/fr1q3mZO3ToYAsssIBNmDAh9bN32mknu/LKK+3hhx+21VZbLfV1OvGDDz6w8847z+6//373zB9++MFmnXVWW2qppWzTTTe1HXbYwWaYYYY23bOMJ7dkLO9HH33U3nvvPVNfj46s/X6vvfayCy64wNQfdG/1CQ4EEPBPgADiX5tQIgQQqBAYOnSoDR8+3P3pwgsvbG+88UbpjbIOxIoA+v77723bbbe1O++80w3wllxySVtooYXco958800bN26c+/8777yzXXrppUUUocV71jKAaIC733772S+//GJzzjmnLbvssjbTTDPZp59+ak8//bRNnDjR5pprLnvllVdsjjnmqKlDrR+W1E9rGUB+/fVXm2eeeeyrr75yDCeccIL985//rDVJzZ+X1AY1LxAPRCCFAAEkBRKnIIBA/QR+++03m3feee2LL76wueeeu2mQF82I1K9kxT75nXfeMdW9e/fuxT4o5d1///13W3311e2JJ55ws1EKGIsttlizqxVCDj/8cPv888/tkUceSXnnfE57/fXXbeqpp7a///3vqW/YnhmQCy+80PbYYw83u6EZEM34KPxEx08//eT+/LjjjrOXX3652af7qQvWQCcmDX4/+eQT+/bbb23++ee36aabrqlmRcyA3HrrrbbZZpu5EKLn6mdn/PjxDaTZvqImtUH77spVCBQrQAAp1pe7I4BARoHRo0fbxhtvbH379rV11lnHLb/ae++9m2ZEMt6ey1MKnHbaaXbwwQe70KElcfHBZOUtFFJWWmmllHeu32ltDSAffvihm4HTzMeDDz7oAllLhwa+CsxallXmo72D3yICyOabb24333yzXXTRRXbKKaeYQvxzzz1nvXv3LnMTuJDr63LNUsNTuUwCBJBMfFyMAAJFC2y99dZ2/fXXu3XdCiB/+9vf3LKWjz/+2H3iXe3QJ8/6JP7xxx+3P/74w5Zeemk74ogj3PkaNO644452xRVXNLtUey2uvfZau/jii+2FF15wy2gWXHBB0/M18G5twB3d6Oeff7ZZZpnFDTwr9yJoX8Btt93mgpQG6PFDA6T//Oc/bj9F586d3V+1NKjQsp6TTz7Z7b+QwYwzzmjzzTef28NwyCGHuE9/44cGwhqMacD82WefufLJQB6VMxgttaUMu3bt6j5Vvvvuu23ddddtc7PfdddddtZZZ9nzzz/vbLU2X59WH3rooa5M0fF///d/du6559r5559ve+65Z9XnLLPMMs7rpZdecsvAdLS2BOuyyy6zYcOGuaV7M888syu/DPXstuwBke+pp57q+oT6SluOF1980a6++mrXDto/8t1337l2U1n+9a9/uVm+yqPoto7a5LXXXnMzjLPPPrv7+VprrbXsqKOOarV6muFqKYDF9+LUagnWN998437udOjn6Mwzz7Rjjz3W1J/OOeecyeqin/9Bgwa5eh599NGT/X1LAUknKuSoH+j3jH4vyOGkk06yUaNGuT1ql19+uane0dFa32ypHNpTpJ8D9TP9LtHPoJb19erVy3bddVf3uzBtG7Sln3IuArUSIIDUSprnIIBAmwW0dEODij///NMNfmebbTY3gNfg+/bbb7eNNtposns+9dRTbhO0lsJocLrooou6T0LHjh3rZk70H/XKAKL7Dxw40K655hq3tEaBQJ9ca7CsT72XW2459x/7Tp06JdZh1VVXtccee6zZ5lrdX6Hp66+/tmmmmcb9bxRoVEfVq0ePHm7PQHRUCyCqg2YWFHRUNy0xUT3fffdd0yCycjO1lqRss8027hP7nj17uv0aqo9mMFQXhYlVVlklsU5y0D4HDVAVYqaYYorEa+InaHCmtfhTTTWVyUcWY8aMsf/+979uRkFeGlzpeOaZZ2yFFVZw9VSArDy01EpWSyyxhBsAJg3yFDIUwKLwqQCizc/TTjut2zCuGba0m9AXX3xxe/XVV12Q1KxcWw61w0033eTaTcuRdCiUaHCp0CjjeAgpuq21TGzIkCE25ZRTup8phSGFEAVWtUvSyw/UDgpxN954o/3444/uZyo61L6nn366+9daBRDNegwePNg0C6IyvfXWW65vaY/ORx995Ppe/GhvAFGY2Xfffd3PgH529PtJfVYBSL+PrrrqqswBRGFDbaL7yrJPnz6uv6pd1Ge23HJL9wFK2jZoSz/lXARqJUAAqZU0z0EAgTYLaJ+BPu3bZJNNTINpHZoJ0Ztu9B9hzYzEDw30NTjVXoTKDajRvXR+ZQCJlhfpU0+FkOiTVG1q1bN0rT791oAr6dAnqvrkNf4pqGZU9MmlZhw0gNWbk6I3RUVLzCqXlVULICq3Bjga3B1wwAHNiqLBiAbX0QyIBrYaMOvT11tuuaXZm6n0FisNoFXPt99+24Wi1o5LLrnEdtttN1tzzTXtgQceSCJo9vdaAqNAocCla6O9OwpF2j9xww03NA0aowv/8Y9/uNCoOkSD9ejvNHNz/PHHu7ZQm0RHtU+ZtSFcgzdtEFfI0EyYDn26rD710EMPuX9PE0DUFzQI1MBcIU5v/WrLoWcoDEdBS9eqv6ou6jP6NF4zNdFRdFtrliIKo/ElSqqfAlrat4IlLf+pVQBZeeWV3cyi+rpmG3Woryls66UJ66+/frPmak8AUdDX7xcd+hmKZoC0P2r33Xd3P/M6ss6AqK+sscYaLvQrnKvfRYdmzhSuNAsYHUlt0JZ+yrkI1EqAAFIraZ6DAAJtFoiWQWiQusUWW7jrv/zySzfI1ie3euuQBt3RoQGulo9oAKsBeeUn9fpUXZ+8xwOIBg+6n5YFadAbHyDqvvpzLUvRgFmfECd9+h8NHuLP0NKj/fff36677jq3fEfLwzTw1KEgoeUiClMKVa0NKjSI0qyFPgXVp/etHfqUVp/WasZHn3RXHvvss49blqTlJFoK1dqhGQTNJOhTfAW0thzRQPqwww6zE088sdmlmk3R4Em2Chta5qVDS2K0lEUzJ3pu/NAmc71eVWveo/P199UCSPRs7RvS/eKHZowU0DTgThNAtKwnCqaagerYsWNbGFo9V2FG91T/io6i21qBUAPb6I1R7a1M0uC3FgFE/UH9QrOWmimNArX6vpZgVeu37QkgWiqnDzZ22WUXUyiPH5oBUX9UuM0aQPS7QL8n9DOs3x1JR1IbJF3P3yNQDwECSD3UeSYCCCQKaJ28/sOqgKGgER/wRfsptF9DMyTRoUGmBq8atGrwWnlEA5J4OIi+Y0TB5b777qtarg033NB9iqpQs8gii7RadgUWDYTi+0D0absGuVp6pYGSBpzRPpBoP4MG49H+Dz2g2qAi+vRfyzMUYBSoKpeWRIXTp+1aTqPlJ9X2F2iZigJPS1bxSmYJIApvGiBqeVm1PSdRWyrYaKCoI1o+U7nMSsvrNKOhZVyVb9mqFkCiZytsRJ9cx+ulGRGFuVoFEIVnLR2UhQasWmqjQ6FS7a+/13I8HUW3dTRjoFcmKxyn3Q9U2fmTBr+1CCD6WZCX3k6mGdLo0NvY1Pe1/E4BUvuloqM9AUQzHup3mv3QHozKI9oEnzWAaAZX/VXl1exs//793fLHlo6kNkj8ZcsJCNRBgABSB3QeiQACyQLRvgEFDAWN+BENnisHohqA6DWpWt+upVOVh9bua8AbDyDRp43JJTIXGjT4Tzq0Nlz7FzTw1hIirePWl/QpxGhApsG2wohes6sBp/ZyaGlW/Kg2qNDyC4WZaPCt/Sq67wYbbODuG58N0ifcCkNJRzXfymuyLMHSp+ya4dAnw9NPP/1kxYlmaiqXlWnfjZZvaZ+HgogOzeSobbXeX0vC4ke1ABI9W3sUqr1EQDM/WtqXJoBkXYKlNtcyHTm0dGgWKPrivKLbWq76WVAf1aGZP/08abCr2UbNMKY5kga/tQgg+lBAg/ZqP5/RhweVoaA9AUQ/p3qRgX5WFfArD303zNlnn515BkT3PeOMM0yzhvodoVlXzdZpCaQ8oxcvRM9PaoM07cg5CNRagABSa3GehwACqQSiT/C1cbpyWZQGgxqcVn7bcXsCiN4yoy/X03OSwoVmC9J8L4eW/Oh7IDTo0VIp7f/QW3MOOuggt3lU6/21D0QBQXsx9LYnvfUpKYDo77VkSMvItHdEQUSblaM35Cj0aPmZjmjwHd8cXA1esyjxWaRq58Q3oetT5fj3XiQ1ZlIAiQZtlQFEy8O0TCyaodFSOX2arYG5ltlUvt626ACierZ3E7qWi2lDtA71AwVGbfqOXmqgWR3N7lR+K3jRba1lX/o0X2/DUl/SzJMOhVr9e9LeIJ2bNPgtOoBEM5gqS7WfX23clr/2VOgNZNGRFEDiHyJE39ReRADRvh8t6ar2Ni7t0VFA1u8K/Wxr1kz9XMuy9LNBAEn67cPf+yxAAPG5dSgbAoEKaFCd9t398c3mSUuw9G3q+lb1+AyIPjXVchR9UqpBfR6HBjraZK7nKIBoiYsGStpUqk+59Xpf7QNRANH+D+0N2WqrrVIFkMryaemOZhH0CXt8Y74Clfa0RK9XzVKvLK/hjZZBtfSpcTQLEV+CpbJqyYwG6VqupoG5lilp4K7ztW+l8qgWQOQs75aWYCkY6gUBaWZA9Lz2voY3enHCgQce6JbUVB5arqf6VgaQWre12mi77bZzs04tzSJWlqneAUQ/z/q5Tjo0i6AgEr08QK9EHjBggNuDFb2xK36PqO/E2yRpCZZmjvSms8rZFgU5vQghvscnelb0O6ul1wFH5ymA68MSfXihumhZahTCk9ogyYa/R6AeAgSQeqjzTAQQaFUg+lS8pQGbLo7e1KO10hpg6og2oWtJhvY/VH5SH32qGQ8gWh6kGRa9kUiD1WgNfpYmUrDQd1toc7sCiD5N1mbfaFmLBgwaCOk8fZ+FBhOVszxtGVRo+YnqHLfQrMqIESPc8rWkGY40dW3LFxHqNcn6VF9HtBFcG3g1KxQ/NJuiJUf6JL5yU7nO03dk3Hvvve7TXw3iNWjU8juttU8TQHbYYQcbOXKk2xdU+b0W2s+jWba0m9D1PH0irRkmzcAlfRGh7q821SBRm+8VOLU8J/7Jte6ptxxp6ZOOpACic4pu6+h1ttVm5ar1E83saOZES4Wq7UcqcgYkmhVTP2ppj5HKrEG7Zjzib06LXhahV+dqX078iPZg6HdCvE2iTeha/ien+KHXaWsT+vfffz9ZAFEf1562ah8GRHtxkgJI9Kxotkyv6NUyRR1JbZDm55tzEKi1AAGk1uI8DwEEWhXQp+365FufCGsmRJ9SVzs0OND+Cm2y1hIhbebWn2mZhAZEla9pjZZcRIPi+BcRRgNEDQS1JEKf2scPPUOvbNVrY9Me0cBCS5C0dvuOO+5oulSDMg2mVVcNHhSWKo9qAUSBQptf9els/NDAVqFt7bXXdgN2HXq9rtaK69NX1Ulr++OHgpdmfPSK3DSvlNVgT58Aa8ZI1+jVxJXr4PWaUn3fhwJVtE9FMz9a0qP9Khq0RzNbGsQrIGj2J/ruhkoDfbGbzPWPZj00wFW/qPYGqmozIApCWpajMKjyRG8O054Q7X+IXimcdgZE5VMbaHCu+mjZnL4/Jh50FSq1D0kDSn1Rotox2rOkuqsc0V4Y9Su9/CBq//hgt8i21nfHaF+P/ONfAqmfH32Kr1fZ6mdCexCSjuhNdS0FgCIDiH6mFCAqX1ZQWWa9XEI/N1pCN27cOPfX2oujgKh+qNc1R6+1VUjQz0r0HTTxNtGMovq82lv3jL5DRz/H+g4S/UzoqJwBiYJw5VuttBwvepV0PICoP+qeWjYWf+ueyqLfhwo7WloWvVwiqQ2S2pC/R6AeAgSQeqjzTAQQaFFAS230ClINzLXhs7UjeoWtPlXWIFxH/IsINeCMvohQe0a0MV1LSyo/wdTASwMlfVquAbvejqRBvgYnKoNmWDSY1xuT0h7Rp6U6X7MHms2JjngYqnxzT3ROtQCiLxPUoFZ10myHBuT6pF1/pqCjAXV8Hbw23WtJjQacWpKlazT41cBXMy8aiGsJku6b5tD+C+2X0Z4BDcLkqxkBzSIo9KkcOip9o4Cn8mqwFH0RYTSjoMFe5QxQfJCo8uuo9vrTqNwtfdu09t1oiY3ehKQBXfRFhAoxbf0iwuhZCh5aVhfNnmlpnZbYKHhpMKvyanAoD9VV/UgDRy1x0nIrtZFmfTTQjOwVluKD3SLbWnsJNDMjEw281deifVVqE/27Qn1rb16KLLSEUD+Haj8FVPUv1Tn6zpwiA4heVauXSCSFJQ3m1R5arhjv79F39uhnRx8+qA9pZkE/J+rT1fblxL+IUNeo3grZmuHUMk6F5n//+9/u5y461O7qIwqnale9CU9BSNaanVF/igeQ6AMFvRVP7aN20CyPZn3V57TsTHuk0rZBmp9tzkGg1gIEkFqL8zwEEGhVQP/h1n6ANEsSos3Rld92rIGfAoCWt2jwof/o69/1mlN9Yt3Sq2e1FENLKxRW9JYqDdK0rEIzGBrstDQbU61C0XIw/Z3uF9/TEu0D0d9pXbfuXXlUCyCasdCmVA2SFCI0aNTshT6JVcCp9opgfWqrQaI2smrAo0GnBmMKWfqkV2/VSrPZOF4+hUSFNQ2aNSOhgZvKoeUhWnIVfUFb/Bq9AUybZ9VmGohp9krPV1tUbiiPXxf1B/2ZZqGq3Vt/11IA0d/p0369gllhUgFEM0V6tbBma6688srUe0Di5dKSGu090Cfhak+FOS3fU1/TPhXN2sTf+qX+pGVYstMmes3yac+OXligwK3BZTyAFNnWms1SP9eMlH5Wou/OUJtoNkpvG0u7FFH30j4G/czKREuxtORIJjqKCiAKwxr8K8hp5q1yVrDy5yl6g5qCo94wpUMhQ/9fM1ZaAqj76WdRXyRarU2ie2qfh2YvFCIUXtQn9dY+fdCgvlbtNb0KpppRUlhREFcI1TUKRAoh8d93mr2M+qXqpt9bCiOa3dWHKOpf8Vm3pDbgPzkI+ChAAPGxVSgTAggUIhC9JaulQX8hD+WmCCBQegF90KFZUi2n+/jjj5u+tLL0FaeCCLRTgADSTjguQwABPwW0FEKfjkavzoxKqb0GeuuNvtxL66erfSeFnzWiVAgg4IuAZhS1JCq+d0bLojSbpplGvf1Os40cCCDQugABhB6CAAKlEtBSB2161qeR0WZyfSqp5Td6C5U2f1e+8rZUAFQGAQQKE9DeFi2X0t4MLc/Uhx3RMjbtfdFLGqothSysQNwYgQYVIIA0aMNRbAQQqC6gjaZaw639AloKobX5Ghhof4L2SSiccCCAAALtEdB+Ls106IMObQzX/gvt59FbtrTHQ6GEAwEEkgUIIMlGnIEAAggggAACCCCAAAI5CRBAcoLkNggggAACCCCAAAIIIJAsQABJNuIMBBBAAAEEEEAAAQQQyEmAAJITJLdBAAEEEEAAAQQQQACBZAECSLIRZyCAAAIIIIAAAggggEBOAgSQnCBDu80XX3xh9957r/uuhU6dOoVWfeqLAAIIIIAAAggEIzBx4kSbMGGCe+Ob3iyZ9SCAZBUM9Pp///vfNnDgwEBrT7URQAABBBBAAIHwBEaNGuW+1DfrQQDJKhjo9WPGjLGVVlrJ1BF79OgRqALVRgABBBBAAAEEyi+gL/TVB8/6ss2+fftmrjABJDNhmDf4z3/+474JduzYsdarV68wEag1AggggAACCCAQgEDe4z4CSACdpogq5t0Riygj90QAAQQQQAABBBDILpD3uI8Akr1NgrxD3h0xSEQqjQACCCCAAAIINIBA3uM+AkgDNLqPRcy7I/pYR8qEAAIIIIAAAgggYJb3uI8AQq9ql0DeHbFdheAiBBBAAAEEEEAAgcIF8h73EUAKb7JyPiDvjlhOJWqFAAIIIIAAAgg0vkDe4z4CSOP3ibrUIO+OWJdK8FAEEEAAAQQQQACBRIG8x30EkERyTqgmkHdHRBkBBBBAAAEEEEDAT4G8x30EED/b2ftS5d0Rva8wBUQAAQQQQAABBAIVyHvcRwAJtCNlrXbeHTFrebgeAQQQQAABBBBAoBiBvMd9BJBi2qn0d827I5YejAoigAACCCCAAAINKpD3uI8A0qAdod7FjjriyK37W/c5O9e7OF4+v/ewEV6Wi0IhgAACCCCAAAJtESCAtEWLcwsTIIAk0xJAko04AwEEEEAAAQT8FyCA+N9GQZSQAJLczASQZCPOQAABBBBAAAH/BQgg/rdRECUkgCQ3MwEk2YgzEEAAAQQQQMB/AQKI/20URAkJIMnNTABJNuIMBBBAAAEEEPBfgADifxsFUUICSHIzE0CSjTgDAQQQQAABBPwXIID430ZBlJAAktzMBJBkI85AAAEEEEAAAf8FCCD+t1EQJSSAJDczASTZiDMQQAABBBBAwH8BAoj/bRRECQkgyc1MAEk24gwEEEAAAQQQ8F+AAOJ/GwVRQgJIcjMTQJKNOAMBBBBAAAEE/BcggPjfRkGUkACS3MwEkGQjzkAAAQQQQAAB/wUIIP63URAlJIAkNzMBJNmIMxBAAAEEEEDAfwECiP9tFEQJCSDJzUwASTbiDAQQQAABBBDwX4AA4n8bBVFCAkhyMxNAko04AwEEEEAAAQT8FyCA+N9GQZSQAJLczASQZCPOQAABBBBAAAH/BQgg/rdRECUkgCQ3MwEk2YgzEEAAAQQQQMB/AQKI/20URAkJIMnNTABJNuIMBBBAAAEEEPBfgADifxsFUUICSHIzE0CSjTgDAQQQQAABBPwXIID430ZBlJAAktzMBJBkI85AAAEEEEAAAf8FCCD+t1EQJSSAJDczASTZiDMQQAABBBBAwH8BAoj/bRRECQkgyc1MAEk24gwEEEAAAQQQ8F+AAOJ/GwVRQgJIcjMTQJKNOAMBBBBAAAEE/BcggPjfRkGUkACS3MwEkGQjzkAAAQQQQAAB/wUIIP63URAlJIAkNzMBJNmIMxBAAAEEEEDAfwECiP9tFEQJCSDJzUwASTbiDAQQQAABBBDwX4AA4n8bBVFCAkhyMxNAko04AwEEEEAAAQT8FyCA+N9GQZSQAJLczASQZCPOQAABBBBAAAH/BQgg/rdRECUkgCQ3MwEk2YgzEEAAAQQQQMB/AQKI/20URAkJIMnNTABJNuIMBBBAAAEEEPBfgADifxsFUUICSHIzE0CSjTgDAQQQQAABBPwXIID430ZBlJAAktzMBJBkI85AAAEEEEAAAf8FCCD+t1EQJSSAJDczASTZiDMQQAABBBBAwH8BAoj/bRRECQkgyc1MAEk24gwEEEAAAQQQ8F+AAOJ/GwVRQgJIcjMTQJKNOAMBBBBAAAEE/BcggPjfRkGUkACS3MwEkGQjzkAAAQQQQAAB/wUIIP63URAlJIAkNzMBJNmIMxBAAAEEEEDAfwECiP9tFEQJCSDJzUwASTbiDAQQQAABBBDwX4AA4n8bBVFCAkhyMxNAko04AwEEEEAAAQT8FyCA+N9GQZSQAJLczASQZCPOQAABBBBAAAH/BQgg/rdRECUkgCQ3MwEk2YgzEEAAAQQQQMB/AQKI/20URAkJIMnNTABJNuIMBBBAAAEEEPBfgADifxsFUUICSHIzE0CSjTgDAQQQQAABBPwXIID430ZBlJAAktzMBJBkI85AAAEEEEAAAf8FCCA1bKNHHnnEVl99dbv44ott1113bfXJ0bmXX3657bTTTu7cK664wgYNGmQPP/ywrbbaaq1eP2HCBFtwwQUtfn0Nq9rmRxFAkskIIMlGnIEAAggggAAC/gsQQHJoo2+//daGDRtmt956q7399tv2888/23zzzWerrrqq7bHHHrb88su7pxBAWsYmgCR3RAJIshFnIIAAAggggID/AgSQjG306quv2nrrrWeffPKJbb755ta3b1+bbrrp7J133rEbb7zR3nrrLdM5iy66aJsCyJ9//mm//vqrTT311DbllFMyA5KxncpwOQGkDK1IHRBAAAEEEECAAJKhD/zwww+21FJL2ddff2333Xef9e7du9nd/vjjDxs+fLittdZabQ4g1YpVxBKs3377zSZNmmTTTDNNBonslzIDkmxIAEk24gwEEEAAAQQQ8F+AAJKhjc4880w74IAD7JJLLrFddtkl8U7xJVhapnXWWWfZf//7X+vRo4f7/9ofEh1t2QPy8ssv23777WdPPfWUzTDDDLbFFlvYXnvtZUsssUSzPSBRgLnzzjttzJgxdtVVV9nHH39sY8eOtZ49e9qXX35pxx13nHdkhUYAACAASURBVFtKpj/v3LmzbbbZZnb88cfbLLPM0lQ27Um58sor7dNPP7UDDzzQRo8ebQpb66+/vl1wwQU222yzJVpUnkAASSYjgCQbcQYCCCCAAAII+C9AAMnQRiuvvLI999xz9s0339i0006beKcoVCyzzDL23XffudCimYezzz7bzaK8//77Nuuss7r7pA0gWuql+3Xo0MGGDBlic8wxh1133XVuH8oLL7xQNYAsvvjibmnXgAEDbIoppnBLx2accUa3V+WLL76w3Xff3f72t7/Z66+/7gKFApLCTceOHV3ZogCi53br1s3WXHNNe+ONN9xsz7bbbmsjR45MtCCAtJnICCBtN+MKBBBAAAEEEPBPgACSoU1mn31269Kli7300kup7hKFinnnndfGjx9vM800k7vuxRdftKWXXtrOO+88N3PRlgCyzTbb2PXXX2/PP/+89erVy12rZVWrrLKKPf3001UDiPajaNYjHpr23ntvGzVqlKlD/P3vf2+qzx133GEbbbSRjRgxwgYPHtwsgCjwnHvuuU3n7rvvvi6EfPXVV011qwaj/TL6J37IY+DAgTZy6/7Wfc7OqTxDO4kAElqLU18EEEAAAQTKKUAAydCumkVYYYUV7PHHH091lyiAHHrooXbSSSc1u2bmmWd2r+Y944wzUgcQLXvSdSuuuKLdf//9ze537bXXutmIaq/x1XIvhYXo0B4QzZxoJuP888+frC6a5dBG+xtuuKFZANEMySKLLNJ0/i233GL9+/c3LQnT8q+WjqOPPtqOOeaYqn9NAGm5KxFAUv2YcRICCCCAAAIIeC5AAMnQQJoB6dq1q5vBSHNEASQ+mxBdp0G+9oAoMOhIswRLezDmmWcet/QqPhOh6zUro30d1QLI7bff7mY1ouOzzz6zueaaq9UqaEbl0UcfbRZAtMwrWpYVL7PKrlcQt3QwA5Kmt0x+DgGkfW5chQACCCCAAAJ+CRBAMrRHe/eAVPsiQgUQfbmgNooXHUA0W9KvX7+mmv/vf/+zueee2zbddFPTUqxqhzahR2/5ivaAaKnXVFNN1XR6FJrSfFFi5TPYhJ7cEQkgyUacgQACCCCAAAL+CxBAMrSRlkvpLVCXXnqp7bzzzol3au2LCNsTQNq7BKsygOg7R/TmKi0nu+eeexLrQQBJJCrkBAJIIazcFAEEEEAAAQRqLEAAyQD+/fff25JLLuneaKVBfbQJPLqlBvbaWK69FUlfRNieAKLnbL311m5vRls2oVcGEN1HG8w1M/Pggw82ex2w/k5BR9/2Hr1elwCSodNkuJQAkgGPSxFAAAEEEEDAGwECSMamGDdunNugrWVMW265pfXp08c6depk7733nt10003u9bSvvPJKYQFE37SupVF6ne7QoUNN+1KSXsNbLYDozVX6Fve3337btt9+e/dqXwUP/fvNN99s2jiuTfI6CCAZO007LyeAtBOOyxBAAAEEEEDAKwECSA7Noe/wGDZsmN12222mQPDrr7/afPPN52YS9txzz6a9E3kvwYqKrk3w+++/f7MvItRejpa+iLBaANG9NMtxyimnuOCk7yRRkJp//vltnXXWcXtDFlhgAQJIDv2lvbcggLRXjusQQAABBBBAwCcBAohPrRFwWdiEntz4BJBkI85AAAEEEEAAAf8FCCD+t1EQJSSAJDczASTZiDMQQAABBBBAwH8BAoj/bRRECQkgyc1MAEk24gwEEEAAAQQQ8F+AAOJ/GwVRQgJIcjMTQJKNOAMBBBBAAAEE/BcggPjfRkGUkACS3MwEkGQjzkAAAQQQQAAB/wUIIP63URAlJIAkNzMBJNmIMxBAAAEEEEDAfwECiP9tFEQJCSDJzUwASTbiDAQQQAABBBDwX4AA4n8bBVFCAkhyMxNAko04AwEEEEAAAQT8FyCA+N9GQZSQAJLczASQZCPOQAABBBBAAAH/BQgg/rdRECUkgCQ3MwEk2YgzEEAAAQQQQMB/AQKI/20URAkJIMnNTABJNuIMBBBAAAEEEPBfgADifxsFUUICSHIzE0CSjTgDAQQQQAABBPwXIID430ZBlJAAktzMBJBkI85AAAEEEEAAAf8FCCD+t1EQJSSAJDczASTZiDMQQAABBBBAwH8BAoj/bRRECQkgyc1MAEk24gwEEEAAAQQQ8F+AAOJ/GwVRQgJIcjMTQJKNOAMBBBBAAAEE/BcggPjfRkGUkACS3MwEkGQjzkAAAQQQQAAB/wUIIP63URAlJIAkNzMBJNmIMxBAAAEEEEDAfwECiP9tFEQJCSDJzUwASTbiDAQQQAABBBDwX4AA4n8bBVFCAkhyMxNAko04AwEEEEAAAQT8FyCA+N9GQZSQAJLczASQZCPOQAABBBBAAAH/BQgg/rdRECUkgCQ3MwEk2YgzEEAAAQQQQMB/AQKI/20URAkJIMnNTABJNuIMBBBAAAEEEPBfgADifxsFUUICSHIzE0CSjTgDAQQQQAABBPwXIID430ZBlJAAktzMBJBkI85AAAEEEEAAAf8FCCD+t1EQJSSAJDczASTZiDMQQAABBBBAwH8BAoj/bRRECQkgyc1MAEk24gwEEEAAAQQQ8F+AAOJ/GwVRQgJIcjMTQJKNOAMBBBBAAAEE/BcggPjfRkGUkACS3MwEkGQjzkAAAQQQQAAB/wUIIP63URAlJIAkNzMBJNmIMxBAAAEEEEDAfwECiP9tFEQJCSDJzUwASTbiDAQQQAABBBDwX4AA4n8bBVFCAkhyMxNAko04AwEEEEAAAQT8FyCA+N9GQZSQAJLczASQZCPOQAABBBBAAAH/BQgg/rdRECUkgCQ3MwEk2YgzEEAAAQQQQMB/AQKI/20URAkJIMnNTABJNuIMBBBAAAEEEPBfgADifxsFUUICSHIzE0CSjTgDAQQQQAABBPwXIID430ZBlJAAktzMBJBkI85AAAEEEEAAAf8FCCD+t1EQJSSAJDczASTZiDMQQAABBBBAwH8BAoj/bRRECQkgyc1MAEk24gwEEEAAAQQQ8F+AAOJ/GwVRQgJIcjMTQJKNOAMBBBBAAAEE/BcggPjfRkGUkACS3MwEkGQjzkAAAQQQQAAB/wUIIP63URAlJIAkNzMBJNmIMxBAAAEEEEDAfwECiP9tFEQJCSDJzUwASTbiDAQQQAABBBDwX4AA4n8bBVFCAkhyMxNAko04AwEEEEAAAQT8FyCA+N9GQZQw744YBBqVRAABBBBAAAEEGlAg73Ffh0mTJk1qQAeKXGeBvDtinavD4xFAAAEEEEAAAQRaEMh73EcAoau1SyDvjtiuQnARAggggAACCCCAQOECeY/7CCCFN1k5H5B3RyynErVCAAEEEEAAAQQaXyDvcR8BpPH7RF1qkHdHrEsleCgCCCCAAAIIIIBAokDe4z4CSCI5J1QTyLsjoowAAggggAACCCDgp0De4z4CiJ/t7H2p8u6I3leYAiKAAAIIIIAAAoEK5D3uI4AE2pGyVjvvjpi1PFyPAAIIIIAAAgggUIxA3uM+Akgx7VT6u+bdEUsPRgURQAABBBBAAIEGFch73EcAadCOUO9i590R610fno8AAggggAACCCBQXSDvcR8BhJ7WLoG8O2K7CsFFCCCAAAIIIIAAAoUL5D3uI4AU3mTlfEDeHbGcStQKAQQQQAABBBBofIG8x30EkMbvE3WpQd4dsS6V4KEIIIAAAggggAACiQJ5j/sIIInknFBNIO+OiDICCCCAAAIIIICAnwJ5j/sIIH62s/elyrsjel9hCogAAggggAACCAQqkPe4jwASaEfKWu28O2LW8nA9AggggAACCCCAQDECeY/7CCDFtFPp75p3Ryw9GBVEAAEEEEAAAQQaVCDvcR8BpEE7Qr2LnXdHrHd9eD4CCCCAAAIIIIBAdYG8x30EEHpauwTy7ojtKgQXIYAAAggggAACCBQukPe4jwBSeJOV8wF5d8RyKlErBBBAAAEEEECg8QXyHvcRQBq/T9SlBnl3xLpUgocigAACCCCAAAIIJArkPe4jgCSSc0I1gbw7IsoIIIAAAggggAACfgrkPe4jgPjZzt6XKu+O6H2FKSACCCCAAAIIIBCoQN7jPgJIoB0pa7Xz7ohZy8P1CCCAAAIIIIAAAsUI5D3uI4AU006lv2veHbH0YFQQAQQQQAABBBBoUIG8x30EkAbtCPUudtQRDx7Z37p271zv4vB8BBBAAAEEEECgrgJDeo+o6/OLfDgBpEhd7p1agACSmooTEUAAAQQQQCAAAQJI+kZmBiS9FWfGBAggdAcEEEAAAQQQQOAvAQJI+t5AAElvxZkEEPoAAggggAACCCBQVYAAkr5jEEDSW3EmAYQ+gAACCCCAAAIIEEAy9gECSEbAUC9nCVaoLU+9EUAAAQQQQKCaADMg6fsFASS9FWcyA0IfQAABBBBAAAEEmAHJ2AcIIBkBQ72cGZBQW556I4AAAggggAAzINn6AAEkm1+wVxNAgm16Ko4AAggggAACVQRYgpW+WxBA0ltxZkyAAEJ3QAABBBBAAAEE/hIggKTvDQSQ9FacSQChDyCAAAIIIIAAAlUFCCDpOwYBJL0VZxJA6AMIIIAAAggggAABJGMfIIBkBAz1cpZghdry1BsBBBBAAAEEqgkwA5K+XxBA0ltxJjMg9AEEEEAAAQQQQIAZkIx9gACSETDUy5kBCbXlqTcCCCCAAAIIMAOSrQ8QQLL5BXs1ASTYpqfiCCCAAAIIIFBFgCVY6bsFASS9FWfGBAggdAcEEEAAAQQQQOAvAQJI+t5AAElvxZkEEPoAAggggAACCCBQVYAAkr5jEEDSW3EmAYQ+gAACCCCAAAIIEEAy9gECSEbAUC9nCVaoLU+9EUAAAQQQQKCaADMg6fsFASS9FWcyA0IfQAABBBBAAAEEmAHJ2AcIIBkBQ72cGZBQW556I4AAAggggAAzINn6AAEkm1+wVxNAgm16Ko4AAggggAACVQRYgpW+WxBA0ltxZkyAAEJ3QAABBBBAAAEE/hIggKTvDQSQ9FacSQChDyCAAAIIIIAAAlUFCCDpOwYBJL0VZxJA6AMIIIAAAggggAABJGMfIIBkBAz1cpZghdry1BsBBBBAAAEEqgkwA5K+XxBA0ltxJjMg9AEEEEAAAQQQQIAZkIx9gACSETDUy5kBCbXlqTcCCCCAAAIIMAOSrQ8QQLL5BXs1ASTYpqfiCCCAAAIIIFBFgCVY6bsFASS9FWfGBAggdAcEEEAAAQQQQOAvAQJI+t5AAElvxZkEEPoAAggggAACCCBQVYAAkr5jEEDSW3EmAYQ+gAACCCCAAAIIEEAy9gECSEbAUC9nCVaoLU+9EUAAAQQQQKCaADMg6fsFASS9FWcyA0IfQAABBBBAAAEEmAHJ2AcIIBkBQ72cGZBQW556I4AAAggggAAzINn6AAEkm1+wVxNAgm16Ko4AAggggAACVQRYgpW+WxBA0ltxZkyAAEJ3QAABBBBAAAEE/hIggKTvDQSQ9FacSQChDyCAAAIIIIAAAlUFCCDpOwYBJL0VZxJA6AMIIIAAAggggAABJGMfIIBkBAz1cpZghdry1BsBBBBAAAEEqgkwA5K+XxBA0ltxJjMg9AEEEEAAAQQQQIAZkIx9gACSETDUy5kBCbXlqTcCCCCAAAIIMAOSrQ8QQLL5BXs1ASTYpqfiCCCAAAIIIFBFgCVY6bsFASS9VSFn7rTTTvbII4/YhAkT2nX/bt26mf7RPWp5EEBqqc2zEEAAAQQQQMB3AQJI+hbKNYBss802duONN9qzzz5rvXr1mqwUBx98sJ122ml2xx132AYbbJC+lJ6fefLJJ9thhx1m//jHP+zNN99sU2nzDiB//vmnHXvssdazZ0/bdNNN21SWtpxMAGmLFucigAACCCCAQNkFCCDpWzjXAPL555/bYostZvPOO689//zzNtVUUzWVZOzYsbb88svbdtttZ1dddVX6EjbAmT169LBff/3V3n33XRszZoz16dMndanzDiC///67TT311LbjjjvaFVdckbocbT2RANJWMc5HAAEEEEAAgTILEEDSt26uAUSPve6660wzIccdd5z961//ciXRoHjZZZe1Tz/91F599VWbbbbZ0pfQ8zM126NgNXr0aNt9991to402sgsvvDB1qQkgqak4EQEEEEAAAQQQ8FaAAJK+aXIPIHp0//797c4777QXXnjBFl10UTvppJPsn//8p91888222Wab2aRJk2z48OF20UUX2VtvvWUzzDCDrbnmmnbCCSfYQgst1FR6fYI/aNAge++999w+h/jRoUMHO+qoo+zoo492f6w9EKuvvrpdfPHF9vPPP9tZZ51l//3vf02zE/r/+rv48dlnn9kBBxzgloMpIK200kp2zjnn2Nprr22rrbZa6tmDvffe2y07++ijj0xLzC6//HL75JNPbNppp232vD/++MPV75JLLrFopuj444+3a6+9drI9IJV1i25ULazE94BoH8mCCy44Weuvuuqq7hkqwxlnnOHqpnM1Q9W1a1fbYost7Jhjjknfa8yMGZA2cXEyAggggAACCJRcgACSvoELCSCa6VDwWGSRRdyAfOmll7aNN97YzY7o2GeffWzYsGG2xhpruH0KGrCfe+651rFjR7d0Kwob7QkgyyyzjH333Xe2yy672DTTTGNnn322ff311/b+++/brLPO6p7/yy+/WO/eve21115zsxZLLrmkWzr12GOP2cSJE93+lDTLl7Tsap555rGBAwe68BINyhUqtt5662atMGTIEDvvvPNsnXXWsQ033NAFAM2UqK7ff/99s03o7Q0gP/74o910001u+dXKK6/s6qZjrrnmsrXWWsuFNQUNBZkVV1zRLRvTnpWXXnrJHn300fS9hgDSJitORgABBBBAAIHyCxBA0rdxIQFEjx85cqTtsMMONvvss5sG1Brsd+7c2f2v9olokH/77bfbFFNM4Ur79NNPu70TGrhfc8017s/aE0C0/2T8+PE200wzuXu8+OKLLgBp8L/XXnu5P9P/jwJB9Gf6c20k14bytPsnNNjX7IGWYWmJmQ4FL4WKu+66q6kVVB7VeZNNNnGzQPLQoWVbCmYLLLBALgFE92xtD4gc5KPZqbYcCoj6J36oTgpeB4/sb127d27L7TgXAQQQQAABBBAonQABJH2TFhZAVIT11lvP7rnnHhs1apQNGDDAleqUU06xQw891M026FP6+KEZkeeee86+/fZbF0zaE0B0by35ih8zzzyz7brrrm75kY51113XnnzySfviiy/cLEl0aGnUnHPOmTqAKDxoBuH1119vuseJJ55oRx55pFv+Nffcczer8xNPPGF9+/ZtVjYtEdOsS/w1vO2dAUkKIFqGpo3yCkcKRGmPaOak2vkEkLSKnIcAAggggAACZRYggKRv3UIDSDRw1T6PaG/HHnvs4ZYeafCv2ZH4Ec1KaAmXlg21J4CMGDHCBg8e3Oy+mpHQ4FvLwXR0797dBY+XX355Mikt09JMRdISLO0hmW+++dwyp/3226/pPlrq1a9fP/e64QMPPND9eWt11p4Y7ZWpRQB56qmnXN0UtNQeMtESuPXXX7/VHsMMSPofKM5EAAEEEEAAgTAFCCDp293rAHLllVe6/QqVm9C1mVobqFvahK7ZjvihABLfWJ5HANHeknjwqCRffPHFbdy4cbkGkO23394ef/zxZmGl8osIk17Dq/0md999tz344IN2//33O1vNVGkzfrQcLk33YRN6GiXOQQABBBBAAIFQBAgg6Vu65gGktSVYehOWlmB98803bjCsPSL6xF6DXe1fiA7NqCy88MLtDiB5LMFSeRSEtNyq8tBMw5lnnmn67hN9IWNU57RLsPSaYoUNbWyPH1q+pbdtxWdLKgNIFM7S7GPR28gOOuggtzRNgURL4NIeBJC0UpyHAAIIIIAAAiEIEEDSt3LNA4g2L2ujtr4v49Zbb2361F0buVdYYQX3HSJXX321q0F07umnn+5emRsdevXt+eef3+4AolcADx061L0KWPeKjrSb0LV0a6mlljLt99A1lYeWOOntWLq3QkRUDy13SrMJXd8ron0h8SVizzzzjHtz1fzzz99qAFFZ9ApgvW3rtttua1Y0LXubY445mv2Z9uco7OhVwptvvnnqnkMASU3FiQgggAACCCAQgAABJH0j1zyAqGjRa3g146EZDu350Gt4tS8j/hpenaulUxp8a7lTly5d7L777rOPP/7YzZS0dwmWvidEr+vV5nHtF1liiSXcpnRtjP/pp5/ca3Kj/SLVKBWGNMOhYKHlXNUOffeG3vilsuqbyffcc0/T/hQFA4UvzWLo36u9hjfa+6I3hUWv7NX3m6j+2qDf2gyIyqLvNNG+Er1yV9doY71mN/QWMs2i6I1dCki6j4Kcyqe6zDLLLKl7DgEkNRUnIoAAAggggEAAAgSQ9I1clwASfRGhNqPHv4hQMwrxLyJUNT788EP3+tyHHnrIBRQN3vXFgvokv70BRPdV6Im+iPDPP/80BQbNVmj2YauttnID82qH9lhoUK/BevztV5XnRntEbrnlFrfRW0uj9O3w+iJCzURoj0hLX0Qon2OPPdZt1v/qq6/c95RoGZf2xOgLBZMCiPaeaPZFS8AUqKIvItTbwbTX44033nDfPaIQou8HOfzwwyf7osekLkQASRLi7xFAAAEEEEAgJAECSPrWLjSApC+GH2dqsK83c7W0tMqPUvpRCgKIH+1AKRBAAAEEEEDADwECSPp2CDaAaI9Fp06dmklFe0C05Gu55ZZLrxjgmQSQABudKiOAAAIIIIBAiwIEkPSdI9gA0r9/f5t++umbvsFcS7y0aVvLpbRsiqN1AQIIPQQBBBBAAAEEEPhLgACSvjcEG0Auuugitwn8nXfecW+c0tul9AauI444wjp27JheMNAzCSCBNjzVRgABBBBAAIGqAgSQ9B0j2ACSnogzqwkQQOgXCCCAAAIIIIAAMyDt6QMEkPaocY37cki9yvjgkf2ta/fOiCCAAAIIIIAAAkELMAOSvvkJIOmtODMmQAChOyCAAAIIIIAAAsyAtKcPEEDao8Y1zIDQBxBAAAEEEEAAgZgAMyDpuwMBJL0VZzIDQh9AAAEEEEAAAQSqChBA0ncMAkh6K84kgNAHEEAAAQQQQAABAkjGPkAAyQgY6uXsAQm15ak3AggggAACCFQTYAYkfb8ggKS34kxmQOgDCCCAAAIIIIAAMyAZ+wABJCNgqJczAxJqy1NvBBBAAAEEEGAGJFsfIIBk8wv2agJIsE1PxRFAAAEEEECgigBLsNJ3CwJIeivOjAkQQOgOCCCAAAIIIIDAXwIEkPS9gQCS3oozCSD0AQQQQAABBBBAoKoAASR9xyCApLfiTAIIfQABBBBAAAEEECCAZOwDBJCMgKFezhKsUFueeiOAAAIIIIBANQFmQNL3CwJIeivOZAaEPoAAAggggAACCDADkrEPEEAyAoZ6OTMgobY89UYAAQQQQAABZkCy9QECSDa/YK8mgATb9FQcAQQQQAABBKoIsAQrfbcggKS34syYAAGE7oAAAggggAACCPwlQABJ3xsIIOmtOJMAQh9AAAEEEEAAAQSqChBA0ncMAkh6K84kgNAHEEAAAQQQQAABAkjGPkAAyQgY6uUswQq15ak3AggggAACCFQTYAYkfb8ggKS34kxmQOgDCCCAAAIIIIAAMyAZ+wABJCNgqJczAxJqy1NvBBBAAAEEEGAGJFsfIIBk8wv2agJIsE1PxRFAAAEEEECgigBLsNJ3CwJIeivOjAkQQOgOCCCAAAIIIIDAXwIEkPS9gQCS3oozCSD0AQQQQAABBBBAoKoAASR9xyCApLfiTAIIfQABBBBAAAEEECCAZOwDBJCMgKFezhKsUFueeiOAAAIIIIBANQFmQNL3CwJIeivOZAaEPoAAAggggAACCDADkrEPEEAyAoZ6OTMgobY89UYAAQQQQAABZkCy9QECSDa/YK8mgATb9FQcAQQQQAABBKoIsAQrfbcggKS34syYAAGE7oAAAggggAACCPwlQABJ3xsIIOmtOJMAQh9AAAEEEEAAAQSqChBA0ncMAkh6K84kgNAHEEAAAQQQQAABAkjGPkAAyQgY6uUswQq15ak3AggggAACCFQTYAYkfb8ggKS34kxmQOgDCCCAAAIIIIAAMyAZ+wABJCNgqJczAxJqy1NvBBBAAAEEEGAGJFsfIIBk8wv2agJIsE1PxRFAAAEEEECgigBLsNJ3CwJIeivOjAkQQOgOCCCAAAIIIIDAXwIEkPS9gQCS3oozqwSQsWPHWq9evbBBAAEEEEAAAQQQKKlA9MFzXuM+AkhJO0rR1cq7IxZdXu6PAAIIIIAAAggg0D6BvMd9BJD2tUPwV+XdEYMHBQABBBBAAAEEEPBUIO9xHwHE04b2vVh5d0Tf60v5EEAAAQQQQACBUAXyHvcRQELtSRnrnXdHzFgcLkcAAQQQQAABBBAoSCDvcR8BpKCGKvtt8+6IZfeifggggAACCCCAQKMK5D3uI4A0ak+oc7nz7oh1rg6PRwABBBBAAAEEEGhBIO9xHwGErtYugbw7YrsKwUUIIIAAAggggAAChQvkPe4jgBTeZOV8QN4dsZxK1AoBBBBAAAEEEGh8gbzHfQSQxu8TdalB3h2xLpXgoQgggAACCCCAAAKJAnmP+wggieScUE0g746IMgIIIIAAAggggICfAnmP+wggfraz96XKuyN6X2EKiAACCCCAAAIIBCqQ97iPABJoR8pa7bw7YtbycD0CCCCAAAIIIIBAMQJ5j/sIIMW0U+nvmndHLD0YFUQAAQQQQAABBBpUIO9xHwGkQTtCvYudd0esd314PgIIIIAAAggggEB1gbzHfQQQelq7BPLuiO0qBBchgAACCCCAAAIIFC6Q97iPAFJ4k5XzAXl3xHIqUSsEWkpSmgAAIABJREFUEEAAAQQQQKDxBfIe9xFAGr9P1KUGeXfEulSChyKAAAIIIIAAAggkCuQ97iOAJJJzQjWBvDsiyggggAACCCCAAAJ+CuQ97iOA+NnO3pcq747ofYUpIAIIIIAAAgggEKhA3uM+AkigHSlrtfPuiFnLw/UIIIAAAggggAACxQjkPe4jgBTTTqW/a94dsfRgVBABBBBAAAEEEGhQgbzHfQSQBu0I9S523h2x3vXh+QgggAACCCCAAALVBfIe9xFA6GntEsi7I7arEFyEAAIIIIAAAgggULhA3uM+AkjhTVbOB+TdEcupRK0QQAABBBBAAIHGF8h73EcAafw+UZca5N0R61IJHooAAggggAACCCCQKJD3uI8AkkjOCdUEoo7Y/7KR1nmR7iAhgAACCCCAgGcCI/r09qxEFKdRBQggjdpyJSs3AaRkDUp1EEAAAQRKJ0AAKV2T1q1CBJC60fPguAABhP6AAAIIIICA3wIEEL/bp5FKRwBppNYqcVkJICVuXKqGAAIIIFAKAQJIKZrRi0oQQLxoBgpBAKEPIIAAAggg4LcAAcTv9mmk0hFAGqm1SlxWAkiJG5eqIYAAAgiUQoAAUopm9KISBBAvmoFCEEDoAwgggAACCPgtQADxu30aqXQEkEZqrRKXlQBS4salaggggAACpRAggJSiGb2oBAHEi2agEAQQ+gACCCCAAAJ+CxBA/G6fRiodAaSRWqvEZSWAlLhxqRoCCCCAQCkECCClaEYvKkEA8aIZKAQBhD6AAAIIIICA3wIEEL/bp5FKRwBppNYqcVkJICVuXKqGAAIIIFAKAQJIKZrRi0oQQLxoBgpBAKEPIIAAAggg4LcAAcTv9mmk0hFAGqm1SlxWAkiJG5eqIYAAAgiUQoAAUopm9KISBBAvmoFCEEDoAwgggAACCPgtQADxu30aqXQEkEZqrRKXlQBS4salaggggAACpRAggJSiGb2oBAHEi2agEAQQ+gACCCCAAAJ+CxBA/G6fRiodAaSRWqvEZSWAlLhxqRoCCCCAQCkECCClaEYvKkEA8aIZKAQBhD6AAAIIIICA3wIEEL/bp5FKRwBppNYqcVkJICVuXKqGAAIIIFAKAQJIKZrRi0oQQLxoBgpBAKEPIIAAAggg4LcAAcTv9mmk0hFAGqm1SlxWAkiJG5eqIYAAAgiUQoAAUopm9KISBBAvmoFCEEDoAwgggAACCPgtQADxu30aqXQEkEZqrRKXlQBS4salaggggAACpRAggJSiGb2oBAHEi2agEAQQ+gACCCCAAAJ+CxBA/G6fRiodAaSRWqvEZSWAlLhxqRoCCCCAQCkECCClaEYvKkEA8aIZKAQBhD6AAAIIIICA3wIEEL/bp5FKRwBppNYqcVkJICVuXKqGAAIIIFAKAQJIKZrRi0oQQLxoBgpBAKEPIIAAAggg4LcAAcTv9mmk0hFAGqm1SlxWAkiJG5eqIYAAAgiUQoAAUopm9KISBBAvmoFCEEDoAwgggAACCPgtQADxu30aqXQEkEZqrRKXlQBS4salaggggAACpRAggJSiGb2oBAHEi2agEAQQ+gACCCCAAAJ+CxBA/G6fRiodAaSRWqvEZSWAlLhxqRoCCCCAQCkECCClaEYvKkEA8aIZKAQBhD6AAAIIIICA3wIEEL/bp5FKRwBppNYqcVkJICVuXKqGAAIIIFAKAQJIKZrRi0oQQLxoBgpBAKEPIIAAAggg4LcAAcTv9mmk0hFAGqm1SlxWAkiJG5eqIYAAAgiUQoAAUopm9KISBBAvmoFCEEDoAwgggAACCPgtQADxu30aqXQEkEZqrRKXlQBS4salaggggAACpRAggJSiGb2oBAHEi2agEAQQ+gACCCCAAAJ+CxBA/G6fRiodAaSRWqvEZSWAlLhxqRoCCCCAQCkECCClaEYvKkEA8aIZKAQBhD6AAAIIIICA3wIEEL/bp5FKF0wAeeSRR2z11Ve3yy+/3HbaaafENurQoYMdddRRdvTRRyee261bN1tttdXsiiuucOdOmDDBFlxwwdTXJz6gQU6Qq5xV/7YeBJC2inE+AggggAACtRUggNTWu8xPa6gAEoUINcjxxx9vhx9++GRtc91119k222zj/jweNsoWQNZdd1279957bdddd7WLL77Yiz5KAPGiGSgEAggggAAChQgQQAphDfKmDRlApp12Wpt//vntjTfemKzR1l9/fXv44Yft559/bhZA/vzzT/v1119t6qmntimnnDKxsX2eAfn4449d/RdYYAH74osv7NNPP7VOnTol1qnoEwggRQtzfwQQQAABBOonQACpn33ZntyQAWSrrbay66+/3p566ilbYYUVmtpEA/EuXbrYFltsYZoJSbvcqlqj+hxATj31VDvyyCPtoYcesr59+9rVV19t2267bd37JgGk7k1AARBAAAEEEChMgABSGG1wN27IAHLhhRfascceaxtvvLGdf/75TY12+umnu4H5qFGjbPPNN0+1BOv999+3fffd1x544AGbaqqpTEubzj77bJt77rkn28Px5Zdf2gEHHGC33Xab/f7777byyivbsGHDrF+/fqn2gPzxxx/ufAWjN998081aaO/IiSeeaD169Ejd+RZbbDHr3r273XTTTdarVy+bc8457Z577pnsepVRTpdddpmp7Isuuqgdd9xxLrxV26vx5JNPuqVtCnYTJ050z9hvv/1sxx13bHZv1eOEE06wSy65xD7//HNTeXTdtddeyx6Q1K3IiQgggAACCDSWAAGksdrL59I2ZADRnoe3337bLrroIrf8aJpppnHGSyyxhC2++OK2yy672FprrZUYQL7++mtbaqml7LPPPrO9997bbRy/88477X//+5+98MILzQKIlm+tuOKK7s932203d93jjz9uY8aMcYP1DTbYIHET+pZbbmm33nqrbb/99rbccsu5UKAA9eOPP9pzzz1n//jHPxL7yvPPP2/LLrus3XzzzbbZZpvZmWeeaQcffLB98MEHNu+88za7fvfdd3f7Q9Zbbz1XPoWtESNGmDbNf/fdd802i6tcKp8CjWaQpptuOrv99tvtvvvus1NOOcU9IzqGDBli5513nq2zzjq24YYbuvsoFOq+33//PZvQE1uRExBAAAEEEGg8AQJI47WZryVu2ACipUf6RP/GG290sx1RRe6++243k5EmgBx66KFucH3LLbfYpptu6tpo0qRJbiCu2YX4W7A0cN9zzz3trLPOcjMm0aEZEYUAzRK09hasG264wbR0TP+rAX50fPTRR64e2rtyzTXXJPaToUOH2r///e+m4PXJJ59Y165d3SxKPCS88sorLpDpmVqOFh3auK5ZHu0fid5WpQClPSVazqbQoeVn0aGy3nXXXaZ9J7PMMouNHz/ezXhssskmLgRF544ePdrNSMXv21JlVGb9Ez9034EDB1r/y0Za50W6JzpwAgIIIIAAAgjUVoAAUlvvMj+tYQOI3v6kmYB55pnHDZr32WcfN7j/8MMP3Sb0NAFEy560TOmtt95q1sZPP/20m+2IBxDNIjzxxBNu03fHjh2bztcMjMqQFED69+9vzzzzjL300kuT9acBAwa4AKXlTK0dmoXRLIcCl2YcomPttdc2BZlXX3216c9OPvlkO+ywwybbJ6MTFCA06xIFEPkpUCh0rbLKKs2KoGCx88472x133OFmURTYFNxkoRAYP+SpMJP0Gl692viYY46pWlUCSJl/3VA3BBBAAIFGFiCANHLr+VX2hg4gw4cPt/33398NeLUkSpugTzvtNLefI00A0du0dJ4G2fHj22+/dZ/2xwOI9kPoDVrjxo2brAVnnXVWN4BvbQZEsxz6lL+1Q3srpphiihZP0UyNgsyVV15pffr0aTpPweuf//ynW8bVu3dv9+d77LGHCyla5jXbbLM1u6eWbmkpWRQUtKn9kEMOabVs2kcyaNCgpvsqiM0+++yt3relGzID4tcvAUqDAAIIIIBAGgECSBolzkkj0NABRINrzQhoM/iDDz7owoH2gPgYQDQ78Msvv7h9Ky0da665ZrPlT5XnaZmYNsC3dGhvxrnnntvmABLNalxwwQW20EILVb29ApSso2CTJYBUewBfRJjmx5VzEEAAAQQQqJ8AAaR+9mV7ckMHEDWGPs3XBuqll17aLWPSkTaAKBRo1kFvpIofRSzB2mijjdwbor766is3k9LWQwP+aPmVlmBVHnojlTaoa6+GNuVHS7D0ZistJ4sflUuwtPRKez20ByX6EseWypfHEiwCSFtbn/MRQAABBBCovwABpP5tUJYSNHwA0aBb+xM0C6IZhLYEEC070vKjNJvQNTuw1157tXsTugb322233WSv9o06kt7EpdfptnTo9b3a51ItUOgabQhXMInejqXZoCWXXNJtqNdrd6Oj2ib0H374wb3BSq8eVviaYYYZmhVDe1PmmGMONzujZWSaDdFsTHs3oRNAyvLrg3oggAACCIQkQAAJqbWLrWvDB5BqPGlnQLSEq2fPnm7zt5Yv6TW8CjMtvYZXr859+eWX3Wt4dd1jjz3mNmPrW9eTXsOrt2vpywL1RiptGtfekxlnnNG9Gldv7tKshL6/pKVjmWWWcW+O0mbz+FuqovN/+uknFxJ0b80I6dDriLV3Q2/Y0j96VW/8Nbzvvfde0+O0tEthZa655nJ7afQ2K4Ui7RXRJnVtWtfbxXTobWC6j17Dq5kd7SWJ7streIv9geXuCCCAAAII1EuAAFIv+fI9N+gAoubUIFyv1dUeEi2Nau2LCBVU9NpdDci1dEuzLuecc44LE/pCwdY2oetZCiHaA6JQoDdW6d/nm28+9zYphZr4xvJ4V4teqTt48GA30G/p0KyEXpmrkNK5c2f77bff3Num9MWHClt6La++QFBleO2119w/8WPs2LF20kknue830Xek6B7RbIdmf6Lgo7rrCw217EtLw7Tvhi8iLN8vB2qEAAIIIIBAXIAAQn/IS6ChAkhelQ79PlqapVcHazmWLweb0H1pCcqBAAIIIIBAdQECCD0jLwECSF6SHt5H38nRqVOnZiWL9oBUfrt5vYtPAKl3C/B8BBBAAAEEWhcggNBD8hIggOQl6eF9zjjjDLe/REvE9L0m2r+iZVOa/dAXIs4888zelJoA4k1TUBAEEEAAAQSqChBA6Bh5CRBA8pL08D7aJK9vHdcbsb755hv3xYHaOK59IF26dPGqxAQQr5qDwiCAAAIIIDCZAAGETpGXAAEkL0nuk0mAAJKJj4sRQAABBBAoXIAAUjhxMA8ggATT1H5XlADid/tQOgQQQAABBAgg9IG8BAggeUlyn0wCBJBMfFyMAAIIIIBA4QIEkMKJg3kAASSYpva7ogQQv9uH0iGAAAIIIEAAoQ/kJUAAyUuS+2QSIIBk4uNiBBBAAAEEChcggBROHMwDCCDBNLXfFSWA+N0+lA4BBBBAAAECCH0gLwECSF6S3CeTAAEkEx8XI4AAAgggULgAAaRw4mAeQAAJpqn9rigBxO/2oXQIIIAAAggQQOgDeQkQQPKS5D6ZBAggmfi4GAEEEEAAgcIFCCCFEwfzAAJIME3td0UJIH63D6VDAAEEEECAAEIfyEuAAJKXJPfJJEAAycTHxQgggAACCBQuQAApnDiYBxBAgmlqvytKAPG7fSgdAggggAACBBD6QF4CBJC8JLlPJgECSCY+LkYAAQQQQKBwAQJI4cTBPIAAEkxT+11RAojf7UPpEEAAAQQQIIDQB/ISIIDkJcl9MgkQQDLxcTECCCCAAAKFCxBACicO5gEEkGCa2u+KEkD8bh9KhwACCCCAAAGEPpCXAAEkL0nuk0mAAJKJj4sRQAABBBAoXIAAUjhxMA8ggATT1H5XlADid/tQOgQQQAABBAgg9IG8BAggeUlyn0wCBJBMfFyMAAIIIIBA4QIEkMKJg3kAASSYpva7ogQQv9uH0iGAAAIIIEAAoQ/kJUAAyUuS+2QSIIBk4uNiBBBAAAEEChcggBROHMwDCCDBNLXfFSWA+N0+lA4BBBBAAAECCH0gLwECSF6S3CeTAAEkEx8XI4AAAgggULgAAaRw4mAeQAAJpqn9rigBxO/2oXQIIIAAAggQQOgDeQkQQPKS5D6ZBAggmfi4GAEEEEAAgcIFCCCFEwfzAAJIME3td0UJIH63D6VDAAEEEECAAEIfyEuAAJKXJPfJJEAAycTHxQgggAACCBQuQAApnDiYBxBAgmlqvytKAPG7fSgdAggggAACBBD6QF4CBJC8JLlPJgECSCY+LkYAAQQQQKBwAQJI4cTBPIAAEkxT+11RAojf7UPpEEAAAQQQIIDQB/ISIIDkJcl9MgkQQDLxcTECCCCAAAKFCxBACicO5gEEkGCa2u+KEkD8bh9KhwACCCCAAAGEPpCXAAEkL0nuk0mAAJKJj4sRQAABBBAoXIAAUjhxMA8ggATT1H5XlADid/tQOgQQQAABBAgg9IG8BAggeUlyn0wCBJBMfFyMAAIIIIBA4QIEkMKJg3kAASSYpva7ogQQv9uH0iGAAAIIIEAAoQ/kJUAAyUuS+2QSIIBk4uNiBBBAAAEEChcggBROHMwDCCDBNLXfFSWA+N0+lA4BBBBAAAECCH0gLwECSF6S3CeTAAEkEx8XI4AAAgggULgAAaRw4mAeQAAJpqn9rigBxO/2oXQIIIAAAggQQOgDeQkQQPKS5D6ZBPLuiJkKw8UIIIAAAggggAAChQnkPe7rMGnSpEmFlZYbl1Yg745YWigqhgACCCCAAAIINLhA3uM+AkiDd4h6FT/vjlivevBcBBBAAAEEEEAAgdYF8h73EUDoce0SyLsjtqsQXIQAAggggAACCCBQuEDe4z4CSOFNVs4H5N0Ry6lErRBAAAEEEEAAgcYXyHvcRwBp/D5Rlxrk3RHrUgkeigACCCCAAAIIIJAokPe4jwCSSM4J1QTy7ogoI4AAAggggAACCPgpkPe4jwDiZzt7X6q8O6L3FaaACCCAAAIIIIBAoAJ5j/sIIIF2pKzVzrsjZi0P1yOAAAIIIIAAAggUI5D3uI8AUkw7lf6ueXfE0oNRQQQQQAABBBBAoEEF8h73EUAatCPUu9h5d8R614fnI4AAAggggAACCFQXyHvcRwChp7VLIO+O2K5CcBECCCCAAAIIIIBA4QJ5j/sIIIU3WTkfkHdHLKcStUIAAQQQQAABBBpfIO9xHwGk8ftEXWqQd0esSyV4KAIIIIAAAggggECiQN7jPgJIIjknVBPIuyOijAACCCCAAAIIIOCnQN7jPgKIn+3sfany7ojeV5gCIoAAAggggAACgQrkPe4jgATakbJWO++OmLU8XI8AAggggAACCCBQjEDe4z4CSDHtVPq75t0RSw9GBRFAAAEEEEAAgQYVyHvcRwBp0I5Q72Ln3RHrXR+ejwACCCCAAAIIIFBdIO9xHwGEntYugbw7YrsKwUUIIIAAAggggAAChQvkPe4jgBTeZOV8QN4dsZxK1AoBBBBAAAEEEGh8gbzHfQSQxu8TdalB3h2xLpXgoQgggAACCCCAAAKJAnmP+wggieScUE0g746IMgIIIIAAAggggICfAnmP+wggfraz96XKuyN6X2EKiAACCCCAAAIIBCqQ97iPABJoR8pa7bw7YtbycD0CCCCAAAIIIIBAMQJ5j/sIIMW0U+nvGnXEo/qPtG6du5e+vlQQAQQQQAABBBDwQWCnEb1rXgwCSM3JeWA1AQII/QIBBBBAAAEEEKi9AAGk9uY80RMBAognDUExEEAAAQQQQCAoAQJIUM1NZeMCBBD6AwIIIIAAAgggUHsBAkjtzXmiJwIEEE8agmIggAACCCCAQFACBJCgmpvKMgNCH0AAAQQQQAABBOorQACprz9Pr6MAMyB1xOfRCCCAAAIIIBCsAAEk2Kan4gQQ+gACCCCAAAIIIFB7AQJI7c15oicCBBBPGoJiIIAAAggggEBQAgSQoJqbysYFCCD0BwQQQAABBBBAoPYCBJDam/NETwQIIJ40BMVAAAEEEEAAgaAECCBBNTeVZQaEPoAAAggggAACCNRXgABSX3+eXkcBZkDqiM+jEUAAAQQQQCBYAQJIsE1PxQkg9AEEEEAAAQQQQKD2AgSQ2pvzRE8ECCCeNATFQAABBBBAAIGgBAggQTU3lY0LEEDoDwgggAACCCCAQO0FCCC1N+eJnggQQDxpCIqBAAIIIIAAAkEJEECCam4qywwIfQABBBBAAAEEEKivAAGkvv48vY4CzIDUEZ9HI4AAAggggECwAgSQYJueihNA6AMIIIAAAggggEDtBQggtTfniZ4IEEA8aQiKgQACCCCAAAJBCRBAgmpuKhsXIIDQHxBAAAEEEEAAgdoLEEBqb84TPREggHjSEBQDAQQQQAABBIISIIAE1dxUlhkQ+gACCCCAAAIIIFBfAQJIff15eh0FmAGpIz6PRgABBBBAAIFgBQggwTY9FSeA0AcQQAABBBBAAIHaCxBAam/OEz0RIIB40hAUAwEEEEAAAQSCEiCABNXcVDYuQAChPyCAAAIIIIAAArUXIIDU3pwneiJAAPGkISgGAggggAACCAQlQAAJqrmpLDMg9AEEEEAAAQQQQKC+AgSQ+vrz9DoKMANSR3wejQACCCCAAALBChBAgm16Kk4AoQ8ggAACCCCAAAK1FyCA1N6cJ3oiQADxpCEoBgIIIIAAAggEJUAACaq5qWxcgABCf0AAAQQQQAABBGovQACpvTlP9ESAAOJJQ1AMBBBAAAEEEAhKgAASVHNTWWZA6AMIIIAAAggggEB9BQgg9fXn6XUUYAakjvg8GgEEEEAAAQSCFSCABNv0VJwAQh9AAAEEEEAAAQRqL0AAqb05T/REgADiSUNQDAQQQAABBBAISoAAElRzU9m4AAGE/oAAAggggAACCNRegABSe3Oe6IkAAcSThqAYCCCAAAIIIBCUAAEkqOamssyA0AcQQAABBBBAAIH6ChBA6uvP0+sowAxIHfF5NAIIIIAAAggEK0AACbbpqTgBhD6AAAIIIIAAAgjUXoAAUnvzwp6400472ZVXXmmTJk1KfMYVV1xhgwYNsvfee8+6deuWeL7PJ6j8q622mqlObTkIIG3R4lwEEEAAAQQQQCAfAQJIPo6F3OWLL76w0047zUaPHm0TJkywqaee2nr06GEDBw60wYMHu3+PH0UHkJ9//tnmmWce++abb2zUqFE2YMCAQurd1psSQNoqxvkIIIAAAggggED9BAgg9bNv9ckvvviirbvuuvb111/b9ttvb8stt5z98ssvdu+999qdd95pffr0sbvuustmnnnmpvsUHUCuu+4622abbWzBBRe0hRZayO677z4v9AggXjQDhUAAAQQQQAABBFIJEEBSMdX2pO+//96WWGIJ+/bbb+2hhx6ypZdeulkBLr/8ctt5551tyy23tOuvv75mAWT99de3L7/80nbccUcbOnSoffDBBzbffPPVFqfK0wggdW8CCoAAAggggAACCKQWIICkpqrdiWeccYYdeOCBNmLECLfUqtqhmQjNSGgfQxRQWpoBufHGG+3YY4+1N9980wWGIUOG2CyzzOJCTNo9IJ9++ql16dLFzjrrLNtuu+3cUizd89BDD52seJ999pkdcMABdscdd9jvv/9uK620kp1zzjm29tprV92roX0r5513nr366qs2xRRT2AorrODuveKKKza7t8KP7nvbbbe5+6688so2bNgw69evH3tAatc9eRICCCCAAAIIIJBJgACSia+YizWwfvbZZ93yq+mmm67qQx544AFba6217Mgjj7RjjjnGnVMtgNxwww229dZbW/fu3V3g0DKuCy+80OaYYw574YUXUgeQ008/3Q477DD7+OOPrXPnzrbxxhvbW2+9ZePHj29WPt2/d+/e9tprr9nuu+9uSy65pI0ZM8Yee+wxmzhxom2wwQbNNosraJ155pm2+eabuxDx008/2WWXXWbvvvuuPfjggy686Pj1119dIFGZd9ttN1tqqaXs8ccfd/eudt80LcMm9DRKnIMAAggggAACCOQrQADJ1zOXu80222zWtWtXe+mll1q831dffWWzzz67G7hrhqNaAPnjjz9sgQUWcLMKr7zyis0000zuPIUIBRIt9Uo7A6IlYfPPP7/bf6JDS78UbJ555hm3PyU6NJOhGRb971577dX05wovJ598slu+Fb2t6rnnnnPXaqO9gkh0/PDDD7b44ou7WZannnrK/bFmg/bcc083A7Pvvvs2nasZEQWY+H2roX3yySemf+KHwpM29B/Vf6R169w9l7bjJggggAACCCCAAAKtCxBAPOwhU001lfu0X5/wt3RoCZLegqXlR/fff3/VAKJwoOVMxx9/vB1++OHNbrXHHnu4mZA0ASSaKbj66qtt2223dffRG7HmmmsuN4BX2IgObZx/8sknTW/wmmaaaZr+/PPPP7c555yzWVDYf//9bfjw4fbOO+9Yp06dmpVPS7s0E/Ldd9/ZDDPMYOutt5498cQT7r4dO3ZsOldLwxRUkgLI0Ucf3TRTVGlKAPHwh4AiIYAAAggggEBpBQggHjZtW2ZA+vfvbzfddFPVAHLttde6wKAZEs2UxA/tydBMQpoAss8++7iwomVh8SVhmrVQSNLMQhQ2NLOi///yyy9PJjvrrLPaJpts0jQDok3td999d6stoKVYeuuW7qvANW7cuMT7VrshMyAednSKhAACCCCAAAJBChBAPGz2aA+Ivm+jcmYgKq72R2j2o7U9IHkEkN9++83mnXdeN/PQ0hEPOG0JIJrV0N4QbSpv6ejbt68zyBpAqt2fPSAedn6KhAACCCCAAAKlFyCAeNjE2vB90EEH2UUXXeQ2XFc79Caqa665ptW3YOWxBEvhYNNNN7XjjjvOhYDKY7/99nNv4br99tvdX7VlCZZe5aslWJqdmHveSyehAAAUP0lEQVTuuVttiaxLsAggHnZ0ioQAAggggAACQQoQQDxsdu170CbsH3/80X0PiN74FD9GjhxpO+ywg22xxRamt1xFR+VbsLQJXRvHp5xyynZvQtcSL71xq3JPR/TM//u//7MLLrjAPvroI7fHQ4EiChZ77713U9mqbULXBnN9oeKgQYPs0ksvtQ4dOjSrp17nq3vq0DO0qb29m9AJIB52dIqEAAIIIIAAAkEKEEA8bXYtD9Kn/voyQoWNZZdd1r2K9p577nHfr5H2m9CjZVg9evRwr+HVPfRGqTSv4dX3bmj51WabbWa6T7Xj4YcftjXWWKMpGGhz+jLLLGOvv/66+w4TvT1Lm9K11Eqv2N1www1NX6QYHYcccoideuqptvzyy7v9ISrXhx9+aI888ohNmjSpaSO+yq03ZmlviWaFevbs6e6pjel6ZuXrfdM0K0uw0ihxDgIIIIAAAgggkK8AASRfz1zvphkALccaPXq0TZgwwfR2rEUXXdS9eUqD+/hbpvTglr6IUK/M1Rf76Xs7oi8i1IbwpC8ijGYztNRLX3xY7dAsi96GpS8pfPHFF90pejNV9EWEf/75p6266qruiwgVMrbaais7//zzm91Kszh6k5a+40NBQ2+1UuBSfRTCokNv0tJ9tdxLz9VeGd1X34ei7xCJXu+bthEIIGmlOA8BBBBAAAEEEMhPgACSnyV3akUg+t6SE0880X2hoQ8HAcSHVqAMCCCAAAIIIBCaAAEktBavQX31zeSVb++K9oBUfnFhDYrT4iMIIPXU59kIIIAAAgggEKoAASTUli+w3tq4Pv3007tlVDq0kT56m9Ytt9xS4JPbdmsCSNu8OBsBBBBAAAEEEMhDgACShyL3aCag1wdro7u+4VyzIXoTl/aQHHHEEc2+xbzebASQercAz0cAAQQQQACBEAUIICG2OnV2AgQQOgICCCCAAAIIIFB7AQJI7c15oicCBBBPGoJiIIAAAggggEBQAgSQoJqbysYFCCD0BwQQQAABBBBAoPYCBJDam/NETwQIIJ40BMVAAAEEEEAAgaAECCBBNTeVZQaEPoAAAggggAACCNRXgABSX3+eXkcBZkDqiM+jEUAAAQQQQCBYAQJIsE1PxQkg9AEEEEAAAQQQQKD2AgSQ2pvzRE8ECCCeNATFQAABBBBAAIGgBAggQTU3lY0LEEDoDwgggAACCCCAQO0FCCC1N+eJnggQQDxpCIqBAAIIIIAAAkEJEECCam4qywwIfQABBBBAAAEEEKivAAGkvv48vY4CzIDUEZ9HI4AAAggggECwAgSQYJueihNA6AMIIIAAAggggEDtBQggtTfniZ4IEEA8aQiKgQACCCCAAAJBCRBAgmpuKhsXIIDQHxBAAAEEEEAAgdoLEEBqb84TPREggHjSEBQDAQQQQAABBIISIIAE1dxUlhkQ+gACCCCAAAIIIFBfAQJIff15eh0FmAGpIz6PRgABBBBAAIFgBQggwTY9FSeA0AcQQAABBBBAAIHaCxBAam/OEz0RIIB40hAUAwEEEEAAAQSCEiCABNXcVDYuQAChPyCAAAIIIIAAArUXIIDU3pwneiJAAPGkISgGAggggAACCAQlQAAJqrmpLDMg9AEEEEAAAQQQQKC+AgSQ+vrz9DoKMANSR3wejQACCCCAAALBChBAgm16Kk4AoQ8ggAACCCCAAAK1FyCA1N6cJ3oiQADxpCEoBgIIIIAAAggEJUAACaq5qWxcgABCf0AAAQQQQAABBGovQACpvTlP9ESAAOJJQ1AMBBBAAAEEEAhKgAASVHNTWWZA6AMIIIAAAggggEB9BQgg9fXn6XUUYAakjvg8GgEEEEAAAQSCFSCABNv0VJwAQh9AAAEEEEAAAQRqL0AAqb05T/REgADiSUNQDAQQQAABBBAISoAAElRzU9m4AAGE/oAAAggggAACCNRegABSe3Oe6IkAAcSThqAYCCCAAAIIIBCUAAEkqOamssyA0AcQQAABBBBAAIH6ChBA6uvP0+sowAxIHfF5NAIIIIAAAggEK0AACbbpqTgBhD6AAAIIIIAAAgjUXoAAUntznuiJAAHEk4agGAgggAACCCAQlAABJKjmprJxAQII/QEBBBBAAAEEEKi9AAGk9uY80ROBKICMHTvWevXq5UmpKAYCCCCAAAIIIIBA3gJ5j/s6TJo0aVLeheR+5RfIuyOWX4waIoAAAggggAACjSmQ97iPANKY/aDupc67I9a9QhQAAQQQQAABBBBAoKpA3uM+AggdrV0CeXfEdhWCixBAAAEEEEAAAQQKF8h73EcAKbzJyvmAvDtiOZWoFQIIIIAAAggg0PgCeY/7CCCN3yfqUoO8O2JdKsFDEUAAAQQQQAABBBIF8h73EUASyTmhmkDeHRFlBBBAAAEEEEAAAT8F8h73EUD8bGfvS5V3R/S+whQQAQQQQAABBBAIVCDvcR8BJNCOlLXaeXfErOXhegQQQAABBBBAAIFiBPIe9xFAimmn0t81745YejAqiAACCCCAAAIINKhA3uM+AkiDdoR6Fzvvjljv+vB8BBBAAAEEEEAAgeoCeY/7CCD0tHYJ5N0R21UILkIAAQQQQAABBBAoXCDvcR8BpPAmK+cDxowZYyuttJKNGjXKevToUc5KUisEEEAAAQQQQAABGz9+vA0cONCeeOIJ69u3b2YRAkhmwjBvMHz4cBs6dGiYlafWCCCAAAIIIIBAgAL64HnAgAGZa04AyUwY5g0efPBB69evn1166aXWs2fPMBGotROIPhVhNowOQV+gD/A7gT4QF+B3Qnn6w8SJE23ChAm2zjrr2BxzzJG5YgSQzIRh3iDvtYBhKpaj1vSFcrRjHrWgL+Sh2Pj3oB80fhvmVQP6Ql6S5bsPAaR8bVqTGvFLpSbMDfEQ+kJDNFNNCklfqAmz9w+hH3jfRDUrIH2hZtQN9yACSMM1mR8F5peKH+3gQynoCz60gh9loC/40Q71LgX9oN4t4M/z6Qv+tIVvJSGA+NYiDVIefqk0SEPVoJj0hRogN8gj6AsN0lAFF5N+UDBwA92evtBAjVXjohJAagxelsd98sknduGFF9rgwYNtnnnmKUu1qEc7BOgL7UAr6SX0hZI2bBurRT9oI1iJT6cvlLhxM1aNAJIRkMsRQAABBBBAAAEEEEAgvQABJL0VZyKAAAIIIIAAAggggEBGAQJIRkAuRwABBBBAAAEEEEAAgfQCBJD0VpyJAAIIIIAAAggggAACGQUIIBkBuRwBBBBAAAEEEEAAAQTSCxBA0ltxJgIIIIAAAggggAACCGQUIIBkBAzt8j/++MNOO+00u+SSS+zDDz+0rl272q677moHHXSQTTnllKFxlL6+zz//vI0aNcoeeughe++992z66ae3xRZbzA477DDr169fs/rTN0rfHZpVUH1izTXXdH/21ltv2UILLdT09xMnTrSjjz7arr76avv888/d3+2zzz622267hYVU4tp++umndtxxx9kdd9xh+v+zzTab9e7d28477zybf/75m2p+8cUX2znnnGNvv/22de7c2bbbbjvXNzp16lRinXCq9tFHH9kxxxxjDzzwgOmVu3PNNZetssoq9q9//csWXnjhJgj++xBOn0hbUwJIWinOcwJ77bWXXXDBBTZo0CDr06ePjRkzxq644gr35/oPD0e5BLbYYgt79NFHbfPNN7devXrZDz/8YJdffrm98sordv7559uee+7ZVGH6RrnavrXa/Pbbb7bkkku6DyF+/PHHyQLIBhtsYPfdd58NGTLEFl10Ubvzzjvttttus1NPPdV9WMHR2AIKnBpkduzY0f23QB9Effnll/bMM8/YEUccYUsttZSroNr7kEMOsU022cTUJ1577TU799xzbd1113XBhaOxBb766itbfPHF7ZdffnH/LVhwwQVd0NQYoUOHDjZu3Djr0qULY4fGbubCSk8AKYy2fDfWLxP9h2Xo0KHuE63o0Ceb+o/KSy+9ZEsssUT5Kh5wjRQw9ammBhrRoU+3e/bs6T7Z/uyzz2yqqaZy/6Ghb4TTUU466SQ7++yz3afZ+t/4DIgGlhtttJGdeeaZtt9++zWhaBB6//332/vvv+8+CedoTIFJkybZ8ssvbwqhjz32mM0444xVK6LfDwsssICttdZaLnxGx1lnnWX777+/CyAKJRyNK6CgoQ+ebr/9dvczHx033XST6cMrtfW+++7Lfx8at4kLLTkBpFDect388MMPtxNPPNHeffdd90lHdGhpzt/+9jfT3x9//PHlqjS1qSpwwAEHuAGmPgHXJ1z0jXA6ygcffGA9evSw4cOHuzCh5RfxADJgwAC7+eabTZ+OxpfZPPzww7bGGmuYluRo2SZHYwpES++iQefPP/9sU0wxhU0zzTTNKqR23n333d3yzdVXX73p73766SebffbZ3ayqlndyNK7AySef7JbjPvfcc+6Dquh46qmn3AqJCy+80PUB/vvQuG1cZMkJIEXqluze66yzjpvl0HrfykPrPpdeemm75557SlZrqlNNYNttt7Ubb7zRvv76a5thhhmMvhFOP9lss83cWm8NMhQ+KgPIIossYrPOOqs9/fTTzVA08NQeosGDB9uIESPCAStZTQ8++GC3D1CzHxpYPv744265jWZF9KHEiiuu6Gqsdr7oootM7V6530Pnfvvtt/b666+XTCes6jz77LOu3VdYYQU7/fTTrVu3bm4Jlma4tFxXwWSmmWbivw9hdYvUtSWApKbiRC2v0qdcY8eOnQxD+wM0Ja+lOBzlFhg/frxbgrXhhhuaptp10DfK3eZR7bSXY+ONN3Zr/fWJpzYTVwYQLclZe+21m/pGXEYblfv27WujR48OA6yEtdx0003dkioto1PY0IyX9n9o9luzXhqU/n97d8/SShAFYHhraxHR0t8h+hsE0VobO1uxEQQL/Q82gvjRaCcWgjZWoiJYKAgWIgh2diJyeQ9sSJZENJcM7Ow7pUnuOk/OdffMxxn+HrAk5/LyMl6rtpmZmViO9/HxkaFQs7rEMiwSUQajysb+IGZBmeny/tCsePhLb01A/qLV8PdOTExEhQtuKtXGdCv7ARj9sOUrwKglDx2vr68xG8Yab5qxke93XvaMpTZUQCuXUfHzbgkI1fDm5uaiAla1jY2NxaZ0KubY6ilA9buzs7NiamqqOD8/b3WC2Qw2JJNcHB4eRoU0Biv4W1Ft7B3iPV9fX/VE8LduCTCYQEES9vpQ7Y5BSGbIiIXT09OY9fT+YMB0EzABMS5+LeAo96+psnwjm89ZasUI58nJSce6bmMjy6+8o1Nra2tRbOLx8bEYHh6O15wByf97r/aQmQ02kFOKfXFxseNlZrcYhHp7e3MGpAGhwUwYm82vr687CtBQAY97xebmZsGSPe8PDQiGPrpoAtIHWlM/4jr/pn7zRfH5+RlLbxj5ZO8HFY3am7GRd2yw54PCE1S1Ym1/2aiARUU8RsJ5nfMf3AOSdywsLS3F5mJGvlmG2d54GGVzOn8v3AOSdxzQO4oLkGxSXrna2PvBUiySVe8P+cdCPz00AelHraGfWV1dLSi/2asKFq9vbGw0VCffbrNMggcLHjh2dnZizXe1GRv5fv/07Pb2NopM/NRYasHGU5bXHB0d9ayCxcZkDySsb7xsb29HFTPW/pOMtDc2JHMw3cvLS2xAJwnpVQWLpVq7u7v1hfA3j8EG2sPDQ4cGpZopTjI5ORmFabw/GCzdBExAjItfC7Dmn4eQXueA8JDC4WS2fAS+v7/jgfLg4CAqF7WPfrf30tjI5zvv1hP2/lBGt9r29/cjNngYpRwzI+IkqsyW9ToH5Pn5uRgZGckbLOPevb+/x94vSjFT6YxzgGhUPCIBWVhYiOVZ7AnkfYx+Hx8ft0TKc0CqZ0dkTJZt15gJ5/8750WV1c/oLLPks7OzrdL83h+yDYH/6pgJyH/xNe/D5fQ7p9+y3pc/PJyMbWnNPGOBcoo8MDCV3m3Umo2HFCagGRt5xsBPveq2B4T3c9I1y/UYrGDTOcswWC/ODOrKykrzoDLrMcvuOGCO4iPz8/MFSQk/K6skcjI6rTwngspZHDp4f38f58ewkZ19ZLZ6C1CQZnp6Og6q5UBCNpuzCZ3ZLyre3dzcFKOjo94f6v01D+y3NwEZGG2e/zDLcba2tmKEi6n28fHxmI5no1k5EpZnz5vZK24uFxcXPTvPqDjvoRkbzYuRXgkIZz+waX1vb6/gRGweTJaXl3vOoDVPrv495hBBZrlY/z80NBRVkEgwOZS2vbFfhOTk6ekpSvdyhhClm/mMrf4Cd3d3xfr6enF1dRUVz0g8iAXKMpdVEr0/1P97HkQPTEAGoeq/qYACCiiggAIKKKCAAl0FTEAMDAUUUEABBRRQQAEFFEgmYAKSjNoLKaCAAgoooIACCiiggAmIMaCAAgoooIACCiiggALJBExAklF7IQUUUEABBRRQQAEFFDABMQYUUEABBRRQQAEFFFAgmYAJSDJqL6SAAgoooIACCiiggAImIMaAAgoooIACCiiggAIKJBMwAUlG7YUUUEABBRRQQAEFFFDABMQYUEABBRRQQAEFFFBAgWQCJiDJqL2QAgoooIACCiiggAIKmIAYAwoooIACCiiggAIKKJBMwAQkGbUXUkABBRRQQAEFFFBAARMQY0ABBRRQQAEFFFBAAQWSCZiAJKP2QgoooIACCiiggAIKKGACYgwooIACCiiggAIKKKBAMgETkGTUXkgBBRRQQAEFFFBAAQVMQIwBBRRQQAEFFFBAAQUUSCZgApKM2gspoIACCiiggAIKKKCACYgxoIACCiiggAIKKKCAAskETECSUXshBRRQQAEFFFBAAQUUMAExBhRQQAEFFFBAAQUUUCCZgAlIMmovpIACCiiggAIKKKCAAv8AdkccIrdaUVEAAAAASUVORK5CYII=\" width=\"640\">"
      ],
      "text/plain": [
       "<IPython.core.display.HTML object>"
      ]
     },
     "metadata": {},
     "output_type": "display_data"
    }
   ],
   "source": [
    "plt.figure()\n",
    "sns.barplot(x = counts,y = names,palette = \"hls\")\n",
    "plt.title(\"Age wise Covid Cases till August\")\n",
    "plt.tight_layout()\n"
   ]
  },
  {
   "cell_type": "markdown",
   "metadata": {},
   "source": [
    "### CONFIRMED/DEATH/RECOVERED"
   ]
  },
  {
   "cell_type": "code",
   "execution_count": 44,
   "metadata": {},
   "outputs": [],
   "source": [
    "covid_19 = pd.read_csv(\"covid_19_india.csv\",parse_dates = [\"Date\"])"
   ]
  },
  {
   "cell_type": "code",
   "execution_count": 45,
   "metadata": {},
   "outputs": [
    {
     "data": {
      "text/html": [
       "<div>\n",
       "<style scoped>\n",
       "    .dataframe tbody tr th:only-of-type {\n",
       "        vertical-align: middle;\n",
       "    }\n",
       "\n",
       "    .dataframe tbody tr th {\n",
       "        vertical-align: top;\n",
       "    }\n",
       "\n",
       "    .dataframe thead th {\n",
       "        text-align: right;\n",
       "    }\n",
       "</style>\n",
       "<table border=\"1\" class=\"dataframe\">\n",
       "  <thead>\n",
       "    <tr style=\"text-align: right;\">\n",
       "      <th></th>\n",
       "      <th>Sno</th>\n",
       "      <th>Date</th>\n",
       "      <th>Time</th>\n",
       "      <th>State/UnionTerritory</th>\n",
       "      <th>ConfirmedIndianNational</th>\n",
       "      <th>ConfirmedForeignNational</th>\n",
       "      <th>Cured</th>\n",
       "      <th>Deaths</th>\n",
       "      <th>Confirmed</th>\n",
       "    </tr>\n",
       "  </thead>\n",
       "  <tbody>\n",
       "    <tr>\n",
       "      <th>0</th>\n",
       "      <td>1</td>\n",
       "      <td>2020-01-30</td>\n",
       "      <td>6:00 PM</td>\n",
       "      <td>Kerala</td>\n",
       "      <td>1</td>\n",
       "      <td>0</td>\n",
       "      <td>0</td>\n",
       "      <td>0</td>\n",
       "      <td>1</td>\n",
       "    </tr>\n",
       "    <tr>\n",
       "      <th>1</th>\n",
       "      <td>2</td>\n",
       "      <td>2020-01-31</td>\n",
       "      <td>6:00 PM</td>\n",
       "      <td>Kerala</td>\n",
       "      <td>1</td>\n",
       "      <td>0</td>\n",
       "      <td>0</td>\n",
       "      <td>0</td>\n",
       "      <td>1</td>\n",
       "    </tr>\n",
       "    <tr>\n",
       "      <th>2</th>\n",
       "      <td>3</td>\n",
       "      <td>2020-01-02</td>\n",
       "      <td>6:00 PM</td>\n",
       "      <td>Kerala</td>\n",
       "      <td>2</td>\n",
       "      <td>0</td>\n",
       "      <td>0</td>\n",
       "      <td>0</td>\n",
       "      <td>2</td>\n",
       "    </tr>\n",
       "    <tr>\n",
       "      <th>3</th>\n",
       "      <td>4</td>\n",
       "      <td>2020-02-02</td>\n",
       "      <td>6:00 PM</td>\n",
       "      <td>Kerala</td>\n",
       "      <td>3</td>\n",
       "      <td>0</td>\n",
       "      <td>0</td>\n",
       "      <td>0</td>\n",
       "      <td>3</td>\n",
       "    </tr>\n",
       "    <tr>\n",
       "      <th>4</th>\n",
       "      <td>5</td>\n",
       "      <td>2020-03-02</td>\n",
       "      <td>6:00 PM</td>\n",
       "      <td>Kerala</td>\n",
       "      <td>3</td>\n",
       "      <td>0</td>\n",
       "      <td>0</td>\n",
       "      <td>0</td>\n",
       "      <td>3</td>\n",
       "    </tr>\n",
       "    <tr>\n",
       "      <th>...</th>\n",
       "      <td>...</td>\n",
       "      <td>...</td>\n",
       "      <td>...</td>\n",
       "      <td>...</td>\n",
       "      <td>...</td>\n",
       "      <td>...</td>\n",
       "      <td>...</td>\n",
       "      <td>...</td>\n",
       "      <td>...</td>\n",
       "    </tr>\n",
       "    <tr>\n",
       "      <th>5331</th>\n",
       "      <td>5332</td>\n",
       "      <td>2020-08-18</td>\n",
       "      <td>8:00 AM</td>\n",
       "      <td>Telengana</td>\n",
       "      <td>-</td>\n",
       "      <td>-</td>\n",
       "      <td>72202</td>\n",
       "      <td>711</td>\n",
       "      <td>93937</td>\n",
       "    </tr>\n",
       "    <tr>\n",
       "      <th>5332</th>\n",
       "      <td>5333</td>\n",
       "      <td>2020-08-18</td>\n",
       "      <td>8:00 AM</td>\n",
       "      <td>Tripura</td>\n",
       "      <td>-</td>\n",
       "      <td>-</td>\n",
       "      <td>5404</td>\n",
       "      <td>62</td>\n",
       "      <td>7409</td>\n",
       "    </tr>\n",
       "    <tr>\n",
       "      <th>5333</th>\n",
       "      <td>5334</td>\n",
       "      <td>2020-08-18</td>\n",
       "      <td>8:00 AM</td>\n",
       "      <td>Uttarakhand</td>\n",
       "      <td>-</td>\n",
       "      <td>-</td>\n",
       "      <td>8485</td>\n",
       "      <td>158</td>\n",
       "      <td>12493</td>\n",
       "    </tr>\n",
       "    <tr>\n",
       "      <th>5334</th>\n",
       "      <td>5335</td>\n",
       "      <td>2020-08-18</td>\n",
       "      <td>8:00 AM</td>\n",
       "      <td>Uttar Pradesh</td>\n",
       "      <td>-</td>\n",
       "      <td>-</td>\n",
       "      <td>104808</td>\n",
       "      <td>2515</td>\n",
       "      <td>158216</td>\n",
       "    </tr>\n",
       "    <tr>\n",
       "      <th>5335</th>\n",
       "      <td>5336</td>\n",
       "      <td>2020-08-18</td>\n",
       "      <td>8:00 AM</td>\n",
       "      <td>West Bengal</td>\n",
       "      <td>-</td>\n",
       "      <td>-</td>\n",
       "      <td>89703</td>\n",
       "      <td>2473</td>\n",
       "      <td>119578</td>\n",
       "    </tr>\n",
       "  </tbody>\n",
       "</table>\n",
       "<p>5336 rows × 9 columns</p>\n",
       "</div>"
      ],
      "text/plain": [
       "       Sno       Date     Time State/UnionTerritory ConfirmedIndianNational  \\\n",
       "0        1 2020-01-30  6:00 PM               Kerala                       1   \n",
       "1        2 2020-01-31  6:00 PM               Kerala                       1   \n",
       "2        3 2020-01-02  6:00 PM               Kerala                       2   \n",
       "3        4 2020-02-02  6:00 PM               Kerala                       3   \n",
       "4        5 2020-03-02  6:00 PM               Kerala                       3   \n",
       "...    ...        ...      ...                  ...                     ...   \n",
       "5331  5332 2020-08-18  8:00 AM            Telengana                       -   \n",
       "5332  5333 2020-08-18  8:00 AM              Tripura                       -   \n",
       "5333  5334 2020-08-18  8:00 AM          Uttarakhand                       -   \n",
       "5334  5335 2020-08-18  8:00 AM        Uttar Pradesh                       -   \n",
       "5335  5336 2020-08-18  8:00 AM          West Bengal                       -   \n",
       "\n",
       "     ConfirmedForeignNational   Cured  Deaths  Confirmed  \n",
       "0                           0       0       0          1  \n",
       "1                           0       0       0          1  \n",
       "2                           0       0       0          2  \n",
       "3                           0       0       0          3  \n",
       "4                           0       0       0          3  \n",
       "...                       ...     ...     ...        ...  \n",
       "5331                        -   72202     711      93937  \n",
       "5332                        -    5404      62       7409  \n",
       "5333                        -    8485     158      12493  \n",
       "5334                        -  104808    2515     158216  \n",
       "5335                        -   89703    2473     119578  \n",
       "\n",
       "[5336 rows x 9 columns]"
      ]
     },
     "execution_count": 45,
     "metadata": {},
     "output_type": "execute_result"
    }
   ],
   "source": [
    "covid_19"
   ]
  },
  {
   "cell_type": "code",
   "execution_count": 46,
   "metadata": {},
   "outputs": [],
   "source": [
    "covid_19.drop([\"ConfirmedIndianNational\",\"ConfirmedForeignNational\",\"Time\",\"Sno\"],axis = 1,inplace = True)"
   ]
  },
  {
   "cell_type": "code",
   "execution_count": 47,
   "metadata": {},
   "outputs": [
    {
     "name": "stdout",
     "output_type": "stream",
     "text": [
      "<class 'pandas.core.frame.DataFrame'>\n",
      "RangeIndex: 5336 entries, 0 to 5335\n",
      "Data columns (total 5 columns):\n",
      " #   Column                Non-Null Count  Dtype         \n",
      "---  ------                --------------  -----         \n",
      " 0   Date                  5336 non-null   datetime64[ns]\n",
      " 1   State/UnionTerritory  5336 non-null   object        \n",
      " 2   Cured                 5336 non-null   int64         \n",
      " 3   Deaths                5336 non-null   int64         \n",
      " 4   Confirmed             5336 non-null   int64         \n",
      "dtypes: datetime64[ns](1), int64(3), object(1)\n",
      "memory usage: 208.6+ KB\n"
     ]
    }
   ],
   "source": [
    "covid_19.info()"
   ]
  },
  {
   "cell_type": "code",
   "execution_count": 48,
   "metadata": {},
   "outputs": [],
   "source": [
    "# covid_19[\"Date\"] = pd.to_datetime(covid_19[\"Date\"])"
   ]
  },
  {
   "cell_type": "code",
   "execution_count": 49,
   "metadata": {},
   "outputs": [
    {
     "data": {
      "text/html": [
       "<div>\n",
       "<style scoped>\n",
       "    .dataframe tbody tr th:only-of-type {\n",
       "        vertical-align: middle;\n",
       "    }\n",
       "\n",
       "    .dataframe tbody tr th {\n",
       "        vertical-align: top;\n",
       "    }\n",
       "\n",
       "    .dataframe thead th {\n",
       "        text-align: right;\n",
       "    }\n",
       "</style>\n",
       "<table border=\"1\" class=\"dataframe\">\n",
       "  <thead>\n",
       "    <tr style=\"text-align: right;\">\n",
       "      <th></th>\n",
       "      <th>Date</th>\n",
       "      <th>State/UnionTerritory</th>\n",
       "      <th>Cured</th>\n",
       "      <th>Deaths</th>\n",
       "      <th>Confirmed</th>\n",
       "    </tr>\n",
       "  </thead>\n",
       "  <tbody>\n",
       "    <tr>\n",
       "      <th>0</th>\n",
       "      <td>2020-01-30</td>\n",
       "      <td>Kerala</td>\n",
       "      <td>0</td>\n",
       "      <td>0</td>\n",
       "      <td>1</td>\n",
       "    </tr>\n",
       "    <tr>\n",
       "      <th>1</th>\n",
       "      <td>2020-01-31</td>\n",
       "      <td>Kerala</td>\n",
       "      <td>0</td>\n",
       "      <td>0</td>\n",
       "      <td>1</td>\n",
       "    </tr>\n",
       "    <tr>\n",
       "      <th>2</th>\n",
       "      <td>2020-01-02</td>\n",
       "      <td>Kerala</td>\n",
       "      <td>0</td>\n",
       "      <td>0</td>\n",
       "      <td>2</td>\n",
       "    </tr>\n",
       "    <tr>\n",
       "      <th>3</th>\n",
       "      <td>2020-02-02</td>\n",
       "      <td>Kerala</td>\n",
       "      <td>0</td>\n",
       "      <td>0</td>\n",
       "      <td>3</td>\n",
       "    </tr>\n",
       "    <tr>\n",
       "      <th>4</th>\n",
       "      <td>2020-03-02</td>\n",
       "      <td>Kerala</td>\n",
       "      <td>0</td>\n",
       "      <td>0</td>\n",
       "      <td>3</td>\n",
       "    </tr>\n",
       "    <tr>\n",
       "      <th>...</th>\n",
       "      <td>...</td>\n",
       "      <td>...</td>\n",
       "      <td>...</td>\n",
       "      <td>...</td>\n",
       "      <td>...</td>\n",
       "    </tr>\n",
       "    <tr>\n",
       "      <th>5331</th>\n",
       "      <td>2020-08-18</td>\n",
       "      <td>Telengana</td>\n",
       "      <td>72202</td>\n",
       "      <td>711</td>\n",
       "      <td>93937</td>\n",
       "    </tr>\n",
       "    <tr>\n",
       "      <th>5332</th>\n",
       "      <td>2020-08-18</td>\n",
       "      <td>Tripura</td>\n",
       "      <td>5404</td>\n",
       "      <td>62</td>\n",
       "      <td>7409</td>\n",
       "    </tr>\n",
       "    <tr>\n",
       "      <th>5333</th>\n",
       "      <td>2020-08-18</td>\n",
       "      <td>Uttarakhand</td>\n",
       "      <td>8485</td>\n",
       "      <td>158</td>\n",
       "      <td>12493</td>\n",
       "    </tr>\n",
       "    <tr>\n",
       "      <th>5334</th>\n",
       "      <td>2020-08-18</td>\n",
       "      <td>Uttar Pradesh</td>\n",
       "      <td>104808</td>\n",
       "      <td>2515</td>\n",
       "      <td>158216</td>\n",
       "    </tr>\n",
       "    <tr>\n",
       "      <th>5335</th>\n",
       "      <td>2020-08-18</td>\n",
       "      <td>West Bengal</td>\n",
       "      <td>89703</td>\n",
       "      <td>2473</td>\n",
       "      <td>119578</td>\n",
       "    </tr>\n",
       "  </tbody>\n",
       "</table>\n",
       "<p>5336 rows × 5 columns</p>\n",
       "</div>"
      ],
      "text/plain": [
       "           Date State/UnionTerritory   Cured  Deaths  Confirmed\n",
       "0    2020-01-30               Kerala       0       0          1\n",
       "1    2020-01-31               Kerala       0       0          1\n",
       "2    2020-01-02               Kerala       0       0          2\n",
       "3    2020-02-02               Kerala       0       0          3\n",
       "4    2020-03-02               Kerala       0       0          3\n",
       "...         ...                  ...     ...     ...        ...\n",
       "5331 2020-08-18            Telengana   72202     711      93937\n",
       "5332 2020-08-18              Tripura    5404      62       7409\n",
       "5333 2020-08-18          Uttarakhand    8485     158      12493\n",
       "5334 2020-08-18        Uttar Pradesh  104808    2515     158216\n",
       "5335 2020-08-18          West Bengal   89703    2473     119578\n",
       "\n",
       "[5336 rows x 5 columns]"
      ]
     },
     "execution_count": 49,
     "metadata": {},
     "output_type": "execute_result"
    }
   ],
   "source": [
    "covid_19"
   ]
  },
  {
   "cell_type": "markdown",
   "metadata": {},
   "source": [
    "### 1st Dataset : COVID"
   ]
  },
  {
   "cell_type": "code",
   "execution_count": 50,
   "metadata": {},
   "outputs": [
    {
     "data": {
      "text/html": [
       "<div>\n",
       "<style scoped>\n",
       "    .dataframe tbody tr th:only-of-type {\n",
       "        vertical-align: middle;\n",
       "    }\n",
       "\n",
       "    .dataframe tbody tr th {\n",
       "        vertical-align: top;\n",
       "    }\n",
       "\n",
       "    .dataframe thead th {\n",
       "        text-align: right;\n",
       "    }\n",
       "</style>\n",
       "<table border=\"1\" class=\"dataframe\">\n",
       "  <thead>\n",
       "    <tr style=\"text-align: right;\">\n",
       "      <th></th>\n",
       "      <th>Date</th>\n",
       "      <th>State</th>\n",
       "      <th>Cured</th>\n",
       "      <th>Deaths</th>\n",
       "      <th>Confirmed</th>\n",
       "      <th>Month</th>\n",
       "    </tr>\n",
       "  </thead>\n",
       "  <tbody>\n",
       "    <tr>\n",
       "      <th>0</th>\n",
       "      <td>2020-01-30</td>\n",
       "      <td>Kerala</td>\n",
       "      <td>0</td>\n",
       "      <td>0</td>\n",
       "      <td>1</td>\n",
       "      <td>1</td>\n",
       "    </tr>\n",
       "    <tr>\n",
       "      <th>1</th>\n",
       "      <td>2020-01-31</td>\n",
       "      <td>Kerala</td>\n",
       "      <td>0</td>\n",
       "      <td>0</td>\n",
       "      <td>1</td>\n",
       "      <td>1</td>\n",
       "    </tr>\n",
       "    <tr>\n",
       "      <th>2</th>\n",
       "      <td>2020-01-02</td>\n",
       "      <td>Kerala</td>\n",
       "      <td>0</td>\n",
       "      <td>0</td>\n",
       "      <td>2</td>\n",
       "      <td>1</td>\n",
       "    </tr>\n",
       "    <tr>\n",
       "      <th>3</th>\n",
       "      <td>2020-02-02</td>\n",
       "      <td>Kerala</td>\n",
       "      <td>0</td>\n",
       "      <td>0</td>\n",
       "      <td>3</td>\n",
       "      <td>2</td>\n",
       "    </tr>\n",
       "    <tr>\n",
       "      <th>4</th>\n",
       "      <td>2020-03-02</td>\n",
       "      <td>Kerala</td>\n",
       "      <td>0</td>\n",
       "      <td>0</td>\n",
       "      <td>3</td>\n",
       "      <td>3</td>\n",
       "    </tr>\n",
       "    <tr>\n",
       "      <th>...</th>\n",
       "      <td>...</td>\n",
       "      <td>...</td>\n",
       "      <td>...</td>\n",
       "      <td>...</td>\n",
       "      <td>...</td>\n",
       "      <td>...</td>\n",
       "    </tr>\n",
       "    <tr>\n",
       "      <th>5331</th>\n",
       "      <td>2020-08-18</td>\n",
       "      <td>Telangana</td>\n",
       "      <td>72202</td>\n",
       "      <td>711</td>\n",
       "      <td>93937</td>\n",
       "      <td>8</td>\n",
       "    </tr>\n",
       "    <tr>\n",
       "      <th>5332</th>\n",
       "      <td>2020-08-18</td>\n",
       "      <td>Tripura</td>\n",
       "      <td>5404</td>\n",
       "      <td>62</td>\n",
       "      <td>7409</td>\n",
       "      <td>8</td>\n",
       "    </tr>\n",
       "    <tr>\n",
       "      <th>5333</th>\n",
       "      <td>2020-08-18</td>\n",
       "      <td>Uttarakhand</td>\n",
       "      <td>8485</td>\n",
       "      <td>158</td>\n",
       "      <td>12493</td>\n",
       "      <td>8</td>\n",
       "    </tr>\n",
       "    <tr>\n",
       "      <th>5334</th>\n",
       "      <td>2020-08-18</td>\n",
       "      <td>Uttar Pradesh</td>\n",
       "      <td>104808</td>\n",
       "      <td>2515</td>\n",
       "      <td>158216</td>\n",
       "      <td>8</td>\n",
       "    </tr>\n",
       "    <tr>\n",
       "      <th>5335</th>\n",
       "      <td>2020-08-18</td>\n",
       "      <td>West Bengal</td>\n",
       "      <td>89703</td>\n",
       "      <td>2473</td>\n",
       "      <td>119578</td>\n",
       "      <td>8</td>\n",
       "    </tr>\n",
       "  </tbody>\n",
       "</table>\n",
       "<p>5333 rows × 6 columns</p>\n",
       "</div>"
      ],
      "text/plain": [
       "           Date          State   Cured  Deaths  Confirmed  Month\n",
       "0    2020-01-30         Kerala       0       0          1      1\n",
       "1    2020-01-31         Kerala       0       0          1      1\n",
       "2    2020-01-02         Kerala       0       0          2      1\n",
       "3    2020-02-02         Kerala       0       0          3      2\n",
       "4    2020-03-02         Kerala       0       0          3      3\n",
       "...         ...            ...     ...     ...        ...    ...\n",
       "5331 2020-08-18      Telangana   72202     711      93937      8\n",
       "5332 2020-08-18        Tripura    5404      62       7409      8\n",
       "5333 2020-08-18    Uttarakhand    8485     158      12493      8\n",
       "5334 2020-08-18  Uttar Pradesh  104808    2515     158216      8\n",
       "5335 2020-08-18    West Bengal   89703    2473     119578      8\n",
       "\n",
       "[5333 rows x 6 columns]"
      ]
     },
     "execution_count": 50,
     "metadata": {},
     "output_type": "execute_result"
    }
   ],
   "source": [
    "covid"
   ]
  },
  {
   "cell_type": "code",
   "execution_count": 51,
   "metadata": {},
   "outputs": [],
   "source": [
    "covid = covid.drop(covid[covid[\"State\"] == \"Reassigned\"].index,axis = 0) ### important information for usage of drop"
   ]
  },
  {
   "cell_type": "code",
   "execution_count": 52,
   "metadata": {},
   "outputs": [
    {
     "data": {
      "text/html": [
       "<div>\n",
       "<style scoped>\n",
       "    .dataframe tbody tr th:only-of-type {\n",
       "        vertical-align: middle;\n",
       "    }\n",
       "\n",
       "    .dataframe tbody tr th {\n",
       "        vertical-align: top;\n",
       "    }\n",
       "\n",
       "    .dataframe thead th {\n",
       "        text-align: right;\n",
       "    }\n",
       "</style>\n",
       "<table border=\"1\" class=\"dataframe\">\n",
       "  <thead>\n",
       "    <tr style=\"text-align: right;\">\n",
       "      <th></th>\n",
       "      <th>Date</th>\n",
       "      <th>State</th>\n",
       "      <th>Cured</th>\n",
       "      <th>Deaths</th>\n",
       "      <th>Confirmed</th>\n",
       "      <th>Month</th>\n",
       "    </tr>\n",
       "  </thead>\n",
       "  <tbody>\n",
       "    <tr>\n",
       "      <th>0</th>\n",
       "      <td>2020-01-30</td>\n",
       "      <td>Kerala</td>\n",
       "      <td>0</td>\n",
       "      <td>0</td>\n",
       "      <td>1</td>\n",
       "      <td>1</td>\n",
       "    </tr>\n",
       "    <tr>\n",
       "      <th>1</th>\n",
       "      <td>2020-01-31</td>\n",
       "      <td>Kerala</td>\n",
       "      <td>0</td>\n",
       "      <td>0</td>\n",
       "      <td>1</td>\n",
       "      <td>1</td>\n",
       "    </tr>\n",
       "    <tr>\n",
       "      <th>2</th>\n",
       "      <td>2020-01-02</td>\n",
       "      <td>Kerala</td>\n",
       "      <td>0</td>\n",
       "      <td>0</td>\n",
       "      <td>2</td>\n",
       "      <td>1</td>\n",
       "    </tr>\n",
       "    <tr>\n",
       "      <th>3</th>\n",
       "      <td>2020-02-02</td>\n",
       "      <td>Kerala</td>\n",
       "      <td>0</td>\n",
       "      <td>0</td>\n",
       "      <td>3</td>\n",
       "      <td>2</td>\n",
       "    </tr>\n",
       "    <tr>\n",
       "      <th>4</th>\n",
       "      <td>2020-03-02</td>\n",
       "      <td>Kerala</td>\n",
       "      <td>0</td>\n",
       "      <td>0</td>\n",
       "      <td>3</td>\n",
       "      <td>3</td>\n",
       "    </tr>\n",
       "    <tr>\n",
       "      <th>...</th>\n",
       "      <td>...</td>\n",
       "      <td>...</td>\n",
       "      <td>...</td>\n",
       "      <td>...</td>\n",
       "      <td>...</td>\n",
       "      <td>...</td>\n",
       "    </tr>\n",
       "    <tr>\n",
       "      <th>5331</th>\n",
       "      <td>2020-08-18</td>\n",
       "      <td>Telangana</td>\n",
       "      <td>72202</td>\n",
       "      <td>711</td>\n",
       "      <td>93937</td>\n",
       "      <td>8</td>\n",
       "    </tr>\n",
       "    <tr>\n",
       "      <th>5332</th>\n",
       "      <td>2020-08-18</td>\n",
       "      <td>Tripura</td>\n",
       "      <td>5404</td>\n",
       "      <td>62</td>\n",
       "      <td>7409</td>\n",
       "      <td>8</td>\n",
       "    </tr>\n",
       "    <tr>\n",
       "      <th>5333</th>\n",
       "      <td>2020-08-18</td>\n",
       "      <td>Uttarakhand</td>\n",
       "      <td>8485</td>\n",
       "      <td>158</td>\n",
       "      <td>12493</td>\n",
       "      <td>8</td>\n",
       "    </tr>\n",
       "    <tr>\n",
       "      <th>5334</th>\n",
       "      <td>2020-08-18</td>\n",
       "      <td>Uttar Pradesh</td>\n",
       "      <td>104808</td>\n",
       "      <td>2515</td>\n",
       "      <td>158216</td>\n",
       "      <td>8</td>\n",
       "    </tr>\n",
       "    <tr>\n",
       "      <th>5335</th>\n",
       "      <td>2020-08-18</td>\n",
       "      <td>West Bengal</td>\n",
       "      <td>89703</td>\n",
       "      <td>2473</td>\n",
       "      <td>119578</td>\n",
       "      <td>8</td>\n",
       "    </tr>\n",
       "  </tbody>\n",
       "</table>\n",
       "<p>5273 rows × 6 columns</p>\n",
       "</div>"
      ],
      "text/plain": [
       "           Date          State   Cured  Deaths  Confirmed  Month\n",
       "0    2020-01-30         Kerala       0       0          1      1\n",
       "1    2020-01-31         Kerala       0       0          1      1\n",
       "2    2020-01-02         Kerala       0       0          2      1\n",
       "3    2020-02-02         Kerala       0       0          3      2\n",
       "4    2020-03-02         Kerala       0       0          3      3\n",
       "...         ...            ...     ...     ...        ...    ...\n",
       "5331 2020-08-18      Telangana   72202     711      93937      8\n",
       "5332 2020-08-18        Tripura    5404      62       7409      8\n",
       "5333 2020-08-18    Uttarakhand    8485     158      12493      8\n",
       "5334 2020-08-18  Uttar Pradesh  104808    2515     158216      8\n",
       "5335 2020-08-18    West Bengal   89703    2473     119578      8\n",
       "\n",
       "[5273 rows x 6 columns]"
      ]
     },
     "execution_count": 52,
     "metadata": {},
     "output_type": "execute_result"
    }
   ],
   "source": [
    "covid"
   ]
  },
  {
   "cell_type": "code",
   "execution_count": 53,
   "metadata": {},
   "outputs": [
    {
     "name": "stderr",
     "output_type": "stream",
     "text": [
      "/usr/local/lib/python3.7/dist-packages/ipykernel_launcher.py:1: FutureWarning: Indexing with multiple keys (implicitly converted to a tuple of keys) will be deprecated, use a list instead.\n",
      "  \"\"\"Entry point for launching an IPython kernel.\n"
     ]
    }
   ],
   "source": [
    "new_data =  covid.groupby(\"State\")[\"Confirmed\",\"Deaths\"].sum()"
   ]
  },
  {
   "cell_type": "code",
   "execution_count": 54,
   "metadata": {},
   "outputs": [],
   "source": [
    "new_data[\"Mortality Rate (per 100)\"] = np.round((100*new_data[\"Deaths\"])/new_data[\"Confirmed\"],2)"
   ]
  },
  {
   "cell_type": "code",
   "execution_count": 55,
   "metadata": {},
   "outputs": [
    {
     "data": {
      "text/html": [
       "<div>\n",
       "<style scoped>\n",
       "    .dataframe tbody tr th:only-of-type {\n",
       "        vertical-align: middle;\n",
       "    }\n",
       "\n",
       "    .dataframe tbody tr th {\n",
       "        vertical-align: top;\n",
       "    }\n",
       "\n",
       "    .dataframe thead th {\n",
       "        text-align: right;\n",
       "    }\n",
       "</style>\n",
       "<table border=\"1\" class=\"dataframe\">\n",
       "  <thead>\n",
       "    <tr style=\"text-align: right;\">\n",
       "      <th></th>\n",
       "      <th>State</th>\n",
       "      <th>Confirmed</th>\n",
       "      <th>Deaths</th>\n",
       "      <th>Mortality Rate (per 100)</th>\n",
       "    </tr>\n",
       "  </thead>\n",
       "  <tbody>\n",
       "    <tr>\n",
       "      <th>0</th>\n",
       "      <td>Andaman and Nicobar Islands</td>\n",
       "      <td>35819</td>\n",
       "      <td>328</td>\n",
       "      <td>0.92</td>\n",
       "    </tr>\n",
       "    <tr>\n",
       "      <th>1</th>\n",
       "      <td>Andhra Pradesh</td>\n",
       "      <td>5795248</td>\n",
       "      <td>58367</td>\n",
       "      <td>1.01</td>\n",
       "    </tr>\n",
       "    <tr>\n",
       "      <th>2</th>\n",
       "      <td>Arunachal Pradesh</td>\n",
       "      <td>61511</td>\n",
       "      <td>141</td>\n",
       "      <td>0.23</td>\n",
       "    </tr>\n",
       "    <tr>\n",
       "      <th>3</th>\n",
       "      <td>Assam</td>\n",
       "      <td>1838682</td>\n",
       "      <td>4291</td>\n",
       "      <td>0.23</td>\n",
       "    </tr>\n",
       "    <tr>\n",
       "      <th>4</th>\n",
       "      <td>Bihar</td>\n",
       "      <td>2377066</td>\n",
       "      <td>13777</td>\n",
       "      <td>0.58</td>\n",
       "    </tr>\n",
       "    <tr>\n",
       "      <th>5</th>\n",
       "      <td>Chandigarh</td>\n",
       "      <td>65390</td>\n",
       "      <td>963</td>\n",
       "      <td>1.47</td>\n",
       "    </tr>\n",
       "    <tr>\n",
       "      <th>6</th>\n",
       "      <td>Chhattisgarh</td>\n",
       "      <td>428382</td>\n",
       "      <td>2691</td>\n",
       "      <td>0.63</td>\n",
       "    </tr>\n",
       "    <tr>\n",
       "      <th>7</th>\n",
       "      <td>Dadra and Nagar Haveli</td>\n",
       "      <td>186</td>\n",
       "      <td>0</td>\n",
       "      <td>0.00</td>\n",
       "    </tr>\n",
       "    <tr>\n",
       "      <th>8</th>\n",
       "      <td>Daman and Diu</td>\n",
       "      <td>46920</td>\n",
       "      <td>70</td>\n",
       "      <td>0.15</td>\n",
       "    </tr>\n",
       "    <tr>\n",
       "      <th>9</th>\n",
       "      <td>Delhi</td>\n",
       "      <td>7896076</td>\n",
       "      <td>232066</td>\n",
       "      <td>2.94</td>\n",
       "    </tr>\n",
       "    <tr>\n",
       "      <th>10</th>\n",
       "      <td>Goa</td>\n",
       "      <td>273824</td>\n",
       "      <td>1964</td>\n",
       "      <td>0.72</td>\n",
       "    </tr>\n",
       "    <tr>\n",
       "      <th>11</th>\n",
       "      <td>Gujarat</td>\n",
       "      <td>3750039</td>\n",
       "      <td>177662</td>\n",
       "      <td>4.74</td>\n",
       "    </tr>\n",
       "    <tr>\n",
       "      <th>12</th>\n",
       "      <td>Haryana</td>\n",
       "      <td>1745869</td>\n",
       "      <td>22321</td>\n",
       "      <td>1.28</td>\n",
       "    </tr>\n",
       "    <tr>\n",
       "      <th>13</th>\n",
       "      <td>Himachal Pradesh</td>\n",
       "      <td>127926</td>\n",
       "      <td>968</td>\n",
       "      <td>0.76</td>\n",
       "    </tr>\n",
       "    <tr>\n",
       "      <th>14</th>\n",
       "      <td>Jammu and Kashmir</td>\n",
       "      <td>1030722</td>\n",
       "      <td>17457</td>\n",
       "      <td>1.69</td>\n",
       "    </tr>\n",
       "    <tr>\n",
       "      <th>15</th>\n",
       "      <td>Jharkhand</td>\n",
       "      <td>530109</td>\n",
       "      <td>4910</td>\n",
       "      <td>0.93</td>\n",
       "    </tr>\n",
       "    <tr>\n",
       "      <th>16</th>\n",
       "      <td>Karnataka</td>\n",
       "      <td>5142676</td>\n",
       "      <td>93988</td>\n",
       "      <td>1.83</td>\n",
       "    </tr>\n",
       "    <tr>\n",
       "      <th>17</th>\n",
       "      <td>Kerala</td>\n",
       "      <td>1070694</td>\n",
       "      <td>4012</td>\n",
       "      <td>0.37</td>\n",
       "    </tr>\n",
       "    <tr>\n",
       "      <th>18</th>\n",
       "      <td>Ladakh</td>\n",
       "      <td>82601</td>\n",
       "      <td>248</td>\n",
       "      <td>0.30</td>\n",
       "    </tr>\n",
       "    <tr>\n",
       "      <th>19</th>\n",
       "      <td>Madhya Pradesh</td>\n",
       "      <td>1845239</td>\n",
       "      <td>62276</td>\n",
       "      <td>3.37</td>\n",
       "    </tr>\n",
       "    <tr>\n",
       "      <th>20</th>\n",
       "      <td>Maharashtra</td>\n",
       "      <td>22437979</td>\n",
       "      <td>842461</td>\n",
       "      <td>3.75</td>\n",
       "    </tr>\n",
       "    <tr>\n",
       "      <th>21</th>\n",
       "      <td>Manipur</td>\n",
       "      <td>136840</td>\n",
       "      <td>190</td>\n",
       "      <td>0.14</td>\n",
       "    </tr>\n",
       "    <tr>\n",
       "      <th>22</th>\n",
       "      <td>Meghalaya</td>\n",
       "      <td>32256</td>\n",
       "      <td>259</td>\n",
       "      <td>0.80</td>\n",
       "    </tr>\n",
       "    <tr>\n",
       "      <th>23</th>\n",
       "      <td>Mizoram</td>\n",
       "      <td>21921</td>\n",
       "      <td>0</td>\n",
       "      <td>0.00</td>\n",
       "    </tr>\n",
       "    <tr>\n",
       "      <th>24</th>\n",
       "      <td>Nagaland</td>\n",
       "      <td>83510</td>\n",
       "      <td>152</td>\n",
       "      <td>0.18</td>\n",
       "    </tr>\n",
       "    <tr>\n",
       "      <th>25</th>\n",
       "      <td>Odisha</td>\n",
       "      <td>1469580</td>\n",
       "      <td>7815</td>\n",
       "      <td>0.53</td>\n",
       "    </tr>\n",
       "    <tr>\n",
       "      <th>26</th>\n",
       "      <td>Puducherry</td>\n",
       "      <td>160623</td>\n",
       "      <td>2358</td>\n",
       "      <td>1.47</td>\n",
       "    </tr>\n",
       "    <tr>\n",
       "      <th>27</th>\n",
       "      <td>Punjab</td>\n",
       "      <td>881186</td>\n",
       "      <td>21508</td>\n",
       "      <td>2.44</td>\n",
       "    </tr>\n",
       "    <tr>\n",
       "      <th>28</th>\n",
       "      <td>Rajasthan</td>\n",
       "      <td>2364534</td>\n",
       "      <td>43858</td>\n",
       "      <td>1.85</td>\n",
       "    </tr>\n",
       "    <tr>\n",
       "      <th>29</th>\n",
       "      <td>Sikkim</td>\n",
       "      <td>25994</td>\n",
       "      <td>22</td>\n",
       "      <td>0.08</td>\n",
       "    </tr>\n",
       "    <tr>\n",
       "      <th>30</th>\n",
       "      <td>Tamil Nadu</td>\n",
       "      <td>11965369</td>\n",
       "      <td>179520</td>\n",
       "      <td>1.50</td>\n",
       "    </tr>\n",
       "    <tr>\n",
       "      <th>31</th>\n",
       "      <td>Telangana</td>\n",
       "      <td>2897368</td>\n",
       "      <td>29967</td>\n",
       "      <td>1.03</td>\n",
       "    </tr>\n",
       "    <tr>\n",
       "      <th>32</th>\n",
       "      <td>Tripura</td>\n",
       "      <td>226443</td>\n",
       "      <td>926</td>\n",
       "      <td>0.41</td>\n",
       "    </tr>\n",
       "    <tr>\n",
       "      <th>33</th>\n",
       "      <td>Uttar Pradesh</td>\n",
       "      <td>4170121</td>\n",
       "      <td>86356</td>\n",
       "      <td>2.07</td>\n",
       "    </tr>\n",
       "    <tr>\n",
       "      <th>34</th>\n",
       "      <td>Uttarakhand</td>\n",
       "      <td>370943</td>\n",
       "      <td>4468</td>\n",
       "      <td>1.20</td>\n",
       "    </tr>\n",
       "    <tr>\n",
       "      <th>35</th>\n",
       "      <td>West Bengal</td>\n",
       "      <td>3305083</td>\n",
       "      <td>89612</td>\n",
       "      <td>2.71</td>\n",
       "    </tr>\n",
       "  </tbody>\n",
       "</table>\n",
       "</div>"
      ],
      "text/plain": [
       "                          State  Confirmed  Deaths  Mortality Rate (per 100)\n",
       "0   Andaman and Nicobar Islands      35819     328                      0.92\n",
       "1                Andhra Pradesh    5795248   58367                      1.01\n",
       "2             Arunachal Pradesh      61511     141                      0.23\n",
       "3                         Assam    1838682    4291                      0.23\n",
       "4                         Bihar    2377066   13777                      0.58\n",
       "5                    Chandigarh      65390     963                      1.47\n",
       "6                  Chhattisgarh     428382    2691                      0.63\n",
       "7        Dadra and Nagar Haveli        186       0                      0.00\n",
       "8                 Daman and Diu      46920      70                      0.15\n",
       "9                         Delhi    7896076  232066                      2.94\n",
       "10                          Goa     273824    1964                      0.72\n",
       "11                      Gujarat    3750039  177662                      4.74\n",
       "12                      Haryana    1745869   22321                      1.28\n",
       "13             Himachal Pradesh     127926     968                      0.76\n",
       "14            Jammu and Kashmir    1030722   17457                      1.69\n",
       "15                    Jharkhand     530109    4910                      0.93\n",
       "16                    Karnataka    5142676   93988                      1.83\n",
       "17                       Kerala    1070694    4012                      0.37\n",
       "18                       Ladakh      82601     248                      0.30\n",
       "19               Madhya Pradesh    1845239   62276                      3.37\n",
       "20                  Maharashtra   22437979  842461                      3.75\n",
       "21                      Manipur     136840     190                      0.14\n",
       "22                    Meghalaya      32256     259                      0.80\n",
       "23                      Mizoram      21921       0                      0.00\n",
       "24                     Nagaland      83510     152                      0.18\n",
       "25                       Odisha    1469580    7815                      0.53\n",
       "26                   Puducherry     160623    2358                      1.47\n",
       "27                       Punjab     881186   21508                      2.44\n",
       "28                    Rajasthan    2364534   43858                      1.85\n",
       "29                       Sikkim      25994      22                      0.08\n",
       "30                   Tamil Nadu   11965369  179520                      1.50\n",
       "31                    Telangana    2897368   29967                      1.03\n",
       "32                      Tripura     226443     926                      0.41\n",
       "33                Uttar Pradesh    4170121   86356                      2.07\n",
       "34                  Uttarakhand     370943    4468                      1.20\n",
       "35                  West Bengal    3305083   89612                      2.71"
      ]
     },
     "execution_count": 55,
     "metadata": {},
     "output_type": "execute_result"
    }
   ],
   "source": [
    "new_data.reset_index().replace({\"Daman & Diu\":\"Daman and Diu\"})"
   ]
  },
  {
   "cell_type": "code",
   "execution_count": 56,
   "metadata": {},
   "outputs": [
    {
     "data": {
      "text/html": [
       "<style  type=\"text/css\" >\n",
       "#T_a6711488_e91b_11ea_b7f9_9828a61df7aerow0_col0{\n",
       "            background-color:  #08306b;\n",
       "            color:  #f1f1f1;\n",
       "        }#T_a6711488_e91b_11ea_b7f9_9828a61df7aerow0_col1{\n",
       "            background-color:  #3f007d;\n",
       "            color:  #f1f1f1;\n",
       "        }#T_a6711488_e91b_11ea_b7f9_9828a61df7aerow0_col2{\n",
       "            background-color:  #be151a;\n",
       "            color:  #f1f1f1;\n",
       "        }#T_a6711488_e91b_11ea_b7f9_9828a61df7aerow1_col0{\n",
       "            background-color:  #60a7d2;\n",
       "            color:  #000000;\n",
       "        }#T_a6711488_e91b_11ea_b7f9_9828a61df7aerow1_col1{\n",
       "            background-color:  #e0e0ee;\n",
       "            color:  #000000;\n",
       "        }#T_a6711488_e91b_11ea_b7f9_9828a61df7aerow1_col2{\n",
       "            background-color:  #fca588;\n",
       "            color:  #000000;\n",
       "        }#T_a6711488_e91b_11ea_b7f9_9828a61df7aerow2_col0{\n",
       "            background-color:  #a5cde3;\n",
       "            color:  #000000;\n",
       "        }#T_a6711488_e91b_11ea_b7f9_9828a61df7aerow2_col1{\n",
       "            background-color:  #d4d4e8;\n",
       "            color:  #000000;\n",
       "        }#T_a6711488_e91b_11ea_b7f9_9828a61df7aerow2_col2{\n",
       "            background-color:  #f03d2d;\n",
       "            color:  #f1f1f1;\n",
       "        }#T_a6711488_e91b_11ea_b7f9_9828a61df7aerow3_col0{\n",
       "            background-color:  #c3daee;\n",
       "            color:  #000000;\n",
       "        }#T_a6711488_e91b_11ea_b7f9_9828a61df7aerow3_col1{\n",
       "            background-color:  #f5f4f9;\n",
       "            color:  #000000;\n",
       "        }#T_a6711488_e91b_11ea_b7f9_9828a61df7aerow3_col2{\n",
       "            background-color:  #fdc6b0;\n",
       "            color:  #000000;\n",
       "        }#T_a6711488_e91b_11ea_b7f9_9828a61df7aerow4_col0{\n",
       "            background-color:  #cadef0;\n",
       "            color:  #000000;\n",
       "        }#T_a6711488_e91b_11ea_b7f9_9828a61df7aerow4_col1,#T_a6711488_e91b_11ea_b7f9_9828a61df7aerow7_col1{\n",
       "            background-color:  #f1eff6;\n",
       "            color:  #000000;\n",
       "        }#T_a6711488_e91b_11ea_b7f9_9828a61df7aerow4_col2{\n",
       "            background-color:  #fc8f6f;\n",
       "            color:  #000000;\n",
       "        }#T_a6711488_e91b_11ea_b7f9_9828a61df7aerow5_col0{\n",
       "            background-color:  #d3e3f3;\n",
       "            color:  #000000;\n",
       "        }#T_a6711488_e91b_11ea_b7f9_9828a61df7aerow5_col1{\n",
       "            background-color:  #f1f0f6;\n",
       "            color:  #000000;\n",
       "        }#T_a6711488_e91b_11ea_b7f9_9828a61df7aerow5_col2{\n",
       "            background-color:  #fc7f5f;\n",
       "            color:  #000000;\n",
       "        }#T_a6711488_e91b_11ea_b7f9_9828a61df7aerow6_col0{\n",
       "            background-color:  #d6e6f4;\n",
       "            color:  #000000;\n",
       "        }#T_a6711488_e91b_11ea_b7f9_9828a61df7aerow6_col1{\n",
       "            background-color:  #e1e0ee;\n",
       "            color:  #000000;\n",
       "        }#T_a6711488_e91b_11ea_b7f9_9828a61df7aerow6_col2{\n",
       "            background-color:  #67000d;\n",
       "            color:  #f1f1f1;\n",
       "        }#T_a6711488_e91b_11ea_b7f9_9828a61df7aerow7_col0{\n",
       "            background-color:  #dae8f6;\n",
       "            color:  #000000;\n",
       "        }#T_a6711488_e91b_11ea_b7f9_9828a61df7aerow7_col2{\n",
       "            background-color:  #f44f39;\n",
       "            color:  #000000;\n",
       "        }#T_a6711488_e91b_11ea_b7f9_9828a61df7aerow8_col0{\n",
       "            background-color:  #ddeaf7;\n",
       "            color:  #000000;\n",
       "        }#T_a6711488_e91b_11ea_b7f9_9828a61df7aerow8_col1{\n",
       "            background-color:  #f8f7fb;\n",
       "            color:  #000000;\n",
       "        }#T_a6711488_e91b_11ea_b7f9_9828a61df7aerow8_col2{\n",
       "            background-color:  #fdc5ae;\n",
       "            color:  #000000;\n",
       "        }#T_a6711488_e91b_11ea_b7f9_9828a61df7aerow9_col0{\n",
       "            background-color:  #e2edf8;\n",
       "            color:  #000000;\n",
       "        }#T_a6711488_e91b_11ea_b7f9_9828a61df7aerow9_col1,#T_a6711488_e91b_11ea_b7f9_9828a61df7aerow16_col1{\n",
       "            background-color:  #faf9fc;\n",
       "            color:  #000000;\n",
       "        }#T_a6711488_e91b_11ea_b7f9_9828a61df7aerow9_col2{\n",
       "            background-color:  #fee1d3;\n",
       "            color:  #000000;\n",
       "        }#T_a6711488_e91b_11ea_b7f9_9828a61df7aerow10_col0{\n",
       "            background-color:  #e3eef8;\n",
       "            color:  #000000;\n",
       "        }#T_a6711488_e91b_11ea_b7f9_9828a61df7aerow10_col1{\n",
       "            background-color:  #f7f5fa;\n",
       "            color:  #000000;\n",
       "        }#T_a6711488_e91b_11ea_b7f9_9828a61df7aerow10_col2{\n",
       "            background-color:  #fc8e6e;\n",
       "            color:  #000000;\n",
       "        }#T_a6711488_e91b_11ea_b7f9_9828a61df7aerow11_col0{\n",
       "            background-color:  #e7f0fa;\n",
       "            color:  #000000;\n",
       "        }#T_a6711488_e91b_11ea_b7f9_9828a61df7aerow11_col1{\n",
       "            background-color:  #f5f3f8;\n",
       "            color:  #000000;\n",
       "        }#T_a6711488_e91b_11ea_b7f9_9828a61df7aerow11_col2{\n",
       "            background-color:  #d52221;\n",
       "            color:  #f1f1f1;\n",
       "        }#T_a6711488_e91b_11ea_b7f9_9828a61df7aerow12_col0{\n",
       "            background-color:  #e7f1fa;\n",
       "            color:  #000000;\n",
       "        }#T_a6711488_e91b_11ea_b7f9_9828a61df7aerow12_col1,#T_a6711488_e91b_11ea_b7f9_9828a61df7aerow15_col1,#T_a6711488_e91b_11ea_b7f9_9828a61df7aerow18_col1,#T_a6711488_e91b_11ea_b7f9_9828a61df7aerow19_col1,#T_a6711488_e91b_11ea_b7f9_9828a61df7aerow20_col1,#T_a6711488_e91b_11ea_b7f9_9828a61df7aerow21_col1,#T_a6711488_e91b_11ea_b7f9_9828a61df7aerow22_col1,#T_a6711488_e91b_11ea_b7f9_9828a61df7aerow23_col1,#T_a6711488_e91b_11ea_b7f9_9828a61df7aerow24_col1,#T_a6711488_e91b_11ea_b7f9_9828a61df7aerow25_col1,#T_a6711488_e91b_11ea_b7f9_9828a61df7aerow26_col1,#T_a6711488_e91b_11ea_b7f9_9828a61df7aerow27_col1,#T_a6711488_e91b_11ea_b7f9_9828a61df7aerow28_col1,#T_a6711488_e91b_11ea_b7f9_9828a61df7aerow29_col1,#T_a6711488_e91b_11ea_b7f9_9828a61df7aerow30_col1,#T_a6711488_e91b_11ea_b7f9_9828a61df7aerow31_col1,#T_a6711488_e91b_11ea_b7f9_9828a61df7aerow32_col1,#T_a6711488_e91b_11ea_b7f9_9828a61df7aerow33_col1,#T_a6711488_e91b_11ea_b7f9_9828a61df7aerow34_col1,#T_a6711488_e91b_11ea_b7f9_9828a61df7aerow35_col1{\n",
       "            background-color:  #fcfbfd;\n",
       "            color:  #000000;\n",
       "        }#T_a6711488_e91b_11ea_b7f9_9828a61df7aerow12_col2,#T_a6711488_e91b_11ea_b7f9_9828a61df7aerow29_col2{\n",
       "            background-color:  #ffede5;\n",
       "            color:  #000000;\n",
       "        }#T_a6711488_e91b_11ea_b7f9_9828a61df7aerow13_col0{\n",
       "            background-color:  #e8f1fa;\n",
       "            color:  #000000;\n",
       "        }#T_a6711488_e91b_11ea_b7f9_9828a61df7aerow13_col1,#T_a6711488_e91b_11ea_b7f9_9828a61df7aerow17_col1{\n",
       "            background-color:  #faf8fb;\n",
       "            color:  #000000;\n",
       "        }#T_a6711488_e91b_11ea_b7f9_9828a61df7aerow13_col2{\n",
       "            background-color:  #fcb499;\n",
       "            color:  #000000;\n",
       "        }#T_a6711488_e91b_11ea_b7f9_9828a61df7aerow14_col0{\n",
       "            background-color:  #eaf3fb;\n",
       "            color:  #000000;\n",
       "        }#T_a6711488_e91b_11ea_b7f9_9828a61df7aerow14_col1{\n",
       "            background-color:  #fbfafc;\n",
       "            color:  #000000;\n",
       "        }#T_a6711488_e91b_11ea_b7f9_9828a61df7aerow14_col2{\n",
       "            background-color:  #fee3d6;\n",
       "            color:  #000000;\n",
       "        }#T_a6711488_e91b_11ea_b7f9_9828a61df7aerow15_col0,#T_a6711488_e91b_11ea_b7f9_9828a61df7aerow16_col0{\n",
       "            background-color:  #eef5fc;\n",
       "            color:  #000000;\n",
       "        }#T_a6711488_e91b_11ea_b7f9_9828a61df7aerow15_col2{\n",
       "            background-color:  #fee8de;\n",
       "            color:  #000000;\n",
       "        }#T_a6711488_e91b_11ea_b7f9_9828a61df7aerow16_col2{\n",
       "            background-color:  #fc9879;\n",
       "            color:  #000000;\n",
       "        }#T_a6711488_e91b_11ea_b7f9_9828a61df7aerow17_col0{\n",
       "            background-color:  #eff6fc;\n",
       "            color:  #000000;\n",
       "        }#T_a6711488_e91b_11ea_b7f9_9828a61df7aerow17_col2{\n",
       "            background-color:  #fa6547;\n",
       "            color:  #000000;\n",
       "        }#T_a6711488_e91b_11ea_b7f9_9828a61df7aerow18_col0{\n",
       "            background-color:  #f2f8fd;\n",
       "            color:  #000000;\n",
       "        }#T_a6711488_e91b_11ea_b7f9_9828a61df7aerow18_col2{\n",
       "            background-color:  #fdcbb6;\n",
       "            color:  #000000;\n",
       "        }#T_a6711488_e91b_11ea_b7f9_9828a61df7aerow19_col0,#T_a6711488_e91b_11ea_b7f9_9828a61df7aerow20_col0{\n",
       "            background-color:  #f4f9fe;\n",
       "            color:  #000000;\n",
       "        }#T_a6711488_e91b_11ea_b7f9_9828a61df7aerow19_col2{\n",
       "            background-color:  #fedecf;\n",
       "            color:  #000000;\n",
       "        }#T_a6711488_e91b_11ea_b7f9_9828a61df7aerow20_col2{\n",
       "            background-color:  #fcbba1;\n",
       "            color:  #000000;\n",
       "        }#T_a6711488_e91b_11ea_b7f9_9828a61df7aerow21_col0{\n",
       "            background-color:  #f5f9fe;\n",
       "            color:  #000000;\n",
       "        }#T_a6711488_e91b_11ea_b7f9_9828a61df7aerow21_col2{\n",
       "            background-color:  #fed9c9;\n",
       "            color:  #000000;\n",
       "        }#T_a6711488_e91b_11ea_b7f9_9828a61df7aerow22_col0{\n",
       "            background-color:  #f5fafe;\n",
       "            color:  #000000;\n",
       "        }#T_a6711488_e91b_11ea_b7f9_9828a61df7aerow22_col2{\n",
       "            background-color:  #fee7db;\n",
       "            color:  #000000;\n",
       "        }#T_a6711488_e91b_11ea_b7f9_9828a61df7aerow23_col0,#T_a6711488_e91b_11ea_b7f9_9828a61df7aerow24_col0,#T_a6711488_e91b_11ea_b7f9_9828a61df7aerow25_col0{\n",
       "            background-color:  #f6faff;\n",
       "            color:  #000000;\n",
       "        }#T_a6711488_e91b_11ea_b7f9_9828a61df7aerow23_col2,#T_a6711488_e91b_11ea_b7f9_9828a61df7aerow28_col2{\n",
       "            background-color:  #fca78b;\n",
       "            color:  #000000;\n",
       "        }#T_a6711488_e91b_11ea_b7f9_9828a61df7aerow24_col2{\n",
       "            background-color:  #fff0e9;\n",
       "            color:  #000000;\n",
       "        }#T_a6711488_e91b_11ea_b7f9_9828a61df7aerow25_col2{\n",
       "            background-color:  #fdd5c4;\n",
       "            color:  #000000;\n",
       "        }#T_a6711488_e91b_11ea_b7f9_9828a61df7aerow26_col0,#T_a6711488_e91b_11ea_b7f9_9828a61df7aerow27_col0,#T_a6711488_e91b_11ea_b7f9_9828a61df7aerow28_col0,#T_a6711488_e91b_11ea_b7f9_9828a61df7aerow29_col0,#T_a6711488_e91b_11ea_b7f9_9828a61df7aerow30_col0,#T_a6711488_e91b_11ea_b7f9_9828a61df7aerow31_col0,#T_a6711488_e91b_11ea_b7f9_9828a61df7aerow32_col0,#T_a6711488_e91b_11ea_b7f9_9828a61df7aerow33_col0,#T_a6711488_e91b_11ea_b7f9_9828a61df7aerow34_col0,#T_a6711488_e91b_11ea_b7f9_9828a61df7aerow35_col0{\n",
       "            background-color:  #f7fbff;\n",
       "            color:  #000000;\n",
       "        }#T_a6711488_e91b_11ea_b7f9_9828a61df7aerow26_col2{\n",
       "            background-color:  #ffefe8;\n",
       "            color:  #000000;\n",
       "        }#T_a6711488_e91b_11ea_b7f9_9828a61df7aerow27_col2{\n",
       "            background-color:  #feeae1;\n",
       "            color:  #000000;\n",
       "        }#T_a6711488_e91b_11ea_b7f9_9828a61df7aerow30_col2{\n",
       "            background-color:  #fff0e8;\n",
       "            color:  #000000;\n",
       "        }#T_a6711488_e91b_11ea_b7f9_9828a61df7aerow31_col2{\n",
       "            background-color:  #fdccb8;\n",
       "            color:  #000000;\n",
       "        }#T_a6711488_e91b_11ea_b7f9_9828a61df7aerow32_col2{\n",
       "            background-color:  #fdd3c1;\n",
       "            color:  #000000;\n",
       "        }#T_a6711488_e91b_11ea_b7f9_9828a61df7aerow33_col2{\n",
       "            background-color:  #fff2ec;\n",
       "            color:  #000000;\n",
       "        }#T_a6711488_e91b_11ea_b7f9_9828a61df7aerow34_col2,#T_a6711488_e91b_11ea_b7f9_9828a61df7aerow35_col2{\n",
       "            background-color:  #fff5f0;\n",
       "            color:  #000000;\n",
       "        }</style><table id=\"T_a6711488_e91b_11ea_b7f9_9828a61df7ae\" ><thead>    <tr>        <th class=\"blank level0\" ></th>        <th class=\"col_heading level0 col0\" >Confirmed</th>        <th class=\"col_heading level0 col1\" >Deaths</th>        <th class=\"col_heading level0 col2\" >Mortality Rate (per 100)</th>    </tr>    <tr>        <th class=\"index_name level0\" >State</th>        <th class=\"blank\" ></th>        <th class=\"blank\" ></th>        <th class=\"blank\" ></th>    </tr></thead><tbody>\n",
       "                <tr>\n",
       "                        <th id=\"T_a6711488_e91b_11ea_b7f9_9828a61df7aelevel0_row0\" class=\"row_heading level0 row0\" >Maharashtra</th>\n",
       "                        <td id=\"T_a6711488_e91b_11ea_b7f9_9828a61df7aerow0_col0\" class=\"data row0 col0\" >22437979</td>\n",
       "                        <td id=\"T_a6711488_e91b_11ea_b7f9_9828a61df7aerow0_col1\" class=\"data row0 col1\" >842461</td>\n",
       "                        <td id=\"T_a6711488_e91b_11ea_b7f9_9828a61df7aerow0_col2\" class=\"data row0 col2\" >3.750000</td>\n",
       "            </tr>\n",
       "            <tr>\n",
       "                        <th id=\"T_a6711488_e91b_11ea_b7f9_9828a61df7aelevel0_row1\" class=\"row_heading level0 row1\" >Tamil Nadu</th>\n",
       "                        <td id=\"T_a6711488_e91b_11ea_b7f9_9828a61df7aerow1_col0\" class=\"data row1 col0\" >11965369</td>\n",
       "                        <td id=\"T_a6711488_e91b_11ea_b7f9_9828a61df7aerow1_col1\" class=\"data row1 col1\" >179520</td>\n",
       "                        <td id=\"T_a6711488_e91b_11ea_b7f9_9828a61df7aerow1_col2\" class=\"data row1 col2\" >1.500000</td>\n",
       "            </tr>\n",
       "            <tr>\n",
       "                        <th id=\"T_a6711488_e91b_11ea_b7f9_9828a61df7aelevel0_row2\" class=\"row_heading level0 row2\" >Delhi</th>\n",
       "                        <td id=\"T_a6711488_e91b_11ea_b7f9_9828a61df7aerow2_col0\" class=\"data row2 col0\" >7896076</td>\n",
       "                        <td id=\"T_a6711488_e91b_11ea_b7f9_9828a61df7aerow2_col1\" class=\"data row2 col1\" >232066</td>\n",
       "                        <td id=\"T_a6711488_e91b_11ea_b7f9_9828a61df7aerow2_col2\" class=\"data row2 col2\" >2.940000</td>\n",
       "            </tr>\n",
       "            <tr>\n",
       "                        <th id=\"T_a6711488_e91b_11ea_b7f9_9828a61df7aelevel0_row3\" class=\"row_heading level0 row3\" >Andhra Pradesh</th>\n",
       "                        <td id=\"T_a6711488_e91b_11ea_b7f9_9828a61df7aerow3_col0\" class=\"data row3 col0\" >5795248</td>\n",
       "                        <td id=\"T_a6711488_e91b_11ea_b7f9_9828a61df7aerow3_col1\" class=\"data row3 col1\" >58367</td>\n",
       "                        <td id=\"T_a6711488_e91b_11ea_b7f9_9828a61df7aerow3_col2\" class=\"data row3 col2\" >1.010000</td>\n",
       "            </tr>\n",
       "            <tr>\n",
       "                        <th id=\"T_a6711488_e91b_11ea_b7f9_9828a61df7aelevel0_row4\" class=\"row_heading level0 row4\" >Karnataka</th>\n",
       "                        <td id=\"T_a6711488_e91b_11ea_b7f9_9828a61df7aerow4_col0\" class=\"data row4 col0\" >5142676</td>\n",
       "                        <td id=\"T_a6711488_e91b_11ea_b7f9_9828a61df7aerow4_col1\" class=\"data row4 col1\" >93988</td>\n",
       "                        <td id=\"T_a6711488_e91b_11ea_b7f9_9828a61df7aerow4_col2\" class=\"data row4 col2\" >1.830000</td>\n",
       "            </tr>\n",
       "            <tr>\n",
       "                        <th id=\"T_a6711488_e91b_11ea_b7f9_9828a61df7aelevel0_row5\" class=\"row_heading level0 row5\" >Uttar Pradesh</th>\n",
       "                        <td id=\"T_a6711488_e91b_11ea_b7f9_9828a61df7aerow5_col0\" class=\"data row5 col0\" >4170121</td>\n",
       "                        <td id=\"T_a6711488_e91b_11ea_b7f9_9828a61df7aerow5_col1\" class=\"data row5 col1\" >86356</td>\n",
       "                        <td id=\"T_a6711488_e91b_11ea_b7f9_9828a61df7aerow5_col2\" class=\"data row5 col2\" >2.070000</td>\n",
       "            </tr>\n",
       "            <tr>\n",
       "                        <th id=\"T_a6711488_e91b_11ea_b7f9_9828a61df7aelevel0_row6\" class=\"row_heading level0 row6\" >Gujarat</th>\n",
       "                        <td id=\"T_a6711488_e91b_11ea_b7f9_9828a61df7aerow6_col0\" class=\"data row6 col0\" >3750039</td>\n",
       "                        <td id=\"T_a6711488_e91b_11ea_b7f9_9828a61df7aerow6_col1\" class=\"data row6 col1\" >177662</td>\n",
       "                        <td id=\"T_a6711488_e91b_11ea_b7f9_9828a61df7aerow6_col2\" class=\"data row6 col2\" >4.740000</td>\n",
       "            </tr>\n",
       "            <tr>\n",
       "                        <th id=\"T_a6711488_e91b_11ea_b7f9_9828a61df7aelevel0_row7\" class=\"row_heading level0 row7\" >West Bengal</th>\n",
       "                        <td id=\"T_a6711488_e91b_11ea_b7f9_9828a61df7aerow7_col0\" class=\"data row7 col0\" >3305083</td>\n",
       "                        <td id=\"T_a6711488_e91b_11ea_b7f9_9828a61df7aerow7_col1\" class=\"data row7 col1\" >89612</td>\n",
       "                        <td id=\"T_a6711488_e91b_11ea_b7f9_9828a61df7aerow7_col2\" class=\"data row7 col2\" >2.710000</td>\n",
       "            </tr>\n",
       "            <tr>\n",
       "                        <th id=\"T_a6711488_e91b_11ea_b7f9_9828a61df7aelevel0_row8\" class=\"row_heading level0 row8\" >Telangana</th>\n",
       "                        <td id=\"T_a6711488_e91b_11ea_b7f9_9828a61df7aerow8_col0\" class=\"data row8 col0\" >2897368</td>\n",
       "                        <td id=\"T_a6711488_e91b_11ea_b7f9_9828a61df7aerow8_col1\" class=\"data row8 col1\" >29967</td>\n",
       "                        <td id=\"T_a6711488_e91b_11ea_b7f9_9828a61df7aerow8_col2\" class=\"data row8 col2\" >1.030000</td>\n",
       "            </tr>\n",
       "            <tr>\n",
       "                        <th id=\"T_a6711488_e91b_11ea_b7f9_9828a61df7aelevel0_row9\" class=\"row_heading level0 row9\" >Bihar</th>\n",
       "                        <td id=\"T_a6711488_e91b_11ea_b7f9_9828a61df7aerow9_col0\" class=\"data row9 col0\" >2377066</td>\n",
       "                        <td id=\"T_a6711488_e91b_11ea_b7f9_9828a61df7aerow9_col1\" class=\"data row9 col1\" >13777</td>\n",
       "                        <td id=\"T_a6711488_e91b_11ea_b7f9_9828a61df7aerow9_col2\" class=\"data row9 col2\" >0.580000</td>\n",
       "            </tr>\n",
       "            <tr>\n",
       "                        <th id=\"T_a6711488_e91b_11ea_b7f9_9828a61df7aelevel0_row10\" class=\"row_heading level0 row10\" >Rajasthan</th>\n",
       "                        <td id=\"T_a6711488_e91b_11ea_b7f9_9828a61df7aerow10_col0\" class=\"data row10 col0\" >2364534</td>\n",
       "                        <td id=\"T_a6711488_e91b_11ea_b7f9_9828a61df7aerow10_col1\" class=\"data row10 col1\" >43858</td>\n",
       "                        <td id=\"T_a6711488_e91b_11ea_b7f9_9828a61df7aerow10_col2\" class=\"data row10 col2\" >1.850000</td>\n",
       "            </tr>\n",
       "            <tr>\n",
       "                        <th id=\"T_a6711488_e91b_11ea_b7f9_9828a61df7aelevel0_row11\" class=\"row_heading level0 row11\" >Madhya Pradesh</th>\n",
       "                        <td id=\"T_a6711488_e91b_11ea_b7f9_9828a61df7aerow11_col0\" class=\"data row11 col0\" >1845239</td>\n",
       "                        <td id=\"T_a6711488_e91b_11ea_b7f9_9828a61df7aerow11_col1\" class=\"data row11 col1\" >62276</td>\n",
       "                        <td id=\"T_a6711488_e91b_11ea_b7f9_9828a61df7aerow11_col2\" class=\"data row11 col2\" >3.370000</td>\n",
       "            </tr>\n",
       "            <tr>\n",
       "                        <th id=\"T_a6711488_e91b_11ea_b7f9_9828a61df7aelevel0_row12\" class=\"row_heading level0 row12\" >Assam</th>\n",
       "                        <td id=\"T_a6711488_e91b_11ea_b7f9_9828a61df7aerow12_col0\" class=\"data row12 col0\" >1838682</td>\n",
       "                        <td id=\"T_a6711488_e91b_11ea_b7f9_9828a61df7aerow12_col1\" class=\"data row12 col1\" >4291</td>\n",
       "                        <td id=\"T_a6711488_e91b_11ea_b7f9_9828a61df7aerow12_col2\" class=\"data row12 col2\" >0.230000</td>\n",
       "            </tr>\n",
       "            <tr>\n",
       "                        <th id=\"T_a6711488_e91b_11ea_b7f9_9828a61df7aelevel0_row13\" class=\"row_heading level0 row13\" >Haryana</th>\n",
       "                        <td id=\"T_a6711488_e91b_11ea_b7f9_9828a61df7aerow13_col0\" class=\"data row13 col0\" >1745869</td>\n",
       "                        <td id=\"T_a6711488_e91b_11ea_b7f9_9828a61df7aerow13_col1\" class=\"data row13 col1\" >22321</td>\n",
       "                        <td id=\"T_a6711488_e91b_11ea_b7f9_9828a61df7aerow13_col2\" class=\"data row13 col2\" >1.280000</td>\n",
       "            </tr>\n",
       "            <tr>\n",
       "                        <th id=\"T_a6711488_e91b_11ea_b7f9_9828a61df7aelevel0_row14\" class=\"row_heading level0 row14\" >Odisha</th>\n",
       "                        <td id=\"T_a6711488_e91b_11ea_b7f9_9828a61df7aerow14_col0\" class=\"data row14 col0\" >1469580</td>\n",
       "                        <td id=\"T_a6711488_e91b_11ea_b7f9_9828a61df7aerow14_col1\" class=\"data row14 col1\" >7815</td>\n",
       "                        <td id=\"T_a6711488_e91b_11ea_b7f9_9828a61df7aerow14_col2\" class=\"data row14 col2\" >0.530000</td>\n",
       "            </tr>\n",
       "            <tr>\n",
       "                        <th id=\"T_a6711488_e91b_11ea_b7f9_9828a61df7aelevel0_row15\" class=\"row_heading level0 row15\" >Kerala</th>\n",
       "                        <td id=\"T_a6711488_e91b_11ea_b7f9_9828a61df7aerow15_col0\" class=\"data row15 col0\" >1070694</td>\n",
       "                        <td id=\"T_a6711488_e91b_11ea_b7f9_9828a61df7aerow15_col1\" class=\"data row15 col1\" >4012</td>\n",
       "                        <td id=\"T_a6711488_e91b_11ea_b7f9_9828a61df7aerow15_col2\" class=\"data row15 col2\" >0.370000</td>\n",
       "            </tr>\n",
       "            <tr>\n",
       "                        <th id=\"T_a6711488_e91b_11ea_b7f9_9828a61df7aelevel0_row16\" class=\"row_heading level0 row16\" >Jammu and Kashmir</th>\n",
       "                        <td id=\"T_a6711488_e91b_11ea_b7f9_9828a61df7aerow16_col0\" class=\"data row16 col0\" >1030722</td>\n",
       "                        <td id=\"T_a6711488_e91b_11ea_b7f9_9828a61df7aerow16_col1\" class=\"data row16 col1\" >17457</td>\n",
       "                        <td id=\"T_a6711488_e91b_11ea_b7f9_9828a61df7aerow16_col2\" class=\"data row16 col2\" >1.690000</td>\n",
       "            </tr>\n",
       "            <tr>\n",
       "                        <th id=\"T_a6711488_e91b_11ea_b7f9_9828a61df7aelevel0_row17\" class=\"row_heading level0 row17\" >Punjab</th>\n",
       "                        <td id=\"T_a6711488_e91b_11ea_b7f9_9828a61df7aerow17_col0\" class=\"data row17 col0\" >881186</td>\n",
       "                        <td id=\"T_a6711488_e91b_11ea_b7f9_9828a61df7aerow17_col1\" class=\"data row17 col1\" >21508</td>\n",
       "                        <td id=\"T_a6711488_e91b_11ea_b7f9_9828a61df7aerow17_col2\" class=\"data row17 col2\" >2.440000</td>\n",
       "            </tr>\n",
       "            <tr>\n",
       "                        <th id=\"T_a6711488_e91b_11ea_b7f9_9828a61df7aelevel0_row18\" class=\"row_heading level0 row18\" >Jharkhand</th>\n",
       "                        <td id=\"T_a6711488_e91b_11ea_b7f9_9828a61df7aerow18_col0\" class=\"data row18 col0\" >530109</td>\n",
       "                        <td id=\"T_a6711488_e91b_11ea_b7f9_9828a61df7aerow18_col1\" class=\"data row18 col1\" >4910</td>\n",
       "                        <td id=\"T_a6711488_e91b_11ea_b7f9_9828a61df7aerow18_col2\" class=\"data row18 col2\" >0.930000</td>\n",
       "            </tr>\n",
       "            <tr>\n",
       "                        <th id=\"T_a6711488_e91b_11ea_b7f9_9828a61df7aelevel0_row19\" class=\"row_heading level0 row19\" >Chhattisgarh</th>\n",
       "                        <td id=\"T_a6711488_e91b_11ea_b7f9_9828a61df7aerow19_col0\" class=\"data row19 col0\" >428382</td>\n",
       "                        <td id=\"T_a6711488_e91b_11ea_b7f9_9828a61df7aerow19_col1\" class=\"data row19 col1\" >2691</td>\n",
       "                        <td id=\"T_a6711488_e91b_11ea_b7f9_9828a61df7aerow19_col2\" class=\"data row19 col2\" >0.630000</td>\n",
       "            </tr>\n",
       "            <tr>\n",
       "                        <th id=\"T_a6711488_e91b_11ea_b7f9_9828a61df7aelevel0_row20\" class=\"row_heading level0 row20\" >Uttarakhand</th>\n",
       "                        <td id=\"T_a6711488_e91b_11ea_b7f9_9828a61df7aerow20_col0\" class=\"data row20 col0\" >370943</td>\n",
       "                        <td id=\"T_a6711488_e91b_11ea_b7f9_9828a61df7aerow20_col1\" class=\"data row20 col1\" >4468</td>\n",
       "                        <td id=\"T_a6711488_e91b_11ea_b7f9_9828a61df7aerow20_col2\" class=\"data row20 col2\" >1.200000</td>\n",
       "            </tr>\n",
       "            <tr>\n",
       "                        <th id=\"T_a6711488_e91b_11ea_b7f9_9828a61df7aelevel0_row21\" class=\"row_heading level0 row21\" >Goa</th>\n",
       "                        <td id=\"T_a6711488_e91b_11ea_b7f9_9828a61df7aerow21_col0\" class=\"data row21 col0\" >273824</td>\n",
       "                        <td id=\"T_a6711488_e91b_11ea_b7f9_9828a61df7aerow21_col1\" class=\"data row21 col1\" >1964</td>\n",
       "                        <td id=\"T_a6711488_e91b_11ea_b7f9_9828a61df7aerow21_col2\" class=\"data row21 col2\" >0.720000</td>\n",
       "            </tr>\n",
       "            <tr>\n",
       "                        <th id=\"T_a6711488_e91b_11ea_b7f9_9828a61df7aelevel0_row22\" class=\"row_heading level0 row22\" >Tripura</th>\n",
       "                        <td id=\"T_a6711488_e91b_11ea_b7f9_9828a61df7aerow22_col0\" class=\"data row22 col0\" >226443</td>\n",
       "                        <td id=\"T_a6711488_e91b_11ea_b7f9_9828a61df7aerow22_col1\" class=\"data row22 col1\" >926</td>\n",
       "                        <td id=\"T_a6711488_e91b_11ea_b7f9_9828a61df7aerow22_col2\" class=\"data row22 col2\" >0.410000</td>\n",
       "            </tr>\n",
       "            <tr>\n",
       "                        <th id=\"T_a6711488_e91b_11ea_b7f9_9828a61df7aelevel0_row23\" class=\"row_heading level0 row23\" >Puducherry</th>\n",
       "                        <td id=\"T_a6711488_e91b_11ea_b7f9_9828a61df7aerow23_col0\" class=\"data row23 col0\" >160623</td>\n",
       "                        <td id=\"T_a6711488_e91b_11ea_b7f9_9828a61df7aerow23_col1\" class=\"data row23 col1\" >2358</td>\n",
       "                        <td id=\"T_a6711488_e91b_11ea_b7f9_9828a61df7aerow23_col2\" class=\"data row23 col2\" >1.470000</td>\n",
       "            </tr>\n",
       "            <tr>\n",
       "                        <th id=\"T_a6711488_e91b_11ea_b7f9_9828a61df7aelevel0_row24\" class=\"row_heading level0 row24\" >Manipur</th>\n",
       "                        <td id=\"T_a6711488_e91b_11ea_b7f9_9828a61df7aerow24_col0\" class=\"data row24 col0\" >136840</td>\n",
       "                        <td id=\"T_a6711488_e91b_11ea_b7f9_9828a61df7aerow24_col1\" class=\"data row24 col1\" >190</td>\n",
       "                        <td id=\"T_a6711488_e91b_11ea_b7f9_9828a61df7aerow24_col2\" class=\"data row24 col2\" >0.140000</td>\n",
       "            </tr>\n",
       "            <tr>\n",
       "                        <th id=\"T_a6711488_e91b_11ea_b7f9_9828a61df7aelevel0_row25\" class=\"row_heading level0 row25\" >Himachal Pradesh</th>\n",
       "                        <td id=\"T_a6711488_e91b_11ea_b7f9_9828a61df7aerow25_col0\" class=\"data row25 col0\" >127926</td>\n",
       "                        <td id=\"T_a6711488_e91b_11ea_b7f9_9828a61df7aerow25_col1\" class=\"data row25 col1\" >968</td>\n",
       "                        <td id=\"T_a6711488_e91b_11ea_b7f9_9828a61df7aerow25_col2\" class=\"data row25 col2\" >0.760000</td>\n",
       "            </tr>\n",
       "            <tr>\n",
       "                        <th id=\"T_a6711488_e91b_11ea_b7f9_9828a61df7aelevel0_row26\" class=\"row_heading level0 row26\" >Nagaland</th>\n",
       "                        <td id=\"T_a6711488_e91b_11ea_b7f9_9828a61df7aerow26_col0\" class=\"data row26 col0\" >83510</td>\n",
       "                        <td id=\"T_a6711488_e91b_11ea_b7f9_9828a61df7aerow26_col1\" class=\"data row26 col1\" >152</td>\n",
       "                        <td id=\"T_a6711488_e91b_11ea_b7f9_9828a61df7aerow26_col2\" class=\"data row26 col2\" >0.180000</td>\n",
       "            </tr>\n",
       "            <tr>\n",
       "                        <th id=\"T_a6711488_e91b_11ea_b7f9_9828a61df7aelevel0_row27\" class=\"row_heading level0 row27\" >Ladakh</th>\n",
       "                        <td id=\"T_a6711488_e91b_11ea_b7f9_9828a61df7aerow27_col0\" class=\"data row27 col0\" >82601</td>\n",
       "                        <td id=\"T_a6711488_e91b_11ea_b7f9_9828a61df7aerow27_col1\" class=\"data row27 col1\" >248</td>\n",
       "                        <td id=\"T_a6711488_e91b_11ea_b7f9_9828a61df7aerow27_col2\" class=\"data row27 col2\" >0.300000</td>\n",
       "            </tr>\n",
       "            <tr>\n",
       "                        <th id=\"T_a6711488_e91b_11ea_b7f9_9828a61df7aelevel0_row28\" class=\"row_heading level0 row28\" >Chandigarh</th>\n",
       "                        <td id=\"T_a6711488_e91b_11ea_b7f9_9828a61df7aerow28_col0\" class=\"data row28 col0\" >65390</td>\n",
       "                        <td id=\"T_a6711488_e91b_11ea_b7f9_9828a61df7aerow28_col1\" class=\"data row28 col1\" >963</td>\n",
       "                        <td id=\"T_a6711488_e91b_11ea_b7f9_9828a61df7aerow28_col2\" class=\"data row28 col2\" >1.470000</td>\n",
       "            </tr>\n",
       "            <tr>\n",
       "                        <th id=\"T_a6711488_e91b_11ea_b7f9_9828a61df7aelevel0_row29\" class=\"row_heading level0 row29\" >Arunachal Pradesh</th>\n",
       "                        <td id=\"T_a6711488_e91b_11ea_b7f9_9828a61df7aerow29_col0\" class=\"data row29 col0\" >61511</td>\n",
       "                        <td id=\"T_a6711488_e91b_11ea_b7f9_9828a61df7aerow29_col1\" class=\"data row29 col1\" >141</td>\n",
       "                        <td id=\"T_a6711488_e91b_11ea_b7f9_9828a61df7aerow29_col2\" class=\"data row29 col2\" >0.230000</td>\n",
       "            </tr>\n",
       "            <tr>\n",
       "                        <th id=\"T_a6711488_e91b_11ea_b7f9_9828a61df7aelevel0_row30\" class=\"row_heading level0 row30\" >Daman and Diu</th>\n",
       "                        <td id=\"T_a6711488_e91b_11ea_b7f9_9828a61df7aerow30_col0\" class=\"data row30 col0\" >46920</td>\n",
       "                        <td id=\"T_a6711488_e91b_11ea_b7f9_9828a61df7aerow30_col1\" class=\"data row30 col1\" >70</td>\n",
       "                        <td id=\"T_a6711488_e91b_11ea_b7f9_9828a61df7aerow30_col2\" class=\"data row30 col2\" >0.150000</td>\n",
       "            </tr>\n",
       "            <tr>\n",
       "                        <th id=\"T_a6711488_e91b_11ea_b7f9_9828a61df7aelevel0_row31\" class=\"row_heading level0 row31\" >Andaman and Nicobar Islands</th>\n",
       "                        <td id=\"T_a6711488_e91b_11ea_b7f9_9828a61df7aerow31_col0\" class=\"data row31 col0\" >35819</td>\n",
       "                        <td id=\"T_a6711488_e91b_11ea_b7f9_9828a61df7aerow31_col1\" class=\"data row31 col1\" >328</td>\n",
       "                        <td id=\"T_a6711488_e91b_11ea_b7f9_9828a61df7aerow31_col2\" class=\"data row31 col2\" >0.920000</td>\n",
       "            </tr>\n",
       "            <tr>\n",
       "                        <th id=\"T_a6711488_e91b_11ea_b7f9_9828a61df7aelevel0_row32\" class=\"row_heading level0 row32\" >Meghalaya</th>\n",
       "                        <td id=\"T_a6711488_e91b_11ea_b7f9_9828a61df7aerow32_col0\" class=\"data row32 col0\" >32256</td>\n",
       "                        <td id=\"T_a6711488_e91b_11ea_b7f9_9828a61df7aerow32_col1\" class=\"data row32 col1\" >259</td>\n",
       "                        <td id=\"T_a6711488_e91b_11ea_b7f9_9828a61df7aerow32_col2\" class=\"data row32 col2\" >0.800000</td>\n",
       "            </tr>\n",
       "            <tr>\n",
       "                        <th id=\"T_a6711488_e91b_11ea_b7f9_9828a61df7aelevel0_row33\" class=\"row_heading level0 row33\" >Sikkim</th>\n",
       "                        <td id=\"T_a6711488_e91b_11ea_b7f9_9828a61df7aerow33_col0\" class=\"data row33 col0\" >25994</td>\n",
       "                        <td id=\"T_a6711488_e91b_11ea_b7f9_9828a61df7aerow33_col1\" class=\"data row33 col1\" >22</td>\n",
       "                        <td id=\"T_a6711488_e91b_11ea_b7f9_9828a61df7aerow33_col2\" class=\"data row33 col2\" >0.080000</td>\n",
       "            </tr>\n",
       "            <tr>\n",
       "                        <th id=\"T_a6711488_e91b_11ea_b7f9_9828a61df7aelevel0_row34\" class=\"row_heading level0 row34\" >Mizoram</th>\n",
       "                        <td id=\"T_a6711488_e91b_11ea_b7f9_9828a61df7aerow34_col0\" class=\"data row34 col0\" >21921</td>\n",
       "                        <td id=\"T_a6711488_e91b_11ea_b7f9_9828a61df7aerow34_col1\" class=\"data row34 col1\" >0</td>\n",
       "                        <td id=\"T_a6711488_e91b_11ea_b7f9_9828a61df7aerow34_col2\" class=\"data row34 col2\" >0.000000</td>\n",
       "            </tr>\n",
       "            <tr>\n",
       "                        <th id=\"T_a6711488_e91b_11ea_b7f9_9828a61df7aelevel0_row35\" class=\"row_heading level0 row35\" >Dadra and Nagar Haveli</th>\n",
       "                        <td id=\"T_a6711488_e91b_11ea_b7f9_9828a61df7aerow35_col0\" class=\"data row35 col0\" >186</td>\n",
       "                        <td id=\"T_a6711488_e91b_11ea_b7f9_9828a61df7aerow35_col1\" class=\"data row35 col1\" >0</td>\n",
       "                        <td id=\"T_a6711488_e91b_11ea_b7f9_9828a61df7aerow35_col2\" class=\"data row35 col2\" >0.000000</td>\n",
       "            </tr>\n",
       "    </tbody></table>"
      ],
      "text/plain": [
       "<pandas.io.formats.style.Styler at 0x7f28273b9790>"
      ]
     },
     "execution_count": 56,
     "metadata": {},
     "output_type": "execute_result"
    }
   ],
   "source": [
    "new_data.sort_values(\"Confirmed\",ascending = False).style.background_gradient(cmap = \"Reds\",subset = [\"Mortality Rate (per 100)\"])\\\n",
    "                                                    .background_gradient(cmap = \"Blues\",subset = [\"Confirmed\"])\\\n",
    "                                                    .background_gradient(cmap = \"Purples\",subset = [\"Deaths\"])"
   ]
  },
  {
   "cell_type": "markdown",
   "metadata": {},
   "source": [
    "### CORRELATION"
   ]
  },
  {
   "cell_type": "code",
   "execution_count": 57,
   "metadata": {},
   "outputs": [
    {
     "data": {
      "text/html": [
       "<style  type=\"text/css\" >\n",
       "#T_a67702c6_e91b_11ea_b7f9_9828a61df7aerow0_col0,#T_a67702c6_e91b_11ea_b7f9_9828a61df7aerow1_col1,#T_a67702c6_e91b_11ea_b7f9_9828a61df7aerow2_col2{\n",
       "            background-color:  #67000d;\n",
       "            color:  #f1f1f1;\n",
       "        }#T_a67702c6_e91b_11ea_b7f9_9828a61df7aerow0_col1{\n",
       "            background-color:  #ad1117;\n",
       "            color:  #f1f1f1;\n",
       "        }#T_a67702c6_e91b_11ea_b7f9_9828a61df7aerow0_col2,#T_a67702c6_e91b_11ea_b7f9_9828a61df7aerow2_col0,#T_a67702c6_e91b_11ea_b7f9_9828a61df7aerow2_col1{\n",
       "            background-color:  #fff5f0;\n",
       "            color:  #000000;\n",
       "        }#T_a67702c6_e91b_11ea_b7f9_9828a61df7aerow1_col0{\n",
       "            background-color:  #a81016;\n",
       "            color:  #f1f1f1;\n",
       "        }#T_a67702c6_e91b_11ea_b7f9_9828a61df7aerow1_col2{\n",
       "            background-color:  #fee1d3;\n",
       "            color:  #000000;\n",
       "        }</style><table id=\"T_a67702c6_e91b_11ea_b7f9_9828a61df7ae\" ><thead>    <tr>        <th class=\"blank level0\" ></th>        <th class=\"col_heading level0 col0\" >Confirmed</th>        <th class=\"col_heading level0 col1\" >Deaths</th>        <th class=\"col_heading level0 col2\" >Mortality Rate (per 100)</th>    </tr></thead><tbody>\n",
       "                <tr>\n",
       "                        <th id=\"T_a67702c6_e91b_11ea_b7f9_9828a61df7aelevel0_row0\" class=\"row_heading level0 row0\" >Confirmed</th>\n",
       "                        <td id=\"T_a67702c6_e91b_11ea_b7f9_9828a61df7aerow0_col0\" class=\"data row0 col0\" >1.000</td>\n",
       "                        <td id=\"T_a67702c6_e91b_11ea_b7f9_9828a61df7aerow0_col1\" class=\"data row0 col1\" >0.941</td>\n",
       "                        <td id=\"T_a67702c6_e91b_11ea_b7f9_9828a61df7aerow0_col2\" class=\"data row0 col2\" >0.559</td>\n",
       "            </tr>\n",
       "            <tr>\n",
       "                        <th id=\"T_a67702c6_e91b_11ea_b7f9_9828a61df7aelevel0_row1\" class=\"row_heading level0 row1\" >Deaths</th>\n",
       "                        <td id=\"T_a67702c6_e91b_11ea_b7f9_9828a61df7aerow1_col0\" class=\"data row1 col0\" >0.941</td>\n",
       "                        <td id=\"T_a67702c6_e91b_11ea_b7f9_9828a61df7aerow1_col1\" class=\"data row1 col1\" >1.000</td>\n",
       "                        <td id=\"T_a67702c6_e91b_11ea_b7f9_9828a61df7aerow1_col2\" class=\"data row1 col2\" >0.613</td>\n",
       "            </tr>\n",
       "            <tr>\n",
       "                        <th id=\"T_a67702c6_e91b_11ea_b7f9_9828a61df7aelevel0_row2\" class=\"row_heading level0 row2\" >Mortality Rate (per 100)</th>\n",
       "                        <td id=\"T_a67702c6_e91b_11ea_b7f9_9828a61df7aerow2_col0\" class=\"data row2 col0\" >0.559</td>\n",
       "                        <td id=\"T_a67702c6_e91b_11ea_b7f9_9828a61df7aerow2_col1\" class=\"data row2 col1\" >0.613</td>\n",
       "                        <td id=\"T_a67702c6_e91b_11ea_b7f9_9828a61df7aerow2_col2\" class=\"data row2 col2\" >1.000</td>\n",
       "            </tr>\n",
       "    </tbody></table>"
      ],
      "text/plain": [
       "<pandas.io.formats.style.Styler at 0x7f2826f46dd0>"
      ]
     },
     "execution_count": 57,
     "metadata": {},
     "output_type": "execute_result"
    }
   ],
   "source": [
    "new_data.corr().style.background_gradient(cmap = \"Reds\").format(\"{:.3f}\")"
   ]
  },
  {
   "cell_type": "code",
   "execution_count": 58,
   "metadata": {},
   "outputs": [],
   "source": [
    "# import geopandas as gpd"
   ]
  },
  {
   "cell_type": "code",
   "execution_count": 59,
   "metadata": {},
   "outputs": [],
   "source": [
    "# df = r\"india-polygon.shp\""
   ]
  },
  {
   "cell_type": "code",
   "execution_count": 60,
   "metadata": {},
   "outputs": [],
   "source": [
    "# map_df = gpd.read_file(df)"
   ]
  },
  {
   "cell_type": "code",
   "execution_count": 61,
   "metadata": {},
   "outputs": [],
   "source": [
    "# map_df"
   ]
  },
  {
   "cell_type": "code",
   "execution_count": 62,
   "metadata": {},
   "outputs": [],
   "source": [
    "data_df = new_data.reset_index()"
   ]
  },
  {
   "cell_type": "code",
   "execution_count": 63,
   "metadata": {},
   "outputs": [],
   "source": [
    "# new_df = pd.merge(data_df,map_df,how = \"left\",left_on = \"State\",right_on=\"st_nm\")"
   ]
  },
  {
   "cell_type": "code",
   "execution_count": 64,
   "metadata": {},
   "outputs": [],
   "source": [
    "# new_df"
   ]
  },
  {
   "cell_type": "code",
   "execution_count": 65,
   "metadata": {},
   "outputs": [],
   "source": [
    "# new_df.drop([\"State\"],axis = 1,inplace = True)"
   ]
  },
  {
   "cell_type": "code",
   "execution_count": 66,
   "metadata": {},
   "outputs": [
    {
     "data": {
      "text/html": [
       "<div>\n",
       "<style scoped>\n",
       "    .dataframe tbody tr th:only-of-type {\n",
       "        vertical-align: middle;\n",
       "    }\n",
       "\n",
       "    .dataframe tbody tr th {\n",
       "        vertical-align: top;\n",
       "    }\n",
       "\n",
       "    .dataframe thead th {\n",
       "        text-align: right;\n",
       "    }\n",
       "</style>\n",
       "<table border=\"1\" class=\"dataframe\">\n",
       "  <thead>\n",
       "    <tr style=\"text-align: right;\">\n",
       "      <th></th>\n",
       "      <th>State</th>\n",
       "      <th>Confirmed</th>\n",
       "      <th>Deaths</th>\n",
       "      <th>Mortality Rate (per 100)</th>\n",
       "    </tr>\n",
       "  </thead>\n",
       "  <tbody>\n",
       "    <tr>\n",
       "      <th>0</th>\n",
       "      <td>Andaman and Nicobar Islands</td>\n",
       "      <td>35819</td>\n",
       "      <td>328</td>\n",
       "      <td>0.92</td>\n",
       "    </tr>\n",
       "    <tr>\n",
       "      <th>1</th>\n",
       "      <td>Andhra Pradesh</td>\n",
       "      <td>5795248</td>\n",
       "      <td>58367</td>\n",
       "      <td>1.01</td>\n",
       "    </tr>\n",
       "    <tr>\n",
       "      <th>2</th>\n",
       "      <td>Arunachal Pradesh</td>\n",
       "      <td>61511</td>\n",
       "      <td>141</td>\n",
       "      <td>0.23</td>\n",
       "    </tr>\n",
       "    <tr>\n",
       "      <th>3</th>\n",
       "      <td>Assam</td>\n",
       "      <td>1838682</td>\n",
       "      <td>4291</td>\n",
       "      <td>0.23</td>\n",
       "    </tr>\n",
       "    <tr>\n",
       "      <th>4</th>\n",
       "      <td>Bihar</td>\n",
       "      <td>2377066</td>\n",
       "      <td>13777</td>\n",
       "      <td>0.58</td>\n",
       "    </tr>\n",
       "    <tr>\n",
       "      <th>5</th>\n",
       "      <td>Chandigarh</td>\n",
       "      <td>65390</td>\n",
       "      <td>963</td>\n",
       "      <td>1.47</td>\n",
       "    </tr>\n",
       "    <tr>\n",
       "      <th>6</th>\n",
       "      <td>Chhattisgarh</td>\n",
       "      <td>428382</td>\n",
       "      <td>2691</td>\n",
       "      <td>0.63</td>\n",
       "    </tr>\n",
       "    <tr>\n",
       "      <th>7</th>\n",
       "      <td>Dadra and Nagar Haveli</td>\n",
       "      <td>186</td>\n",
       "      <td>0</td>\n",
       "      <td>0.00</td>\n",
       "    </tr>\n",
       "    <tr>\n",
       "      <th>8</th>\n",
       "      <td>Daman and Diu</td>\n",
       "      <td>46920</td>\n",
       "      <td>70</td>\n",
       "      <td>0.15</td>\n",
       "    </tr>\n",
       "    <tr>\n",
       "      <th>9</th>\n",
       "      <td>Delhi</td>\n",
       "      <td>7896076</td>\n",
       "      <td>232066</td>\n",
       "      <td>2.94</td>\n",
       "    </tr>\n",
       "    <tr>\n",
       "      <th>10</th>\n",
       "      <td>Goa</td>\n",
       "      <td>273824</td>\n",
       "      <td>1964</td>\n",
       "      <td>0.72</td>\n",
       "    </tr>\n",
       "    <tr>\n",
       "      <th>11</th>\n",
       "      <td>Gujarat</td>\n",
       "      <td>3750039</td>\n",
       "      <td>177662</td>\n",
       "      <td>4.74</td>\n",
       "    </tr>\n",
       "    <tr>\n",
       "      <th>12</th>\n",
       "      <td>Haryana</td>\n",
       "      <td>1745869</td>\n",
       "      <td>22321</td>\n",
       "      <td>1.28</td>\n",
       "    </tr>\n",
       "    <tr>\n",
       "      <th>13</th>\n",
       "      <td>Himachal Pradesh</td>\n",
       "      <td>127926</td>\n",
       "      <td>968</td>\n",
       "      <td>0.76</td>\n",
       "    </tr>\n",
       "    <tr>\n",
       "      <th>14</th>\n",
       "      <td>Jammu and Kashmir</td>\n",
       "      <td>1030722</td>\n",
       "      <td>17457</td>\n",
       "      <td>1.69</td>\n",
       "    </tr>\n",
       "    <tr>\n",
       "      <th>15</th>\n",
       "      <td>Jharkhand</td>\n",
       "      <td>530109</td>\n",
       "      <td>4910</td>\n",
       "      <td>0.93</td>\n",
       "    </tr>\n",
       "    <tr>\n",
       "      <th>16</th>\n",
       "      <td>Karnataka</td>\n",
       "      <td>5142676</td>\n",
       "      <td>93988</td>\n",
       "      <td>1.83</td>\n",
       "    </tr>\n",
       "    <tr>\n",
       "      <th>17</th>\n",
       "      <td>Kerala</td>\n",
       "      <td>1070694</td>\n",
       "      <td>4012</td>\n",
       "      <td>0.37</td>\n",
       "    </tr>\n",
       "    <tr>\n",
       "      <th>18</th>\n",
       "      <td>Ladakh</td>\n",
       "      <td>82601</td>\n",
       "      <td>248</td>\n",
       "      <td>0.30</td>\n",
       "    </tr>\n",
       "    <tr>\n",
       "      <th>19</th>\n",
       "      <td>Madhya Pradesh</td>\n",
       "      <td>1845239</td>\n",
       "      <td>62276</td>\n",
       "      <td>3.37</td>\n",
       "    </tr>\n",
       "    <tr>\n",
       "      <th>20</th>\n",
       "      <td>Maharashtra</td>\n",
       "      <td>22437979</td>\n",
       "      <td>842461</td>\n",
       "      <td>3.75</td>\n",
       "    </tr>\n",
       "    <tr>\n",
       "      <th>21</th>\n",
       "      <td>Manipur</td>\n",
       "      <td>136840</td>\n",
       "      <td>190</td>\n",
       "      <td>0.14</td>\n",
       "    </tr>\n",
       "    <tr>\n",
       "      <th>22</th>\n",
       "      <td>Meghalaya</td>\n",
       "      <td>32256</td>\n",
       "      <td>259</td>\n",
       "      <td>0.80</td>\n",
       "    </tr>\n",
       "    <tr>\n",
       "      <th>23</th>\n",
       "      <td>Mizoram</td>\n",
       "      <td>21921</td>\n",
       "      <td>0</td>\n",
       "      <td>0.00</td>\n",
       "    </tr>\n",
       "    <tr>\n",
       "      <th>24</th>\n",
       "      <td>Nagaland</td>\n",
       "      <td>83510</td>\n",
       "      <td>152</td>\n",
       "      <td>0.18</td>\n",
       "    </tr>\n",
       "    <tr>\n",
       "      <th>25</th>\n",
       "      <td>Odisha</td>\n",
       "      <td>1469580</td>\n",
       "      <td>7815</td>\n",
       "      <td>0.53</td>\n",
       "    </tr>\n",
       "    <tr>\n",
       "      <th>26</th>\n",
       "      <td>Puducherry</td>\n",
       "      <td>160623</td>\n",
       "      <td>2358</td>\n",
       "      <td>1.47</td>\n",
       "    </tr>\n",
       "    <tr>\n",
       "      <th>27</th>\n",
       "      <td>Punjab</td>\n",
       "      <td>881186</td>\n",
       "      <td>21508</td>\n",
       "      <td>2.44</td>\n",
       "    </tr>\n",
       "    <tr>\n",
       "      <th>28</th>\n",
       "      <td>Rajasthan</td>\n",
       "      <td>2364534</td>\n",
       "      <td>43858</td>\n",
       "      <td>1.85</td>\n",
       "    </tr>\n",
       "    <tr>\n",
       "      <th>29</th>\n",
       "      <td>Sikkim</td>\n",
       "      <td>25994</td>\n",
       "      <td>22</td>\n",
       "      <td>0.08</td>\n",
       "    </tr>\n",
       "    <tr>\n",
       "      <th>30</th>\n",
       "      <td>Tamil Nadu</td>\n",
       "      <td>11965369</td>\n",
       "      <td>179520</td>\n",
       "      <td>1.50</td>\n",
       "    </tr>\n",
       "    <tr>\n",
       "      <th>31</th>\n",
       "      <td>Telangana</td>\n",
       "      <td>2897368</td>\n",
       "      <td>29967</td>\n",
       "      <td>1.03</td>\n",
       "    </tr>\n",
       "    <tr>\n",
       "      <th>32</th>\n",
       "      <td>Tripura</td>\n",
       "      <td>226443</td>\n",
       "      <td>926</td>\n",
       "      <td>0.41</td>\n",
       "    </tr>\n",
       "    <tr>\n",
       "      <th>33</th>\n",
       "      <td>Uttar Pradesh</td>\n",
       "      <td>4170121</td>\n",
       "      <td>86356</td>\n",
       "      <td>2.07</td>\n",
       "    </tr>\n",
       "    <tr>\n",
       "      <th>34</th>\n",
       "      <td>Uttarakhand</td>\n",
       "      <td>370943</td>\n",
       "      <td>4468</td>\n",
       "      <td>1.20</td>\n",
       "    </tr>\n",
       "    <tr>\n",
       "      <th>35</th>\n",
       "      <td>West Bengal</td>\n",
       "      <td>3305083</td>\n",
       "      <td>89612</td>\n",
       "      <td>2.71</td>\n",
       "    </tr>\n",
       "  </tbody>\n",
       "</table>\n",
       "</div>"
      ],
      "text/plain": [
       "                          State  Confirmed  Deaths  Mortality Rate (per 100)\n",
       "0   Andaman and Nicobar Islands      35819     328                      0.92\n",
       "1                Andhra Pradesh    5795248   58367                      1.01\n",
       "2             Arunachal Pradesh      61511     141                      0.23\n",
       "3                         Assam    1838682    4291                      0.23\n",
       "4                         Bihar    2377066   13777                      0.58\n",
       "5                    Chandigarh      65390     963                      1.47\n",
       "6                  Chhattisgarh     428382    2691                      0.63\n",
       "7        Dadra and Nagar Haveli        186       0                      0.00\n",
       "8                 Daman and Diu      46920      70                      0.15\n",
       "9                         Delhi    7896076  232066                      2.94\n",
       "10                          Goa     273824    1964                      0.72\n",
       "11                      Gujarat    3750039  177662                      4.74\n",
       "12                      Haryana    1745869   22321                      1.28\n",
       "13             Himachal Pradesh     127926     968                      0.76\n",
       "14            Jammu and Kashmir    1030722   17457                      1.69\n",
       "15                    Jharkhand     530109    4910                      0.93\n",
       "16                    Karnataka    5142676   93988                      1.83\n",
       "17                       Kerala    1070694    4012                      0.37\n",
       "18                       Ladakh      82601     248                      0.30\n",
       "19               Madhya Pradesh    1845239   62276                      3.37\n",
       "20                  Maharashtra   22437979  842461                      3.75\n",
       "21                      Manipur     136840     190                      0.14\n",
       "22                    Meghalaya      32256     259                      0.80\n",
       "23                      Mizoram      21921       0                      0.00\n",
       "24                     Nagaland      83510     152                      0.18\n",
       "25                       Odisha    1469580    7815                      0.53\n",
       "26                   Puducherry     160623    2358                      1.47\n",
       "27                       Punjab     881186   21508                      2.44\n",
       "28                    Rajasthan    2364534   43858                      1.85\n",
       "29                       Sikkim      25994      22                      0.08\n",
       "30                   Tamil Nadu   11965369  179520                      1.50\n",
       "31                    Telangana    2897368   29967                      1.03\n",
       "32                      Tripura     226443     926                      0.41\n",
       "33                Uttar Pradesh    4170121   86356                      2.07\n",
       "34                  Uttarakhand     370943    4468                      1.20\n",
       "35                  West Bengal    3305083   89612                      2.71"
      ]
     },
     "execution_count": 66,
     "metadata": {},
     "output_type": "execute_result"
    }
   ],
   "source": [
    "data_df"
   ]
  },
  {
   "cell_type": "code",
   "execution_count": 67,
   "metadata": {
    "scrolled": false
   },
   "outputs": [],
   "source": [
    "import plotly.express as px"
   ]
  },
  {
   "cell_type": "code",
   "execution_count": 120,
   "metadata": {},
   "outputs": [
    {
     "data": {
      "application/vnd.plotly.v1+json": {
       "config": {
        "plotlyServerURL": "https://plot.ly"
       },
       "data": [
        {
         "coloraxis": "coloraxis",
         "featureidkey": "properties.ST_NM",
         "geo": "geo",
         "geojson": "https://gist.githubusercontent.com/jbrobst/56c13bbbf9d97d187fea01ca62ea5112/raw/e388c4cae20aa53cb5090210a42ebb9b765c0a36/india_states.geojson",
         "hovertemplate": "State=%{location}<br>Confirmed=%{z}<extra></extra>",
         "locations": [
          "Andaman and Nicobar Islands",
          "Andhra Pradesh",
          "Arunachal Pradesh",
          "Assam",
          "Bihar",
          "Chandigarh",
          "Chhattisgarh",
          "Dadra and Nagar Haveli",
          "Daman and Diu",
          "Delhi",
          "Goa",
          "Gujarat",
          "Haryana",
          "Himachal Pradesh",
          "Jammu and Kashmir",
          "Jharkhand",
          "Karnataka",
          "Kerala",
          "Ladakh",
          "Madhya Pradesh",
          "Maharashtra",
          "Manipur",
          "Meghalaya",
          "Mizoram",
          "Nagaland",
          "Odisha",
          "Puducherry",
          "Punjab",
          "Rajasthan",
          "Sikkim",
          "Tamil Nadu",
          "Telangana",
          "Tripura",
          "Uttar Pradesh",
          "Uttarakhand",
          "West Bengal"
         ],
         "name": "",
         "type": "choropleth",
         "z": [
          35819,
          5795248,
          61511,
          1838682,
          2377066,
          65390,
          428382,
          186,
          46920,
          7896076,
          273824,
          3750039,
          1745869,
          127926,
          1030722,
          530109,
          5142676,
          1070694,
          82601,
          1845239,
          22437979,
          136840,
          32256,
          21921,
          83510,
          1469580,
          160623,
          881186,
          2364534,
          25994,
          11965369,
          2897368,
          226443,
          4170121,
          370943,
          3305083
         ]
        }
       ],
       "layout": {
        "coloraxis": {
         "colorbar": {
          "title": {
           "text": "Confirmed"
          }
         },
         "colorscale": [
          [
           0,
           "rgb(252, 222, 156)"
          ],
          [
           0.16666666666666666,
           "rgb(250, 164, 118)"
          ],
          [
           0.3333333333333333,
           "rgb(240, 116, 110)"
          ],
          [
           0.5,
           "rgb(227, 79, 111)"
          ],
          [
           0.6666666666666666,
           "rgb(220, 57, 119)"
          ],
          [
           0.8333333333333334,
           "rgb(185, 37, 122)"
          ],
          [
           1,
           "rgb(124, 29, 111)"
          ]
         ]
        },
        "geo": {
         "center": {},
         "domain": {
          "x": [
           0,
           1
          ],
          "y": [
           0,
           1
          ]
         },
         "fitbounds": "locations",
         "visible": false
        },
        "legend": {
         "tracegroupgap": 0
        },
        "margin": {
         "t": 60
        },
        "template": {
         "data": {
          "bar": [
           {
            "error_x": {
             "color": "#2a3f5f"
            },
            "error_y": {
             "color": "#2a3f5f"
            },
            "marker": {
             "line": {
              "color": "#E5ECF6",
              "width": 0.5
             }
            },
            "type": "bar"
           }
          ],
          "barpolar": [
           {
            "marker": {
             "line": {
              "color": "#E5ECF6",
              "width": 0.5
             }
            },
            "type": "barpolar"
           }
          ],
          "carpet": [
           {
            "aaxis": {
             "endlinecolor": "#2a3f5f",
             "gridcolor": "white",
             "linecolor": "white",
             "minorgridcolor": "white",
             "startlinecolor": "#2a3f5f"
            },
            "baxis": {
             "endlinecolor": "#2a3f5f",
             "gridcolor": "white",
             "linecolor": "white",
             "minorgridcolor": "white",
             "startlinecolor": "#2a3f5f"
            },
            "type": "carpet"
           }
          ],
          "choropleth": [
           {
            "colorbar": {
             "outlinewidth": 0,
             "ticks": ""
            },
            "type": "choropleth"
           }
          ],
          "contour": [
           {
            "colorbar": {
             "outlinewidth": 0,
             "ticks": ""
            },
            "colorscale": [
             [
              0,
              "#0d0887"
             ],
             [
              0.1111111111111111,
              "#46039f"
             ],
             [
              0.2222222222222222,
              "#7201a8"
             ],
             [
              0.3333333333333333,
              "#9c179e"
             ],
             [
              0.4444444444444444,
              "#bd3786"
             ],
             [
              0.5555555555555556,
              "#d8576b"
             ],
             [
              0.6666666666666666,
              "#ed7953"
             ],
             [
              0.7777777777777778,
              "#fb9f3a"
             ],
             [
              0.8888888888888888,
              "#fdca26"
             ],
             [
              1,
              "#f0f921"
             ]
            ],
            "type": "contour"
           }
          ],
          "contourcarpet": [
           {
            "colorbar": {
             "outlinewidth": 0,
             "ticks": ""
            },
            "type": "contourcarpet"
           }
          ],
          "heatmap": [
           {
            "colorbar": {
             "outlinewidth": 0,
             "ticks": ""
            },
            "colorscale": [
             [
              0,
              "#0d0887"
             ],
             [
              0.1111111111111111,
              "#46039f"
             ],
             [
              0.2222222222222222,
              "#7201a8"
             ],
             [
              0.3333333333333333,
              "#9c179e"
             ],
             [
              0.4444444444444444,
              "#bd3786"
             ],
             [
              0.5555555555555556,
              "#d8576b"
             ],
             [
              0.6666666666666666,
              "#ed7953"
             ],
             [
              0.7777777777777778,
              "#fb9f3a"
             ],
             [
              0.8888888888888888,
              "#fdca26"
             ],
             [
              1,
              "#f0f921"
             ]
            ],
            "type": "heatmap"
           }
          ],
          "heatmapgl": [
           {
            "colorbar": {
             "outlinewidth": 0,
             "ticks": ""
            },
            "colorscale": [
             [
              0,
              "#0d0887"
             ],
             [
              0.1111111111111111,
              "#46039f"
             ],
             [
              0.2222222222222222,
              "#7201a8"
             ],
             [
              0.3333333333333333,
              "#9c179e"
             ],
             [
              0.4444444444444444,
              "#bd3786"
             ],
             [
              0.5555555555555556,
              "#d8576b"
             ],
             [
              0.6666666666666666,
              "#ed7953"
             ],
             [
              0.7777777777777778,
              "#fb9f3a"
             ],
             [
              0.8888888888888888,
              "#fdca26"
             ],
             [
              1,
              "#f0f921"
             ]
            ],
            "type": "heatmapgl"
           }
          ],
          "histogram": [
           {
            "marker": {
             "colorbar": {
              "outlinewidth": 0,
              "ticks": ""
             }
            },
            "type": "histogram"
           }
          ],
          "histogram2d": [
           {
            "colorbar": {
             "outlinewidth": 0,
             "ticks": ""
            },
            "colorscale": [
             [
              0,
              "#0d0887"
             ],
             [
              0.1111111111111111,
              "#46039f"
             ],
             [
              0.2222222222222222,
              "#7201a8"
             ],
             [
              0.3333333333333333,
              "#9c179e"
             ],
             [
              0.4444444444444444,
              "#bd3786"
             ],
             [
              0.5555555555555556,
              "#d8576b"
             ],
             [
              0.6666666666666666,
              "#ed7953"
             ],
             [
              0.7777777777777778,
              "#fb9f3a"
             ],
             [
              0.8888888888888888,
              "#fdca26"
             ],
             [
              1,
              "#f0f921"
             ]
            ],
            "type": "histogram2d"
           }
          ],
          "histogram2dcontour": [
           {
            "colorbar": {
             "outlinewidth": 0,
             "ticks": ""
            },
            "colorscale": [
             [
              0,
              "#0d0887"
             ],
             [
              0.1111111111111111,
              "#46039f"
             ],
             [
              0.2222222222222222,
              "#7201a8"
             ],
             [
              0.3333333333333333,
              "#9c179e"
             ],
             [
              0.4444444444444444,
              "#bd3786"
             ],
             [
              0.5555555555555556,
              "#d8576b"
             ],
             [
              0.6666666666666666,
              "#ed7953"
             ],
             [
              0.7777777777777778,
              "#fb9f3a"
             ],
             [
              0.8888888888888888,
              "#fdca26"
             ],
             [
              1,
              "#f0f921"
             ]
            ],
            "type": "histogram2dcontour"
           }
          ],
          "mesh3d": [
           {
            "colorbar": {
             "outlinewidth": 0,
             "ticks": ""
            },
            "type": "mesh3d"
           }
          ],
          "parcoords": [
           {
            "line": {
             "colorbar": {
              "outlinewidth": 0,
              "ticks": ""
             }
            },
            "type": "parcoords"
           }
          ],
          "pie": [
           {
            "automargin": true,
            "type": "pie"
           }
          ],
          "scatter": [
           {
            "marker": {
             "colorbar": {
              "outlinewidth": 0,
              "ticks": ""
             }
            },
            "type": "scatter"
           }
          ],
          "scatter3d": [
           {
            "line": {
             "colorbar": {
              "outlinewidth": 0,
              "ticks": ""
             }
            },
            "marker": {
             "colorbar": {
              "outlinewidth": 0,
              "ticks": ""
             }
            },
            "type": "scatter3d"
           }
          ],
          "scattercarpet": [
           {
            "marker": {
             "colorbar": {
              "outlinewidth": 0,
              "ticks": ""
             }
            },
            "type": "scattercarpet"
           }
          ],
          "scattergeo": [
           {
            "marker": {
             "colorbar": {
              "outlinewidth": 0,
              "ticks": ""
             }
            },
            "type": "scattergeo"
           }
          ],
          "scattergl": [
           {
            "marker": {
             "colorbar": {
              "outlinewidth": 0,
              "ticks": ""
             }
            },
            "type": "scattergl"
           }
          ],
          "scattermapbox": [
           {
            "marker": {
             "colorbar": {
              "outlinewidth": 0,
              "ticks": ""
             }
            },
            "type": "scattermapbox"
           }
          ],
          "scatterpolar": [
           {
            "marker": {
             "colorbar": {
              "outlinewidth": 0,
              "ticks": ""
             }
            },
            "type": "scatterpolar"
           }
          ],
          "scatterpolargl": [
           {
            "marker": {
             "colorbar": {
              "outlinewidth": 0,
              "ticks": ""
             }
            },
            "type": "scatterpolargl"
           }
          ],
          "scatterternary": [
           {
            "marker": {
             "colorbar": {
              "outlinewidth": 0,
              "ticks": ""
             }
            },
            "type": "scatterternary"
           }
          ],
          "surface": [
           {
            "colorbar": {
             "outlinewidth": 0,
             "ticks": ""
            },
            "colorscale": [
             [
              0,
              "#0d0887"
             ],
             [
              0.1111111111111111,
              "#46039f"
             ],
             [
              0.2222222222222222,
              "#7201a8"
             ],
             [
              0.3333333333333333,
              "#9c179e"
             ],
             [
              0.4444444444444444,
              "#bd3786"
             ],
             [
              0.5555555555555556,
              "#d8576b"
             ],
             [
              0.6666666666666666,
              "#ed7953"
             ],
             [
              0.7777777777777778,
              "#fb9f3a"
             ],
             [
              0.8888888888888888,
              "#fdca26"
             ],
             [
              1,
              "#f0f921"
             ]
            ],
            "type": "surface"
           }
          ],
          "table": [
           {
            "cells": {
             "fill": {
              "color": "#EBF0F8"
             },
             "line": {
              "color": "white"
             }
            },
            "header": {
             "fill": {
              "color": "#C8D4E3"
             },
             "line": {
              "color": "white"
             }
            },
            "type": "table"
           }
          ]
         },
         "layout": {
          "annotationdefaults": {
           "arrowcolor": "#2a3f5f",
           "arrowhead": 0,
           "arrowwidth": 1
          },
          "coloraxis": {
           "colorbar": {
            "outlinewidth": 0,
            "ticks": ""
           }
          },
          "colorscale": {
           "diverging": [
            [
             0,
             "#8e0152"
            ],
            [
             0.1,
             "#c51b7d"
            ],
            [
             0.2,
             "#de77ae"
            ],
            [
             0.3,
             "#f1b6da"
            ],
            [
             0.4,
             "#fde0ef"
            ],
            [
             0.5,
             "#f7f7f7"
            ],
            [
             0.6,
             "#e6f5d0"
            ],
            [
             0.7,
             "#b8e186"
            ],
            [
             0.8,
             "#7fbc41"
            ],
            [
             0.9,
             "#4d9221"
            ],
            [
             1,
             "#276419"
            ]
           ],
           "sequential": [
            [
             0,
             "#0d0887"
            ],
            [
             0.1111111111111111,
             "#46039f"
            ],
            [
             0.2222222222222222,
             "#7201a8"
            ],
            [
             0.3333333333333333,
             "#9c179e"
            ],
            [
             0.4444444444444444,
             "#bd3786"
            ],
            [
             0.5555555555555556,
             "#d8576b"
            ],
            [
             0.6666666666666666,
             "#ed7953"
            ],
            [
             0.7777777777777778,
             "#fb9f3a"
            ],
            [
             0.8888888888888888,
             "#fdca26"
            ],
            [
             1,
             "#f0f921"
            ]
           ],
           "sequentialminus": [
            [
             0,
             "#0d0887"
            ],
            [
             0.1111111111111111,
             "#46039f"
            ],
            [
             0.2222222222222222,
             "#7201a8"
            ],
            [
             0.3333333333333333,
             "#9c179e"
            ],
            [
             0.4444444444444444,
             "#bd3786"
            ],
            [
             0.5555555555555556,
             "#d8576b"
            ],
            [
             0.6666666666666666,
             "#ed7953"
            ],
            [
             0.7777777777777778,
             "#fb9f3a"
            ],
            [
             0.8888888888888888,
             "#fdca26"
            ],
            [
             1,
             "#f0f921"
            ]
           ]
          },
          "colorway": [
           "#636efa",
           "#EF553B",
           "#00cc96",
           "#ab63fa",
           "#FFA15A",
           "#19d3f3",
           "#FF6692",
           "#B6E880",
           "#FF97FF",
           "#FECB52"
          ],
          "font": {
           "color": "#2a3f5f"
          },
          "geo": {
           "bgcolor": "white",
           "lakecolor": "white",
           "landcolor": "#E5ECF6",
           "showlakes": true,
           "showland": true,
           "subunitcolor": "white"
          },
          "hoverlabel": {
           "align": "left"
          },
          "hovermode": "closest",
          "mapbox": {
           "style": "light"
          },
          "paper_bgcolor": "white",
          "plot_bgcolor": "#E5ECF6",
          "polar": {
           "angularaxis": {
            "gridcolor": "white",
            "linecolor": "white",
            "ticks": ""
           },
           "bgcolor": "#E5ECF6",
           "radialaxis": {
            "gridcolor": "white",
            "linecolor": "white",
            "ticks": ""
           }
          },
          "scene": {
           "xaxis": {
            "backgroundcolor": "#E5ECF6",
            "gridcolor": "white",
            "gridwidth": 2,
            "linecolor": "white",
            "showbackground": true,
            "ticks": "",
            "zerolinecolor": "white"
           },
           "yaxis": {
            "backgroundcolor": "#E5ECF6",
            "gridcolor": "white",
            "gridwidth": 2,
            "linecolor": "white",
            "showbackground": true,
            "ticks": "",
            "zerolinecolor": "white"
           },
           "zaxis": {
            "backgroundcolor": "#E5ECF6",
            "gridcolor": "white",
            "gridwidth": 2,
            "linecolor": "white",
            "showbackground": true,
            "ticks": "",
            "zerolinecolor": "white"
           }
          },
          "shapedefaults": {
           "line": {
            "color": "#2a3f5f"
           }
          },
          "ternary": {
           "aaxis": {
            "gridcolor": "white",
            "linecolor": "white",
            "ticks": ""
           },
           "baxis": {
            "gridcolor": "white",
            "linecolor": "white",
            "ticks": ""
           },
           "bgcolor": "#E5ECF6",
           "caxis": {
            "gridcolor": "white",
            "linecolor": "white",
            "ticks": ""
           }
          },
          "title": {
           "x": 0.05
          },
          "xaxis": {
           "automargin": true,
           "gridcolor": "white",
           "linecolor": "white",
           "ticks": "",
           "title": {
            "standoff": 15
           },
           "zerolinecolor": "white",
           "zerolinewidth": 2
          },
          "yaxis": {
           "automargin": true,
           "gridcolor": "white",
           "linecolor": "white",
           "ticks": "",
           "title": {
            "standoff": 15
           },
           "zerolinecolor": "white",
           "zerolinewidth": 2
          }
         }
        },
        "title": {
         "text": "Covid 19 Confirmed Cases"
        }
       }
      },
      "text/html": [
       "<div>\n",
       "        \n",
       "        \n",
       "            <div id=\"a6d29a0b-5d5c-440f-84bd-63eb627eee74\" class=\"plotly-graph-div\" style=\"height:525px; width:100%;\"></div>\n",
       "            <script type=\"text/javascript\">\n",
       "                require([\"plotly\"], function(Plotly) {\n",
       "                    window.PLOTLYENV=window.PLOTLYENV || {};\n",
       "                    \n",
       "                if (document.getElementById(\"a6d29a0b-5d5c-440f-84bd-63eb627eee74\")) {\n",
       "                    Plotly.newPlot(\n",
       "                        'a6d29a0b-5d5c-440f-84bd-63eb627eee74',\n",
       "                        [{\"coloraxis\": \"coloraxis\", \"featureidkey\": \"properties.ST_NM\", \"geo\": \"geo\", \"geojson\": \"https://gist.githubusercontent.com/jbrobst/56c13bbbf9d97d187fea01ca62ea5112/raw/e388c4cae20aa53cb5090210a42ebb9b765c0a36/india_states.geojson\", \"hovertemplate\": \"State=%{location}<br>Confirmed=%{z}<extra></extra>\", \"locations\": [\"Andaman and Nicobar Islands\", \"Andhra Pradesh\", \"Arunachal Pradesh\", \"Assam\", \"Bihar\", \"Chandigarh\", \"Chhattisgarh\", \"Dadra and Nagar Haveli\", \"Daman and Diu\", \"Delhi\", \"Goa\", \"Gujarat\", \"Haryana\", \"Himachal Pradesh\", \"Jammu and Kashmir\", \"Jharkhand\", \"Karnataka\", \"Kerala\", \"Ladakh\", \"Madhya Pradesh\", \"Maharashtra\", \"Manipur\", \"Meghalaya\", \"Mizoram\", \"Nagaland\", \"Odisha\", \"Puducherry\", \"Punjab\", \"Rajasthan\", \"Sikkim\", \"Tamil Nadu\", \"Telangana\", \"Tripura\", \"Uttar Pradesh\", \"Uttarakhand\", \"West Bengal\"], \"name\": \"\", \"type\": \"choropleth\", \"z\": [35819, 5795248, 61511, 1838682, 2377066, 65390, 428382, 186, 46920, 7896076, 273824, 3750039, 1745869, 127926, 1030722, 530109, 5142676, 1070694, 82601, 1845239, 22437979, 136840, 32256, 21921, 83510, 1469580, 160623, 881186, 2364534, 25994, 11965369, 2897368, 226443, 4170121, 370943, 3305083]}],\n",
       "                        {\"coloraxis\": {\"colorbar\": {\"title\": {\"text\": \"Confirmed\"}}, \"colorscale\": [[0.0, \"rgb(252, 222, 156)\"], [0.16666666666666666, \"rgb(250, 164, 118)\"], [0.3333333333333333, \"rgb(240, 116, 110)\"], [0.5, \"rgb(227, 79, 111)\"], [0.6666666666666666, \"rgb(220, 57, 119)\"], [0.8333333333333334, \"rgb(185, 37, 122)\"], [1.0, \"rgb(124, 29, 111)\"]]}, \"geo\": {\"center\": {}, \"domain\": {\"x\": [0.0, 1.0], \"y\": [0.0, 1.0]}, \"fitbounds\": \"locations\", \"visible\": false}, \"legend\": {\"tracegroupgap\": 0}, \"margin\": {\"t\": 60}, \"template\": {\"data\": {\"bar\": [{\"error_x\": {\"color\": \"#2a3f5f\"}, \"error_y\": {\"color\": \"#2a3f5f\"}, \"marker\": {\"line\": {\"color\": \"#E5ECF6\", \"width\": 0.5}}, \"type\": \"bar\"}], \"barpolar\": [{\"marker\": {\"line\": {\"color\": \"#E5ECF6\", \"width\": 0.5}}, \"type\": \"barpolar\"}], \"carpet\": [{\"aaxis\": {\"endlinecolor\": \"#2a3f5f\", \"gridcolor\": \"white\", \"linecolor\": \"white\", \"minorgridcolor\": \"white\", \"startlinecolor\": \"#2a3f5f\"}, \"baxis\": {\"endlinecolor\": \"#2a3f5f\", \"gridcolor\": \"white\", \"linecolor\": \"white\", \"minorgridcolor\": \"white\", \"startlinecolor\": \"#2a3f5f\"}, \"type\": \"carpet\"}], \"choropleth\": [{\"colorbar\": {\"outlinewidth\": 0, \"ticks\": \"\"}, \"type\": \"choropleth\"}], \"contour\": [{\"colorbar\": {\"outlinewidth\": 0, \"ticks\": \"\"}, \"colorscale\": [[0.0, \"#0d0887\"], [0.1111111111111111, \"#46039f\"], [0.2222222222222222, \"#7201a8\"], [0.3333333333333333, \"#9c179e\"], [0.4444444444444444, \"#bd3786\"], [0.5555555555555556, \"#d8576b\"], [0.6666666666666666, \"#ed7953\"], [0.7777777777777778, \"#fb9f3a\"], [0.8888888888888888, \"#fdca26\"], [1.0, \"#f0f921\"]], \"type\": \"contour\"}], \"contourcarpet\": [{\"colorbar\": {\"outlinewidth\": 0, \"ticks\": \"\"}, \"type\": \"contourcarpet\"}], \"heatmap\": [{\"colorbar\": {\"outlinewidth\": 0, \"ticks\": \"\"}, \"colorscale\": [[0.0, \"#0d0887\"], [0.1111111111111111, \"#46039f\"], [0.2222222222222222, \"#7201a8\"], [0.3333333333333333, \"#9c179e\"], [0.4444444444444444, \"#bd3786\"], [0.5555555555555556, \"#d8576b\"], [0.6666666666666666, \"#ed7953\"], [0.7777777777777778, \"#fb9f3a\"], [0.8888888888888888, \"#fdca26\"], [1.0, \"#f0f921\"]], \"type\": \"heatmap\"}], \"heatmapgl\": [{\"colorbar\": {\"outlinewidth\": 0, \"ticks\": \"\"}, \"colorscale\": [[0.0, \"#0d0887\"], [0.1111111111111111, \"#46039f\"], [0.2222222222222222, \"#7201a8\"], [0.3333333333333333, \"#9c179e\"], [0.4444444444444444, \"#bd3786\"], [0.5555555555555556, \"#d8576b\"], [0.6666666666666666, \"#ed7953\"], [0.7777777777777778, \"#fb9f3a\"], [0.8888888888888888, \"#fdca26\"], [1.0, \"#f0f921\"]], \"type\": \"heatmapgl\"}], \"histogram\": [{\"marker\": {\"colorbar\": {\"outlinewidth\": 0, \"ticks\": \"\"}}, \"type\": \"histogram\"}], \"histogram2d\": [{\"colorbar\": {\"outlinewidth\": 0, \"ticks\": \"\"}, \"colorscale\": [[0.0, \"#0d0887\"], [0.1111111111111111, \"#46039f\"], [0.2222222222222222, \"#7201a8\"], [0.3333333333333333, \"#9c179e\"], [0.4444444444444444, \"#bd3786\"], [0.5555555555555556, \"#d8576b\"], [0.6666666666666666, \"#ed7953\"], [0.7777777777777778, \"#fb9f3a\"], [0.8888888888888888, \"#fdca26\"], [1.0, \"#f0f921\"]], \"type\": \"histogram2d\"}], \"histogram2dcontour\": [{\"colorbar\": {\"outlinewidth\": 0, \"ticks\": \"\"}, \"colorscale\": [[0.0, \"#0d0887\"], [0.1111111111111111, \"#46039f\"], [0.2222222222222222, \"#7201a8\"], [0.3333333333333333, \"#9c179e\"], [0.4444444444444444, \"#bd3786\"], [0.5555555555555556, \"#d8576b\"], [0.6666666666666666, \"#ed7953\"], [0.7777777777777778, \"#fb9f3a\"], [0.8888888888888888, \"#fdca26\"], [1.0, \"#f0f921\"]], \"type\": \"histogram2dcontour\"}], \"mesh3d\": [{\"colorbar\": {\"outlinewidth\": 0, \"ticks\": \"\"}, \"type\": \"mesh3d\"}], \"parcoords\": [{\"line\": {\"colorbar\": {\"outlinewidth\": 0, \"ticks\": \"\"}}, \"type\": \"parcoords\"}], \"pie\": [{\"automargin\": true, \"type\": \"pie\"}], \"scatter\": [{\"marker\": {\"colorbar\": {\"outlinewidth\": 0, \"ticks\": \"\"}}, \"type\": \"scatter\"}], \"scatter3d\": [{\"line\": {\"colorbar\": {\"outlinewidth\": 0, \"ticks\": \"\"}}, \"marker\": {\"colorbar\": {\"outlinewidth\": 0, \"ticks\": \"\"}}, \"type\": \"scatter3d\"}], \"scattercarpet\": [{\"marker\": {\"colorbar\": {\"outlinewidth\": 0, \"ticks\": \"\"}}, \"type\": \"scattercarpet\"}], \"scattergeo\": [{\"marker\": {\"colorbar\": {\"outlinewidth\": 0, \"ticks\": \"\"}}, \"type\": \"scattergeo\"}], \"scattergl\": [{\"marker\": {\"colorbar\": {\"outlinewidth\": 0, \"ticks\": \"\"}}, \"type\": \"scattergl\"}], \"scattermapbox\": [{\"marker\": {\"colorbar\": {\"outlinewidth\": 0, \"ticks\": \"\"}}, \"type\": \"scattermapbox\"}], \"scatterpolar\": [{\"marker\": {\"colorbar\": {\"outlinewidth\": 0, \"ticks\": \"\"}}, \"type\": \"scatterpolar\"}], \"scatterpolargl\": [{\"marker\": {\"colorbar\": {\"outlinewidth\": 0, \"ticks\": \"\"}}, \"type\": \"scatterpolargl\"}], \"scatterternary\": [{\"marker\": {\"colorbar\": {\"outlinewidth\": 0, \"ticks\": \"\"}}, \"type\": \"scatterternary\"}], \"surface\": [{\"colorbar\": {\"outlinewidth\": 0, \"ticks\": \"\"}, \"colorscale\": [[0.0, \"#0d0887\"], [0.1111111111111111, \"#46039f\"], [0.2222222222222222, \"#7201a8\"], [0.3333333333333333, \"#9c179e\"], [0.4444444444444444, \"#bd3786\"], [0.5555555555555556, \"#d8576b\"], [0.6666666666666666, \"#ed7953\"], [0.7777777777777778, \"#fb9f3a\"], [0.8888888888888888, \"#fdca26\"], [1.0, \"#f0f921\"]], \"type\": \"surface\"}], \"table\": [{\"cells\": {\"fill\": {\"color\": \"#EBF0F8\"}, \"line\": {\"color\": \"white\"}}, \"header\": {\"fill\": {\"color\": \"#C8D4E3\"}, \"line\": {\"color\": \"white\"}}, \"type\": \"table\"}]}, \"layout\": {\"annotationdefaults\": {\"arrowcolor\": \"#2a3f5f\", \"arrowhead\": 0, \"arrowwidth\": 1}, \"coloraxis\": {\"colorbar\": {\"outlinewidth\": 0, \"ticks\": \"\"}}, \"colorscale\": {\"diverging\": [[0, \"#8e0152\"], [0.1, \"#c51b7d\"], [0.2, \"#de77ae\"], [0.3, \"#f1b6da\"], [0.4, \"#fde0ef\"], [0.5, \"#f7f7f7\"], [0.6, \"#e6f5d0\"], [0.7, \"#b8e186\"], [0.8, \"#7fbc41\"], [0.9, \"#4d9221\"], [1, \"#276419\"]], \"sequential\": [[0.0, \"#0d0887\"], [0.1111111111111111, \"#46039f\"], [0.2222222222222222, \"#7201a8\"], [0.3333333333333333, \"#9c179e\"], [0.4444444444444444, \"#bd3786\"], [0.5555555555555556, \"#d8576b\"], [0.6666666666666666, \"#ed7953\"], [0.7777777777777778, \"#fb9f3a\"], [0.8888888888888888, \"#fdca26\"], [1.0, \"#f0f921\"]], \"sequentialminus\": [[0.0, \"#0d0887\"], [0.1111111111111111, \"#46039f\"], [0.2222222222222222, \"#7201a8\"], [0.3333333333333333, \"#9c179e\"], [0.4444444444444444, \"#bd3786\"], [0.5555555555555556, \"#d8576b\"], [0.6666666666666666, \"#ed7953\"], [0.7777777777777778, \"#fb9f3a\"], [0.8888888888888888, \"#fdca26\"], [1.0, \"#f0f921\"]]}, \"colorway\": [\"#636efa\", \"#EF553B\", \"#00cc96\", \"#ab63fa\", \"#FFA15A\", \"#19d3f3\", \"#FF6692\", \"#B6E880\", \"#FF97FF\", \"#FECB52\"], \"font\": {\"color\": \"#2a3f5f\"}, \"geo\": {\"bgcolor\": \"white\", \"lakecolor\": \"white\", \"landcolor\": \"#E5ECF6\", \"showlakes\": true, \"showland\": true, \"subunitcolor\": \"white\"}, \"hoverlabel\": {\"align\": \"left\"}, \"hovermode\": \"closest\", \"mapbox\": {\"style\": \"light\"}, \"paper_bgcolor\": \"white\", \"plot_bgcolor\": \"#E5ECF6\", \"polar\": {\"angularaxis\": {\"gridcolor\": \"white\", \"linecolor\": \"white\", \"ticks\": \"\"}, \"bgcolor\": \"#E5ECF6\", \"radialaxis\": {\"gridcolor\": \"white\", \"linecolor\": \"white\", \"ticks\": \"\"}}, \"scene\": {\"xaxis\": {\"backgroundcolor\": \"#E5ECF6\", \"gridcolor\": \"white\", \"gridwidth\": 2, \"linecolor\": \"white\", \"showbackground\": true, \"ticks\": \"\", \"zerolinecolor\": \"white\"}, \"yaxis\": {\"backgroundcolor\": \"#E5ECF6\", \"gridcolor\": \"white\", \"gridwidth\": 2, \"linecolor\": \"white\", \"showbackground\": true, \"ticks\": \"\", \"zerolinecolor\": \"white\"}, \"zaxis\": {\"backgroundcolor\": \"#E5ECF6\", \"gridcolor\": \"white\", \"gridwidth\": 2, \"linecolor\": \"white\", \"showbackground\": true, \"ticks\": \"\", \"zerolinecolor\": \"white\"}}, \"shapedefaults\": {\"line\": {\"color\": \"#2a3f5f\"}}, \"ternary\": {\"aaxis\": {\"gridcolor\": \"white\", \"linecolor\": \"white\", \"ticks\": \"\"}, \"baxis\": {\"gridcolor\": \"white\", \"linecolor\": \"white\", \"ticks\": \"\"}, \"bgcolor\": \"#E5ECF6\", \"caxis\": {\"gridcolor\": \"white\", \"linecolor\": \"white\", \"ticks\": \"\"}}, \"title\": {\"x\": 0.05}, \"xaxis\": {\"automargin\": true, \"gridcolor\": \"white\", \"linecolor\": \"white\", \"ticks\": \"\", \"title\": {\"standoff\": 15}, \"zerolinecolor\": \"white\", \"zerolinewidth\": 2}, \"yaxis\": {\"automargin\": true, \"gridcolor\": \"white\", \"linecolor\": \"white\", \"ticks\": \"\", \"title\": {\"standoff\": 15}, \"zerolinecolor\": \"white\", \"zerolinewidth\": 2}}}, \"title\": {\"text\": \"Covid 19 Confirmed Cases\"}},\n",
       "                        {\"responsive\": true}\n",
       "                    ).then(function(){\n",
       "                            \n",
       "var gd = document.getElementById('a6d29a0b-5d5c-440f-84bd-63eb627eee74');\n",
       "var x = new MutationObserver(function (mutations, observer) {{\n",
       "        var display = window.getComputedStyle(gd).display;\n",
       "        if (!display || display === 'none') {{\n",
       "            console.log([gd, 'removed!']);\n",
       "            Plotly.purge(gd);\n",
       "            observer.disconnect();\n",
       "        }}\n",
       "}});\n",
       "\n",
       "// Listen for the removal of the full notebook cells\n",
       "var notebookContainer = gd.closest('#notebook-container');\n",
       "if (notebookContainer) {{\n",
       "    x.observe(notebookContainer, {childList: true});\n",
       "}}\n",
       "\n",
       "// Listen for the clearing of the current output cell\n",
       "var outputEl = gd.closest('.output');\n",
       "if (outputEl) {{\n",
       "    x.observe(outputEl, {childList: true});\n",
       "}}\n",
       "\n",
       "                        })\n",
       "                };\n",
       "                });\n",
       "            </script>\n",
       "        </div>"
      ]
     },
     "metadata": {},
     "output_type": "display_data"
    }
   ],
   "source": [
    "fig = px.choropleth(\n",
    "    data_df,\n",
    "    geojson=\"https://gist.githubusercontent.com/jbrobst/56c13bbbf9d97d187fea01ca62ea5112/raw/e388c4cae20aa53cb5090210a42ebb9b765c0a36/india_states.geojson\",\n",
    "    featureidkey='properties.ST_NM',\n",
    "    locations='State',\n",
    "    color='Confirmed',\n",
    "    color_continuous_scale=\"Sunsetdark\"\n",
    ")\n",
    "\n",
    "fig.update_geos(fitbounds=\"locations\", visible=False)\n",
    "fig.update_layout(title_text = \"Covid 19 Confirmed Cases\")\n",
    "fig.show()\n",
    "plt.tight_layout()"
   ]
  },
  {
   "cell_type": "code",
   "execution_count": 94,
   "metadata": {},
   "outputs": [
    {
     "data": {
      "application/vnd.plotly.v1+json": {
       "config": {
        "plotlyServerURL": "https://plot.ly"
       },
       "data": [
        {
         "coloraxis": "coloraxis",
         "featureidkey": "properties.ST_NM",
         "geo": "geo",
         "geojson": "https://gist.githubusercontent.com/jbrobst/56c13bbbf9d97d187fea01ca62ea5112/raw/e388c4cae20aa53cb5090210a42ebb9b765c0a36/india_states.geojson",
         "hovertemplate": "State=%{location}<br>Deaths=%{z}<extra></extra>",
         "locations": [
          "Andaman and Nicobar Islands",
          "Andhra Pradesh",
          "Arunachal Pradesh",
          "Assam",
          "Bihar",
          "Chandigarh",
          "Chhattisgarh",
          "Dadra and Nagar Haveli",
          "Daman and Diu",
          "Delhi",
          "Goa",
          "Gujarat",
          "Haryana",
          "Himachal Pradesh",
          "Jammu and Kashmir",
          "Jharkhand",
          "Karnataka",
          "Kerala",
          "Ladakh",
          "Madhya Pradesh",
          "Maharashtra",
          "Manipur",
          "Meghalaya",
          "Mizoram",
          "Nagaland",
          "Odisha",
          "Puducherry",
          "Punjab",
          "Rajasthan",
          "Sikkim",
          "Tamil Nadu",
          "Telangana",
          "Tripura",
          "Uttar Pradesh",
          "Uttarakhand",
          "West Bengal"
         ],
         "name": "",
         "type": "choropleth",
         "z": [
          328,
          58367,
          141,
          4291,
          13777,
          963,
          2691,
          0,
          70,
          232066,
          1964,
          177662,
          22321,
          968,
          17457,
          4910,
          93988,
          4012,
          248,
          62276,
          842461,
          190,
          259,
          0,
          152,
          7815,
          2358,
          21508,
          43858,
          22,
          179520,
          29967,
          926,
          86356,
          4468,
          89612
         ]
        }
       ],
       "layout": {
        "coloraxis": {
         "colorbar": {
          "title": {
           "text": "Deaths"
          }
         },
         "colorscale": [
          [
           0,
           "rgb(75, 41, 145)"
          ],
          [
           0.16666666666666666,
           "rgb(135, 44, 162)"
          ],
          [
           0.3333333333333333,
           "rgb(192, 54, 157)"
          ],
          [
           0.5,
           "rgb(234, 79, 136)"
          ],
          [
           0.6666666666666666,
           "rgb(250, 120, 118)"
          ],
          [
           0.8333333333333334,
           "rgb(246, 169, 122)"
          ],
          [
           1,
           "rgb(237, 217, 163)"
          ]
         ]
        },
        "geo": {
         "center": {},
         "domain": {
          "x": [
           0,
           1
          ],
          "y": [
           0,
           1
          ]
         },
         "fitbounds": "locations",
         "visible": false
        },
        "legend": {
         "tracegroupgap": 0
        },
        "margin": {
         "t": 60
        },
        "template": {
         "data": {
          "bar": [
           {
            "error_x": {
             "color": "#2a3f5f"
            },
            "error_y": {
             "color": "#2a3f5f"
            },
            "marker": {
             "line": {
              "color": "#E5ECF6",
              "width": 0.5
             }
            },
            "type": "bar"
           }
          ],
          "barpolar": [
           {
            "marker": {
             "line": {
              "color": "#E5ECF6",
              "width": 0.5
             }
            },
            "type": "barpolar"
           }
          ],
          "carpet": [
           {
            "aaxis": {
             "endlinecolor": "#2a3f5f",
             "gridcolor": "white",
             "linecolor": "white",
             "minorgridcolor": "white",
             "startlinecolor": "#2a3f5f"
            },
            "baxis": {
             "endlinecolor": "#2a3f5f",
             "gridcolor": "white",
             "linecolor": "white",
             "minorgridcolor": "white",
             "startlinecolor": "#2a3f5f"
            },
            "type": "carpet"
           }
          ],
          "choropleth": [
           {
            "colorbar": {
             "outlinewidth": 0,
             "ticks": ""
            },
            "type": "choropleth"
           }
          ],
          "contour": [
           {
            "colorbar": {
             "outlinewidth": 0,
             "ticks": ""
            },
            "colorscale": [
             [
              0,
              "#0d0887"
             ],
             [
              0.1111111111111111,
              "#46039f"
             ],
             [
              0.2222222222222222,
              "#7201a8"
             ],
             [
              0.3333333333333333,
              "#9c179e"
             ],
             [
              0.4444444444444444,
              "#bd3786"
             ],
             [
              0.5555555555555556,
              "#d8576b"
             ],
             [
              0.6666666666666666,
              "#ed7953"
             ],
             [
              0.7777777777777778,
              "#fb9f3a"
             ],
             [
              0.8888888888888888,
              "#fdca26"
             ],
             [
              1,
              "#f0f921"
             ]
            ],
            "type": "contour"
           }
          ],
          "contourcarpet": [
           {
            "colorbar": {
             "outlinewidth": 0,
             "ticks": ""
            },
            "type": "contourcarpet"
           }
          ],
          "heatmap": [
           {
            "colorbar": {
             "outlinewidth": 0,
             "ticks": ""
            },
            "colorscale": [
             [
              0,
              "#0d0887"
             ],
             [
              0.1111111111111111,
              "#46039f"
             ],
             [
              0.2222222222222222,
              "#7201a8"
             ],
             [
              0.3333333333333333,
              "#9c179e"
             ],
             [
              0.4444444444444444,
              "#bd3786"
             ],
             [
              0.5555555555555556,
              "#d8576b"
             ],
             [
              0.6666666666666666,
              "#ed7953"
             ],
             [
              0.7777777777777778,
              "#fb9f3a"
             ],
             [
              0.8888888888888888,
              "#fdca26"
             ],
             [
              1,
              "#f0f921"
             ]
            ],
            "type": "heatmap"
           }
          ],
          "heatmapgl": [
           {
            "colorbar": {
             "outlinewidth": 0,
             "ticks": ""
            },
            "colorscale": [
             [
              0,
              "#0d0887"
             ],
             [
              0.1111111111111111,
              "#46039f"
             ],
             [
              0.2222222222222222,
              "#7201a8"
             ],
             [
              0.3333333333333333,
              "#9c179e"
             ],
             [
              0.4444444444444444,
              "#bd3786"
             ],
             [
              0.5555555555555556,
              "#d8576b"
             ],
             [
              0.6666666666666666,
              "#ed7953"
             ],
             [
              0.7777777777777778,
              "#fb9f3a"
             ],
             [
              0.8888888888888888,
              "#fdca26"
             ],
             [
              1,
              "#f0f921"
             ]
            ],
            "type": "heatmapgl"
           }
          ],
          "histogram": [
           {
            "marker": {
             "colorbar": {
              "outlinewidth": 0,
              "ticks": ""
             }
            },
            "type": "histogram"
           }
          ],
          "histogram2d": [
           {
            "colorbar": {
             "outlinewidth": 0,
             "ticks": ""
            },
            "colorscale": [
             [
              0,
              "#0d0887"
             ],
             [
              0.1111111111111111,
              "#46039f"
             ],
             [
              0.2222222222222222,
              "#7201a8"
             ],
             [
              0.3333333333333333,
              "#9c179e"
             ],
             [
              0.4444444444444444,
              "#bd3786"
             ],
             [
              0.5555555555555556,
              "#d8576b"
             ],
             [
              0.6666666666666666,
              "#ed7953"
             ],
             [
              0.7777777777777778,
              "#fb9f3a"
             ],
             [
              0.8888888888888888,
              "#fdca26"
             ],
             [
              1,
              "#f0f921"
             ]
            ],
            "type": "histogram2d"
           }
          ],
          "histogram2dcontour": [
           {
            "colorbar": {
             "outlinewidth": 0,
             "ticks": ""
            },
            "colorscale": [
             [
              0,
              "#0d0887"
             ],
             [
              0.1111111111111111,
              "#46039f"
             ],
             [
              0.2222222222222222,
              "#7201a8"
             ],
             [
              0.3333333333333333,
              "#9c179e"
             ],
             [
              0.4444444444444444,
              "#bd3786"
             ],
             [
              0.5555555555555556,
              "#d8576b"
             ],
             [
              0.6666666666666666,
              "#ed7953"
             ],
             [
              0.7777777777777778,
              "#fb9f3a"
             ],
             [
              0.8888888888888888,
              "#fdca26"
             ],
             [
              1,
              "#f0f921"
             ]
            ],
            "type": "histogram2dcontour"
           }
          ],
          "mesh3d": [
           {
            "colorbar": {
             "outlinewidth": 0,
             "ticks": ""
            },
            "type": "mesh3d"
           }
          ],
          "parcoords": [
           {
            "line": {
             "colorbar": {
              "outlinewidth": 0,
              "ticks": ""
             }
            },
            "type": "parcoords"
           }
          ],
          "pie": [
           {
            "automargin": true,
            "type": "pie"
           }
          ],
          "scatter": [
           {
            "marker": {
             "colorbar": {
              "outlinewidth": 0,
              "ticks": ""
             }
            },
            "type": "scatter"
           }
          ],
          "scatter3d": [
           {
            "line": {
             "colorbar": {
              "outlinewidth": 0,
              "ticks": ""
             }
            },
            "marker": {
             "colorbar": {
              "outlinewidth": 0,
              "ticks": ""
             }
            },
            "type": "scatter3d"
           }
          ],
          "scattercarpet": [
           {
            "marker": {
             "colorbar": {
              "outlinewidth": 0,
              "ticks": ""
             }
            },
            "type": "scattercarpet"
           }
          ],
          "scattergeo": [
           {
            "marker": {
             "colorbar": {
              "outlinewidth": 0,
              "ticks": ""
             }
            },
            "type": "scattergeo"
           }
          ],
          "scattergl": [
           {
            "marker": {
             "colorbar": {
              "outlinewidth": 0,
              "ticks": ""
             }
            },
            "type": "scattergl"
           }
          ],
          "scattermapbox": [
           {
            "marker": {
             "colorbar": {
              "outlinewidth": 0,
              "ticks": ""
             }
            },
            "type": "scattermapbox"
           }
          ],
          "scatterpolar": [
           {
            "marker": {
             "colorbar": {
              "outlinewidth": 0,
              "ticks": ""
             }
            },
            "type": "scatterpolar"
           }
          ],
          "scatterpolargl": [
           {
            "marker": {
             "colorbar": {
              "outlinewidth": 0,
              "ticks": ""
             }
            },
            "type": "scatterpolargl"
           }
          ],
          "scatterternary": [
           {
            "marker": {
             "colorbar": {
              "outlinewidth": 0,
              "ticks": ""
             }
            },
            "type": "scatterternary"
           }
          ],
          "surface": [
           {
            "colorbar": {
             "outlinewidth": 0,
             "ticks": ""
            },
            "colorscale": [
             [
              0,
              "#0d0887"
             ],
             [
              0.1111111111111111,
              "#46039f"
             ],
             [
              0.2222222222222222,
              "#7201a8"
             ],
             [
              0.3333333333333333,
              "#9c179e"
             ],
             [
              0.4444444444444444,
              "#bd3786"
             ],
             [
              0.5555555555555556,
              "#d8576b"
             ],
             [
              0.6666666666666666,
              "#ed7953"
             ],
             [
              0.7777777777777778,
              "#fb9f3a"
             ],
             [
              0.8888888888888888,
              "#fdca26"
             ],
             [
              1,
              "#f0f921"
             ]
            ],
            "type": "surface"
           }
          ],
          "table": [
           {
            "cells": {
             "fill": {
              "color": "#EBF0F8"
             },
             "line": {
              "color": "white"
             }
            },
            "header": {
             "fill": {
              "color": "#C8D4E3"
             },
             "line": {
              "color": "white"
             }
            },
            "type": "table"
           }
          ]
         },
         "layout": {
          "annotationdefaults": {
           "arrowcolor": "#2a3f5f",
           "arrowhead": 0,
           "arrowwidth": 1
          },
          "coloraxis": {
           "colorbar": {
            "outlinewidth": 0,
            "ticks": ""
           }
          },
          "colorscale": {
           "diverging": [
            [
             0,
             "#8e0152"
            ],
            [
             0.1,
             "#c51b7d"
            ],
            [
             0.2,
             "#de77ae"
            ],
            [
             0.3,
             "#f1b6da"
            ],
            [
             0.4,
             "#fde0ef"
            ],
            [
             0.5,
             "#f7f7f7"
            ],
            [
             0.6,
             "#e6f5d0"
            ],
            [
             0.7,
             "#b8e186"
            ],
            [
             0.8,
             "#7fbc41"
            ],
            [
             0.9,
             "#4d9221"
            ],
            [
             1,
             "#276419"
            ]
           ],
           "sequential": [
            [
             0,
             "#0d0887"
            ],
            [
             0.1111111111111111,
             "#46039f"
            ],
            [
             0.2222222222222222,
             "#7201a8"
            ],
            [
             0.3333333333333333,
             "#9c179e"
            ],
            [
             0.4444444444444444,
             "#bd3786"
            ],
            [
             0.5555555555555556,
             "#d8576b"
            ],
            [
             0.6666666666666666,
             "#ed7953"
            ],
            [
             0.7777777777777778,
             "#fb9f3a"
            ],
            [
             0.8888888888888888,
             "#fdca26"
            ],
            [
             1,
             "#f0f921"
            ]
           ],
           "sequentialminus": [
            [
             0,
             "#0d0887"
            ],
            [
             0.1111111111111111,
             "#46039f"
            ],
            [
             0.2222222222222222,
             "#7201a8"
            ],
            [
             0.3333333333333333,
             "#9c179e"
            ],
            [
             0.4444444444444444,
             "#bd3786"
            ],
            [
             0.5555555555555556,
             "#d8576b"
            ],
            [
             0.6666666666666666,
             "#ed7953"
            ],
            [
             0.7777777777777778,
             "#fb9f3a"
            ],
            [
             0.8888888888888888,
             "#fdca26"
            ],
            [
             1,
             "#f0f921"
            ]
           ]
          },
          "colorway": [
           "#636efa",
           "#EF553B",
           "#00cc96",
           "#ab63fa",
           "#FFA15A",
           "#19d3f3",
           "#FF6692",
           "#B6E880",
           "#FF97FF",
           "#FECB52"
          ],
          "font": {
           "color": "#2a3f5f"
          },
          "geo": {
           "bgcolor": "white",
           "lakecolor": "white",
           "landcolor": "#E5ECF6",
           "showlakes": true,
           "showland": true,
           "subunitcolor": "white"
          },
          "hoverlabel": {
           "align": "left"
          },
          "hovermode": "closest",
          "mapbox": {
           "style": "light"
          },
          "paper_bgcolor": "white",
          "plot_bgcolor": "#E5ECF6",
          "polar": {
           "angularaxis": {
            "gridcolor": "white",
            "linecolor": "white",
            "ticks": ""
           },
           "bgcolor": "#E5ECF6",
           "radialaxis": {
            "gridcolor": "white",
            "linecolor": "white",
            "ticks": ""
           }
          },
          "scene": {
           "xaxis": {
            "backgroundcolor": "#E5ECF6",
            "gridcolor": "white",
            "gridwidth": 2,
            "linecolor": "white",
            "showbackground": true,
            "ticks": "",
            "zerolinecolor": "white"
           },
           "yaxis": {
            "backgroundcolor": "#E5ECF6",
            "gridcolor": "white",
            "gridwidth": 2,
            "linecolor": "white",
            "showbackground": true,
            "ticks": "",
            "zerolinecolor": "white"
           },
           "zaxis": {
            "backgroundcolor": "#E5ECF6",
            "gridcolor": "white",
            "gridwidth": 2,
            "linecolor": "white",
            "showbackground": true,
            "ticks": "",
            "zerolinecolor": "white"
           }
          },
          "shapedefaults": {
           "line": {
            "color": "#2a3f5f"
           }
          },
          "ternary": {
           "aaxis": {
            "gridcolor": "white",
            "linecolor": "white",
            "ticks": ""
           },
           "baxis": {
            "gridcolor": "white",
            "linecolor": "white",
            "ticks": ""
           },
           "bgcolor": "#E5ECF6",
           "caxis": {
            "gridcolor": "white",
            "linecolor": "white",
            "ticks": ""
           }
          },
          "title": {
           "x": 0.05
          },
          "xaxis": {
           "automargin": true,
           "gridcolor": "white",
           "linecolor": "white",
           "ticks": "",
           "title": {
            "standoff": 15
           },
           "zerolinecolor": "white",
           "zerolinewidth": 2
          },
          "yaxis": {
           "automargin": true,
           "gridcolor": "white",
           "linecolor": "white",
           "ticks": "",
           "title": {
            "standoff": 15
           },
           "zerolinecolor": "white",
           "zerolinewidth": 2
          }
         }
        },
        "title": {
         "text": "Covid 19 Deaths"
        }
       }
      },
      "text/html": [
       "<div>\n",
       "        \n",
       "        \n",
       "            <div id=\"7f1f13e0-49ce-4403-9f8b-73c0ae1ad92b\" class=\"plotly-graph-div\" style=\"height:525px; width:100%;\"></div>\n",
       "            <script type=\"text/javascript\">\n",
       "                require([\"plotly\"], function(Plotly) {\n",
       "                    window.PLOTLYENV=window.PLOTLYENV || {};\n",
       "                    \n",
       "                if (document.getElementById(\"7f1f13e0-49ce-4403-9f8b-73c0ae1ad92b\")) {\n",
       "                    Plotly.newPlot(\n",
       "                        '7f1f13e0-49ce-4403-9f8b-73c0ae1ad92b',\n",
       "                        [{\"coloraxis\": \"coloraxis\", \"featureidkey\": \"properties.ST_NM\", \"geo\": \"geo\", \"geojson\": \"https://gist.githubusercontent.com/jbrobst/56c13bbbf9d97d187fea01ca62ea5112/raw/e388c4cae20aa53cb5090210a42ebb9b765c0a36/india_states.geojson\", \"hovertemplate\": \"State=%{location}<br>Deaths=%{z}<extra></extra>\", \"locations\": [\"Andaman and Nicobar Islands\", \"Andhra Pradesh\", \"Arunachal Pradesh\", \"Assam\", \"Bihar\", \"Chandigarh\", \"Chhattisgarh\", \"Dadra and Nagar Haveli\", \"Daman and Diu\", \"Delhi\", \"Goa\", \"Gujarat\", \"Haryana\", \"Himachal Pradesh\", \"Jammu and Kashmir\", \"Jharkhand\", \"Karnataka\", \"Kerala\", \"Ladakh\", \"Madhya Pradesh\", \"Maharashtra\", \"Manipur\", \"Meghalaya\", \"Mizoram\", \"Nagaland\", \"Odisha\", \"Puducherry\", \"Punjab\", \"Rajasthan\", \"Sikkim\", \"Tamil Nadu\", \"Telangana\", \"Tripura\", \"Uttar Pradesh\", \"Uttarakhand\", \"West Bengal\"], \"name\": \"\", \"type\": \"choropleth\", \"z\": [328, 58367, 141, 4291, 13777, 963, 2691, 0, 70, 232066, 1964, 177662, 22321, 968, 17457, 4910, 93988, 4012, 248, 62276, 842461, 190, 259, 0, 152, 7815, 2358, 21508, 43858, 22, 179520, 29967, 926, 86356, 4468, 89612]}],\n",
       "                        {\"coloraxis\": {\"colorbar\": {\"title\": {\"text\": \"Deaths\"}}, \"colorscale\": [[0.0, \"rgb(75, 41, 145)\"], [0.16666666666666666, \"rgb(135, 44, 162)\"], [0.3333333333333333, \"rgb(192, 54, 157)\"], [0.5, \"rgb(234, 79, 136)\"], [0.6666666666666666, \"rgb(250, 120, 118)\"], [0.8333333333333334, \"rgb(246, 169, 122)\"], [1.0, \"rgb(237, 217, 163)\"]]}, \"geo\": {\"center\": {}, \"domain\": {\"x\": [0.0, 1.0], \"y\": [0.0, 1.0]}, \"fitbounds\": \"locations\", \"visible\": false}, \"legend\": {\"tracegroupgap\": 0}, \"margin\": {\"t\": 60}, \"template\": {\"data\": {\"bar\": [{\"error_x\": {\"color\": \"#2a3f5f\"}, \"error_y\": {\"color\": \"#2a3f5f\"}, \"marker\": {\"line\": {\"color\": \"#E5ECF6\", \"width\": 0.5}}, \"type\": \"bar\"}], \"barpolar\": [{\"marker\": {\"line\": {\"color\": \"#E5ECF6\", \"width\": 0.5}}, \"type\": \"barpolar\"}], \"carpet\": [{\"aaxis\": {\"endlinecolor\": \"#2a3f5f\", \"gridcolor\": \"white\", \"linecolor\": \"white\", \"minorgridcolor\": \"white\", \"startlinecolor\": \"#2a3f5f\"}, \"baxis\": {\"endlinecolor\": \"#2a3f5f\", \"gridcolor\": \"white\", \"linecolor\": \"white\", \"minorgridcolor\": \"white\", \"startlinecolor\": \"#2a3f5f\"}, \"type\": \"carpet\"}], \"choropleth\": [{\"colorbar\": {\"outlinewidth\": 0, \"ticks\": \"\"}, \"type\": \"choropleth\"}], \"contour\": [{\"colorbar\": {\"outlinewidth\": 0, \"ticks\": \"\"}, \"colorscale\": [[0.0, \"#0d0887\"], [0.1111111111111111, \"#46039f\"], [0.2222222222222222, \"#7201a8\"], [0.3333333333333333, \"#9c179e\"], [0.4444444444444444, \"#bd3786\"], [0.5555555555555556, \"#d8576b\"], [0.6666666666666666, \"#ed7953\"], [0.7777777777777778, \"#fb9f3a\"], [0.8888888888888888, \"#fdca26\"], [1.0, \"#f0f921\"]], \"type\": \"contour\"}], \"contourcarpet\": [{\"colorbar\": {\"outlinewidth\": 0, \"ticks\": \"\"}, \"type\": \"contourcarpet\"}], \"heatmap\": [{\"colorbar\": {\"outlinewidth\": 0, \"ticks\": \"\"}, \"colorscale\": [[0.0, \"#0d0887\"], [0.1111111111111111, \"#46039f\"], [0.2222222222222222, \"#7201a8\"], [0.3333333333333333, \"#9c179e\"], [0.4444444444444444, \"#bd3786\"], [0.5555555555555556, \"#d8576b\"], [0.6666666666666666, \"#ed7953\"], [0.7777777777777778, \"#fb9f3a\"], [0.8888888888888888, \"#fdca26\"], [1.0, \"#f0f921\"]], \"type\": \"heatmap\"}], \"heatmapgl\": [{\"colorbar\": {\"outlinewidth\": 0, \"ticks\": \"\"}, \"colorscale\": [[0.0, \"#0d0887\"], [0.1111111111111111, \"#46039f\"], [0.2222222222222222, \"#7201a8\"], [0.3333333333333333, \"#9c179e\"], [0.4444444444444444, \"#bd3786\"], [0.5555555555555556, \"#d8576b\"], [0.6666666666666666, \"#ed7953\"], [0.7777777777777778, \"#fb9f3a\"], [0.8888888888888888, \"#fdca26\"], [1.0, \"#f0f921\"]], \"type\": \"heatmapgl\"}], \"histogram\": [{\"marker\": {\"colorbar\": {\"outlinewidth\": 0, \"ticks\": \"\"}}, \"type\": \"histogram\"}], \"histogram2d\": [{\"colorbar\": {\"outlinewidth\": 0, \"ticks\": \"\"}, \"colorscale\": [[0.0, \"#0d0887\"], [0.1111111111111111, \"#46039f\"], [0.2222222222222222, \"#7201a8\"], [0.3333333333333333, \"#9c179e\"], [0.4444444444444444, \"#bd3786\"], [0.5555555555555556, \"#d8576b\"], [0.6666666666666666, \"#ed7953\"], [0.7777777777777778, \"#fb9f3a\"], [0.8888888888888888, \"#fdca26\"], [1.0, \"#f0f921\"]], \"type\": \"histogram2d\"}], \"histogram2dcontour\": [{\"colorbar\": {\"outlinewidth\": 0, \"ticks\": \"\"}, \"colorscale\": [[0.0, \"#0d0887\"], [0.1111111111111111, \"#46039f\"], [0.2222222222222222, \"#7201a8\"], [0.3333333333333333, \"#9c179e\"], [0.4444444444444444, \"#bd3786\"], [0.5555555555555556, \"#d8576b\"], [0.6666666666666666, \"#ed7953\"], [0.7777777777777778, \"#fb9f3a\"], [0.8888888888888888, \"#fdca26\"], [1.0, \"#f0f921\"]], \"type\": \"histogram2dcontour\"}], \"mesh3d\": [{\"colorbar\": {\"outlinewidth\": 0, \"ticks\": \"\"}, \"type\": \"mesh3d\"}], \"parcoords\": [{\"line\": {\"colorbar\": {\"outlinewidth\": 0, \"ticks\": \"\"}}, \"type\": \"parcoords\"}], \"pie\": [{\"automargin\": true, \"type\": \"pie\"}], \"scatter\": [{\"marker\": {\"colorbar\": {\"outlinewidth\": 0, \"ticks\": \"\"}}, \"type\": \"scatter\"}], \"scatter3d\": [{\"line\": {\"colorbar\": {\"outlinewidth\": 0, \"ticks\": \"\"}}, \"marker\": {\"colorbar\": {\"outlinewidth\": 0, \"ticks\": \"\"}}, \"type\": \"scatter3d\"}], \"scattercarpet\": [{\"marker\": {\"colorbar\": {\"outlinewidth\": 0, \"ticks\": \"\"}}, \"type\": \"scattercarpet\"}], \"scattergeo\": [{\"marker\": {\"colorbar\": {\"outlinewidth\": 0, \"ticks\": \"\"}}, \"type\": \"scattergeo\"}], \"scattergl\": [{\"marker\": {\"colorbar\": {\"outlinewidth\": 0, \"ticks\": \"\"}}, \"type\": \"scattergl\"}], \"scattermapbox\": [{\"marker\": {\"colorbar\": {\"outlinewidth\": 0, \"ticks\": \"\"}}, \"type\": \"scattermapbox\"}], \"scatterpolar\": [{\"marker\": {\"colorbar\": {\"outlinewidth\": 0, \"ticks\": \"\"}}, \"type\": \"scatterpolar\"}], \"scatterpolargl\": [{\"marker\": {\"colorbar\": {\"outlinewidth\": 0, \"ticks\": \"\"}}, \"type\": \"scatterpolargl\"}], \"scatterternary\": [{\"marker\": {\"colorbar\": {\"outlinewidth\": 0, \"ticks\": \"\"}}, \"type\": \"scatterternary\"}], \"surface\": [{\"colorbar\": {\"outlinewidth\": 0, \"ticks\": \"\"}, \"colorscale\": [[0.0, \"#0d0887\"], [0.1111111111111111, \"#46039f\"], [0.2222222222222222, \"#7201a8\"], [0.3333333333333333, \"#9c179e\"], [0.4444444444444444, \"#bd3786\"], [0.5555555555555556, \"#d8576b\"], [0.6666666666666666, \"#ed7953\"], [0.7777777777777778, \"#fb9f3a\"], [0.8888888888888888, \"#fdca26\"], [1.0, \"#f0f921\"]], \"type\": \"surface\"}], \"table\": [{\"cells\": {\"fill\": {\"color\": \"#EBF0F8\"}, \"line\": {\"color\": \"white\"}}, \"header\": {\"fill\": {\"color\": \"#C8D4E3\"}, \"line\": {\"color\": \"white\"}}, \"type\": \"table\"}]}, \"layout\": {\"annotationdefaults\": {\"arrowcolor\": \"#2a3f5f\", \"arrowhead\": 0, \"arrowwidth\": 1}, \"coloraxis\": {\"colorbar\": {\"outlinewidth\": 0, \"ticks\": \"\"}}, \"colorscale\": {\"diverging\": [[0, \"#8e0152\"], [0.1, \"#c51b7d\"], [0.2, \"#de77ae\"], [0.3, \"#f1b6da\"], [0.4, \"#fde0ef\"], [0.5, \"#f7f7f7\"], [0.6, \"#e6f5d0\"], [0.7, \"#b8e186\"], [0.8, \"#7fbc41\"], [0.9, \"#4d9221\"], [1, \"#276419\"]], \"sequential\": [[0.0, \"#0d0887\"], [0.1111111111111111, \"#46039f\"], [0.2222222222222222, \"#7201a8\"], [0.3333333333333333, \"#9c179e\"], [0.4444444444444444, \"#bd3786\"], [0.5555555555555556, \"#d8576b\"], [0.6666666666666666, \"#ed7953\"], [0.7777777777777778, \"#fb9f3a\"], [0.8888888888888888, \"#fdca26\"], [1.0, \"#f0f921\"]], \"sequentialminus\": [[0.0, \"#0d0887\"], [0.1111111111111111, \"#46039f\"], [0.2222222222222222, \"#7201a8\"], [0.3333333333333333, \"#9c179e\"], [0.4444444444444444, \"#bd3786\"], [0.5555555555555556, \"#d8576b\"], [0.6666666666666666, \"#ed7953\"], [0.7777777777777778, \"#fb9f3a\"], [0.8888888888888888, \"#fdca26\"], [1.0, \"#f0f921\"]]}, \"colorway\": [\"#636efa\", \"#EF553B\", \"#00cc96\", \"#ab63fa\", \"#FFA15A\", \"#19d3f3\", \"#FF6692\", \"#B6E880\", \"#FF97FF\", \"#FECB52\"], \"font\": {\"color\": \"#2a3f5f\"}, \"geo\": {\"bgcolor\": \"white\", \"lakecolor\": \"white\", \"landcolor\": \"#E5ECF6\", \"showlakes\": true, \"showland\": true, \"subunitcolor\": \"white\"}, \"hoverlabel\": {\"align\": \"left\"}, \"hovermode\": \"closest\", \"mapbox\": {\"style\": \"light\"}, \"paper_bgcolor\": \"white\", \"plot_bgcolor\": \"#E5ECF6\", \"polar\": {\"angularaxis\": {\"gridcolor\": \"white\", \"linecolor\": \"white\", \"ticks\": \"\"}, \"bgcolor\": \"#E5ECF6\", \"radialaxis\": {\"gridcolor\": \"white\", \"linecolor\": \"white\", \"ticks\": \"\"}}, \"scene\": {\"xaxis\": {\"backgroundcolor\": \"#E5ECF6\", \"gridcolor\": \"white\", \"gridwidth\": 2, \"linecolor\": \"white\", \"showbackground\": true, \"ticks\": \"\", \"zerolinecolor\": \"white\"}, \"yaxis\": {\"backgroundcolor\": \"#E5ECF6\", \"gridcolor\": \"white\", \"gridwidth\": 2, \"linecolor\": \"white\", \"showbackground\": true, \"ticks\": \"\", \"zerolinecolor\": \"white\"}, \"zaxis\": {\"backgroundcolor\": \"#E5ECF6\", \"gridcolor\": \"white\", \"gridwidth\": 2, \"linecolor\": \"white\", \"showbackground\": true, \"ticks\": \"\", \"zerolinecolor\": \"white\"}}, \"shapedefaults\": {\"line\": {\"color\": \"#2a3f5f\"}}, \"ternary\": {\"aaxis\": {\"gridcolor\": \"white\", \"linecolor\": \"white\", \"ticks\": \"\"}, \"baxis\": {\"gridcolor\": \"white\", \"linecolor\": \"white\", \"ticks\": \"\"}, \"bgcolor\": \"#E5ECF6\", \"caxis\": {\"gridcolor\": \"white\", \"linecolor\": \"white\", \"ticks\": \"\"}}, \"title\": {\"x\": 0.05}, \"xaxis\": {\"automargin\": true, \"gridcolor\": \"white\", \"linecolor\": \"white\", \"ticks\": \"\", \"title\": {\"standoff\": 15}, \"zerolinecolor\": \"white\", \"zerolinewidth\": 2}, \"yaxis\": {\"automargin\": true, \"gridcolor\": \"white\", \"linecolor\": \"white\", \"ticks\": \"\", \"title\": {\"standoff\": 15}, \"zerolinecolor\": \"white\", \"zerolinewidth\": 2}}}, \"title\": {\"text\": \"Covid 19 Deaths\"}},\n",
       "                        {\"responsive\": true}\n",
       "                    ).then(function(){\n",
       "                            \n",
       "var gd = document.getElementById('7f1f13e0-49ce-4403-9f8b-73c0ae1ad92b');\n",
       "var x = new MutationObserver(function (mutations, observer) {{\n",
       "        var display = window.getComputedStyle(gd).display;\n",
       "        if (!display || display === 'none') {{\n",
       "            console.log([gd, 'removed!']);\n",
       "            Plotly.purge(gd);\n",
       "            observer.disconnect();\n",
       "        }}\n",
       "}});\n",
       "\n",
       "// Listen for the removal of the full notebook cells\n",
       "var notebookContainer = gd.closest('#notebook-container');\n",
       "if (notebookContainer) {{\n",
       "    x.observe(notebookContainer, {childList: true});\n",
       "}}\n",
       "\n",
       "// Listen for the clearing of the current output cell\n",
       "var outputEl = gd.closest('.output');\n",
       "if (outputEl) {{\n",
       "    x.observe(outputEl, {childList: true});\n",
       "}}\n",
       "\n",
       "                        })\n",
       "                };\n",
       "                });\n",
       "            </script>\n",
       "        </div>"
      ]
     },
     "metadata": {},
     "output_type": "display_data"
    }
   ],
   "source": [
    "fig2 = px.choropleth(\n",
    "    data_df\n",
    "    ,geojson = \"https://gist.githubusercontent.com/jbrobst/56c13bbbf9d97d187fea01ca62ea5112/raw/e388c4cae20aa53cb5090210a42ebb9b765c0a36/india_states.geojson\"\n",
    "    ,featureidkey = \"properties.ST_NM\"\n",
    "    ,locations = \"State\"\n",
    "    ,color = \"Deaths\"\n",
    "    ,color_continuous_scale = \"Agsunset\"\n",
    ")\n",
    "\n",
    "fig2.update_geos(fitbounds = \"locations\",visible = False)\n",
    "fig2.update_layout(title_text = \"Covid 19 Deaths\")\n",
    "fig2.show()"
   ]
  },
  {
   "cell_type": "code",
   "execution_count": 95,
   "metadata": {},
   "outputs": [
    {
     "data": {
      "application/vnd.plotly.v1+json": {
       "config": {
        "plotlyServerURL": "https://plot.ly"
       },
       "data": [
        {
         "coloraxis": "coloraxis",
         "featureidkey": "properties.ST_NM",
         "geo": "geo",
         "geojson": "https://gist.githubusercontent.com/jbrobst/56c13bbbf9d97d187fea01ca62ea5112/raw/e388c4cae20aa53cb5090210a42ebb9b765c0a36/india_states.geojson",
         "hovertemplate": "State=%{location}<br>Mortality Rate (per 100)=%{z}<extra></extra>",
         "locations": [
          "Andaman and Nicobar Islands",
          "Andhra Pradesh",
          "Arunachal Pradesh",
          "Assam",
          "Bihar",
          "Chandigarh",
          "Chhattisgarh",
          "Dadra and Nagar Haveli",
          "Daman and Diu",
          "Delhi",
          "Goa",
          "Gujarat",
          "Haryana",
          "Himachal Pradesh",
          "Jammu and Kashmir",
          "Jharkhand",
          "Karnataka",
          "Kerala",
          "Ladakh",
          "Madhya Pradesh",
          "Maharashtra",
          "Manipur",
          "Meghalaya",
          "Mizoram",
          "Nagaland",
          "Odisha",
          "Puducherry",
          "Punjab",
          "Rajasthan",
          "Sikkim",
          "Tamil Nadu",
          "Telangana",
          "Tripura",
          "Uttar Pradesh",
          "Uttarakhand",
          "West Bengal"
         ],
         "name": "",
         "type": "choropleth",
         "z": [
          0.92,
          1.01,
          0.23,
          0.23,
          0.58,
          1.47,
          0.63,
          0,
          0.15,
          2.94,
          0.72,
          4.74,
          1.28,
          0.76,
          1.69,
          0.93,
          1.83,
          0.37,
          0.3,
          3.37,
          3.75,
          0.14,
          0.8,
          0,
          0.18,
          0.53,
          1.47,
          2.44,
          1.85,
          0.08,
          1.5,
          1.03,
          0.41,
          2.07,
          1.2,
          2.71
         ]
        }
       ],
       "layout": {
        "coloraxis": {
         "colorbar": {
          "title": {
           "text": "Mortality Rate (per 100)"
          }
         },
         "colorscale": [
          [
           0,
           "rgb(255,255,204)"
          ],
          [
           0.125,
           "rgb(255,237,160)"
          ],
          [
           0.25,
           "rgb(254,217,118)"
          ],
          [
           0.375,
           "rgb(254,178,76)"
          ],
          [
           0.5,
           "rgb(253,141,60)"
          ],
          [
           0.625,
           "rgb(252,78,42)"
          ],
          [
           0.75,
           "rgb(227,26,28)"
          ],
          [
           0.875,
           "rgb(189,0,38)"
          ],
          [
           1,
           "rgb(128,0,38)"
          ]
         ]
        },
        "geo": {
         "center": {},
         "domain": {
          "x": [
           0,
           1
          ],
          "y": [
           0,
           1
          ]
         },
         "fitbounds": "locations",
         "visible": false
        },
        "legend": {
         "tracegroupgap": 0
        },
        "margin": {
         "t": 60
        },
        "template": {
         "data": {
          "bar": [
           {
            "error_x": {
             "color": "#2a3f5f"
            },
            "error_y": {
             "color": "#2a3f5f"
            },
            "marker": {
             "line": {
              "color": "#E5ECF6",
              "width": 0.5
             }
            },
            "type": "bar"
           }
          ],
          "barpolar": [
           {
            "marker": {
             "line": {
              "color": "#E5ECF6",
              "width": 0.5
             }
            },
            "type": "barpolar"
           }
          ],
          "carpet": [
           {
            "aaxis": {
             "endlinecolor": "#2a3f5f",
             "gridcolor": "white",
             "linecolor": "white",
             "minorgridcolor": "white",
             "startlinecolor": "#2a3f5f"
            },
            "baxis": {
             "endlinecolor": "#2a3f5f",
             "gridcolor": "white",
             "linecolor": "white",
             "minorgridcolor": "white",
             "startlinecolor": "#2a3f5f"
            },
            "type": "carpet"
           }
          ],
          "choropleth": [
           {
            "colorbar": {
             "outlinewidth": 0,
             "ticks": ""
            },
            "type": "choropleth"
           }
          ],
          "contour": [
           {
            "colorbar": {
             "outlinewidth": 0,
             "ticks": ""
            },
            "colorscale": [
             [
              0,
              "#0d0887"
             ],
             [
              0.1111111111111111,
              "#46039f"
             ],
             [
              0.2222222222222222,
              "#7201a8"
             ],
             [
              0.3333333333333333,
              "#9c179e"
             ],
             [
              0.4444444444444444,
              "#bd3786"
             ],
             [
              0.5555555555555556,
              "#d8576b"
             ],
             [
              0.6666666666666666,
              "#ed7953"
             ],
             [
              0.7777777777777778,
              "#fb9f3a"
             ],
             [
              0.8888888888888888,
              "#fdca26"
             ],
             [
              1,
              "#f0f921"
             ]
            ],
            "type": "contour"
           }
          ],
          "contourcarpet": [
           {
            "colorbar": {
             "outlinewidth": 0,
             "ticks": ""
            },
            "type": "contourcarpet"
           }
          ],
          "heatmap": [
           {
            "colorbar": {
             "outlinewidth": 0,
             "ticks": ""
            },
            "colorscale": [
             [
              0,
              "#0d0887"
             ],
             [
              0.1111111111111111,
              "#46039f"
             ],
             [
              0.2222222222222222,
              "#7201a8"
             ],
             [
              0.3333333333333333,
              "#9c179e"
             ],
             [
              0.4444444444444444,
              "#bd3786"
             ],
             [
              0.5555555555555556,
              "#d8576b"
             ],
             [
              0.6666666666666666,
              "#ed7953"
             ],
             [
              0.7777777777777778,
              "#fb9f3a"
             ],
             [
              0.8888888888888888,
              "#fdca26"
             ],
             [
              1,
              "#f0f921"
             ]
            ],
            "type": "heatmap"
           }
          ],
          "heatmapgl": [
           {
            "colorbar": {
             "outlinewidth": 0,
             "ticks": ""
            },
            "colorscale": [
             [
              0,
              "#0d0887"
             ],
             [
              0.1111111111111111,
              "#46039f"
             ],
             [
              0.2222222222222222,
              "#7201a8"
             ],
             [
              0.3333333333333333,
              "#9c179e"
             ],
             [
              0.4444444444444444,
              "#bd3786"
             ],
             [
              0.5555555555555556,
              "#d8576b"
             ],
             [
              0.6666666666666666,
              "#ed7953"
             ],
             [
              0.7777777777777778,
              "#fb9f3a"
             ],
             [
              0.8888888888888888,
              "#fdca26"
             ],
             [
              1,
              "#f0f921"
             ]
            ],
            "type": "heatmapgl"
           }
          ],
          "histogram": [
           {
            "marker": {
             "colorbar": {
              "outlinewidth": 0,
              "ticks": ""
             }
            },
            "type": "histogram"
           }
          ],
          "histogram2d": [
           {
            "colorbar": {
             "outlinewidth": 0,
             "ticks": ""
            },
            "colorscale": [
             [
              0,
              "#0d0887"
             ],
             [
              0.1111111111111111,
              "#46039f"
             ],
             [
              0.2222222222222222,
              "#7201a8"
             ],
             [
              0.3333333333333333,
              "#9c179e"
             ],
             [
              0.4444444444444444,
              "#bd3786"
             ],
             [
              0.5555555555555556,
              "#d8576b"
             ],
             [
              0.6666666666666666,
              "#ed7953"
             ],
             [
              0.7777777777777778,
              "#fb9f3a"
             ],
             [
              0.8888888888888888,
              "#fdca26"
             ],
             [
              1,
              "#f0f921"
             ]
            ],
            "type": "histogram2d"
           }
          ],
          "histogram2dcontour": [
           {
            "colorbar": {
             "outlinewidth": 0,
             "ticks": ""
            },
            "colorscale": [
             [
              0,
              "#0d0887"
             ],
             [
              0.1111111111111111,
              "#46039f"
             ],
             [
              0.2222222222222222,
              "#7201a8"
             ],
             [
              0.3333333333333333,
              "#9c179e"
             ],
             [
              0.4444444444444444,
              "#bd3786"
             ],
             [
              0.5555555555555556,
              "#d8576b"
             ],
             [
              0.6666666666666666,
              "#ed7953"
             ],
             [
              0.7777777777777778,
              "#fb9f3a"
             ],
             [
              0.8888888888888888,
              "#fdca26"
             ],
             [
              1,
              "#f0f921"
             ]
            ],
            "type": "histogram2dcontour"
           }
          ],
          "mesh3d": [
           {
            "colorbar": {
             "outlinewidth": 0,
             "ticks": ""
            },
            "type": "mesh3d"
           }
          ],
          "parcoords": [
           {
            "line": {
             "colorbar": {
              "outlinewidth": 0,
              "ticks": ""
             }
            },
            "type": "parcoords"
           }
          ],
          "pie": [
           {
            "automargin": true,
            "type": "pie"
           }
          ],
          "scatter": [
           {
            "marker": {
             "colorbar": {
              "outlinewidth": 0,
              "ticks": ""
             }
            },
            "type": "scatter"
           }
          ],
          "scatter3d": [
           {
            "line": {
             "colorbar": {
              "outlinewidth": 0,
              "ticks": ""
             }
            },
            "marker": {
             "colorbar": {
              "outlinewidth": 0,
              "ticks": ""
             }
            },
            "type": "scatter3d"
           }
          ],
          "scattercarpet": [
           {
            "marker": {
             "colorbar": {
              "outlinewidth": 0,
              "ticks": ""
             }
            },
            "type": "scattercarpet"
           }
          ],
          "scattergeo": [
           {
            "marker": {
             "colorbar": {
              "outlinewidth": 0,
              "ticks": ""
             }
            },
            "type": "scattergeo"
           }
          ],
          "scattergl": [
           {
            "marker": {
             "colorbar": {
              "outlinewidth": 0,
              "ticks": ""
             }
            },
            "type": "scattergl"
           }
          ],
          "scattermapbox": [
           {
            "marker": {
             "colorbar": {
              "outlinewidth": 0,
              "ticks": ""
             }
            },
            "type": "scattermapbox"
           }
          ],
          "scatterpolar": [
           {
            "marker": {
             "colorbar": {
              "outlinewidth": 0,
              "ticks": ""
             }
            },
            "type": "scatterpolar"
           }
          ],
          "scatterpolargl": [
           {
            "marker": {
             "colorbar": {
              "outlinewidth": 0,
              "ticks": ""
             }
            },
            "type": "scatterpolargl"
           }
          ],
          "scatterternary": [
           {
            "marker": {
             "colorbar": {
              "outlinewidth": 0,
              "ticks": ""
             }
            },
            "type": "scatterternary"
           }
          ],
          "surface": [
           {
            "colorbar": {
             "outlinewidth": 0,
             "ticks": ""
            },
            "colorscale": [
             [
              0,
              "#0d0887"
             ],
             [
              0.1111111111111111,
              "#46039f"
             ],
             [
              0.2222222222222222,
              "#7201a8"
             ],
             [
              0.3333333333333333,
              "#9c179e"
             ],
             [
              0.4444444444444444,
              "#bd3786"
             ],
             [
              0.5555555555555556,
              "#d8576b"
             ],
             [
              0.6666666666666666,
              "#ed7953"
             ],
             [
              0.7777777777777778,
              "#fb9f3a"
             ],
             [
              0.8888888888888888,
              "#fdca26"
             ],
             [
              1,
              "#f0f921"
             ]
            ],
            "type": "surface"
           }
          ],
          "table": [
           {
            "cells": {
             "fill": {
              "color": "#EBF0F8"
             },
             "line": {
              "color": "white"
             }
            },
            "header": {
             "fill": {
              "color": "#C8D4E3"
             },
             "line": {
              "color": "white"
             }
            },
            "type": "table"
           }
          ]
         },
         "layout": {
          "annotationdefaults": {
           "arrowcolor": "#2a3f5f",
           "arrowhead": 0,
           "arrowwidth": 1
          },
          "coloraxis": {
           "colorbar": {
            "outlinewidth": 0,
            "ticks": ""
           }
          },
          "colorscale": {
           "diverging": [
            [
             0,
             "#8e0152"
            ],
            [
             0.1,
             "#c51b7d"
            ],
            [
             0.2,
             "#de77ae"
            ],
            [
             0.3,
             "#f1b6da"
            ],
            [
             0.4,
             "#fde0ef"
            ],
            [
             0.5,
             "#f7f7f7"
            ],
            [
             0.6,
             "#e6f5d0"
            ],
            [
             0.7,
             "#b8e186"
            ],
            [
             0.8,
             "#7fbc41"
            ],
            [
             0.9,
             "#4d9221"
            ],
            [
             1,
             "#276419"
            ]
           ],
           "sequential": [
            [
             0,
             "#0d0887"
            ],
            [
             0.1111111111111111,
             "#46039f"
            ],
            [
             0.2222222222222222,
             "#7201a8"
            ],
            [
             0.3333333333333333,
             "#9c179e"
            ],
            [
             0.4444444444444444,
             "#bd3786"
            ],
            [
             0.5555555555555556,
             "#d8576b"
            ],
            [
             0.6666666666666666,
             "#ed7953"
            ],
            [
             0.7777777777777778,
             "#fb9f3a"
            ],
            [
             0.8888888888888888,
             "#fdca26"
            ],
            [
             1,
             "#f0f921"
            ]
           ],
           "sequentialminus": [
            [
             0,
             "#0d0887"
            ],
            [
             0.1111111111111111,
             "#46039f"
            ],
            [
             0.2222222222222222,
             "#7201a8"
            ],
            [
             0.3333333333333333,
             "#9c179e"
            ],
            [
             0.4444444444444444,
             "#bd3786"
            ],
            [
             0.5555555555555556,
             "#d8576b"
            ],
            [
             0.6666666666666666,
             "#ed7953"
            ],
            [
             0.7777777777777778,
             "#fb9f3a"
            ],
            [
             0.8888888888888888,
             "#fdca26"
            ],
            [
             1,
             "#f0f921"
            ]
           ]
          },
          "colorway": [
           "#636efa",
           "#EF553B",
           "#00cc96",
           "#ab63fa",
           "#FFA15A",
           "#19d3f3",
           "#FF6692",
           "#B6E880",
           "#FF97FF",
           "#FECB52"
          ],
          "font": {
           "color": "#2a3f5f"
          },
          "geo": {
           "bgcolor": "white",
           "lakecolor": "white",
           "landcolor": "#E5ECF6",
           "showlakes": true,
           "showland": true,
           "subunitcolor": "white"
          },
          "hoverlabel": {
           "align": "left"
          },
          "hovermode": "closest",
          "mapbox": {
           "style": "light"
          },
          "paper_bgcolor": "white",
          "plot_bgcolor": "#E5ECF6",
          "polar": {
           "angularaxis": {
            "gridcolor": "white",
            "linecolor": "white",
            "ticks": ""
           },
           "bgcolor": "#E5ECF6",
           "radialaxis": {
            "gridcolor": "white",
            "linecolor": "white",
            "ticks": ""
           }
          },
          "scene": {
           "xaxis": {
            "backgroundcolor": "#E5ECF6",
            "gridcolor": "white",
            "gridwidth": 2,
            "linecolor": "white",
            "showbackground": true,
            "ticks": "",
            "zerolinecolor": "white"
           },
           "yaxis": {
            "backgroundcolor": "#E5ECF6",
            "gridcolor": "white",
            "gridwidth": 2,
            "linecolor": "white",
            "showbackground": true,
            "ticks": "",
            "zerolinecolor": "white"
           },
           "zaxis": {
            "backgroundcolor": "#E5ECF6",
            "gridcolor": "white",
            "gridwidth": 2,
            "linecolor": "white",
            "showbackground": true,
            "ticks": "",
            "zerolinecolor": "white"
           }
          },
          "shapedefaults": {
           "line": {
            "color": "#2a3f5f"
           }
          },
          "ternary": {
           "aaxis": {
            "gridcolor": "white",
            "linecolor": "white",
            "ticks": ""
           },
           "baxis": {
            "gridcolor": "white",
            "linecolor": "white",
            "ticks": ""
           },
           "bgcolor": "#E5ECF6",
           "caxis": {
            "gridcolor": "white",
            "linecolor": "white",
            "ticks": ""
           }
          },
          "title": {
           "x": 0.05
          },
          "xaxis": {
           "automargin": true,
           "gridcolor": "white",
           "linecolor": "white",
           "ticks": "",
           "title": {
            "standoff": 15
           },
           "zerolinecolor": "white",
           "zerolinewidth": 2
          },
          "yaxis": {
           "automargin": true,
           "gridcolor": "white",
           "linecolor": "white",
           "ticks": "",
           "title": {
            "standoff": 15
           },
           "zerolinecolor": "white",
           "zerolinewidth": 2
          }
         }
        },
        "title": {
         "text": "Covid 19 Mortality Rate"
        }
       }
      },
      "text/html": [
       "<div>\n",
       "        \n",
       "        \n",
       "            <div id=\"31d4a883-dc1a-4a90-8445-6f614062e13c\" class=\"plotly-graph-div\" style=\"height:525px; width:100%;\"></div>\n",
       "            <script type=\"text/javascript\">\n",
       "                require([\"plotly\"], function(Plotly) {\n",
       "                    window.PLOTLYENV=window.PLOTLYENV || {};\n",
       "                    \n",
       "                if (document.getElementById(\"31d4a883-dc1a-4a90-8445-6f614062e13c\")) {\n",
       "                    Plotly.newPlot(\n",
       "                        '31d4a883-dc1a-4a90-8445-6f614062e13c',\n",
       "                        [{\"coloraxis\": \"coloraxis\", \"featureidkey\": \"properties.ST_NM\", \"geo\": \"geo\", \"geojson\": \"https://gist.githubusercontent.com/jbrobst/56c13bbbf9d97d187fea01ca62ea5112/raw/e388c4cae20aa53cb5090210a42ebb9b765c0a36/india_states.geojson\", \"hovertemplate\": \"State=%{location}<br>Mortality Rate (per 100)=%{z}<extra></extra>\", \"locations\": [\"Andaman and Nicobar Islands\", \"Andhra Pradesh\", \"Arunachal Pradesh\", \"Assam\", \"Bihar\", \"Chandigarh\", \"Chhattisgarh\", \"Dadra and Nagar Haveli\", \"Daman and Diu\", \"Delhi\", \"Goa\", \"Gujarat\", \"Haryana\", \"Himachal Pradesh\", \"Jammu and Kashmir\", \"Jharkhand\", \"Karnataka\", \"Kerala\", \"Ladakh\", \"Madhya Pradesh\", \"Maharashtra\", \"Manipur\", \"Meghalaya\", \"Mizoram\", \"Nagaland\", \"Odisha\", \"Puducherry\", \"Punjab\", \"Rajasthan\", \"Sikkim\", \"Tamil Nadu\", \"Telangana\", \"Tripura\", \"Uttar Pradesh\", \"Uttarakhand\", \"West Bengal\"], \"name\": \"\", \"type\": \"choropleth\", \"z\": [0.92, 1.01, 0.23, 0.23, 0.58, 1.47, 0.63, 0.0, 0.15, 2.94, 0.72, 4.74, 1.28, 0.76, 1.69, 0.93, 1.83, 0.37, 0.3, 3.37, 3.75, 0.14, 0.8, 0.0, 0.18, 0.53, 1.47, 2.44, 1.85, 0.08, 1.5, 1.03, 0.41, 2.07, 1.2, 2.71]}],\n",
       "                        {\"coloraxis\": {\"colorbar\": {\"title\": {\"text\": \"Mortality Rate (per 100)\"}}, \"colorscale\": [[0.0, \"rgb(255,255,204)\"], [0.125, \"rgb(255,237,160)\"], [0.25, \"rgb(254,217,118)\"], [0.375, \"rgb(254,178,76)\"], [0.5, \"rgb(253,141,60)\"], [0.625, \"rgb(252,78,42)\"], [0.75, \"rgb(227,26,28)\"], [0.875, \"rgb(189,0,38)\"], [1.0, \"rgb(128,0,38)\"]]}, \"geo\": {\"center\": {}, \"domain\": {\"x\": [0.0, 1.0], \"y\": [0.0, 1.0]}, \"fitbounds\": \"locations\", \"visible\": false}, \"legend\": {\"tracegroupgap\": 0}, \"margin\": {\"t\": 60}, \"template\": {\"data\": {\"bar\": [{\"error_x\": {\"color\": \"#2a3f5f\"}, \"error_y\": {\"color\": \"#2a3f5f\"}, \"marker\": {\"line\": {\"color\": \"#E5ECF6\", \"width\": 0.5}}, \"type\": \"bar\"}], \"barpolar\": [{\"marker\": {\"line\": {\"color\": \"#E5ECF6\", \"width\": 0.5}}, \"type\": \"barpolar\"}], \"carpet\": [{\"aaxis\": {\"endlinecolor\": \"#2a3f5f\", \"gridcolor\": \"white\", \"linecolor\": \"white\", \"minorgridcolor\": \"white\", \"startlinecolor\": \"#2a3f5f\"}, \"baxis\": {\"endlinecolor\": \"#2a3f5f\", \"gridcolor\": \"white\", \"linecolor\": \"white\", \"minorgridcolor\": \"white\", \"startlinecolor\": \"#2a3f5f\"}, \"type\": \"carpet\"}], \"choropleth\": [{\"colorbar\": {\"outlinewidth\": 0, \"ticks\": \"\"}, \"type\": \"choropleth\"}], \"contour\": [{\"colorbar\": {\"outlinewidth\": 0, \"ticks\": \"\"}, \"colorscale\": [[0.0, \"#0d0887\"], [0.1111111111111111, \"#46039f\"], [0.2222222222222222, \"#7201a8\"], [0.3333333333333333, \"#9c179e\"], [0.4444444444444444, \"#bd3786\"], [0.5555555555555556, \"#d8576b\"], [0.6666666666666666, \"#ed7953\"], [0.7777777777777778, \"#fb9f3a\"], [0.8888888888888888, \"#fdca26\"], [1.0, \"#f0f921\"]], \"type\": \"contour\"}], \"contourcarpet\": [{\"colorbar\": {\"outlinewidth\": 0, \"ticks\": \"\"}, \"type\": \"contourcarpet\"}], \"heatmap\": [{\"colorbar\": {\"outlinewidth\": 0, \"ticks\": \"\"}, \"colorscale\": [[0.0, \"#0d0887\"], [0.1111111111111111, \"#46039f\"], [0.2222222222222222, \"#7201a8\"], [0.3333333333333333, \"#9c179e\"], [0.4444444444444444, \"#bd3786\"], [0.5555555555555556, \"#d8576b\"], [0.6666666666666666, \"#ed7953\"], [0.7777777777777778, \"#fb9f3a\"], [0.8888888888888888, \"#fdca26\"], [1.0, \"#f0f921\"]], \"type\": \"heatmap\"}], \"heatmapgl\": [{\"colorbar\": {\"outlinewidth\": 0, \"ticks\": \"\"}, \"colorscale\": [[0.0, \"#0d0887\"], [0.1111111111111111, \"#46039f\"], [0.2222222222222222, \"#7201a8\"], [0.3333333333333333, \"#9c179e\"], [0.4444444444444444, \"#bd3786\"], [0.5555555555555556, \"#d8576b\"], [0.6666666666666666, \"#ed7953\"], [0.7777777777777778, \"#fb9f3a\"], [0.8888888888888888, \"#fdca26\"], [1.0, \"#f0f921\"]], \"type\": \"heatmapgl\"}], \"histogram\": [{\"marker\": {\"colorbar\": {\"outlinewidth\": 0, \"ticks\": \"\"}}, \"type\": \"histogram\"}], \"histogram2d\": [{\"colorbar\": {\"outlinewidth\": 0, \"ticks\": \"\"}, \"colorscale\": [[0.0, \"#0d0887\"], [0.1111111111111111, \"#46039f\"], [0.2222222222222222, \"#7201a8\"], [0.3333333333333333, \"#9c179e\"], [0.4444444444444444, \"#bd3786\"], [0.5555555555555556, \"#d8576b\"], [0.6666666666666666, \"#ed7953\"], [0.7777777777777778, \"#fb9f3a\"], [0.8888888888888888, \"#fdca26\"], [1.0, \"#f0f921\"]], \"type\": \"histogram2d\"}], \"histogram2dcontour\": [{\"colorbar\": {\"outlinewidth\": 0, \"ticks\": \"\"}, \"colorscale\": [[0.0, \"#0d0887\"], [0.1111111111111111, \"#46039f\"], [0.2222222222222222, \"#7201a8\"], [0.3333333333333333, \"#9c179e\"], [0.4444444444444444, \"#bd3786\"], [0.5555555555555556, \"#d8576b\"], [0.6666666666666666, \"#ed7953\"], [0.7777777777777778, \"#fb9f3a\"], [0.8888888888888888, \"#fdca26\"], [1.0, \"#f0f921\"]], \"type\": \"histogram2dcontour\"}], \"mesh3d\": [{\"colorbar\": {\"outlinewidth\": 0, \"ticks\": \"\"}, \"type\": \"mesh3d\"}], \"parcoords\": [{\"line\": {\"colorbar\": {\"outlinewidth\": 0, \"ticks\": \"\"}}, \"type\": \"parcoords\"}], \"pie\": [{\"automargin\": true, \"type\": \"pie\"}], \"scatter\": [{\"marker\": {\"colorbar\": {\"outlinewidth\": 0, \"ticks\": \"\"}}, \"type\": \"scatter\"}], \"scatter3d\": [{\"line\": {\"colorbar\": {\"outlinewidth\": 0, \"ticks\": \"\"}}, \"marker\": {\"colorbar\": {\"outlinewidth\": 0, \"ticks\": \"\"}}, \"type\": \"scatter3d\"}], \"scattercarpet\": [{\"marker\": {\"colorbar\": {\"outlinewidth\": 0, \"ticks\": \"\"}}, \"type\": \"scattercarpet\"}], \"scattergeo\": [{\"marker\": {\"colorbar\": {\"outlinewidth\": 0, \"ticks\": \"\"}}, \"type\": \"scattergeo\"}], \"scattergl\": [{\"marker\": {\"colorbar\": {\"outlinewidth\": 0, \"ticks\": \"\"}}, \"type\": \"scattergl\"}], \"scattermapbox\": [{\"marker\": {\"colorbar\": {\"outlinewidth\": 0, \"ticks\": \"\"}}, \"type\": \"scattermapbox\"}], \"scatterpolar\": [{\"marker\": {\"colorbar\": {\"outlinewidth\": 0, \"ticks\": \"\"}}, \"type\": \"scatterpolar\"}], \"scatterpolargl\": [{\"marker\": {\"colorbar\": {\"outlinewidth\": 0, \"ticks\": \"\"}}, \"type\": \"scatterpolargl\"}], \"scatterternary\": [{\"marker\": {\"colorbar\": {\"outlinewidth\": 0, \"ticks\": \"\"}}, \"type\": \"scatterternary\"}], \"surface\": [{\"colorbar\": {\"outlinewidth\": 0, \"ticks\": \"\"}, \"colorscale\": [[0.0, \"#0d0887\"], [0.1111111111111111, \"#46039f\"], [0.2222222222222222, \"#7201a8\"], [0.3333333333333333, \"#9c179e\"], [0.4444444444444444, \"#bd3786\"], [0.5555555555555556, \"#d8576b\"], [0.6666666666666666, \"#ed7953\"], [0.7777777777777778, \"#fb9f3a\"], [0.8888888888888888, \"#fdca26\"], [1.0, \"#f0f921\"]], \"type\": \"surface\"}], \"table\": [{\"cells\": {\"fill\": {\"color\": \"#EBF0F8\"}, \"line\": {\"color\": \"white\"}}, \"header\": {\"fill\": {\"color\": \"#C8D4E3\"}, \"line\": {\"color\": \"white\"}}, \"type\": \"table\"}]}, \"layout\": {\"annotationdefaults\": {\"arrowcolor\": \"#2a3f5f\", \"arrowhead\": 0, \"arrowwidth\": 1}, \"coloraxis\": {\"colorbar\": {\"outlinewidth\": 0, \"ticks\": \"\"}}, \"colorscale\": {\"diverging\": [[0, \"#8e0152\"], [0.1, \"#c51b7d\"], [0.2, \"#de77ae\"], [0.3, \"#f1b6da\"], [0.4, \"#fde0ef\"], [0.5, \"#f7f7f7\"], [0.6, \"#e6f5d0\"], [0.7, \"#b8e186\"], [0.8, \"#7fbc41\"], [0.9, \"#4d9221\"], [1, \"#276419\"]], \"sequential\": [[0.0, \"#0d0887\"], [0.1111111111111111, \"#46039f\"], [0.2222222222222222, \"#7201a8\"], [0.3333333333333333, \"#9c179e\"], [0.4444444444444444, \"#bd3786\"], [0.5555555555555556, \"#d8576b\"], [0.6666666666666666, \"#ed7953\"], [0.7777777777777778, \"#fb9f3a\"], [0.8888888888888888, \"#fdca26\"], [1.0, \"#f0f921\"]], \"sequentialminus\": [[0.0, \"#0d0887\"], [0.1111111111111111, \"#46039f\"], [0.2222222222222222, \"#7201a8\"], [0.3333333333333333, \"#9c179e\"], [0.4444444444444444, \"#bd3786\"], [0.5555555555555556, \"#d8576b\"], [0.6666666666666666, \"#ed7953\"], [0.7777777777777778, \"#fb9f3a\"], [0.8888888888888888, \"#fdca26\"], [1.0, \"#f0f921\"]]}, \"colorway\": [\"#636efa\", \"#EF553B\", \"#00cc96\", \"#ab63fa\", \"#FFA15A\", \"#19d3f3\", \"#FF6692\", \"#B6E880\", \"#FF97FF\", \"#FECB52\"], \"font\": {\"color\": \"#2a3f5f\"}, \"geo\": {\"bgcolor\": \"white\", \"lakecolor\": \"white\", \"landcolor\": \"#E5ECF6\", \"showlakes\": true, \"showland\": true, \"subunitcolor\": \"white\"}, \"hoverlabel\": {\"align\": \"left\"}, \"hovermode\": \"closest\", \"mapbox\": {\"style\": \"light\"}, \"paper_bgcolor\": \"white\", \"plot_bgcolor\": \"#E5ECF6\", \"polar\": {\"angularaxis\": {\"gridcolor\": \"white\", \"linecolor\": \"white\", \"ticks\": \"\"}, \"bgcolor\": \"#E5ECF6\", \"radialaxis\": {\"gridcolor\": \"white\", \"linecolor\": \"white\", \"ticks\": \"\"}}, \"scene\": {\"xaxis\": {\"backgroundcolor\": \"#E5ECF6\", \"gridcolor\": \"white\", \"gridwidth\": 2, \"linecolor\": \"white\", \"showbackground\": true, \"ticks\": \"\", \"zerolinecolor\": \"white\"}, \"yaxis\": {\"backgroundcolor\": \"#E5ECF6\", \"gridcolor\": \"white\", \"gridwidth\": 2, \"linecolor\": \"white\", \"showbackground\": true, \"ticks\": \"\", \"zerolinecolor\": \"white\"}, \"zaxis\": {\"backgroundcolor\": \"#E5ECF6\", \"gridcolor\": \"white\", \"gridwidth\": 2, \"linecolor\": \"white\", \"showbackground\": true, \"ticks\": \"\", \"zerolinecolor\": \"white\"}}, \"shapedefaults\": {\"line\": {\"color\": \"#2a3f5f\"}}, \"ternary\": {\"aaxis\": {\"gridcolor\": \"white\", \"linecolor\": \"white\", \"ticks\": \"\"}, \"baxis\": {\"gridcolor\": \"white\", \"linecolor\": \"white\", \"ticks\": \"\"}, \"bgcolor\": \"#E5ECF6\", \"caxis\": {\"gridcolor\": \"white\", \"linecolor\": \"white\", \"ticks\": \"\"}}, \"title\": {\"x\": 0.05}, \"xaxis\": {\"automargin\": true, \"gridcolor\": \"white\", \"linecolor\": \"white\", \"ticks\": \"\", \"title\": {\"standoff\": 15}, \"zerolinecolor\": \"white\", \"zerolinewidth\": 2}, \"yaxis\": {\"automargin\": true, \"gridcolor\": \"white\", \"linecolor\": \"white\", \"ticks\": \"\", \"title\": {\"standoff\": 15}, \"zerolinecolor\": \"white\", \"zerolinewidth\": 2}}}, \"title\": {\"text\": \"Covid 19 Mortality Rate\"}},\n",
       "                        {\"responsive\": true}\n",
       "                    ).then(function(){\n",
       "                            \n",
       "var gd = document.getElementById('31d4a883-dc1a-4a90-8445-6f614062e13c');\n",
       "var x = new MutationObserver(function (mutations, observer) {{\n",
       "        var display = window.getComputedStyle(gd).display;\n",
       "        if (!display || display === 'none') {{\n",
       "            console.log([gd, 'removed!']);\n",
       "            Plotly.purge(gd);\n",
       "            observer.disconnect();\n",
       "        }}\n",
       "}});\n",
       "\n",
       "// Listen for the removal of the full notebook cells\n",
       "var notebookContainer = gd.closest('#notebook-container');\n",
       "if (notebookContainer) {{\n",
       "    x.observe(notebookContainer, {childList: true});\n",
       "}}\n",
       "\n",
       "// Listen for the clearing of the current output cell\n",
       "var outputEl = gd.closest('.output');\n",
       "if (outputEl) {{\n",
       "    x.observe(outputEl, {childList: true});\n",
       "}}\n",
       "\n",
       "                        })\n",
       "                };\n",
       "                });\n",
       "            </script>\n",
       "        </div>"
      ]
     },
     "metadata": {},
     "output_type": "display_data"
    }
   ],
   "source": [
    "fig3 = px.choropleth(\n",
    "    data_df\n",
    "    ,geojson = \"https://gist.githubusercontent.com/jbrobst/56c13bbbf9d97d187fea01ca62ea5112/raw/e388c4cae20aa53cb5090210a42ebb9b765c0a36/india_states.geojson\"\n",
    "    ,featureidkey = \"properties.ST_NM\"\n",
    "    ,locations = \"State\"\n",
    "    ,color = \"Mortality Rate (per 100)\"\n",
    "    ,color_continuous_scale = \"YlOrRd\"\n",
    ")\n",
    "\n",
    "fig3.update_geos(fitbounds = \"locations\",visible = False)\n",
    "fig3.update_layout(title_text = \"Covid 19 Mortality Rate\")\n",
    "fig3.show()"
   ]
  },
  {
   "cell_type": "code",
   "execution_count": 121,
   "metadata": {},
   "outputs": [
    {
     "data": {
      "application/javascript": [
       "/* Put everything inside the global mpl namespace */\n",
       "window.mpl = {};\n",
       "\n",
       "\n",
       "mpl.get_websocket_type = function() {\n",
       "    if (typeof(WebSocket) !== 'undefined') {\n",
       "        return WebSocket;\n",
       "    } else if (typeof(MozWebSocket) !== 'undefined') {\n",
       "        return MozWebSocket;\n",
       "    } else {\n",
       "        alert('Your browser does not have WebSocket support. ' +\n",
       "              'Please try Chrome, Safari or Firefox ≥ 6. ' +\n",
       "              'Firefox 4 and 5 are also supported but you ' +\n",
       "              'have to enable WebSockets in about:config.');\n",
       "    };\n",
       "}\n",
       "\n",
       "mpl.figure = function(figure_id, websocket, ondownload, parent_element) {\n",
       "    this.id = figure_id;\n",
       "\n",
       "    this.ws = websocket;\n",
       "\n",
       "    this.supports_binary = (this.ws.binaryType != undefined);\n",
       "\n",
       "    if (!this.supports_binary) {\n",
       "        var warnings = document.getElementById(\"mpl-warnings\");\n",
       "        if (warnings) {\n",
       "            warnings.style.display = 'block';\n",
       "            warnings.textContent = (\n",
       "                \"This browser does not support binary websocket messages. \" +\n",
       "                    \"Performance may be slow.\");\n",
       "        }\n",
       "    }\n",
       "\n",
       "    this.imageObj = new Image();\n",
       "\n",
       "    this.context = undefined;\n",
       "    this.message = undefined;\n",
       "    this.canvas = undefined;\n",
       "    this.rubberband_canvas = undefined;\n",
       "    this.rubberband_context = undefined;\n",
       "    this.format_dropdown = undefined;\n",
       "\n",
       "    this.image_mode = 'full';\n",
       "\n",
       "    this.root = $('<div/>');\n",
       "    this._root_extra_style(this.root)\n",
       "    this.root.attr('style', 'display: inline-block');\n",
       "\n",
       "    $(parent_element).append(this.root);\n",
       "\n",
       "    this._init_header(this);\n",
       "    this._init_canvas(this);\n",
       "    this._init_toolbar(this);\n",
       "\n",
       "    var fig = this;\n",
       "\n",
       "    this.waiting = false;\n",
       "\n",
       "    this.ws.onopen =  function () {\n",
       "            fig.send_message(\"supports_binary\", {value: fig.supports_binary});\n",
       "            fig.send_message(\"send_image_mode\", {});\n",
       "            if (mpl.ratio != 1) {\n",
       "                fig.send_message(\"set_dpi_ratio\", {'dpi_ratio': mpl.ratio});\n",
       "            }\n",
       "            fig.send_message(\"refresh\", {});\n",
       "        }\n",
       "\n",
       "    this.imageObj.onload = function() {\n",
       "            if (fig.image_mode == 'full') {\n",
       "                // Full images could contain transparency (where diff images\n",
       "                // almost always do), so we need to clear the canvas so that\n",
       "                // there is no ghosting.\n",
       "                fig.context.clearRect(0, 0, fig.canvas.width, fig.canvas.height);\n",
       "            }\n",
       "            fig.context.drawImage(fig.imageObj, 0, 0);\n",
       "        };\n",
       "\n",
       "    this.imageObj.onunload = function() {\n",
       "        fig.ws.close();\n",
       "    }\n",
       "\n",
       "    this.ws.onmessage = this._make_on_message_function(this);\n",
       "\n",
       "    this.ondownload = ondownload;\n",
       "}\n",
       "\n",
       "mpl.figure.prototype._init_header = function() {\n",
       "    var titlebar = $(\n",
       "        '<div class=\"ui-dialog-titlebar ui-widget-header ui-corner-all ' +\n",
       "        'ui-helper-clearfix\"/>');\n",
       "    var titletext = $(\n",
       "        '<div class=\"ui-dialog-title\" style=\"width: 100%; ' +\n",
       "        'text-align: center; padding: 3px;\"/>');\n",
       "    titlebar.append(titletext)\n",
       "    this.root.append(titlebar);\n",
       "    this.header = titletext[0];\n",
       "}\n",
       "\n",
       "\n",
       "\n",
       "mpl.figure.prototype._canvas_extra_style = function(canvas_div) {\n",
       "\n",
       "}\n",
       "\n",
       "\n",
       "mpl.figure.prototype._root_extra_style = function(canvas_div) {\n",
       "\n",
       "}\n",
       "\n",
       "mpl.figure.prototype._init_canvas = function() {\n",
       "    var fig = this;\n",
       "\n",
       "    var canvas_div = $('<div/>');\n",
       "\n",
       "    canvas_div.attr('style', 'position: relative; clear: both; outline: 0');\n",
       "\n",
       "    function canvas_keyboard_event(event) {\n",
       "        return fig.key_event(event, event['data']);\n",
       "    }\n",
       "\n",
       "    canvas_div.keydown('key_press', canvas_keyboard_event);\n",
       "    canvas_div.keyup('key_release', canvas_keyboard_event);\n",
       "    this.canvas_div = canvas_div\n",
       "    this._canvas_extra_style(canvas_div)\n",
       "    this.root.append(canvas_div);\n",
       "\n",
       "    var canvas = $('<canvas/>');\n",
       "    canvas.addClass('mpl-canvas');\n",
       "    canvas.attr('style', \"left: 0; top: 0; z-index: 0; outline: 0\")\n",
       "\n",
       "    this.canvas = canvas[0];\n",
       "    this.context = canvas[0].getContext(\"2d\");\n",
       "\n",
       "    var backingStore = this.context.backingStorePixelRatio ||\n",
       "\tthis.context.webkitBackingStorePixelRatio ||\n",
       "\tthis.context.mozBackingStorePixelRatio ||\n",
       "\tthis.context.msBackingStorePixelRatio ||\n",
       "\tthis.context.oBackingStorePixelRatio ||\n",
       "\tthis.context.backingStorePixelRatio || 1;\n",
       "\n",
       "    mpl.ratio = (window.devicePixelRatio || 1) / backingStore;\n",
       "\n",
       "    var rubberband = $('<canvas/>');\n",
       "    rubberband.attr('style', \"position: absolute; left: 0; top: 0; z-index: 1;\")\n",
       "\n",
       "    var pass_mouse_events = true;\n",
       "\n",
       "    canvas_div.resizable({\n",
       "        start: function(event, ui) {\n",
       "            pass_mouse_events = false;\n",
       "        },\n",
       "        resize: function(event, ui) {\n",
       "            fig.request_resize(ui.size.width, ui.size.height);\n",
       "        },\n",
       "        stop: function(event, ui) {\n",
       "            pass_mouse_events = true;\n",
       "            fig.request_resize(ui.size.width, ui.size.height);\n",
       "        },\n",
       "    });\n",
       "\n",
       "    function mouse_event_fn(event) {\n",
       "        if (pass_mouse_events)\n",
       "            return fig.mouse_event(event, event['data']);\n",
       "    }\n",
       "\n",
       "    rubberband.mousedown('button_press', mouse_event_fn);\n",
       "    rubberband.mouseup('button_release', mouse_event_fn);\n",
       "    // Throttle sequential mouse events to 1 every 20ms.\n",
       "    rubberband.mousemove('motion_notify', mouse_event_fn);\n",
       "\n",
       "    rubberband.mouseenter('figure_enter', mouse_event_fn);\n",
       "    rubberband.mouseleave('figure_leave', mouse_event_fn);\n",
       "\n",
       "    canvas_div.on(\"wheel\", function (event) {\n",
       "        event = event.originalEvent;\n",
       "        event['data'] = 'scroll'\n",
       "        if (event.deltaY < 0) {\n",
       "            event.step = 1;\n",
       "        } else {\n",
       "            event.step = -1;\n",
       "        }\n",
       "        mouse_event_fn(event);\n",
       "    });\n",
       "\n",
       "    canvas_div.append(canvas);\n",
       "    canvas_div.append(rubberband);\n",
       "\n",
       "    this.rubberband = rubberband;\n",
       "    this.rubberband_canvas = rubberband[0];\n",
       "    this.rubberband_context = rubberband[0].getContext(\"2d\");\n",
       "    this.rubberband_context.strokeStyle = \"#000000\";\n",
       "\n",
       "    this._resize_canvas = function(width, height) {\n",
       "        // Keep the size of the canvas, canvas container, and rubber band\n",
       "        // canvas in synch.\n",
       "        canvas_div.css('width', width)\n",
       "        canvas_div.css('height', height)\n",
       "\n",
       "        canvas.attr('width', width * mpl.ratio);\n",
       "        canvas.attr('height', height * mpl.ratio);\n",
       "        canvas.attr('style', 'width: ' + width + 'px; height: ' + height + 'px;');\n",
       "\n",
       "        rubberband.attr('width', width);\n",
       "        rubberband.attr('height', height);\n",
       "    }\n",
       "\n",
       "    // Set the figure to an initial 600x600px, this will subsequently be updated\n",
       "    // upon first draw.\n",
       "    this._resize_canvas(600, 600);\n",
       "\n",
       "    // Disable right mouse context menu.\n",
       "    $(this.rubberband_canvas).bind(\"contextmenu\",function(e){\n",
       "        return false;\n",
       "    });\n",
       "\n",
       "    function set_focus () {\n",
       "        canvas.focus();\n",
       "        canvas_div.focus();\n",
       "    }\n",
       "\n",
       "    window.setTimeout(set_focus, 100);\n",
       "}\n",
       "\n",
       "mpl.figure.prototype._init_toolbar = function() {\n",
       "    var fig = this;\n",
       "\n",
       "    var nav_element = $('<div/>');\n",
       "    nav_element.attr('style', 'width: 100%');\n",
       "    this.root.append(nav_element);\n",
       "\n",
       "    // Define a callback function for later on.\n",
       "    function toolbar_event(event) {\n",
       "        return fig.toolbar_button_onclick(event['data']);\n",
       "    }\n",
       "    function toolbar_mouse_event(event) {\n",
       "        return fig.toolbar_button_onmouseover(event['data']);\n",
       "    }\n",
       "\n",
       "    for(var toolbar_ind in mpl.toolbar_items) {\n",
       "        var name = mpl.toolbar_items[toolbar_ind][0];\n",
       "        var tooltip = mpl.toolbar_items[toolbar_ind][1];\n",
       "        var image = mpl.toolbar_items[toolbar_ind][2];\n",
       "        var method_name = mpl.toolbar_items[toolbar_ind][3];\n",
       "\n",
       "        if (!name) {\n",
       "            // put a spacer in here.\n",
       "            continue;\n",
       "        }\n",
       "        var button = $('<button/>');\n",
       "        button.addClass('ui-button ui-widget ui-state-default ui-corner-all ' +\n",
       "                        'ui-button-icon-only');\n",
       "        button.attr('role', 'button');\n",
       "        button.attr('aria-disabled', 'false');\n",
       "        button.click(method_name, toolbar_event);\n",
       "        button.mouseover(tooltip, toolbar_mouse_event);\n",
       "\n",
       "        var icon_img = $('<span/>');\n",
       "        icon_img.addClass('ui-button-icon-primary ui-icon');\n",
       "        icon_img.addClass(image);\n",
       "        icon_img.addClass('ui-corner-all');\n",
       "\n",
       "        var tooltip_span = $('<span/>');\n",
       "        tooltip_span.addClass('ui-button-text');\n",
       "        tooltip_span.html(tooltip);\n",
       "\n",
       "        button.append(icon_img);\n",
       "        button.append(tooltip_span);\n",
       "\n",
       "        nav_element.append(button);\n",
       "    }\n",
       "\n",
       "    var fmt_picker_span = $('<span/>');\n",
       "\n",
       "    var fmt_picker = $('<select/>');\n",
       "    fmt_picker.addClass('mpl-toolbar-option ui-widget ui-widget-content');\n",
       "    fmt_picker_span.append(fmt_picker);\n",
       "    nav_element.append(fmt_picker_span);\n",
       "    this.format_dropdown = fmt_picker[0];\n",
       "\n",
       "    for (var ind in mpl.extensions) {\n",
       "        var fmt = mpl.extensions[ind];\n",
       "        var option = $(\n",
       "            '<option/>', {selected: fmt === mpl.default_extension}).html(fmt);\n",
       "        fmt_picker.append(option);\n",
       "    }\n",
       "\n",
       "    // Add hover states to the ui-buttons\n",
       "    $( \".ui-button\" ).hover(\n",
       "        function() { $(this).addClass(\"ui-state-hover\");},\n",
       "        function() { $(this).removeClass(\"ui-state-hover\");}\n",
       "    );\n",
       "\n",
       "    var status_bar = $('<span class=\"mpl-message\"/>');\n",
       "    nav_element.append(status_bar);\n",
       "    this.message = status_bar[0];\n",
       "}\n",
       "\n",
       "mpl.figure.prototype.request_resize = function(x_pixels, y_pixels) {\n",
       "    // Request matplotlib to resize the figure. Matplotlib will then trigger a resize in the client,\n",
       "    // which will in turn request a refresh of the image.\n",
       "    this.send_message('resize', {'width': x_pixels, 'height': y_pixels});\n",
       "}\n",
       "\n",
       "mpl.figure.prototype.send_message = function(type, properties) {\n",
       "    properties['type'] = type;\n",
       "    properties['figure_id'] = this.id;\n",
       "    this.ws.send(JSON.stringify(properties));\n",
       "}\n",
       "\n",
       "mpl.figure.prototype.send_draw_message = function() {\n",
       "    if (!this.waiting) {\n",
       "        this.waiting = true;\n",
       "        this.ws.send(JSON.stringify({type: \"draw\", figure_id: this.id}));\n",
       "    }\n",
       "}\n",
       "\n",
       "\n",
       "mpl.figure.prototype.handle_save = function(fig, msg) {\n",
       "    var format_dropdown = fig.format_dropdown;\n",
       "    var format = format_dropdown.options[format_dropdown.selectedIndex].value;\n",
       "    fig.ondownload(fig, format);\n",
       "}\n",
       "\n",
       "\n",
       "mpl.figure.prototype.handle_resize = function(fig, msg) {\n",
       "    var size = msg['size'];\n",
       "    if (size[0] != fig.canvas.width || size[1] != fig.canvas.height) {\n",
       "        fig._resize_canvas(size[0], size[1]);\n",
       "        fig.send_message(\"refresh\", {});\n",
       "    };\n",
       "}\n",
       "\n",
       "mpl.figure.prototype.handle_rubberband = function(fig, msg) {\n",
       "    var x0 = msg['x0'] / mpl.ratio;\n",
       "    var y0 = (fig.canvas.height - msg['y0']) / mpl.ratio;\n",
       "    var x1 = msg['x1'] / mpl.ratio;\n",
       "    var y1 = (fig.canvas.height - msg['y1']) / mpl.ratio;\n",
       "    x0 = Math.floor(x0) + 0.5;\n",
       "    y0 = Math.floor(y0) + 0.5;\n",
       "    x1 = Math.floor(x1) + 0.5;\n",
       "    y1 = Math.floor(y1) + 0.5;\n",
       "    var min_x = Math.min(x0, x1);\n",
       "    var min_y = Math.min(y0, y1);\n",
       "    var width = Math.abs(x1 - x0);\n",
       "    var height = Math.abs(y1 - y0);\n",
       "\n",
       "    fig.rubberband_context.clearRect(\n",
       "        0, 0, fig.canvas.width / mpl.ratio, fig.canvas.height / mpl.ratio);\n",
       "\n",
       "    fig.rubberband_context.strokeRect(min_x, min_y, width, height);\n",
       "}\n",
       "\n",
       "mpl.figure.prototype.handle_figure_label = function(fig, msg) {\n",
       "    // Updates the figure title.\n",
       "    fig.header.textContent = msg['label'];\n",
       "}\n",
       "\n",
       "mpl.figure.prototype.handle_cursor = function(fig, msg) {\n",
       "    var cursor = msg['cursor'];\n",
       "    switch(cursor)\n",
       "    {\n",
       "    case 0:\n",
       "        cursor = 'pointer';\n",
       "        break;\n",
       "    case 1:\n",
       "        cursor = 'default';\n",
       "        break;\n",
       "    case 2:\n",
       "        cursor = 'crosshair';\n",
       "        break;\n",
       "    case 3:\n",
       "        cursor = 'move';\n",
       "        break;\n",
       "    }\n",
       "    fig.rubberband_canvas.style.cursor = cursor;\n",
       "}\n",
       "\n",
       "mpl.figure.prototype.handle_message = function(fig, msg) {\n",
       "    fig.message.textContent = msg['message'];\n",
       "}\n",
       "\n",
       "mpl.figure.prototype.handle_draw = function(fig, msg) {\n",
       "    // Request the server to send over a new figure.\n",
       "    fig.send_draw_message();\n",
       "}\n",
       "\n",
       "mpl.figure.prototype.handle_image_mode = function(fig, msg) {\n",
       "    fig.image_mode = msg['mode'];\n",
       "}\n",
       "\n",
       "mpl.figure.prototype.updated_canvas_event = function() {\n",
       "    // Called whenever the canvas gets updated.\n",
       "    this.send_message(\"ack\", {});\n",
       "}\n",
       "\n",
       "// A function to construct a web socket function for onmessage handling.\n",
       "// Called in the figure constructor.\n",
       "mpl.figure.prototype._make_on_message_function = function(fig) {\n",
       "    return function socket_on_message(evt) {\n",
       "        if (evt.data instanceof Blob) {\n",
       "            /* FIXME: We get \"Resource interpreted as Image but\n",
       "             * transferred with MIME type text/plain:\" errors on\n",
       "             * Chrome.  But how to set the MIME type?  It doesn't seem\n",
       "             * to be part of the websocket stream */\n",
       "            evt.data.type = \"image/png\";\n",
       "\n",
       "            /* Free the memory for the previous frames */\n",
       "            if (fig.imageObj.src) {\n",
       "                (window.URL || window.webkitURL).revokeObjectURL(\n",
       "                    fig.imageObj.src);\n",
       "            }\n",
       "\n",
       "            fig.imageObj.src = (window.URL || window.webkitURL).createObjectURL(\n",
       "                evt.data);\n",
       "            fig.updated_canvas_event();\n",
       "            fig.waiting = false;\n",
       "            return;\n",
       "        }\n",
       "        else if (typeof evt.data === 'string' && evt.data.slice(0, 21) == \"data:image/png;base64\") {\n",
       "            fig.imageObj.src = evt.data;\n",
       "            fig.updated_canvas_event();\n",
       "            fig.waiting = false;\n",
       "            return;\n",
       "        }\n",
       "\n",
       "        var msg = JSON.parse(evt.data);\n",
       "        var msg_type = msg['type'];\n",
       "\n",
       "        // Call the  \"handle_{type}\" callback, which takes\n",
       "        // the figure and JSON message as its only arguments.\n",
       "        try {\n",
       "            var callback = fig[\"handle_\" + msg_type];\n",
       "        } catch (e) {\n",
       "            console.log(\"No handler for the '\" + msg_type + \"' message type: \", msg);\n",
       "            return;\n",
       "        }\n",
       "\n",
       "        if (callback) {\n",
       "            try {\n",
       "                // console.log(\"Handling '\" + msg_type + \"' message: \", msg);\n",
       "                callback(fig, msg);\n",
       "            } catch (e) {\n",
       "                console.log(\"Exception inside the 'handler_\" + msg_type + \"' callback:\", e, e.stack, msg);\n",
       "            }\n",
       "        }\n",
       "    };\n",
       "}\n",
       "\n",
       "// from http://stackoverflow.com/questions/1114465/getting-mouse-location-in-canvas\n",
       "mpl.findpos = function(e) {\n",
       "    //this section is from http://www.quirksmode.org/js/events_properties.html\n",
       "    var targ;\n",
       "    if (!e)\n",
       "        e = window.event;\n",
       "    if (e.target)\n",
       "        targ = e.target;\n",
       "    else if (e.srcElement)\n",
       "        targ = e.srcElement;\n",
       "    if (targ.nodeType == 3) // defeat Safari bug\n",
       "        targ = targ.parentNode;\n",
       "\n",
       "    // jQuery normalizes the pageX and pageY\n",
       "    // pageX,Y are the mouse positions relative to the document\n",
       "    // offset() returns the position of the element relative to the document\n",
       "    var x = e.pageX - $(targ).offset().left;\n",
       "    var y = e.pageY - $(targ).offset().top;\n",
       "\n",
       "    return {\"x\": x, \"y\": y};\n",
       "};\n",
       "\n",
       "/*\n",
       " * return a copy of an object with only non-object keys\n",
       " * we need this to avoid circular references\n",
       " * http://stackoverflow.com/a/24161582/3208463\n",
       " */\n",
       "function simpleKeys (original) {\n",
       "  return Object.keys(original).reduce(function (obj, key) {\n",
       "    if (typeof original[key] !== 'object')\n",
       "        obj[key] = original[key]\n",
       "    return obj;\n",
       "  }, {});\n",
       "}\n",
       "\n",
       "mpl.figure.prototype.mouse_event = function(event, name) {\n",
       "    var canvas_pos = mpl.findpos(event)\n",
       "\n",
       "    if (name === 'button_press')\n",
       "    {\n",
       "        this.canvas.focus();\n",
       "        this.canvas_div.focus();\n",
       "    }\n",
       "\n",
       "    var x = canvas_pos.x * mpl.ratio;\n",
       "    var y = canvas_pos.y * mpl.ratio;\n",
       "\n",
       "    this.send_message(name, {x: x, y: y, button: event.button,\n",
       "                             step: event.step,\n",
       "                             guiEvent: simpleKeys(event)});\n",
       "\n",
       "    /* This prevents the web browser from automatically changing to\n",
       "     * the text insertion cursor when the button is pressed.  We want\n",
       "     * to control all of the cursor setting manually through the\n",
       "     * 'cursor' event from matplotlib */\n",
       "    event.preventDefault();\n",
       "    return false;\n",
       "}\n",
       "\n",
       "mpl.figure.prototype._key_event_extra = function(event, name) {\n",
       "    // Handle any extra behaviour associated with a key event\n",
       "}\n",
       "\n",
       "mpl.figure.prototype.key_event = function(event, name) {\n",
       "\n",
       "    // Prevent repeat events\n",
       "    if (name == 'key_press')\n",
       "    {\n",
       "        if (event.which === this._key)\n",
       "            return;\n",
       "        else\n",
       "            this._key = event.which;\n",
       "    }\n",
       "    if (name == 'key_release')\n",
       "        this._key = null;\n",
       "\n",
       "    var value = '';\n",
       "    if (event.ctrlKey && event.which != 17)\n",
       "        value += \"ctrl+\";\n",
       "    if (event.altKey && event.which != 18)\n",
       "        value += \"alt+\";\n",
       "    if (event.shiftKey && event.which != 16)\n",
       "        value += \"shift+\";\n",
       "\n",
       "    value += 'k';\n",
       "    value += event.which.toString();\n",
       "\n",
       "    this._key_event_extra(event, name);\n",
       "\n",
       "    this.send_message(name, {key: value,\n",
       "                             guiEvent: simpleKeys(event)});\n",
       "    return false;\n",
       "}\n",
       "\n",
       "mpl.figure.prototype.toolbar_button_onclick = function(name) {\n",
       "    if (name == 'download') {\n",
       "        this.handle_save(this, null);\n",
       "    } else {\n",
       "        this.send_message(\"toolbar_button\", {name: name});\n",
       "    }\n",
       "};\n",
       "\n",
       "mpl.figure.prototype.toolbar_button_onmouseover = function(tooltip) {\n",
       "    this.message.textContent = tooltip;\n",
       "};\n",
       "mpl.toolbar_items = [[\"Home\", \"Reset original view\", \"fa fa-home icon-home\", \"home\"], [\"Back\", \"Back to previous view\", \"fa fa-arrow-left icon-arrow-left\", \"back\"], [\"Forward\", \"Forward to next view\", \"fa fa-arrow-right icon-arrow-right\", \"forward\"], [\"\", \"\", \"\", \"\"], [\"Pan\", \"Pan axes with left mouse, zoom with right\", \"fa fa-arrows icon-move\", \"pan\"], [\"Zoom\", \"Zoom to rectangle\", \"fa fa-square-o icon-check-empty\", \"zoom\"], [\"\", \"\", \"\", \"\"], [\"Download\", \"Download plot\", \"fa fa-floppy-o icon-save\", \"download\"]];\n",
       "\n",
       "mpl.extensions = [\"eps\", \"jpeg\", \"pdf\", \"png\", \"ps\", \"raw\", \"svg\", \"tif\"];\n",
       "\n",
       "mpl.default_extension = \"png\";var comm_websocket_adapter = function(comm) {\n",
       "    // Create a \"websocket\"-like object which calls the given IPython comm\n",
       "    // object with the appropriate methods. Currently this is a non binary\n",
       "    // socket, so there is still some room for performance tuning.\n",
       "    var ws = {};\n",
       "\n",
       "    ws.close = function() {\n",
       "        comm.close()\n",
       "    };\n",
       "    ws.send = function(m) {\n",
       "        //console.log('sending', m);\n",
       "        comm.send(m);\n",
       "    };\n",
       "    // Register the callback with on_msg.\n",
       "    comm.on_msg(function(msg) {\n",
       "        //console.log('receiving', msg['content']['data'], msg);\n",
       "        // Pass the mpl event to the overridden (by mpl) onmessage function.\n",
       "        ws.onmessage(msg['content']['data'])\n",
       "    });\n",
       "    return ws;\n",
       "}\n",
       "\n",
       "mpl.mpl_figure_comm = function(comm, msg) {\n",
       "    // This is the function which gets called when the mpl process\n",
       "    // starts-up an IPython Comm through the \"matplotlib\" channel.\n",
       "\n",
       "    var id = msg.content.data.id;\n",
       "    // Get hold of the div created by the display call when the Comm\n",
       "    // socket was opened in Python.\n",
       "    var element = $(\"#\" + id);\n",
       "    var ws_proxy = comm_websocket_adapter(comm)\n",
       "\n",
       "    function ondownload(figure, format) {\n",
       "        window.open(figure.imageObj.src);\n",
       "    }\n",
       "\n",
       "    var fig = new mpl.figure(id, ws_proxy,\n",
       "                           ondownload,\n",
       "                           element.get(0));\n",
       "\n",
       "    // Call onopen now - mpl needs it, as it is assuming we've passed it a real\n",
       "    // web socket which is closed, not our websocket->open comm proxy.\n",
       "    ws_proxy.onopen();\n",
       "\n",
       "    fig.parent_element = element.get(0);\n",
       "    fig.cell_info = mpl.find_output_cell(\"<div id='\" + id + \"'></div>\");\n",
       "    if (!fig.cell_info) {\n",
       "        console.error(\"Failed to find cell for figure\", id, fig);\n",
       "        return;\n",
       "    }\n",
       "\n",
       "    var output_index = fig.cell_info[2]\n",
       "    var cell = fig.cell_info[0];\n",
       "\n",
       "};\n",
       "\n",
       "mpl.figure.prototype.handle_close = function(fig, msg) {\n",
       "    var width = fig.canvas.width/mpl.ratio\n",
       "    fig.root.unbind('remove')\n",
       "\n",
       "    // Update the output cell to use the data from the current canvas.\n",
       "    fig.push_to_output();\n",
       "    var dataURL = fig.canvas.toDataURL();\n",
       "    // Re-enable the keyboard manager in IPython - without this line, in FF,\n",
       "    // the notebook keyboard shortcuts fail.\n",
       "    IPython.keyboard_manager.enable()\n",
       "    $(fig.parent_element).html('<img src=\"' + dataURL + '\" width=\"' + width + '\">');\n",
       "    fig.close_ws(fig, msg);\n",
       "}\n",
       "\n",
       "mpl.figure.prototype.close_ws = function(fig, msg){\n",
       "    fig.send_message('closing', msg);\n",
       "    // fig.ws.close()\n",
       "}\n",
       "\n",
       "mpl.figure.prototype.push_to_output = function(remove_interactive) {\n",
       "    // Turn the data on the canvas into data in the output cell.\n",
       "    var width = this.canvas.width/mpl.ratio\n",
       "    var dataURL = this.canvas.toDataURL();\n",
       "    this.cell_info[1]['text/html'] = '<img src=\"' + dataURL + '\" width=\"' + width + '\">';\n",
       "}\n",
       "\n",
       "mpl.figure.prototype.updated_canvas_event = function() {\n",
       "    // Tell IPython that the notebook contents must change.\n",
       "    IPython.notebook.set_dirty(true);\n",
       "    this.send_message(\"ack\", {});\n",
       "    var fig = this;\n",
       "    // Wait a second, then push the new image to the DOM so\n",
       "    // that it is saved nicely (might be nice to debounce this).\n",
       "    setTimeout(function () { fig.push_to_output() }, 1000);\n",
       "}\n",
       "\n",
       "mpl.figure.prototype._init_toolbar = function() {\n",
       "    var fig = this;\n",
       "\n",
       "    var nav_element = $('<div/>');\n",
       "    nav_element.attr('style', 'width: 100%');\n",
       "    this.root.append(nav_element);\n",
       "\n",
       "    // Define a callback function for later on.\n",
       "    function toolbar_event(event) {\n",
       "        return fig.toolbar_button_onclick(event['data']);\n",
       "    }\n",
       "    function toolbar_mouse_event(event) {\n",
       "        return fig.toolbar_button_onmouseover(event['data']);\n",
       "    }\n",
       "\n",
       "    for(var toolbar_ind in mpl.toolbar_items){\n",
       "        var name = mpl.toolbar_items[toolbar_ind][0];\n",
       "        var tooltip = mpl.toolbar_items[toolbar_ind][1];\n",
       "        var image = mpl.toolbar_items[toolbar_ind][2];\n",
       "        var method_name = mpl.toolbar_items[toolbar_ind][3];\n",
       "\n",
       "        if (!name) { continue; };\n",
       "\n",
       "        var button = $('<button class=\"btn btn-default\" href=\"#\" title=\"' + name + '\"><i class=\"fa ' + image + ' fa-lg\"></i></button>');\n",
       "        button.click(method_name, toolbar_event);\n",
       "        button.mouseover(tooltip, toolbar_mouse_event);\n",
       "        nav_element.append(button);\n",
       "    }\n",
       "\n",
       "    // Add the status bar.\n",
       "    var status_bar = $('<span class=\"mpl-message\" style=\"text-align:right; float: right;\"/>');\n",
       "    nav_element.append(status_bar);\n",
       "    this.message = status_bar[0];\n",
       "\n",
       "    // Add the close button to the window.\n",
       "    var buttongrp = $('<div class=\"btn-group inline pull-right\"></div>');\n",
       "    var button = $('<button class=\"btn btn-mini btn-primary\" href=\"#\" title=\"Stop Interaction\"><i class=\"fa fa-power-off icon-remove icon-large\"></i></button>');\n",
       "    button.click(function (evt) { fig.handle_close(fig, {}); } );\n",
       "    button.mouseover('Stop Interaction', toolbar_mouse_event);\n",
       "    buttongrp.append(button);\n",
       "    var titlebar = this.root.find($('.ui-dialog-titlebar'));\n",
       "    titlebar.prepend(buttongrp);\n",
       "}\n",
       "\n",
       "mpl.figure.prototype._root_extra_style = function(el){\n",
       "    var fig = this\n",
       "    el.on(\"remove\", function(){\n",
       "\tfig.close_ws(fig, {});\n",
       "    });\n",
       "}\n",
       "\n",
       "mpl.figure.prototype._canvas_extra_style = function(el){\n",
       "    // this is important to make the div 'focusable\n",
       "    el.attr('tabindex', 0)\n",
       "    // reach out to IPython and tell the keyboard manager to turn it's self\n",
       "    // off when our div gets focus\n",
       "\n",
       "    // location in version 3\n",
       "    if (IPython.notebook.keyboard_manager) {\n",
       "        IPython.notebook.keyboard_manager.register_events(el);\n",
       "    }\n",
       "    else {\n",
       "        // location in version 2\n",
       "        IPython.keyboard_manager.register_events(el);\n",
       "    }\n",
       "\n",
       "}\n",
       "\n",
       "mpl.figure.prototype._key_event_extra = function(event, name) {\n",
       "    var manager = IPython.notebook.keyboard_manager;\n",
       "    if (!manager)\n",
       "        manager = IPython.keyboard_manager;\n",
       "\n",
       "    // Check for shift+enter\n",
       "    if (event.shiftKey && event.which == 13) {\n",
       "        this.canvas_div.blur();\n",
       "        // select the cell after this one\n",
       "        var index = IPython.notebook.find_cell_index(this.cell_info[0]);\n",
       "        IPython.notebook.select(index + 1);\n",
       "    }\n",
       "}\n",
       "\n",
       "mpl.figure.prototype.handle_save = function(fig, msg) {\n",
       "    fig.ondownload(fig, null);\n",
       "}\n",
       "\n",
       "\n",
       "mpl.find_output_cell = function(html_output) {\n",
       "    // Return the cell and output element which can be found *uniquely* in the notebook.\n",
       "    // Note - this is a bit hacky, but it is done because the \"notebook_saving.Notebook\"\n",
       "    // IPython event is triggered only after the cells have been serialised, which for\n",
       "    // our purposes (turning an active figure into a static one), is too late.\n",
       "    var cells = IPython.notebook.get_cells();\n",
       "    var ncells = cells.length;\n",
       "    for (var i=0; i<ncells; i++) {\n",
       "        var cell = cells[i];\n",
       "        if (cell.cell_type === 'code'){\n",
       "            for (var j=0; j<cell.output_area.outputs.length; j++) {\n",
       "                var data = cell.output_area.outputs[j];\n",
       "                if (data.data) {\n",
       "                    // IPython >= 3 moved mimebundle to data attribute of output\n",
       "                    data = data.data;\n",
       "                }\n",
       "                if (data['text/html'] == html_output) {\n",
       "                    return [cell, data, j];\n",
       "                }\n",
       "            }\n",
       "        }\n",
       "    }\n",
       "}\n",
       "\n",
       "// Register the function which deals with the matplotlib target/channel.\n",
       "// The kernel may be null if the page has been refreshed.\n",
       "if (IPython.notebook.kernel != null) {\n",
       "    IPython.notebook.kernel.comm_manager.register_target('matplotlib', mpl.mpl_figure_comm);\n",
       "}\n"
      ],
      "text/plain": [
       "<IPython.core.display.Javascript object>"
      ]
     },
     "metadata": {},
     "output_type": "display_data"
    },
    {
     "data": {
      "text/html": [
       "<img src=\"data:image/png;base64,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\" width=\"936.8\">"
      ],
      "text/plain": [
       "<IPython.core.display.HTML object>"
      ]
     },
     "metadata": {},
     "output_type": "display_data"
    }
   ],
   "source": [
    "sns.pairplot(new_data,diag_kind = \"kde\",palette = \"husl\");\n",
    "plt.tight_layout()"
   ]
  },
  {
   "cell_type": "code",
   "execution_count": 116,
   "metadata": {
    "scrolled": false
   },
   "outputs": [
    {
     "data": {
      "application/javascript": [
       "/* Put everything inside the global mpl namespace */\n",
       "window.mpl = {};\n",
       "\n",
       "\n",
       "mpl.get_websocket_type = function() {\n",
       "    if (typeof(WebSocket) !== 'undefined') {\n",
       "        return WebSocket;\n",
       "    } else if (typeof(MozWebSocket) !== 'undefined') {\n",
       "        return MozWebSocket;\n",
       "    } else {\n",
       "        alert('Your browser does not have WebSocket support. ' +\n",
       "              'Please try Chrome, Safari or Firefox ≥ 6. ' +\n",
       "              'Firefox 4 and 5 are also supported but you ' +\n",
       "              'have to enable WebSockets in about:config.');\n",
       "    };\n",
       "}\n",
       "\n",
       "mpl.figure = function(figure_id, websocket, ondownload, parent_element) {\n",
       "    this.id = figure_id;\n",
       "\n",
       "    this.ws = websocket;\n",
       "\n",
       "    this.supports_binary = (this.ws.binaryType != undefined);\n",
       "\n",
       "    if (!this.supports_binary) {\n",
       "        var warnings = document.getElementById(\"mpl-warnings\");\n",
       "        if (warnings) {\n",
       "            warnings.style.display = 'block';\n",
       "            warnings.textContent = (\n",
       "                \"This browser does not support binary websocket messages. \" +\n",
       "                    \"Performance may be slow.\");\n",
       "        }\n",
       "    }\n",
       "\n",
       "    this.imageObj = new Image();\n",
       "\n",
       "    this.context = undefined;\n",
       "    this.message = undefined;\n",
       "    this.canvas = undefined;\n",
       "    this.rubberband_canvas = undefined;\n",
       "    this.rubberband_context = undefined;\n",
       "    this.format_dropdown = undefined;\n",
       "\n",
       "    this.image_mode = 'full';\n",
       "\n",
       "    this.root = $('<div/>');\n",
       "    this._root_extra_style(this.root)\n",
       "    this.root.attr('style', 'display: inline-block');\n",
       "\n",
       "    $(parent_element).append(this.root);\n",
       "\n",
       "    this._init_header(this);\n",
       "    this._init_canvas(this);\n",
       "    this._init_toolbar(this);\n",
       "\n",
       "    var fig = this;\n",
       "\n",
       "    this.waiting = false;\n",
       "\n",
       "    this.ws.onopen =  function () {\n",
       "            fig.send_message(\"supports_binary\", {value: fig.supports_binary});\n",
       "            fig.send_message(\"send_image_mode\", {});\n",
       "            if (mpl.ratio != 1) {\n",
       "                fig.send_message(\"set_dpi_ratio\", {'dpi_ratio': mpl.ratio});\n",
       "            }\n",
       "            fig.send_message(\"refresh\", {});\n",
       "        }\n",
       "\n",
       "    this.imageObj.onload = function() {\n",
       "            if (fig.image_mode == 'full') {\n",
       "                // Full images could contain transparency (where diff images\n",
       "                // almost always do), so we need to clear the canvas so that\n",
       "                // there is no ghosting.\n",
       "                fig.context.clearRect(0, 0, fig.canvas.width, fig.canvas.height);\n",
       "            }\n",
       "            fig.context.drawImage(fig.imageObj, 0, 0);\n",
       "        };\n",
       "\n",
       "    this.imageObj.onunload = function() {\n",
       "        fig.ws.close();\n",
       "    }\n",
       "\n",
       "    this.ws.onmessage = this._make_on_message_function(this);\n",
       "\n",
       "    this.ondownload = ondownload;\n",
       "}\n",
       "\n",
       "mpl.figure.prototype._init_header = function() {\n",
       "    var titlebar = $(\n",
       "        '<div class=\"ui-dialog-titlebar ui-widget-header ui-corner-all ' +\n",
       "        'ui-helper-clearfix\"/>');\n",
       "    var titletext = $(\n",
       "        '<div class=\"ui-dialog-title\" style=\"width: 100%; ' +\n",
       "        'text-align: center; padding: 3px;\"/>');\n",
       "    titlebar.append(titletext)\n",
       "    this.root.append(titlebar);\n",
       "    this.header = titletext[0];\n",
       "}\n",
       "\n",
       "\n",
       "\n",
       "mpl.figure.prototype._canvas_extra_style = function(canvas_div) {\n",
       "\n",
       "}\n",
       "\n",
       "\n",
       "mpl.figure.prototype._root_extra_style = function(canvas_div) {\n",
       "\n",
       "}\n",
       "\n",
       "mpl.figure.prototype._init_canvas = function() {\n",
       "    var fig = this;\n",
       "\n",
       "    var canvas_div = $('<div/>');\n",
       "\n",
       "    canvas_div.attr('style', 'position: relative; clear: both; outline: 0');\n",
       "\n",
       "    function canvas_keyboard_event(event) {\n",
       "        return fig.key_event(event, event['data']);\n",
       "    }\n",
       "\n",
       "    canvas_div.keydown('key_press', canvas_keyboard_event);\n",
       "    canvas_div.keyup('key_release', canvas_keyboard_event);\n",
       "    this.canvas_div = canvas_div\n",
       "    this._canvas_extra_style(canvas_div)\n",
       "    this.root.append(canvas_div);\n",
       "\n",
       "    var canvas = $('<canvas/>');\n",
       "    canvas.addClass('mpl-canvas');\n",
       "    canvas.attr('style', \"left: 0; top: 0; z-index: 0; outline: 0\")\n",
       "\n",
       "    this.canvas = canvas[0];\n",
       "    this.context = canvas[0].getContext(\"2d\");\n",
       "\n",
       "    var backingStore = this.context.backingStorePixelRatio ||\n",
       "\tthis.context.webkitBackingStorePixelRatio ||\n",
       "\tthis.context.mozBackingStorePixelRatio ||\n",
       "\tthis.context.msBackingStorePixelRatio ||\n",
       "\tthis.context.oBackingStorePixelRatio ||\n",
       "\tthis.context.backingStorePixelRatio || 1;\n",
       "\n",
       "    mpl.ratio = (window.devicePixelRatio || 1) / backingStore;\n",
       "\n",
       "    var rubberband = $('<canvas/>');\n",
       "    rubberband.attr('style', \"position: absolute; left: 0; top: 0; z-index: 1;\")\n",
       "\n",
       "    var pass_mouse_events = true;\n",
       "\n",
       "    canvas_div.resizable({\n",
       "        start: function(event, ui) {\n",
       "            pass_mouse_events = false;\n",
       "        },\n",
       "        resize: function(event, ui) {\n",
       "            fig.request_resize(ui.size.width, ui.size.height);\n",
       "        },\n",
       "        stop: function(event, ui) {\n",
       "            pass_mouse_events = true;\n",
       "            fig.request_resize(ui.size.width, ui.size.height);\n",
       "        },\n",
       "    });\n",
       "\n",
       "    function mouse_event_fn(event) {\n",
       "        if (pass_mouse_events)\n",
       "            return fig.mouse_event(event, event['data']);\n",
       "    }\n",
       "\n",
       "    rubberband.mousedown('button_press', mouse_event_fn);\n",
       "    rubberband.mouseup('button_release', mouse_event_fn);\n",
       "    // Throttle sequential mouse events to 1 every 20ms.\n",
       "    rubberband.mousemove('motion_notify', mouse_event_fn);\n",
       "\n",
       "    rubberband.mouseenter('figure_enter', mouse_event_fn);\n",
       "    rubberband.mouseleave('figure_leave', mouse_event_fn);\n",
       "\n",
       "    canvas_div.on(\"wheel\", function (event) {\n",
       "        event = event.originalEvent;\n",
       "        event['data'] = 'scroll'\n",
       "        if (event.deltaY < 0) {\n",
       "            event.step = 1;\n",
       "        } else {\n",
       "            event.step = -1;\n",
       "        }\n",
       "        mouse_event_fn(event);\n",
       "    });\n",
       "\n",
       "    canvas_div.append(canvas);\n",
       "    canvas_div.append(rubberband);\n",
       "\n",
       "    this.rubberband = rubberband;\n",
       "    this.rubberband_canvas = rubberband[0];\n",
       "    this.rubberband_context = rubberband[0].getContext(\"2d\");\n",
       "    this.rubberband_context.strokeStyle = \"#000000\";\n",
       "\n",
       "    this._resize_canvas = function(width, height) {\n",
       "        // Keep the size of the canvas, canvas container, and rubber band\n",
       "        // canvas in synch.\n",
       "        canvas_div.css('width', width)\n",
       "        canvas_div.css('height', height)\n",
       "\n",
       "        canvas.attr('width', width * mpl.ratio);\n",
       "        canvas.attr('height', height * mpl.ratio);\n",
       "        canvas.attr('style', 'width: ' + width + 'px; height: ' + height + 'px;');\n",
       "\n",
       "        rubberband.attr('width', width);\n",
       "        rubberband.attr('height', height);\n",
       "    }\n",
       "\n",
       "    // Set the figure to an initial 600x600px, this will subsequently be updated\n",
       "    // upon first draw.\n",
       "    this._resize_canvas(600, 600);\n",
       "\n",
       "    // Disable right mouse context menu.\n",
       "    $(this.rubberband_canvas).bind(\"contextmenu\",function(e){\n",
       "        return false;\n",
       "    });\n",
       "\n",
       "    function set_focus () {\n",
       "        canvas.focus();\n",
       "        canvas_div.focus();\n",
       "    }\n",
       "\n",
       "    window.setTimeout(set_focus, 100);\n",
       "}\n",
       "\n",
       "mpl.figure.prototype._init_toolbar = function() {\n",
       "    var fig = this;\n",
       "\n",
       "    var nav_element = $('<div/>');\n",
       "    nav_element.attr('style', 'width: 100%');\n",
       "    this.root.append(nav_element);\n",
       "\n",
       "    // Define a callback function for later on.\n",
       "    function toolbar_event(event) {\n",
       "        return fig.toolbar_button_onclick(event['data']);\n",
       "    }\n",
       "    function toolbar_mouse_event(event) {\n",
       "        return fig.toolbar_button_onmouseover(event['data']);\n",
       "    }\n",
       "\n",
       "    for(var toolbar_ind in mpl.toolbar_items) {\n",
       "        var name = mpl.toolbar_items[toolbar_ind][0];\n",
       "        var tooltip = mpl.toolbar_items[toolbar_ind][1];\n",
       "        var image = mpl.toolbar_items[toolbar_ind][2];\n",
       "        var method_name = mpl.toolbar_items[toolbar_ind][3];\n",
       "\n",
       "        if (!name) {\n",
       "            // put a spacer in here.\n",
       "            continue;\n",
       "        }\n",
       "        var button = $('<button/>');\n",
       "        button.addClass('ui-button ui-widget ui-state-default ui-corner-all ' +\n",
       "                        'ui-button-icon-only');\n",
       "        button.attr('role', 'button');\n",
       "        button.attr('aria-disabled', 'false');\n",
       "        button.click(method_name, toolbar_event);\n",
       "        button.mouseover(tooltip, toolbar_mouse_event);\n",
       "\n",
       "        var icon_img = $('<span/>');\n",
       "        icon_img.addClass('ui-button-icon-primary ui-icon');\n",
       "        icon_img.addClass(image);\n",
       "        icon_img.addClass('ui-corner-all');\n",
       "\n",
       "        var tooltip_span = $('<span/>');\n",
       "        tooltip_span.addClass('ui-button-text');\n",
       "        tooltip_span.html(tooltip);\n",
       "\n",
       "        button.append(icon_img);\n",
       "        button.append(tooltip_span);\n",
       "\n",
       "        nav_element.append(button);\n",
       "    }\n",
       "\n",
       "    var fmt_picker_span = $('<span/>');\n",
       "\n",
       "    var fmt_picker = $('<select/>');\n",
       "    fmt_picker.addClass('mpl-toolbar-option ui-widget ui-widget-content');\n",
       "    fmt_picker_span.append(fmt_picker);\n",
       "    nav_element.append(fmt_picker_span);\n",
       "    this.format_dropdown = fmt_picker[0];\n",
       "\n",
       "    for (var ind in mpl.extensions) {\n",
       "        var fmt = mpl.extensions[ind];\n",
       "        var option = $(\n",
       "            '<option/>', {selected: fmt === mpl.default_extension}).html(fmt);\n",
       "        fmt_picker.append(option);\n",
       "    }\n",
       "\n",
       "    // Add hover states to the ui-buttons\n",
       "    $( \".ui-button\" ).hover(\n",
       "        function() { $(this).addClass(\"ui-state-hover\");},\n",
       "        function() { $(this).removeClass(\"ui-state-hover\");}\n",
       "    );\n",
       "\n",
       "    var status_bar = $('<span class=\"mpl-message\"/>');\n",
       "    nav_element.append(status_bar);\n",
       "    this.message = status_bar[0];\n",
       "}\n",
       "\n",
       "mpl.figure.prototype.request_resize = function(x_pixels, y_pixels) {\n",
       "    // Request matplotlib to resize the figure. Matplotlib will then trigger a resize in the client,\n",
       "    // which will in turn request a refresh of the image.\n",
       "    this.send_message('resize', {'width': x_pixels, 'height': y_pixels});\n",
       "}\n",
       "\n",
       "mpl.figure.prototype.send_message = function(type, properties) {\n",
       "    properties['type'] = type;\n",
       "    properties['figure_id'] = this.id;\n",
       "    this.ws.send(JSON.stringify(properties));\n",
       "}\n",
       "\n",
       "mpl.figure.prototype.send_draw_message = function() {\n",
       "    if (!this.waiting) {\n",
       "        this.waiting = true;\n",
       "        this.ws.send(JSON.stringify({type: \"draw\", figure_id: this.id}));\n",
       "    }\n",
       "}\n",
       "\n",
       "\n",
       "mpl.figure.prototype.handle_save = function(fig, msg) {\n",
       "    var format_dropdown = fig.format_dropdown;\n",
       "    var format = format_dropdown.options[format_dropdown.selectedIndex].value;\n",
       "    fig.ondownload(fig, format);\n",
       "}\n",
       "\n",
       "\n",
       "mpl.figure.prototype.handle_resize = function(fig, msg) {\n",
       "    var size = msg['size'];\n",
       "    if (size[0] != fig.canvas.width || size[1] != fig.canvas.height) {\n",
       "        fig._resize_canvas(size[0], size[1]);\n",
       "        fig.send_message(\"refresh\", {});\n",
       "    };\n",
       "}\n",
       "\n",
       "mpl.figure.prototype.handle_rubberband = function(fig, msg) {\n",
       "    var x0 = msg['x0'] / mpl.ratio;\n",
       "    var y0 = (fig.canvas.height - msg['y0']) / mpl.ratio;\n",
       "    var x1 = msg['x1'] / mpl.ratio;\n",
       "    var y1 = (fig.canvas.height - msg['y1']) / mpl.ratio;\n",
       "    x0 = Math.floor(x0) + 0.5;\n",
       "    y0 = Math.floor(y0) + 0.5;\n",
       "    x1 = Math.floor(x1) + 0.5;\n",
       "    y1 = Math.floor(y1) + 0.5;\n",
       "    var min_x = Math.min(x0, x1);\n",
       "    var min_y = Math.min(y0, y1);\n",
       "    var width = Math.abs(x1 - x0);\n",
       "    var height = Math.abs(y1 - y0);\n",
       "\n",
       "    fig.rubberband_context.clearRect(\n",
       "        0, 0, fig.canvas.width / mpl.ratio, fig.canvas.height / mpl.ratio);\n",
       "\n",
       "    fig.rubberband_context.strokeRect(min_x, min_y, width, height);\n",
       "}\n",
       "\n",
       "mpl.figure.prototype.handle_figure_label = function(fig, msg) {\n",
       "    // Updates the figure title.\n",
       "    fig.header.textContent = msg['label'];\n",
       "}\n",
       "\n",
       "mpl.figure.prototype.handle_cursor = function(fig, msg) {\n",
       "    var cursor = msg['cursor'];\n",
       "    switch(cursor)\n",
       "    {\n",
       "    case 0:\n",
       "        cursor = 'pointer';\n",
       "        break;\n",
       "    case 1:\n",
       "        cursor = 'default';\n",
       "        break;\n",
       "    case 2:\n",
       "        cursor = 'crosshair';\n",
       "        break;\n",
       "    case 3:\n",
       "        cursor = 'move';\n",
       "        break;\n",
       "    }\n",
       "    fig.rubberband_canvas.style.cursor = cursor;\n",
       "}\n",
       "\n",
       "mpl.figure.prototype.handle_message = function(fig, msg) {\n",
       "    fig.message.textContent = msg['message'];\n",
       "}\n",
       "\n",
       "mpl.figure.prototype.handle_draw = function(fig, msg) {\n",
       "    // Request the server to send over a new figure.\n",
       "    fig.send_draw_message();\n",
       "}\n",
       "\n",
       "mpl.figure.prototype.handle_image_mode = function(fig, msg) {\n",
       "    fig.image_mode = msg['mode'];\n",
       "}\n",
       "\n",
       "mpl.figure.prototype.updated_canvas_event = function() {\n",
       "    // Called whenever the canvas gets updated.\n",
       "    this.send_message(\"ack\", {});\n",
       "}\n",
       "\n",
       "// A function to construct a web socket function for onmessage handling.\n",
       "// Called in the figure constructor.\n",
       "mpl.figure.prototype._make_on_message_function = function(fig) {\n",
       "    return function socket_on_message(evt) {\n",
       "        if (evt.data instanceof Blob) {\n",
       "            /* FIXME: We get \"Resource interpreted as Image but\n",
       "             * transferred with MIME type text/plain:\" errors on\n",
       "             * Chrome.  But how to set the MIME type?  It doesn't seem\n",
       "             * to be part of the websocket stream */\n",
       "            evt.data.type = \"image/png\";\n",
       "\n",
       "            /* Free the memory for the previous frames */\n",
       "            if (fig.imageObj.src) {\n",
       "                (window.URL || window.webkitURL).revokeObjectURL(\n",
       "                    fig.imageObj.src);\n",
       "            }\n",
       "\n",
       "            fig.imageObj.src = (window.URL || window.webkitURL).createObjectURL(\n",
       "                evt.data);\n",
       "            fig.updated_canvas_event();\n",
       "            fig.waiting = false;\n",
       "            return;\n",
       "        }\n",
       "        else if (typeof evt.data === 'string' && evt.data.slice(0, 21) == \"data:image/png;base64\") {\n",
       "            fig.imageObj.src = evt.data;\n",
       "            fig.updated_canvas_event();\n",
       "            fig.waiting = false;\n",
       "            return;\n",
       "        }\n",
       "\n",
       "        var msg = JSON.parse(evt.data);\n",
       "        var msg_type = msg['type'];\n",
       "\n",
       "        // Call the  \"handle_{type}\" callback, which takes\n",
       "        // the figure and JSON message as its only arguments.\n",
       "        try {\n",
       "            var callback = fig[\"handle_\" + msg_type];\n",
       "        } catch (e) {\n",
       "            console.log(\"No handler for the '\" + msg_type + \"' message type: \", msg);\n",
       "            return;\n",
       "        }\n",
       "\n",
       "        if (callback) {\n",
       "            try {\n",
       "                // console.log(\"Handling '\" + msg_type + \"' message: \", msg);\n",
       "                callback(fig, msg);\n",
       "            } catch (e) {\n",
       "                console.log(\"Exception inside the 'handler_\" + msg_type + \"' callback:\", e, e.stack, msg);\n",
       "            }\n",
       "        }\n",
       "    };\n",
       "}\n",
       "\n",
       "// from http://stackoverflow.com/questions/1114465/getting-mouse-location-in-canvas\n",
       "mpl.findpos = function(e) {\n",
       "    //this section is from http://www.quirksmode.org/js/events_properties.html\n",
       "    var targ;\n",
       "    if (!e)\n",
       "        e = window.event;\n",
       "    if (e.target)\n",
       "        targ = e.target;\n",
       "    else if (e.srcElement)\n",
       "        targ = e.srcElement;\n",
       "    if (targ.nodeType == 3) // defeat Safari bug\n",
       "        targ = targ.parentNode;\n",
       "\n",
       "    // jQuery normalizes the pageX and pageY\n",
       "    // pageX,Y are the mouse positions relative to the document\n",
       "    // offset() returns the position of the element relative to the document\n",
       "    var x = e.pageX - $(targ).offset().left;\n",
       "    var y = e.pageY - $(targ).offset().top;\n",
       "\n",
       "    return {\"x\": x, \"y\": y};\n",
       "};\n",
       "\n",
       "/*\n",
       " * return a copy of an object with only non-object keys\n",
       " * we need this to avoid circular references\n",
       " * http://stackoverflow.com/a/24161582/3208463\n",
       " */\n",
       "function simpleKeys (original) {\n",
       "  return Object.keys(original).reduce(function (obj, key) {\n",
       "    if (typeof original[key] !== 'object')\n",
       "        obj[key] = original[key]\n",
       "    return obj;\n",
       "  }, {});\n",
       "}\n",
       "\n",
       "mpl.figure.prototype.mouse_event = function(event, name) {\n",
       "    var canvas_pos = mpl.findpos(event)\n",
       "\n",
       "    if (name === 'button_press')\n",
       "    {\n",
       "        this.canvas.focus();\n",
       "        this.canvas_div.focus();\n",
       "    }\n",
       "\n",
       "    var x = canvas_pos.x * mpl.ratio;\n",
       "    var y = canvas_pos.y * mpl.ratio;\n",
       "\n",
       "    this.send_message(name, {x: x, y: y, button: event.button,\n",
       "                             step: event.step,\n",
       "                             guiEvent: simpleKeys(event)});\n",
       "\n",
       "    /* This prevents the web browser from automatically changing to\n",
       "     * the text insertion cursor when the button is pressed.  We want\n",
       "     * to control all of the cursor setting manually through the\n",
       "     * 'cursor' event from matplotlib */\n",
       "    event.preventDefault();\n",
       "    return false;\n",
       "}\n",
       "\n",
       "mpl.figure.prototype._key_event_extra = function(event, name) {\n",
       "    // Handle any extra behaviour associated with a key event\n",
       "}\n",
       "\n",
       "mpl.figure.prototype.key_event = function(event, name) {\n",
       "\n",
       "    // Prevent repeat events\n",
       "    if (name == 'key_press')\n",
       "    {\n",
       "        if (event.which === this._key)\n",
       "            return;\n",
       "        else\n",
       "            this._key = event.which;\n",
       "    }\n",
       "    if (name == 'key_release')\n",
       "        this._key = null;\n",
       "\n",
       "    var value = '';\n",
       "    if (event.ctrlKey && event.which != 17)\n",
       "        value += \"ctrl+\";\n",
       "    if (event.altKey && event.which != 18)\n",
       "        value += \"alt+\";\n",
       "    if (event.shiftKey && event.which != 16)\n",
       "        value += \"shift+\";\n",
       "\n",
       "    value += 'k';\n",
       "    value += event.which.toString();\n",
       "\n",
       "    this._key_event_extra(event, name);\n",
       "\n",
       "    this.send_message(name, {key: value,\n",
       "                             guiEvent: simpleKeys(event)});\n",
       "    return false;\n",
       "}\n",
       "\n",
       "mpl.figure.prototype.toolbar_button_onclick = function(name) {\n",
       "    if (name == 'download') {\n",
       "        this.handle_save(this, null);\n",
       "    } else {\n",
       "        this.send_message(\"toolbar_button\", {name: name});\n",
       "    }\n",
       "};\n",
       "\n",
       "mpl.figure.prototype.toolbar_button_onmouseover = function(tooltip) {\n",
       "    this.message.textContent = tooltip;\n",
       "};\n",
       "mpl.toolbar_items = [[\"Home\", \"Reset original view\", \"fa fa-home icon-home\", \"home\"], [\"Back\", \"Back to previous view\", \"fa fa-arrow-left icon-arrow-left\", \"back\"], [\"Forward\", \"Forward to next view\", \"fa fa-arrow-right icon-arrow-right\", \"forward\"], [\"\", \"\", \"\", \"\"], [\"Pan\", \"Pan axes with left mouse, zoom with right\", \"fa fa-arrows icon-move\", \"pan\"], [\"Zoom\", \"Zoom to rectangle\", \"fa fa-square-o icon-check-empty\", \"zoom\"], [\"\", \"\", \"\", \"\"], [\"Download\", \"Download plot\", \"fa fa-floppy-o icon-save\", \"download\"]];\n",
       "\n",
       "mpl.extensions = [\"eps\", \"jpeg\", \"pdf\", \"png\", \"ps\", \"raw\", \"svg\", \"tif\"];\n",
       "\n",
       "mpl.default_extension = \"png\";var comm_websocket_adapter = function(comm) {\n",
       "    // Create a \"websocket\"-like object which calls the given IPython comm\n",
       "    // object with the appropriate methods. Currently this is a non binary\n",
       "    // socket, so there is still some room for performance tuning.\n",
       "    var ws = {};\n",
       "\n",
       "    ws.close = function() {\n",
       "        comm.close()\n",
       "    };\n",
       "    ws.send = function(m) {\n",
       "        //console.log('sending', m);\n",
       "        comm.send(m);\n",
       "    };\n",
       "    // Register the callback with on_msg.\n",
       "    comm.on_msg(function(msg) {\n",
       "        //console.log('receiving', msg['content']['data'], msg);\n",
       "        // Pass the mpl event to the overridden (by mpl) onmessage function.\n",
       "        ws.onmessage(msg['content']['data'])\n",
       "    });\n",
       "    return ws;\n",
       "}\n",
       "\n",
       "mpl.mpl_figure_comm = function(comm, msg) {\n",
       "    // This is the function which gets called when the mpl process\n",
       "    // starts-up an IPython Comm through the \"matplotlib\" channel.\n",
       "\n",
       "    var id = msg.content.data.id;\n",
       "    // Get hold of the div created by the display call when the Comm\n",
       "    // socket was opened in Python.\n",
       "    var element = $(\"#\" + id);\n",
       "    var ws_proxy = comm_websocket_adapter(comm)\n",
       "\n",
       "    function ondownload(figure, format) {\n",
       "        window.open(figure.imageObj.src);\n",
       "    }\n",
       "\n",
       "    var fig = new mpl.figure(id, ws_proxy,\n",
       "                           ondownload,\n",
       "                           element.get(0));\n",
       "\n",
       "    // Call onopen now - mpl needs it, as it is assuming we've passed it a real\n",
       "    // web socket which is closed, not our websocket->open comm proxy.\n",
       "    ws_proxy.onopen();\n",
       "\n",
       "    fig.parent_element = element.get(0);\n",
       "    fig.cell_info = mpl.find_output_cell(\"<div id='\" + id + \"'></div>\");\n",
       "    if (!fig.cell_info) {\n",
       "        console.error(\"Failed to find cell for figure\", id, fig);\n",
       "        return;\n",
       "    }\n",
       "\n",
       "    var output_index = fig.cell_info[2]\n",
       "    var cell = fig.cell_info[0];\n",
       "\n",
       "};\n",
       "\n",
       "mpl.figure.prototype.handle_close = function(fig, msg) {\n",
       "    var width = fig.canvas.width/mpl.ratio\n",
       "    fig.root.unbind('remove')\n",
       "\n",
       "    // Update the output cell to use the data from the current canvas.\n",
       "    fig.push_to_output();\n",
       "    var dataURL = fig.canvas.toDataURL();\n",
       "    // Re-enable the keyboard manager in IPython - without this line, in FF,\n",
       "    // the notebook keyboard shortcuts fail.\n",
       "    IPython.keyboard_manager.enable()\n",
       "    $(fig.parent_element).html('<img src=\"' + dataURL + '\" width=\"' + width + '\">');\n",
       "    fig.close_ws(fig, msg);\n",
       "}\n",
       "\n",
       "mpl.figure.prototype.close_ws = function(fig, msg){\n",
       "    fig.send_message('closing', msg);\n",
       "    // fig.ws.close()\n",
       "}\n",
       "\n",
       "mpl.figure.prototype.push_to_output = function(remove_interactive) {\n",
       "    // Turn the data on the canvas into data in the output cell.\n",
       "    var width = this.canvas.width/mpl.ratio\n",
       "    var dataURL = this.canvas.toDataURL();\n",
       "    this.cell_info[1]['text/html'] = '<img src=\"' + dataURL + '\" width=\"' + width + '\">';\n",
       "}\n",
       "\n",
       "mpl.figure.prototype.updated_canvas_event = function() {\n",
       "    // Tell IPython that the notebook contents must change.\n",
       "    IPython.notebook.set_dirty(true);\n",
       "    this.send_message(\"ack\", {});\n",
       "    var fig = this;\n",
       "    // Wait a second, then push the new image to the DOM so\n",
       "    // that it is saved nicely (might be nice to debounce this).\n",
       "    setTimeout(function () { fig.push_to_output() }, 1000);\n",
       "}\n",
       "\n",
       "mpl.figure.prototype._init_toolbar = function() {\n",
       "    var fig = this;\n",
       "\n",
       "    var nav_element = $('<div/>');\n",
       "    nav_element.attr('style', 'width: 100%');\n",
       "    this.root.append(nav_element);\n",
       "\n",
       "    // Define a callback function for later on.\n",
       "    function toolbar_event(event) {\n",
       "        return fig.toolbar_button_onclick(event['data']);\n",
       "    }\n",
       "    function toolbar_mouse_event(event) {\n",
       "        return fig.toolbar_button_onmouseover(event['data']);\n",
       "    }\n",
       "\n",
       "    for(var toolbar_ind in mpl.toolbar_items){\n",
       "        var name = mpl.toolbar_items[toolbar_ind][0];\n",
       "        var tooltip = mpl.toolbar_items[toolbar_ind][1];\n",
       "        var image = mpl.toolbar_items[toolbar_ind][2];\n",
       "        var method_name = mpl.toolbar_items[toolbar_ind][3];\n",
       "\n",
       "        if (!name) { continue; };\n",
       "\n",
       "        var button = $('<button class=\"btn btn-default\" href=\"#\" title=\"' + name + '\"><i class=\"fa ' + image + ' fa-lg\"></i></button>');\n",
       "        button.click(method_name, toolbar_event);\n",
       "        button.mouseover(tooltip, toolbar_mouse_event);\n",
       "        nav_element.append(button);\n",
       "    }\n",
       "\n",
       "    // Add the status bar.\n",
       "    var status_bar = $('<span class=\"mpl-message\" style=\"text-align:right; float: right;\"/>');\n",
       "    nav_element.append(status_bar);\n",
       "    this.message = status_bar[0];\n",
       "\n",
       "    // Add the close button to the window.\n",
       "    var buttongrp = $('<div class=\"btn-group inline pull-right\"></div>');\n",
       "    var button = $('<button class=\"btn btn-mini btn-primary\" href=\"#\" title=\"Stop Interaction\"><i class=\"fa fa-power-off icon-remove icon-large\"></i></button>');\n",
       "    button.click(function (evt) { fig.handle_close(fig, {}); } );\n",
       "    button.mouseover('Stop Interaction', toolbar_mouse_event);\n",
       "    buttongrp.append(button);\n",
       "    var titlebar = this.root.find($('.ui-dialog-titlebar'));\n",
       "    titlebar.prepend(buttongrp);\n",
       "}\n",
       "\n",
       "mpl.figure.prototype._root_extra_style = function(el){\n",
       "    var fig = this\n",
       "    el.on(\"remove\", function(){\n",
       "\tfig.close_ws(fig, {});\n",
       "    });\n",
       "}\n",
       "\n",
       "mpl.figure.prototype._canvas_extra_style = function(el){\n",
       "    // this is important to make the div 'focusable\n",
       "    el.attr('tabindex', 0)\n",
       "    // reach out to IPython and tell the keyboard manager to turn it's self\n",
       "    // off when our div gets focus\n",
       "\n",
       "    // location in version 3\n",
       "    if (IPython.notebook.keyboard_manager) {\n",
       "        IPython.notebook.keyboard_manager.register_events(el);\n",
       "    }\n",
       "    else {\n",
       "        // location in version 2\n",
       "        IPython.keyboard_manager.register_events(el);\n",
       "    }\n",
       "\n",
       "}\n",
       "\n",
       "mpl.figure.prototype._key_event_extra = function(event, name) {\n",
       "    var manager = IPython.notebook.keyboard_manager;\n",
       "    if (!manager)\n",
       "        manager = IPython.keyboard_manager;\n",
       "\n",
       "    // Check for shift+enter\n",
       "    if (event.shiftKey && event.which == 13) {\n",
       "        this.canvas_div.blur();\n",
       "        // select the cell after this one\n",
       "        var index = IPython.notebook.find_cell_index(this.cell_info[0]);\n",
       "        IPython.notebook.select(index + 1);\n",
       "    }\n",
       "}\n",
       "\n",
       "mpl.figure.prototype.handle_save = function(fig, msg) {\n",
       "    fig.ondownload(fig, null);\n",
       "}\n",
       "\n",
       "\n",
       "mpl.find_output_cell = function(html_output) {\n",
       "    // Return the cell and output element which can be found *uniquely* in the notebook.\n",
       "    // Note - this is a bit hacky, but it is done because the \"notebook_saving.Notebook\"\n",
       "    // IPython event is triggered only after the cells have been serialised, which for\n",
       "    // our purposes (turning an active figure into a static one), is too late.\n",
       "    var cells = IPython.notebook.get_cells();\n",
       "    var ncells = cells.length;\n",
       "    for (var i=0; i<ncells; i++) {\n",
       "        var cell = cells[i];\n",
       "        if (cell.cell_type === 'code'){\n",
       "            for (var j=0; j<cell.output_area.outputs.length; j++) {\n",
       "                var data = cell.output_area.outputs[j];\n",
       "                if (data.data) {\n",
       "                    // IPython >= 3 moved mimebundle to data attribute of output\n",
       "                    data = data.data;\n",
       "                }\n",
       "                if (data['text/html'] == html_output) {\n",
       "                    return [cell, data, j];\n",
       "                }\n",
       "            }\n",
       "        }\n",
       "    }\n",
       "}\n",
       "\n",
       "// Register the function which deals with the matplotlib target/channel.\n",
       "// The kernel may be null if the page has been refreshed.\n",
       "if (IPython.notebook.kernel != null) {\n",
       "    IPython.notebook.kernel.comm_manager.register_target('matplotlib', mpl.mpl_figure_comm);\n",
       "}\n"
      ],
      "text/plain": [
       "<IPython.core.display.Javascript object>"
      ]
     },
     "metadata": {},
     "output_type": "display_data"
    },
    {
     "data": {
      "text/html": [
       "<img src=\"data:image/png;base64,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\" width=\"600\">"
      ],
      "text/plain": [
       "<IPython.core.display.HTML object>"
      ]
     },
     "metadata": {},
     "output_type": "display_data"
    },
    {
     "data": {
      "text/plain": [
       "<seaborn.axisgrid.JointGrid at 0x7f281e20d710>"
      ]
     },
     "execution_count": 116,
     "metadata": {},
     "output_type": "execute_result"
    }
   ],
   "source": [
    "\n",
    "sns.jointplot(new_data[\"Confirmed\"],new_data[\"Deaths\"],kind = \"kde\",space = 0)"
   ]
  },
  {
   "cell_type": "code",
   "execution_count": null,
   "metadata": {},
   "outputs": [],
   "source": []
  },
  {
   "cell_type": "code",
   "execution_count": null,
   "metadata": {},
   "outputs": [],
   "source": []
  },
  {
   "cell_type": "code",
   "execution_count": null,
   "metadata": {},
   "outputs": [],
   "source": []
  },
  {
   "cell_type": "code",
   "execution_count": 124,
   "metadata": {
    "scrolled": false
   },
   "outputs": [
    {
     "data": {
      "application/javascript": [
       "/* Put everything inside the global mpl namespace */\n",
       "window.mpl = {};\n",
       "\n",
       "\n",
       "mpl.get_websocket_type = function() {\n",
       "    if (typeof(WebSocket) !== 'undefined') {\n",
       "        return WebSocket;\n",
       "    } else if (typeof(MozWebSocket) !== 'undefined') {\n",
       "        return MozWebSocket;\n",
       "    } else {\n",
       "        alert('Your browser does not have WebSocket support. ' +\n",
       "              'Please try Chrome, Safari or Firefox ≥ 6. ' +\n",
       "              'Firefox 4 and 5 are also supported but you ' +\n",
       "              'have to enable WebSockets in about:config.');\n",
       "    };\n",
       "}\n",
       "\n",
       "mpl.figure = function(figure_id, websocket, ondownload, parent_element) {\n",
       "    this.id = figure_id;\n",
       "\n",
       "    this.ws = websocket;\n",
       "\n",
       "    this.supports_binary = (this.ws.binaryType != undefined);\n",
       "\n",
       "    if (!this.supports_binary) {\n",
       "        var warnings = document.getElementById(\"mpl-warnings\");\n",
       "        if (warnings) {\n",
       "            warnings.style.display = 'block';\n",
       "            warnings.textContent = (\n",
       "                \"This browser does not support binary websocket messages. \" +\n",
       "                    \"Performance may be slow.\");\n",
       "        }\n",
       "    }\n",
       "\n",
       "    this.imageObj = new Image();\n",
       "\n",
       "    this.context = undefined;\n",
       "    this.message = undefined;\n",
       "    this.canvas = undefined;\n",
       "    this.rubberband_canvas = undefined;\n",
       "    this.rubberband_context = undefined;\n",
       "    this.format_dropdown = undefined;\n",
       "\n",
       "    this.image_mode = 'full';\n",
       "\n",
       "    this.root = $('<div/>');\n",
       "    this._root_extra_style(this.root)\n",
       "    this.root.attr('style', 'display: inline-block');\n",
       "\n",
       "    $(parent_element).append(this.root);\n",
       "\n",
       "    this._init_header(this);\n",
       "    this._init_canvas(this);\n",
       "    this._init_toolbar(this);\n",
       "\n",
       "    var fig = this;\n",
       "\n",
       "    this.waiting = false;\n",
       "\n",
       "    this.ws.onopen =  function () {\n",
       "            fig.send_message(\"supports_binary\", {value: fig.supports_binary});\n",
       "            fig.send_message(\"send_image_mode\", {});\n",
       "            if (mpl.ratio != 1) {\n",
       "                fig.send_message(\"set_dpi_ratio\", {'dpi_ratio': mpl.ratio});\n",
       "            }\n",
       "            fig.send_message(\"refresh\", {});\n",
       "        }\n",
       "\n",
       "    this.imageObj.onload = function() {\n",
       "            if (fig.image_mode == 'full') {\n",
       "                // Full images could contain transparency (where diff images\n",
       "                // almost always do), so we need to clear the canvas so that\n",
       "                // there is no ghosting.\n",
       "                fig.context.clearRect(0, 0, fig.canvas.width, fig.canvas.height);\n",
       "            }\n",
       "            fig.context.drawImage(fig.imageObj, 0, 0);\n",
       "        };\n",
       "\n",
       "    this.imageObj.onunload = function() {\n",
       "        fig.ws.close();\n",
       "    }\n",
       "\n",
       "    this.ws.onmessage = this._make_on_message_function(this);\n",
       "\n",
       "    this.ondownload = ondownload;\n",
       "}\n",
       "\n",
       "mpl.figure.prototype._init_header = function() {\n",
       "    var titlebar = $(\n",
       "        '<div class=\"ui-dialog-titlebar ui-widget-header ui-corner-all ' +\n",
       "        'ui-helper-clearfix\"/>');\n",
       "    var titletext = $(\n",
       "        '<div class=\"ui-dialog-title\" style=\"width: 100%; ' +\n",
       "        'text-align: center; padding: 3px;\"/>');\n",
       "    titlebar.append(titletext)\n",
       "    this.root.append(titlebar);\n",
       "    this.header = titletext[0];\n",
       "}\n",
       "\n",
       "\n",
       "\n",
       "mpl.figure.prototype._canvas_extra_style = function(canvas_div) {\n",
       "\n",
       "}\n",
       "\n",
       "\n",
       "mpl.figure.prototype._root_extra_style = function(canvas_div) {\n",
       "\n",
       "}\n",
       "\n",
       "mpl.figure.prototype._init_canvas = function() {\n",
       "    var fig = this;\n",
       "\n",
       "    var canvas_div = $('<div/>');\n",
       "\n",
       "    canvas_div.attr('style', 'position: relative; clear: both; outline: 0');\n",
       "\n",
       "    function canvas_keyboard_event(event) {\n",
       "        return fig.key_event(event, event['data']);\n",
       "    }\n",
       "\n",
       "    canvas_div.keydown('key_press', canvas_keyboard_event);\n",
       "    canvas_div.keyup('key_release', canvas_keyboard_event);\n",
       "    this.canvas_div = canvas_div\n",
       "    this._canvas_extra_style(canvas_div)\n",
       "    this.root.append(canvas_div);\n",
       "\n",
       "    var canvas = $('<canvas/>');\n",
       "    canvas.addClass('mpl-canvas');\n",
       "    canvas.attr('style', \"left: 0; top: 0; z-index: 0; outline: 0\")\n",
       "\n",
       "    this.canvas = canvas[0];\n",
       "    this.context = canvas[0].getContext(\"2d\");\n",
       "\n",
       "    var backingStore = this.context.backingStorePixelRatio ||\n",
       "\tthis.context.webkitBackingStorePixelRatio ||\n",
       "\tthis.context.mozBackingStorePixelRatio ||\n",
       "\tthis.context.msBackingStorePixelRatio ||\n",
       "\tthis.context.oBackingStorePixelRatio ||\n",
       "\tthis.context.backingStorePixelRatio || 1;\n",
       "\n",
       "    mpl.ratio = (window.devicePixelRatio || 1) / backingStore;\n",
       "\n",
       "    var rubberband = $('<canvas/>');\n",
       "    rubberband.attr('style', \"position: absolute; left: 0; top: 0; z-index: 1;\")\n",
       "\n",
       "    var pass_mouse_events = true;\n",
       "\n",
       "    canvas_div.resizable({\n",
       "        start: function(event, ui) {\n",
       "            pass_mouse_events = false;\n",
       "        },\n",
       "        resize: function(event, ui) {\n",
       "            fig.request_resize(ui.size.width, ui.size.height);\n",
       "        },\n",
       "        stop: function(event, ui) {\n",
       "            pass_mouse_events = true;\n",
       "            fig.request_resize(ui.size.width, ui.size.height);\n",
       "        },\n",
       "    });\n",
       "\n",
       "    function mouse_event_fn(event) {\n",
       "        if (pass_mouse_events)\n",
       "            return fig.mouse_event(event, event['data']);\n",
       "    }\n",
       "\n",
       "    rubberband.mousedown('button_press', mouse_event_fn);\n",
       "    rubberband.mouseup('button_release', mouse_event_fn);\n",
       "    // Throttle sequential mouse events to 1 every 20ms.\n",
       "    rubberband.mousemove('motion_notify', mouse_event_fn);\n",
       "\n",
       "    rubberband.mouseenter('figure_enter', mouse_event_fn);\n",
       "    rubberband.mouseleave('figure_leave', mouse_event_fn);\n",
       "\n",
       "    canvas_div.on(\"wheel\", function (event) {\n",
       "        event = event.originalEvent;\n",
       "        event['data'] = 'scroll'\n",
       "        if (event.deltaY < 0) {\n",
       "            event.step = 1;\n",
       "        } else {\n",
       "            event.step = -1;\n",
       "        }\n",
       "        mouse_event_fn(event);\n",
       "    });\n",
       "\n",
       "    canvas_div.append(canvas);\n",
       "    canvas_div.append(rubberband);\n",
       "\n",
       "    this.rubberband = rubberband;\n",
       "    this.rubberband_canvas = rubberband[0];\n",
       "    this.rubberband_context = rubberband[0].getContext(\"2d\");\n",
       "    this.rubberband_context.strokeStyle = \"#000000\";\n",
       "\n",
       "    this._resize_canvas = function(width, height) {\n",
       "        // Keep the size of the canvas, canvas container, and rubber band\n",
       "        // canvas in synch.\n",
       "        canvas_div.css('width', width)\n",
       "        canvas_div.css('height', height)\n",
       "\n",
       "        canvas.attr('width', width * mpl.ratio);\n",
       "        canvas.attr('height', height * mpl.ratio);\n",
       "        canvas.attr('style', 'width: ' + width + 'px; height: ' + height + 'px;');\n",
       "\n",
       "        rubberband.attr('width', width);\n",
       "        rubberband.attr('height', height);\n",
       "    }\n",
       "\n",
       "    // Set the figure to an initial 600x600px, this will subsequently be updated\n",
       "    // upon first draw.\n",
       "    this._resize_canvas(600, 600);\n",
       "\n",
       "    // Disable right mouse context menu.\n",
       "    $(this.rubberband_canvas).bind(\"contextmenu\",function(e){\n",
       "        return false;\n",
       "    });\n",
       "\n",
       "    function set_focus () {\n",
       "        canvas.focus();\n",
       "        canvas_div.focus();\n",
       "    }\n",
       "\n",
       "    window.setTimeout(set_focus, 100);\n",
       "}\n",
       "\n",
       "mpl.figure.prototype._init_toolbar = function() {\n",
       "    var fig = this;\n",
       "\n",
       "    var nav_element = $('<div/>');\n",
       "    nav_element.attr('style', 'width: 100%');\n",
       "    this.root.append(nav_element);\n",
       "\n",
       "    // Define a callback function for later on.\n",
       "    function toolbar_event(event) {\n",
       "        return fig.toolbar_button_onclick(event['data']);\n",
       "    }\n",
       "    function toolbar_mouse_event(event) {\n",
       "        return fig.toolbar_button_onmouseover(event['data']);\n",
       "    }\n",
       "\n",
       "    for(var toolbar_ind in mpl.toolbar_items) {\n",
       "        var name = mpl.toolbar_items[toolbar_ind][0];\n",
       "        var tooltip = mpl.toolbar_items[toolbar_ind][1];\n",
       "        var image = mpl.toolbar_items[toolbar_ind][2];\n",
       "        var method_name = mpl.toolbar_items[toolbar_ind][3];\n",
       "\n",
       "        if (!name) {\n",
       "            // put a spacer in here.\n",
       "            continue;\n",
       "        }\n",
       "        var button = $('<button/>');\n",
       "        button.addClass('ui-button ui-widget ui-state-default ui-corner-all ' +\n",
       "                        'ui-button-icon-only');\n",
       "        button.attr('role', 'button');\n",
       "        button.attr('aria-disabled', 'false');\n",
       "        button.click(method_name, toolbar_event);\n",
       "        button.mouseover(tooltip, toolbar_mouse_event);\n",
       "\n",
       "        var icon_img = $('<span/>');\n",
       "        icon_img.addClass('ui-button-icon-primary ui-icon');\n",
       "        icon_img.addClass(image);\n",
       "        icon_img.addClass('ui-corner-all');\n",
       "\n",
       "        var tooltip_span = $('<span/>');\n",
       "        tooltip_span.addClass('ui-button-text');\n",
       "        tooltip_span.html(tooltip);\n",
       "\n",
       "        button.append(icon_img);\n",
       "        button.append(tooltip_span);\n",
       "\n",
       "        nav_element.append(button);\n",
       "    }\n",
       "\n",
       "    var fmt_picker_span = $('<span/>');\n",
       "\n",
       "    var fmt_picker = $('<select/>');\n",
       "    fmt_picker.addClass('mpl-toolbar-option ui-widget ui-widget-content');\n",
       "    fmt_picker_span.append(fmt_picker);\n",
       "    nav_element.append(fmt_picker_span);\n",
       "    this.format_dropdown = fmt_picker[0];\n",
       "\n",
       "    for (var ind in mpl.extensions) {\n",
       "        var fmt = mpl.extensions[ind];\n",
       "        var option = $(\n",
       "            '<option/>', {selected: fmt === mpl.default_extension}).html(fmt);\n",
       "        fmt_picker.append(option);\n",
       "    }\n",
       "\n",
       "    // Add hover states to the ui-buttons\n",
       "    $( \".ui-button\" ).hover(\n",
       "        function() { $(this).addClass(\"ui-state-hover\");},\n",
       "        function() { $(this).removeClass(\"ui-state-hover\");}\n",
       "    );\n",
       "\n",
       "    var status_bar = $('<span class=\"mpl-message\"/>');\n",
       "    nav_element.append(status_bar);\n",
       "    this.message = status_bar[0];\n",
       "}\n",
       "\n",
       "mpl.figure.prototype.request_resize = function(x_pixels, y_pixels) {\n",
       "    // Request matplotlib to resize the figure. Matplotlib will then trigger a resize in the client,\n",
       "    // which will in turn request a refresh of the image.\n",
       "    this.send_message('resize', {'width': x_pixels, 'height': y_pixels});\n",
       "}\n",
       "\n",
       "mpl.figure.prototype.send_message = function(type, properties) {\n",
       "    properties['type'] = type;\n",
       "    properties['figure_id'] = this.id;\n",
       "    this.ws.send(JSON.stringify(properties));\n",
       "}\n",
       "\n",
       "mpl.figure.prototype.send_draw_message = function() {\n",
       "    if (!this.waiting) {\n",
       "        this.waiting = true;\n",
       "        this.ws.send(JSON.stringify({type: \"draw\", figure_id: this.id}));\n",
       "    }\n",
       "}\n",
       "\n",
       "\n",
       "mpl.figure.prototype.handle_save = function(fig, msg) {\n",
       "    var format_dropdown = fig.format_dropdown;\n",
       "    var format = format_dropdown.options[format_dropdown.selectedIndex].value;\n",
       "    fig.ondownload(fig, format);\n",
       "}\n",
       "\n",
       "\n",
       "mpl.figure.prototype.handle_resize = function(fig, msg) {\n",
       "    var size = msg['size'];\n",
       "    if (size[0] != fig.canvas.width || size[1] != fig.canvas.height) {\n",
       "        fig._resize_canvas(size[0], size[1]);\n",
       "        fig.send_message(\"refresh\", {});\n",
       "    };\n",
       "}\n",
       "\n",
       "mpl.figure.prototype.handle_rubberband = function(fig, msg) {\n",
       "    var x0 = msg['x0'] / mpl.ratio;\n",
       "    var y0 = (fig.canvas.height - msg['y0']) / mpl.ratio;\n",
       "    var x1 = msg['x1'] / mpl.ratio;\n",
       "    var y1 = (fig.canvas.height - msg['y1']) / mpl.ratio;\n",
       "    x0 = Math.floor(x0) + 0.5;\n",
       "    y0 = Math.floor(y0) + 0.5;\n",
       "    x1 = Math.floor(x1) + 0.5;\n",
       "    y1 = Math.floor(y1) + 0.5;\n",
       "    var min_x = Math.min(x0, x1);\n",
       "    var min_y = Math.min(y0, y1);\n",
       "    var width = Math.abs(x1 - x0);\n",
       "    var height = Math.abs(y1 - y0);\n",
       "\n",
       "    fig.rubberband_context.clearRect(\n",
       "        0, 0, fig.canvas.width / mpl.ratio, fig.canvas.height / mpl.ratio);\n",
       "\n",
       "    fig.rubberband_context.strokeRect(min_x, min_y, width, height);\n",
       "}\n",
       "\n",
       "mpl.figure.prototype.handle_figure_label = function(fig, msg) {\n",
       "    // Updates the figure title.\n",
       "    fig.header.textContent = msg['label'];\n",
       "}\n",
       "\n",
       "mpl.figure.prototype.handle_cursor = function(fig, msg) {\n",
       "    var cursor = msg['cursor'];\n",
       "    switch(cursor)\n",
       "    {\n",
       "    case 0:\n",
       "        cursor = 'pointer';\n",
       "        break;\n",
       "    case 1:\n",
       "        cursor = 'default';\n",
       "        break;\n",
       "    case 2:\n",
       "        cursor = 'crosshair';\n",
       "        break;\n",
       "    case 3:\n",
       "        cursor = 'move';\n",
       "        break;\n",
       "    }\n",
       "    fig.rubberband_canvas.style.cursor = cursor;\n",
       "}\n",
       "\n",
       "mpl.figure.prototype.handle_message = function(fig, msg) {\n",
       "    fig.message.textContent = msg['message'];\n",
       "}\n",
       "\n",
       "mpl.figure.prototype.handle_draw = function(fig, msg) {\n",
       "    // Request the server to send over a new figure.\n",
       "    fig.send_draw_message();\n",
       "}\n",
       "\n",
       "mpl.figure.prototype.handle_image_mode = function(fig, msg) {\n",
       "    fig.image_mode = msg['mode'];\n",
       "}\n",
       "\n",
       "mpl.figure.prototype.updated_canvas_event = function() {\n",
       "    // Called whenever the canvas gets updated.\n",
       "    this.send_message(\"ack\", {});\n",
       "}\n",
       "\n",
       "// A function to construct a web socket function for onmessage handling.\n",
       "// Called in the figure constructor.\n",
       "mpl.figure.prototype._make_on_message_function = function(fig) {\n",
       "    return function socket_on_message(evt) {\n",
       "        if (evt.data instanceof Blob) {\n",
       "            /* FIXME: We get \"Resource interpreted as Image but\n",
       "             * transferred with MIME type text/plain:\" errors on\n",
       "             * Chrome.  But how to set the MIME type?  It doesn't seem\n",
       "             * to be part of the websocket stream */\n",
       "            evt.data.type = \"image/png\";\n",
       "\n",
       "            /* Free the memory for the previous frames */\n",
       "            if (fig.imageObj.src) {\n",
       "                (window.URL || window.webkitURL).revokeObjectURL(\n",
       "                    fig.imageObj.src);\n",
       "            }\n",
       "\n",
       "            fig.imageObj.src = (window.URL || window.webkitURL).createObjectURL(\n",
       "                evt.data);\n",
       "            fig.updated_canvas_event();\n",
       "            fig.waiting = false;\n",
       "            return;\n",
       "        }\n",
       "        else if (typeof evt.data === 'string' && evt.data.slice(0, 21) == \"data:image/png;base64\") {\n",
       "            fig.imageObj.src = evt.data;\n",
       "            fig.updated_canvas_event();\n",
       "            fig.waiting = false;\n",
       "            return;\n",
       "        }\n",
       "\n",
       "        var msg = JSON.parse(evt.data);\n",
       "        var msg_type = msg['type'];\n",
       "\n",
       "        // Call the  \"handle_{type}\" callback, which takes\n",
       "        // the figure and JSON message as its only arguments.\n",
       "        try {\n",
       "            var callback = fig[\"handle_\" + msg_type];\n",
       "        } catch (e) {\n",
       "            console.log(\"No handler for the '\" + msg_type + \"' message type: \", msg);\n",
       "            return;\n",
       "        }\n",
       "\n",
       "        if (callback) {\n",
       "            try {\n",
       "                // console.log(\"Handling '\" + msg_type + \"' message: \", msg);\n",
       "                callback(fig, msg);\n",
       "            } catch (e) {\n",
       "                console.log(\"Exception inside the 'handler_\" + msg_type + \"' callback:\", e, e.stack, msg);\n",
       "            }\n",
       "        }\n",
       "    };\n",
       "}\n",
       "\n",
       "// from http://stackoverflow.com/questions/1114465/getting-mouse-location-in-canvas\n",
       "mpl.findpos = function(e) {\n",
       "    //this section is from http://www.quirksmode.org/js/events_properties.html\n",
       "    var targ;\n",
       "    if (!e)\n",
       "        e = window.event;\n",
       "    if (e.target)\n",
       "        targ = e.target;\n",
       "    else if (e.srcElement)\n",
       "        targ = e.srcElement;\n",
       "    if (targ.nodeType == 3) // defeat Safari bug\n",
       "        targ = targ.parentNode;\n",
       "\n",
       "    // jQuery normalizes the pageX and pageY\n",
       "    // pageX,Y are the mouse positions relative to the document\n",
       "    // offset() returns the position of the element relative to the document\n",
       "    var x = e.pageX - $(targ).offset().left;\n",
       "    var y = e.pageY - $(targ).offset().top;\n",
       "\n",
       "    return {\"x\": x, \"y\": y};\n",
       "};\n",
       "\n",
       "/*\n",
       " * return a copy of an object with only non-object keys\n",
       " * we need this to avoid circular references\n",
       " * http://stackoverflow.com/a/24161582/3208463\n",
       " */\n",
       "function simpleKeys (original) {\n",
       "  return Object.keys(original).reduce(function (obj, key) {\n",
       "    if (typeof original[key] !== 'object')\n",
       "        obj[key] = original[key]\n",
       "    return obj;\n",
       "  }, {});\n",
       "}\n",
       "\n",
       "mpl.figure.prototype.mouse_event = function(event, name) {\n",
       "    var canvas_pos = mpl.findpos(event)\n",
       "\n",
       "    if (name === 'button_press')\n",
       "    {\n",
       "        this.canvas.focus();\n",
       "        this.canvas_div.focus();\n",
       "    }\n",
       "\n",
       "    var x = canvas_pos.x * mpl.ratio;\n",
       "    var y = canvas_pos.y * mpl.ratio;\n",
       "\n",
       "    this.send_message(name, {x: x, y: y, button: event.button,\n",
       "                             step: event.step,\n",
       "                             guiEvent: simpleKeys(event)});\n",
       "\n",
       "    /* This prevents the web browser from automatically changing to\n",
       "     * the text insertion cursor when the button is pressed.  We want\n",
       "     * to control all of the cursor setting manually through the\n",
       "     * 'cursor' event from matplotlib */\n",
       "    event.preventDefault();\n",
       "    return false;\n",
       "}\n",
       "\n",
       "mpl.figure.prototype._key_event_extra = function(event, name) {\n",
       "    // Handle any extra behaviour associated with a key event\n",
       "}\n",
       "\n",
       "mpl.figure.prototype.key_event = function(event, name) {\n",
       "\n",
       "    // Prevent repeat events\n",
       "    if (name == 'key_press')\n",
       "    {\n",
       "        if (event.which === this._key)\n",
       "            return;\n",
       "        else\n",
       "            this._key = event.which;\n",
       "    }\n",
       "    if (name == 'key_release')\n",
       "        this._key = null;\n",
       "\n",
       "    var value = '';\n",
       "    if (event.ctrlKey && event.which != 17)\n",
       "        value += \"ctrl+\";\n",
       "    if (event.altKey && event.which != 18)\n",
       "        value += \"alt+\";\n",
       "    if (event.shiftKey && event.which != 16)\n",
       "        value += \"shift+\";\n",
       "\n",
       "    value += 'k';\n",
       "    value += event.which.toString();\n",
       "\n",
       "    this._key_event_extra(event, name);\n",
       "\n",
       "    this.send_message(name, {key: value,\n",
       "                             guiEvent: simpleKeys(event)});\n",
       "    return false;\n",
       "}\n",
       "\n",
       "mpl.figure.prototype.toolbar_button_onclick = function(name) {\n",
       "    if (name == 'download') {\n",
       "        this.handle_save(this, null);\n",
       "    } else {\n",
       "        this.send_message(\"toolbar_button\", {name: name});\n",
       "    }\n",
       "};\n",
       "\n",
       "mpl.figure.prototype.toolbar_button_onmouseover = function(tooltip) {\n",
       "    this.message.textContent = tooltip;\n",
       "};\n",
       "mpl.toolbar_items = [[\"Home\", \"Reset original view\", \"fa fa-home icon-home\", \"home\"], [\"Back\", \"Back to previous view\", \"fa fa-arrow-left icon-arrow-left\", \"back\"], [\"Forward\", \"Forward to next view\", \"fa fa-arrow-right icon-arrow-right\", \"forward\"], [\"\", \"\", \"\", \"\"], [\"Pan\", \"Pan axes with left mouse, zoom with right\", \"fa fa-arrows icon-move\", \"pan\"], [\"Zoom\", \"Zoom to rectangle\", \"fa fa-square-o icon-check-empty\", \"zoom\"], [\"\", \"\", \"\", \"\"], [\"Download\", \"Download plot\", \"fa fa-floppy-o icon-save\", \"download\"]];\n",
       "\n",
       "mpl.extensions = [\"eps\", \"jpeg\", \"pdf\", \"png\", \"ps\", \"raw\", \"svg\", \"tif\"];\n",
       "\n",
       "mpl.default_extension = \"png\";var comm_websocket_adapter = function(comm) {\n",
       "    // Create a \"websocket\"-like object which calls the given IPython comm\n",
       "    // object with the appropriate methods. Currently this is a non binary\n",
       "    // socket, so there is still some room for performance tuning.\n",
       "    var ws = {};\n",
       "\n",
       "    ws.close = function() {\n",
       "        comm.close()\n",
       "    };\n",
       "    ws.send = function(m) {\n",
       "        //console.log('sending', m);\n",
       "        comm.send(m);\n",
       "    };\n",
       "    // Register the callback with on_msg.\n",
       "    comm.on_msg(function(msg) {\n",
       "        //console.log('receiving', msg['content']['data'], msg);\n",
       "        // Pass the mpl event to the overridden (by mpl) onmessage function.\n",
       "        ws.onmessage(msg['content']['data'])\n",
       "    });\n",
       "    return ws;\n",
       "}\n",
       "\n",
       "mpl.mpl_figure_comm = function(comm, msg) {\n",
       "    // This is the function which gets called when the mpl process\n",
       "    // starts-up an IPython Comm through the \"matplotlib\" channel.\n",
       "\n",
       "    var id = msg.content.data.id;\n",
       "    // Get hold of the div created by the display call when the Comm\n",
       "    // socket was opened in Python.\n",
       "    var element = $(\"#\" + id);\n",
       "    var ws_proxy = comm_websocket_adapter(comm)\n",
       "\n",
       "    function ondownload(figure, format) {\n",
       "        window.open(figure.imageObj.src);\n",
       "    }\n",
       "\n",
       "    var fig = new mpl.figure(id, ws_proxy,\n",
       "                           ondownload,\n",
       "                           element.get(0));\n",
       "\n",
       "    // Call onopen now - mpl needs it, as it is assuming we've passed it a real\n",
       "    // web socket which is closed, not our websocket->open comm proxy.\n",
       "    ws_proxy.onopen();\n",
       "\n",
       "    fig.parent_element = element.get(0);\n",
       "    fig.cell_info = mpl.find_output_cell(\"<div id='\" + id + \"'></div>\");\n",
       "    if (!fig.cell_info) {\n",
       "        console.error(\"Failed to find cell for figure\", id, fig);\n",
       "        return;\n",
       "    }\n",
       "\n",
       "    var output_index = fig.cell_info[2]\n",
       "    var cell = fig.cell_info[0];\n",
       "\n",
       "};\n",
       "\n",
       "mpl.figure.prototype.handle_close = function(fig, msg) {\n",
       "    var width = fig.canvas.width/mpl.ratio\n",
       "    fig.root.unbind('remove')\n",
       "\n",
       "    // Update the output cell to use the data from the current canvas.\n",
       "    fig.push_to_output();\n",
       "    var dataURL = fig.canvas.toDataURL();\n",
       "    // Re-enable the keyboard manager in IPython - without this line, in FF,\n",
       "    // the notebook keyboard shortcuts fail.\n",
       "    IPython.keyboard_manager.enable()\n",
       "    $(fig.parent_element).html('<img src=\"' + dataURL + '\" width=\"' + width + '\">');\n",
       "    fig.close_ws(fig, msg);\n",
       "}\n",
       "\n",
       "mpl.figure.prototype.close_ws = function(fig, msg){\n",
       "    fig.send_message('closing', msg);\n",
       "    // fig.ws.close()\n",
       "}\n",
       "\n",
       "mpl.figure.prototype.push_to_output = function(remove_interactive) {\n",
       "    // Turn the data on the canvas into data in the output cell.\n",
       "    var width = this.canvas.width/mpl.ratio\n",
       "    var dataURL = this.canvas.toDataURL();\n",
       "    this.cell_info[1]['text/html'] = '<img src=\"' + dataURL + '\" width=\"' + width + '\">';\n",
       "}\n",
       "\n",
       "mpl.figure.prototype.updated_canvas_event = function() {\n",
       "    // Tell IPython that the notebook contents must change.\n",
       "    IPython.notebook.set_dirty(true);\n",
       "    this.send_message(\"ack\", {});\n",
       "    var fig = this;\n",
       "    // Wait a second, then push the new image to the DOM so\n",
       "    // that it is saved nicely (might be nice to debounce this).\n",
       "    setTimeout(function () { fig.push_to_output() }, 1000);\n",
       "}\n",
       "\n",
       "mpl.figure.prototype._init_toolbar = function() {\n",
       "    var fig = this;\n",
       "\n",
       "    var nav_element = $('<div/>');\n",
       "    nav_element.attr('style', 'width: 100%');\n",
       "    this.root.append(nav_element);\n",
       "\n",
       "    // Define a callback function for later on.\n",
       "    function toolbar_event(event) {\n",
       "        return fig.toolbar_button_onclick(event['data']);\n",
       "    }\n",
       "    function toolbar_mouse_event(event) {\n",
       "        return fig.toolbar_button_onmouseover(event['data']);\n",
       "    }\n",
       "\n",
       "    for(var toolbar_ind in mpl.toolbar_items){\n",
       "        var name = mpl.toolbar_items[toolbar_ind][0];\n",
       "        var tooltip = mpl.toolbar_items[toolbar_ind][1];\n",
       "        var image = mpl.toolbar_items[toolbar_ind][2];\n",
       "        var method_name = mpl.toolbar_items[toolbar_ind][3];\n",
       "\n",
       "        if (!name) { continue; };\n",
       "\n",
       "        var button = $('<button class=\"btn btn-default\" href=\"#\" title=\"' + name + '\"><i class=\"fa ' + image + ' fa-lg\"></i></button>');\n",
       "        button.click(method_name, toolbar_event);\n",
       "        button.mouseover(tooltip, toolbar_mouse_event);\n",
       "        nav_element.append(button);\n",
       "    }\n",
       "\n",
       "    // Add the status bar.\n",
       "    var status_bar = $('<span class=\"mpl-message\" style=\"text-align:right; float: right;\"/>');\n",
       "    nav_element.append(status_bar);\n",
       "    this.message = status_bar[0];\n",
       "\n",
       "    // Add the close button to the window.\n",
       "    var buttongrp = $('<div class=\"btn-group inline pull-right\"></div>');\n",
       "    var button = $('<button class=\"btn btn-mini btn-primary\" href=\"#\" title=\"Stop Interaction\"><i class=\"fa fa-power-off icon-remove icon-large\"></i></button>');\n",
       "    button.click(function (evt) { fig.handle_close(fig, {}); } );\n",
       "    button.mouseover('Stop Interaction', toolbar_mouse_event);\n",
       "    buttongrp.append(button);\n",
       "    var titlebar = this.root.find($('.ui-dialog-titlebar'));\n",
       "    titlebar.prepend(buttongrp);\n",
       "}\n",
       "\n",
       "mpl.figure.prototype._root_extra_style = function(el){\n",
       "    var fig = this\n",
       "    el.on(\"remove\", function(){\n",
       "\tfig.close_ws(fig, {});\n",
       "    });\n",
       "}\n",
       "\n",
       "mpl.figure.prototype._canvas_extra_style = function(el){\n",
       "    // this is important to make the div 'focusable\n",
       "    el.attr('tabindex', 0)\n",
       "    // reach out to IPython and tell the keyboard manager to turn it's self\n",
       "    // off when our div gets focus\n",
       "\n",
       "    // location in version 3\n",
       "    if (IPython.notebook.keyboard_manager) {\n",
       "        IPython.notebook.keyboard_manager.register_events(el);\n",
       "    }\n",
       "    else {\n",
       "        // location in version 2\n",
       "        IPython.keyboard_manager.register_events(el);\n",
       "    }\n",
       "\n",
       "}\n",
       "\n",
       "mpl.figure.prototype._key_event_extra = function(event, name) {\n",
       "    var manager = IPython.notebook.keyboard_manager;\n",
       "    if (!manager)\n",
       "        manager = IPython.keyboard_manager;\n",
       "\n",
       "    // Check for shift+enter\n",
       "    if (event.shiftKey && event.which == 13) {\n",
       "        this.canvas_div.blur();\n",
       "        // select the cell after this one\n",
       "        var index = IPython.notebook.find_cell_index(this.cell_info[0]);\n",
       "        IPython.notebook.select(index + 1);\n",
       "    }\n",
       "}\n",
       "\n",
       "mpl.figure.prototype.handle_save = function(fig, msg) {\n",
       "    fig.ondownload(fig, null);\n",
       "}\n",
       "\n",
       "\n",
       "mpl.find_output_cell = function(html_output) {\n",
       "    // Return the cell and output element which can be found *uniquely* in the notebook.\n",
       "    // Note - this is a bit hacky, but it is done because the \"notebook_saving.Notebook\"\n",
       "    // IPython event is triggered only after the cells have been serialised, which for\n",
       "    // our purposes (turning an active figure into a static one), is too late.\n",
       "    var cells = IPython.notebook.get_cells();\n",
       "    var ncells = cells.length;\n",
       "    for (var i=0; i<ncells; i++) {\n",
       "        var cell = cells[i];\n",
       "        if (cell.cell_type === 'code'){\n",
       "            for (var j=0; j<cell.output_area.outputs.length; j++) {\n",
       "                var data = cell.output_area.outputs[j];\n",
       "                if (data.data) {\n",
       "                    // IPython >= 3 moved mimebundle to data attribute of output\n",
       "                    data = data.data;\n",
       "                }\n",
       "                if (data['text/html'] == html_output) {\n",
       "                    return [cell, data, j];\n",
       "                }\n",
       "            }\n",
       "        }\n",
       "    }\n",
       "}\n",
       "\n",
       "// Register the function which deals with the matplotlib target/channel.\n",
       "// The kernel may be null if the page has been refreshed.\n",
       "if (IPython.notebook.kernel != null) {\n",
       "    IPython.notebook.kernel.comm_manager.register_target('matplotlib', mpl.mpl_figure_comm);\n",
       "}\n"
      ],
      "text/plain": [
       "<IPython.core.display.Javascript object>"
      ]
     },
     "metadata": {},
     "output_type": "display_data"
    },
    {
     "data": {
      "text/html": [
       "<img src=\"data:image/png;base64,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\" width=\"640\">"
      ],
      "text/plain": [
       "<IPython.core.display.HTML object>"
      ]
     },
     "metadata": {},
     "output_type": "display_data"
    }
   ],
   "source": [
    "plt.figure()\n",
    "sns.barplot(x = \"Mortality Rate (per 100)\", y = new_data.index,data = new_data)\n",
    "plt.gca().set_yticklabels(new_data.index,fontsize = 8 )\n",
    "plt.tight_layout()"
   ]
  },
  {
   "cell_type": "code",
   "execution_count": null,
   "metadata": {},
   "outputs": [],
   "source": []
  }
 ],
 "metadata": {
  "kernelspec": {
   "display_name": "Python 3",
   "language": "python",
   "name": "python3"
  },
  "language_info": {
   "codemirror_mode": {
    "name": "ipython",
    "version": 3
   },
   "file_extension": ".py",
   "mimetype": "text/x-python",
   "name": "python",
   "nbconvert_exporter": "python",
   "pygments_lexer": "ipython3",
   "version": "3.7.5"
  }
 },
 "nbformat": 4,
 "nbformat_minor": 4
}
